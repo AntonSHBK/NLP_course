{
 "cells": [
  {
   "cell_type": "code",
   "execution_count": 1,
   "metadata": {},
   "outputs": [],
   "source": [
    "import os\n",
    "from pathlib import Path\n",
    "\n",
    "import pandas as pd\n",
    "import numpy as np\n",
    "import seaborn as sb\n",
    "import matplotlib.pyplot as plt\n",
    "import torch\n",
    "from sklearn.preprocessing import LabelEncoder\n",
    "import gensim.downloader as api\n",
    "from sklearn.preprocessing import LabelEncoder"
   ]
  },
  {
   "cell_type": "code",
   "execution_count": 2,
   "metadata": {},
   "outputs": [],
   "source": [
    "# путь к data\n",
    "DATA_PATH = \"../../data/task_2/\"\n",
    "# Глобальное значение \"random_state\" \n",
    "STATE = 42"
   ]
  },
  {
   "cell_type": "code",
   "execution_count": 3,
   "metadata": {},
   "outputs": [
    {
     "name": "stdout",
     "output_type": "stream",
     "text": [
      "Number of rows and columns in the train data set: (48665, 3)\n",
      "Number of rows and columns in the valid data set: (12167, 3)\n"
     ]
    },
    {
     "data": {
      "text/html": [
       "<div>\n",
       "<style scoped>\n",
       "    .dataframe tbody tr th:only-of-type {\n",
       "        vertical-align: middle;\n",
       "    }\n",
       "\n",
       "    .dataframe tbody tr th {\n",
       "        vertical-align: top;\n",
       "    }\n",
       "\n",
       "    .dataframe thead th {\n",
       "        text-align: right;\n",
       "    }\n",
       "</style>\n",
       "<table border=\"1\" class=\"dataframe\">\n",
       "  <thead>\n",
       "    <tr style=\"text-align: right;\">\n",
       "      <th></th>\n",
       "      <th>rate</th>\n",
       "      <th>text</th>\n",
       "      <th>clear_text</th>\n",
       "    </tr>\n",
       "  </thead>\n",
       "  <tbody>\n",
       "    <tr>\n",
       "      <th>0</th>\n",
       "      <td>3</td>\n",
       "      <td>Очень понравилось. Были в начале марта  с соба...</td>\n",
       "      <td>очень понравиться начало март собака дойти лес...</td>\n",
       "    </tr>\n",
       "    <tr>\n",
       "      <th>1</th>\n",
       "      <td>4</td>\n",
       "      <td>В целом магазин устраивает.\\nАссортимент позво...</td>\n",
       "      <td>целое магазин устраивать ассортимент позволять...</td>\n",
       "    </tr>\n",
       "    <tr>\n",
       "      <th>2</th>\n",
       "      <td>4</td>\n",
       "      <td>Очень хорошо что открылась 5 ка, теперь не над...</td>\n",
       "      <td>очень открыться ка далеко ехать рядом</td>\n",
       "    </tr>\n",
       "    <tr>\n",
       "      <th>3</th>\n",
       "      <td>2</td>\n",
       "      <td>Пятёрочка громко объявила о том как она заботи...</td>\n",
       "      <td>пята рочко громко объявить заботиться пенсионе...</td>\n",
       "    </tr>\n",
       "    <tr>\n",
       "      <th>4</th>\n",
       "      <td>2</td>\n",
       "      <td>Тесно, вечная сутолока, между рядами трудно ра...</td>\n",
       "      <td>тесно вечный сутолока ряд трудно разойтись гря...</td>\n",
       "    </tr>\n",
       "  </tbody>\n",
       "</table>\n",
       "</div>"
      ],
      "text/plain": [
       "   rate                                               text  \\\n",
       "0     3  Очень понравилось. Были в начале марта  с соба...   \n",
       "1     4  В целом магазин устраивает.\\nАссортимент позво...   \n",
       "2     4  Очень хорошо что открылась 5 ка, теперь не над...   \n",
       "3     2  Пятёрочка громко объявила о том как она заботи...   \n",
       "4     2  Тесно, вечная сутолока, между рядами трудно ра...   \n",
       "\n",
       "                                          clear_text  \n",
       "0  очень понравиться начало март собака дойти лес...  \n",
       "1  целое магазин устраивать ассортимент позволять...  \n",
       "2              очень открыться ка далеко ехать рядом  \n",
       "3  пята рочко громко объявить заботиться пенсионе...  \n",
       "4  тесно вечный сутолока ряд трудно разойтись гря...  "
      ]
     },
     "execution_count": 3,
     "metadata": {},
     "output_type": "execute_result"
    }
   ],
   "source": [
    "train_data = pd.read_csv(os.path.join(DATA_PATH, \"train.csv\"))\n",
    "test_data = pd.read_csv(os.path.join(DATA_PATH, \"test.csv\"))\n",
    "print(\"Number of rows and columns in the train data set:\", train_data.shape)\n",
    "print(\"Number of rows and columns in the valid data set:\", test_data.shape)\n",
    "train_data.head()"
   ]
  },
  {
   "cell_type": "code",
   "execution_count": 4,
   "metadata": {},
   "outputs": [
    {
     "name": "stdout",
     "output_type": "stream",
     "text": [
      "<class 'pandas.core.frame.DataFrame'>\n",
      "RangeIndex: 48665 entries, 0 to 48664\n",
      "Data columns (total 3 columns):\n",
      " #   Column      Non-Null Count  Dtype \n",
      "---  ------      --------------  ----- \n",
      " 0   rate        48665 non-null  int64 \n",
      " 1   text        48665 non-null  object\n",
      " 2   clear_text  48543 non-null  object\n",
      "dtypes: int64(1), object(2)\n",
      "memory usage: 1.1+ MB\n"
     ]
    }
   ],
   "source": [
    "train_data.info()"
   ]
  },
  {
   "cell_type": "code",
   "execution_count": 5,
   "metadata": {},
   "outputs": [
    {
     "data": {
      "text/plain": [
       "array([3, 4, 2, 0, 1], dtype=int64)"
      ]
     },
     "execution_count": 5,
     "metadata": {},
     "output_type": "execute_result"
    }
   ],
   "source": [
    "train_data['rate'].unique()"
   ]
  },
  {
   "cell_type": "code",
   "execution_count": 6,
   "metadata": {},
   "outputs": [
    {
     "data": {
      "image/png": "[encoded data removed]",
      "text/plain": [
       "<Figure size 640x480 with 1 Axes>"
      ]
     },
     "metadata": {},
     "output_type": "display_data"
    }
   ],
   "source": [
    "train_data['rate'].hist(); "
   ]
  },
  {
   "cell_type": "code",
   "execution_count": 7,
   "metadata": {},
   "outputs": [
    {
     "data": {
      "text/html": [
       "<div>\n",
       "<style scoped>\n",
       "    .dataframe tbody tr th:only-of-type {\n",
       "        vertical-align: middle;\n",
       "    }\n",
       "\n",
       "    .dataframe tbody tr th {\n",
       "        vertical-align: top;\n",
       "    }\n",
       "\n",
       "    .dataframe thead th {\n",
       "        text-align: right;\n",
       "    }\n",
       "</style>\n",
       "<table border=\"1\" class=\"dataframe\">\n",
       "  <thead>\n",
       "    <tr style=\"text-align: right;\">\n",
       "      <th></th>\n",
       "      <th>rate</th>\n",
       "      <th>text</th>\n",
       "      <th>clear_text</th>\n",
       "    </tr>\n",
       "  </thead>\n",
       "  <tbody>\n",
       "    <tr>\n",
       "      <th>0</th>\n",
       "      <td>3</td>\n",
       "      <td>Очень понравилось. Были в начале марта  с соба...</td>\n",
       "      <td>очень понравиться начало март собака дойти лес...</td>\n",
       "    </tr>\n",
       "    <tr>\n",
       "      <th>1</th>\n",
       "      <td>4</td>\n",
       "      <td>В целом магазин устраивает.\\nАссортимент позво...</td>\n",
       "      <td>целое магазин устраивать ассортимент позволять...</td>\n",
       "    </tr>\n",
       "    <tr>\n",
       "      <th>2</th>\n",
       "      <td>4</td>\n",
       "      <td>Очень хорошо что открылась 5 ка, теперь не над...</td>\n",
       "      <td>очень открыться ка далеко ехать рядом</td>\n",
       "    </tr>\n",
       "    <tr>\n",
       "      <th>3</th>\n",
       "      <td>2</td>\n",
       "      <td>Пятёрочка громко объявила о том как она заботи...</td>\n",
       "      <td>пята рочко громко объявить заботиться пенсионе...</td>\n",
       "    </tr>\n",
       "    <tr>\n",
       "      <th>4</th>\n",
       "      <td>2</td>\n",
       "      <td>Тесно, вечная сутолока, между рядами трудно ра...</td>\n",
       "      <td>тесно вечный сутолока ряд трудно разойтись гря...</td>\n",
       "    </tr>\n",
       "  </tbody>\n",
       "</table>\n",
       "</div>"
      ],
      "text/plain": [
       "   rate                                               text  \\\n",
       "0     3  Очень понравилось. Были в начале марта  с соба...   \n",
       "1     4  В целом магазин устраивает.\\nАссортимент позво...   \n",
       "2     4  Очень хорошо что открылась 5 ка, теперь не над...   \n",
       "3     2  Пятёрочка громко объявила о том как она заботи...   \n",
       "4     2  Тесно, вечная сутолока, между рядами трудно ра...   \n",
       "\n",
       "                                          clear_text  \n",
       "0  очень понравиться начало март собака дойти лес...  \n",
       "1  целое магазин устраивать ассортимент позволять...  \n",
       "2              очень открыться ка далеко ехать рядом  \n",
       "3  пята рочко громко объявить заботиться пенсионе...  \n",
       "4  тесно вечный сутолока ряд трудно разойтись гря...  "
      ]
     },
     "execution_count": 7,
     "metadata": {},
     "output_type": "execute_result"
    }
   ],
   "source": [
    "le = LabelEncoder()\n",
    "\n",
    "train_data['rate'] = le.fit_transform(train_data['rate'])\n",
    "\n",
    "# Оптимизация типов данных\n",
    "train_data['rate'] = train_data['rate'].astype('uint8')\n",
    "\n",
    "train_data.head()"
   ]
  },
  {
   "cell_type": "code",
   "execution_count": 8,
   "metadata": {},
   "outputs": [
    {
     "name": "stdout",
     "output_type": "stream",
     "text": [
      "<class 'pandas.core.frame.DataFrame'>\n",
      "RangeIndex: 48665 entries, 0 to 48664\n",
      "Data columns (total 3 columns):\n",
      " #   Column      Non-Null Count  Dtype \n",
      "---  ------      --------------  ----- \n",
      " 0   rate        48665 non-null  uint8 \n",
      " 1   text        48665 non-null  object\n",
      " 2   clear_text  48543 non-null  object\n",
      "dtypes: object(2), uint8(1)\n",
      "memory usage: 808.0+ KB\n"
     ]
    }
   ],
   "source": [
    "train_data.info()"
   ]
  },
  {
   "cell_type": "markdown",
   "metadata": {},
   "source": [
    "# Препроцессинг"
   ]
  },
  {
   "cell_type": "code",
   "execution_count": 9,
   "metadata": {},
   "outputs": [
    {
     "name": "stderr",
     "output_type": "stream",
     "text": [
      "[nltk_data] Downloading package stopwords to\n",
      "[nltk_data]     C:\\Users\\anton\\AppData\\Roaming\\nltk_data...\n",
      "[nltk_data]   Package stopwords is already up-to-date!\n"
     ]
    }
   ],
   "source": [
    "import re\n",
    "import string\n",
    "\n",
    "import nltk\n",
    "import pymorphy2\n",
    "\n",
    "from nltk.corpus import stopwords\n",
    "from nltk.tokenize import word_tokenize\n",
    "from nltk.stem import SnowballStemmer\n",
    "\n",
    "# Загрузка русских стоп-слов\n",
    "nltk.download('stopwords')\n",
    "russian_stopwords = stopwords.words('russian')\n",
    "\n",
    "# Инициализация анализатора pymorphy2\n",
    "morph = pymorphy2.MorphAnalyzer()\n",
    "\n",
    "# Инициализируем стеммер\n",
    "stemmer = SnowballStemmer('russian')\n",
    "\n",
    "def preprocess_text(text):\n",
    "    # Удаление лишних символов и нормализация\n",
    "    text = text.lower()\n",
    "    \n",
    "    # Удаление знаков пунктуации\n",
    "    text = re.sub(f\"[{re.escape(string.punctuation)}]\", \" \", text)\n",
    "    \n",
    "    # Дополнительно: удаление специальных символов или любых символов, кроме букв (латиница или кириллица)\n",
    "    text = re.sub(r\"[^a-zA-Zа-яА-Я\\s]\", \" \", text)\n",
    "\n",
    "    # Удаление множество пробелов\n",
    "    text = text.replace(r'\\s+','')\n",
    "    \n",
    "    \n",
    "    # Токенизация\n",
    "    tokens = word_tokenize(text, language=\"russian\")\n",
    "    \n",
    "    # Удаление стоп-слов и лемматизация\n",
    "    words_lemmatized = [morph.parse(word)[0].normal_form for word in tokens if word not in russian_stopwords]\n",
    "    \n",
    "    # Удаление стоп-слов и стемминг\n",
    "    # words_stemmed = [stemmer.stem(word) for word in words if word not in russian_stopwords]\n",
    "    \n",
    "    return ' '.join(words_lemmatized)\n"
   ]
  },
  {
   "cell_type": "code",
   "execution_count": 10,
   "metadata": {},
   "outputs": [],
   "source": [
    "\n",
    "# Предварительная обработка текста\n",
    "train_data['clear_text'] = train_data['text'].apply(preprocess_text)\n"
   ]
  },
  {
   "cell_type": "code",
   "execution_count": 11,
   "metadata": {},
   "outputs": [],
   "source": [
    "test_data['clear_text'] = train_data['text'].apply(preprocess_text)"
   ]
  },
  {
   "cell_type": "markdown",
   "metadata": {},
   "source": [
    "# DataSet"
   ]
  },
  {
   "cell_type": "code",
   "execution_count": 12,
   "metadata": {},
   "outputs": [],
   "source": [
    "import re\n",
    "from collections import Counter\n",
    "from itertools import chain\n",
    "from typing import List\n",
    "\n",
    "import torch\n",
    "from torch.nn.utils.rnn import pack_sequence\n",
    "from torch.utils.data import Dataset, DataLoader\n",
    "\n",
    "\n",
    "class Tokenizer:\n",
    "    def __init__(self, word_pattern=\"[\\w']+\"):\n",
    "        \"\"\"\n",
    "        Simple tokenizer that splits the sentence by given regex pattern\n",
    "        :param word_pattern: pattern that determines word boundaries\n",
    "        \"\"\"\n",
    "        self.word_pattern = re.compile(word_pattern)\n",
    "\n",
    "    def tokenize(self, text):\n",
    "        return self.word_pattern.findall(text)\n",
    "\n",
    "\n",
    "class Vocab:\n",
    "    def __init__(self, tokenized_texts: List[List[str]], max_vocab_size=None):\n",
    "        \"\"\"\n",
    "        Builds a vocabulary by concatenating all tokenized texts and counting words.\n",
    "        Most common words are placed in vocabulary, others are replaced with [UNK] token\n",
    "        :param tokenized_texts: texts to build a vocab\n",
    "        :param max_vocab_size: amount of words in vocabulary\n",
    "        \"\"\"\n",
    "        counts = Counter(chain(*tokenized_texts))\n",
    "        max_vocab_size = max_vocab_size or len(counts)\n",
    "        common_pairs = counts.most_common(max_vocab_size)\n",
    "        self.PAD_IDX = 0\n",
    "        self.UNK_IDX = 1\n",
    "        self.EOS_IDX = 2\n",
    "        self.itos = [\"<PAD>\", \"<UNK>\", \"<EOS>\"] + [pair[0]\n",
    "                                                   for pair in common_pairs]\n",
    "        self.stoi = {token: i for i, token in enumerate(self.itos)}\n",
    "\n",
    "    def vectorize(self, text: List[str]):\n",
    "        \"\"\"\n",
    "        Maps each token to it's index in the vocabulary\n",
    "        :param text: sequence of tokens\n",
    "        :return: vectorized sequence\n",
    "        \"\"\"\n",
    "        return [self.stoi.get(tok, self.UNK_IDX) for tok in text]\n",
    "\n",
    "    def __iter__(self):\n",
    "        return iter(self.itos)\n",
    "\n",
    "    def __len__(self):\n",
    "        return len(self.itos)\n",
    "\n",
    "\n",
    "class TextDataset(Dataset):\n",
    "    def __init__(self, tokenized_texts, labels, vocab: Vocab):\n",
    "        \"\"\"\n",
    "        A Dataset for the task\n",
    "        :param tokenized_texts: texts from a train/val/test split\n",
    "        :param labels: corresponding toxicity ratings\n",
    "        :param vocab: vocabulary with indexed tokens\n",
    "        \"\"\"\n",
    "        self.texts = tokenized_texts\n",
    "        self.labels = labels\n",
    "        self.vocab = vocab\n",
    "\n",
    "    def __getitem__(self, item):\n",
    "        return (\n",
    "            self.vocab.vectorize(self.texts[item]) + [self.vocab.EOS_IDX],\n",
    "            self.labels[item],\n",
    "        )\n",
    "\n",
    "    def __len__(self):\n",
    "        return len(self.texts)\n",
    "\n",
    "    def collate_fn(self, batch):\n",
    "        \"\"\"\n",
    "        Technical method to form a batch to feed into recurrent network\n",
    "        \"\"\"\n",
    "        tmp = pack_sequence(\n",
    "            [torch.tensor(pair[0]) for pair in batch], enforce_sorted=False\n",
    "        ), torch.tensor([pair[1] for pair in batch])\n",
    "        return tmp\n",
    "\n",
    "\n",
    "def train_test_split(data, train_frac=0.85):\n",
    "    \"\"\"\n",
    "    Splits the data into train and test parts, stratifying by labels.\n",
    "    Should it shuffle the data before split?\n",
    "    :param data: dataset to split\n",
    "    :param train_frac: proportion of train examples\n",
    "    :return: texts and labels for each split\n",
    "    \"\"\"\n",
    "    n_toxicity_ratings = 5\n",
    "    train_labels = []\n",
    "    val_labels = []\n",
    "    train_texts = []\n",
    "    val_texts = []\n",
    "    for label in range(n_toxicity_ratings):\n",
    "        texts = data[data['rate'] == label]['clear_text'].values\n",
    "        n_train = int(len(texts) * train_frac)\n",
    "        n_val = len(texts) - n_train\n",
    "        train_texts.extend(texts[:n_train])\n",
    "        val_texts.extend(texts[n_train:])\n",
    "        train_labels += [label] * n_train\n",
    "        val_labels += [label] * n_val\n",
    "    return train_texts, train_labels, val_texts, val_labels\n"
   ]
  },
  {
   "cell_type": "markdown",
   "metadata": {},
   "source": [
    "# Модель\n"
   ]
  },
  {
   "cell_type": "code",
   "execution_count": 13,
   "metadata": {},
   "outputs": [],
   "source": [
    "from typing import Dict\n",
    "\n",
    "import torch\n",
    "from torch.nn.functional import sigmoid, relu, elu, tanh\n",
    "from torch.nn import Module, Embedding, LSTM, RNN, GRU, Linear, Sequential, Dropout\n",
    "from torch.nn.utils.rnn import PackedSequence\n",
    "\n",
    "# from dataset import Vocab\n",
    "\n",
    "\n",
    "def prepare_emb_matrix(gensim_model, vocab: Vocab):\n",
    "    \"\"\"\n",
    "    Extract embedding matrix from Gensim model for words in Vocab.\n",
    "    Initialize embeddings not presented in `gensim_model` randomly\n",
    "    :param gensim_model: W2V Gensim model\n",
    "    :param vocab: vocabulary\n",
    "    :return: embedding matrix\n",
    "    \"\"\"\n",
    "    mean = gensim_model.vectors.mean(1).mean()\n",
    "    std = gensim_model.vectors.std(1).mean()\n",
    "    vec_size = gensim_model.vector_size\n",
    "    emb_matrix = torch.zeros((len(vocab), vec_size))\n",
    "    for i, word in enumerate(vocab.itos[1:], 1):\n",
    "        try:\n",
    "            emb_matrix[i] = torch.tensor(gensim_model.get_vector(word))\n",
    "        except KeyError:\n",
    "            emb_matrix[i] = torch.randn(vec_size) * std + mean\n",
    "    return emb_matrix\n",
    "\n",
    "\n",
    "class RecurrentClassifier(Module):\n",
    "    def __init__(self, config: Dict, vocab: Vocab, emb_matrix):\n",
    "        \"\"\"\n",
    "        Baseline classifier, hyperparameters are passed in `config`.\n",
    "        Consists of recurrent part and a classifier (Multilayer Perceptron) part\n",
    "        Keys are:\n",
    "            - freeze: whether word embeddings should be frozen\n",
    "            - cell_type: one of: RNN, GRU, LSTM, which recurrent cell model should use\n",
    "            - hidden_size: size of hidden state for recurrent cell\n",
    "            - num_layers: amount of recurrent cells in the model\n",
    "            - cell_dropout: dropout rate between recurrent cells (not applied if model has only one cell!)\n",
    "            - bidirectional: boolean, whether to use unidirectional of bidirectional model\n",
    "            - out_activation: one of: \"sigmoid\", \"tanh\", \"relu\", \"elu\". Activation in classifier part\n",
    "            - out_dropout: dropout rate in classifier part\n",
    "            - out_sizes: List[int], hidden size of each layer in classifier part. Empty list means that final\n",
    "                layer is attached directly to recurrent part output\n",
    "        :param config: configuration of model\n",
    "        :param vocab: vocabulary\n",
    "        :param emb_matrix: embeddings matrix from `prepare_emb_matrix`\n",
    "        \"\"\"\n",
    "        super().__init__()\n",
    "        self.config = config\n",
    "        self.vocab = vocab\n",
    "        self.emb_matrix = emb_matrix\n",
    "        self.embeddings = Embedding.from_pretrained(\n",
    "            emb_matrix, freeze=config[\"freeze\"], padding_idx=vocab.PAD_IDX\n",
    "        )\n",
    "        cell_types = {\"RNN\": RNN, \"GRU\": GRU, \"LSTM\": LSTM}\n",
    "        cell_class = cell_types[config[\"cell_type\"]]\n",
    "        self.cell = cell_class(\n",
    "            input_size=emb_matrix.size(1),\n",
    "            batch_first=True,\n",
    "            hidden_size=config[\"hidden_size\"],\n",
    "            num_layers=config[\"num_layers\"],\n",
    "            dropout=config[\"cell_dropout\"],\n",
    "            bidirectional=config[\"bidirectional\"],\n",
    "        )\n",
    "        activation_types = {\n",
    "            \"sigmoid\": sigmoid,\n",
    "            \"tanh\": tanh,\n",
    "            \"relu\": relu,\n",
    "            \"elu\": elu,\n",
    "        }\n",
    "        self.out_activation = activation_types[config[\"out_activation\"]]\n",
    "        self.out_dropout = Dropout(config[\"out_dropout\"])\n",
    "        cur_out_size = config[\"hidden_size\"] * config[\"num_layers\"]\n",
    "        if config[\"bidirectional\"]:\n",
    "            cur_out_size *= 2\n",
    "        out_layers = []\n",
    "        for cur_hidden_size in config[\"out_sizes\"]:\n",
    "            out_layers.append(Linear(cur_out_size, cur_hidden_size))\n",
    "            cur_out_size = cur_hidden_size\n",
    "        out_layers.append(Linear(cur_out_size, 6))\n",
    "        self.out_proj = Sequential(*out_layers)\n",
    "\n",
    "    def forward(self, input):\n",
    "        embedded = self.embeddings(input.data)\n",
    "        _, last_state = self.cell(\n",
    "            PackedSequence(\n",
    "                embedded,\n",
    "                input.batch_sizes,\n",
    "                sorted_indices=input.sorted_indices,\n",
    "                unsorted_indices=input.unsorted_indices,\n",
    "            )\n",
    "        )\n",
    "        if isinstance(last_state, tuple):\n",
    "            last_state = last_state[0]\n",
    "        last_state = last_state.transpose(0, 1)\n",
    "        last_state = last_state.reshape(last_state.size(0), -1)\n",
    "        return self.out_proj(last_state)\n"
   ]
  },
  {
   "cell_type": "markdown",
   "metadata": {},
   "source": [
    "\n",
    "# Тренер"
   ]
  },
  {
   "cell_type": "code",
   "execution_count": 14,
   "metadata": {},
   "outputs": [],
   "source": [
    "from typing import Dict\n",
    "\n",
    "import torch\n",
    "from numpy import asarray\n",
    "from torch.nn import CrossEntropyLoss\n",
    "from torch.optim import Adam\n",
    "from tqdm.notebook import tqdm\n",
    "\n",
    "# from model import RecurrentClassifier\n",
    "\n",
    "\n",
    "class Trainer:\n",
    "    def __init__(self, config: Dict):\n",
    "        \"\"\"\n",
    "        Fits end evaluates given model with Adam optimizer.\n",
    "        Hyperparameters are specified in `config`\n",
    "        Possible keys are:\n",
    "            - n_epochs: number of epochs to train\n",
    "            - lr: optimizer learning rate\n",
    "            - weight_decay: l2 regularization weight\n",
    "            - device: on which device to perform training (\"cpu\" or \"cuda\")\n",
    "            - verbose: whether to print anything during training\n",
    "        :param config: configuration for `Trainer`\n",
    "        \"\"\"\n",
    "        self.config = config\n",
    "        self.n_epochs = config[\"n_epochs\"]\n",
    "        self.setup_opt_fn = lambda model: Adam(\n",
    "            model.parameters(), config[\"lr\"], weight_decay=config[\"weight_decay\"]\n",
    "        )\n",
    "        self.model = None\n",
    "        self.opt = None\n",
    "        self.history = None\n",
    "        self.loss_fn = CrossEntropyLoss()\n",
    "        self.device = config[\"device\"]\n",
    "        self.verbose = config.get(\"verbose\", True)\n",
    "\n",
    "    def fit(self, model, train_loader, val_loader):\n",
    "        \"\"\"\n",
    "        Fits model on training data, each epoch evaluates on validation data\n",
    "        :param model: PyTorch model for toxic comments classification (for example, `RecurrentClassifier`)\n",
    "        :param train_loader: DataLoader for training data\n",
    "        :param val_loader: DataLoader for validation data\n",
    "        :return:\n",
    "        \"\"\"\n",
    "        self.model = model.to(self.device)\n",
    "        self.opt = self.setup_opt_fn(self.model)\n",
    "        self.history = {\"train_loss\": [], \"val_loss\": [], \"val_acc\": []}\n",
    "        for epoch in range(self.n_epochs):\n",
    "            print(f\"Epoch {epoch + 1}/{self.n_epochs}\")\n",
    "            train_info = self._train_epoch(train_loader)\n",
    "            val_info = self._val_epoch(val_loader)\n",
    "            self.history[\"train_loss\"].extend(train_info[\"train_loss\"])\n",
    "            self.history[\"val_loss\"].append(val_info[\"loss\"])\n",
    "            self.history[\"val_acc\"].append(val_info[\"acc\"])\n",
    "        return self.model.eval()\n",
    "\n",
    "    def _train_epoch(self, train_loader):\n",
    "        self.model.train()\n",
    "        losses = []\n",
    "        if self.verbose:\n",
    "            train_loader = tqdm(train_loader)\n",
    "        for batch in train_loader:\n",
    "            self.model.zero_grad()\n",
    "            texts, labels = batch\n",
    "            logits = self.model.forward(texts.to(self.device))\n",
    "            loss = self.loss_fn(logits, labels.to(self.device))\n",
    "            loss.backward()\n",
    "            self.opt.step()\n",
    "            loss_val = loss.item()\n",
    "            if self.verbose:\n",
    "                train_loader.set_description(f\"Loss={loss_val:.3}\")\n",
    "            losses.append(loss_val)\n",
    "        return {\"train_loss\": losses}\n",
    "\n",
    "    def _val_epoch(self, val_loader):\n",
    "        self.model.eval()\n",
    "        all_logits = []\n",
    "        all_labels = []\n",
    "        if self.verbose:\n",
    "            val_loader = tqdm(val_loader)\n",
    "        with torch.no_grad():\n",
    "            for batch in val_loader:\n",
    "                texts, labels = batch\n",
    "                logits = self.model.forward(texts.to(self.device))\n",
    "                all_logits.append(logits)\n",
    "                all_labels.append(labels)\n",
    "        all_labels = torch.cat(all_labels).to(self.device)\n",
    "        all_logits = torch.cat(all_logits)\n",
    "        loss = CrossEntropyLoss()(all_logits, all_labels).item()\n",
    "        acc = (all_logits.argmax(1) == all_labels).float().mean().item()\n",
    "        if self.verbose:\n",
    "            val_loader.set_description(f\"Loss={loss:.3}; Acc:{acc:.3}\")\n",
    "        return {\"acc\": acc, \"loss\": loss}\n",
    "\n",
    "    def predict(self, test_loader):\n",
    "        if self.model is None:\n",
    "            raise RuntimeError(\"You should train the model first\")\n",
    "        self.model.eval()\n",
    "        predictions = []\n",
    "        with torch.no_grad():\n",
    "            for batch in test_loader:\n",
    "                texts, labels = batch\n",
    "                logits = self.model.forward(texts.to(self.device))\n",
    "                predictions.extend(logits.argmax(1).tolist())\n",
    "        return asarray(predictions)\n",
    "\n",
    "    def save(self, path: str):\n",
    "        if self.model is None:\n",
    "            raise RuntimeError(\"You should train the model first\")\n",
    "        checkpoint = {\n",
    "            \"config\": self.model.config,\n",
    "            \"trainer_config\": self.config,\n",
    "            \"vocab\": self.model.vocab,\n",
    "            \"emb_matrix\": self.model.emb_matrix,\n",
    "            \"state_dict\": self.model.state_dict(),\n",
    "        }\n",
    "        torch.save(checkpoint, path)\n",
    "\n",
    "    @classmethod\n",
    "    def load(cls, path: str):\n",
    "        ckpt = torch.load(path)\n",
    "        keys = [\"config\", \"trainer_config\",\n",
    "                \"vocab\", \"emb_matrix\", \"state_dict\"]\n",
    "        for key in keys:\n",
    "            if key not in ckpt:\n",
    "                raise RuntimeError(f\"Missing key {key} in checkpoint\")\n",
    "        new_model = RecurrentClassifier(\n",
    "            ckpt[\"config\"], ckpt[\"vocab\"], ckpt[\"emb_matrix\"]\n",
    "        )\n",
    "        new_model.load_state_dict(ckpt[\"state_dict\"])\n",
    "        new_trainer = cls(ckpt[\"trainer_config\"])\n",
    "        new_trainer.model = new_model\n",
    "        new_trainer.model.to(new_trainer.device)\n",
    "        return new_trainer\n"
   ]
  },
  {
   "cell_type": "markdown",
   "metadata": {},
   "source": [
    "# Выполнение"
   ]
  },
  {
   "cell_type": "code",
   "execution_count": 15,
   "metadata": {},
   "outputs": [],
   "source": [
    "tok = Tokenizer()\n",
    "tok_texts = [tok.tokenize(t) for t in train_data['clear_text'].values]\n",
    "vocab = Vocab(tok_texts, max_vocab_size=30000)"
   ]
  },
  {
   "cell_type": "code",
   "execution_count": 16,
   "metadata": {},
   "outputs": [],
   "source": [
    "train_texts, train_labels, val_texts, val_labels = train_test_split(train_data)\n",
    "\n",
    "train_dataset = TextDataset([tok.tokenize(t)\n",
    "                            for t in train_texts], train_labels, vocab)\n",
    "val_dataset = TextDataset([tok.tokenize(t)\n",
    "                          for t in val_texts], val_labels, vocab)"
   ]
  },
  {
   "cell_type": "code",
   "execution_count": 17,
   "metadata": {},
   "outputs": [],
   "source": [
    "from gensim.models import KeyedVectors\n",
    "\n",
    "# Путь к модели\n",
    "path_to_model = DATA_PATH + '65/model.bin'\n",
    "\n",
    "# Загрузка предварительно обученной модели (может потребовать много времени и памяти)\n",
    "word_vectors = KeyedVectors.load_word2vec_format(path_to_model, binary=True)"
   ]
  },
  {
   "cell_type": "code",
   "execution_count": 18,
   "metadata": {},
   "outputs": [],
   "source": [
    "os.environ[\"GENSIM_DATA_DIR\"] = str(Path.cwd())\n",
    "gensim_model = api.load(\"word2vec-ruscorpora-300\")\n",
    "emb_matrix = prepare_emb_matrix(word_vectors, vocab)"
   ]
  },
  {
   "cell_type": "code",
   "execution_count": 19,
   "metadata": {},
   "outputs": [],
   "source": [
    "config = {\n",
    "    \"freeze\": True,\n",
    "    \"cell_type\": \"LSTM\",\n",
    "    \"cell_dropout\": 0.2,\n",
    "    \"num_layers\": 2,\n",
    "    \"hidden_size\": 256,\n",
    "    \"out_activation\": \"relu\",\n",
    "    \"bidirectional\": True,\n",
    "    \"out_dropout\": 0.1,\n",
    "    \"out_sizes\": [200],\n",
    "}\n",
    "\n",
    "trainer_config = {\n",
    "    \"lr\": 1e-3,\n",
    "    \"n_epochs\": 10,\n",
    "    \"weight_decay\": 1e-6,\n",
    "    \"batch_size\": 128,\n",
    "    \"device\": \"cuda\" if torch.cuda.is_available() else \"cpu\"\n",
    "}\n",
    "clf_model = RecurrentClassifier(config, vocab, emb_matrix)"
   ]
  },
  {
   "cell_type": "markdown",
   "metadata": {},
   "source": []
  },
  {
   "cell_type": "code",
   "execution_count": 20,
   "metadata": {},
   "outputs": [
    {
     "name": "stdout",
     "output_type": "stream",
     "text": [
      "Epoch 1/10\n"
     ]
    },
    {
     "data": {
      "application/vnd.jupyter.widget-view+json": {
       "model_id": "fe98b861e5cc46fa93e45fbdf4f5151b",
       "version_major": 2,
       "version_minor": 0
      },
      "text/plain": [
       "  0%|          | 0/324 [00:00<?, ?it/s]"
      ]
     },
     "metadata": {},
     "output_type": "display_data"
    },
    {
     "data": {
      "application/vnd.jupyter.widget-view+json": {
       "model_id": "99a840d8724a42c1939a3f13b0ca174d",
       "version_major": 2,
       "version_minor": 0
      },
      "text/plain": [
       "  0%|          | 0/58 [00:00<?, ?it/s]"
      ]
     },
     "metadata": {},
     "output_type": "display_data"
    },
    {
     "name": "stdout",
     "output_type": "stream",
     "text": [
      "Epoch 2/10\n"
     ]
    },
    {
     "data": {
      "application/vnd.jupyter.widget-view+json": {
       "model_id": "a05b96a39d394a11842ffdad2e60e89c",
       "version_major": 2,
       "version_minor": 0
      },
      "text/plain": [
       "  0%|          | 0/324 [00:00<?, ?it/s]"
      ]
     },
     "metadata": {},
     "output_type": "display_data"
    },
    {
     "data": {
      "application/vnd.jupyter.widget-view+json": {
       "model_id": "c158f9b63b774c5fb39699a00d325c54",
       "version_major": 2,
       "version_minor": 0
      },
      "text/plain": [
       "  0%|          | 0/58 [00:00<?, ?it/s]"
      ]
     },
     "metadata": {},
     "output_type": "display_data"
    },
    {
     "name": "stdout",
     "output_type": "stream",
     "text": [
      "Epoch 3/10\n"
     ]
    },
    {
     "data": {
      "application/vnd.jupyter.widget-view+json": {
       "model_id": "b1ac2897ba9b46fc9695eaeabb90fffa",
       "version_major": 2,
       "version_minor": 0
      },
      "text/plain": [
       "  0%|          | 0/324 [00:00<?, ?it/s]"
      ]
     },
     "metadata": {},
     "output_type": "display_data"
    },
    {
     "data": {
      "application/vnd.jupyter.widget-view+json": {
       "model_id": "ed61faffcdd64b069741263d85d6ec9f",
       "version_major": 2,
       "version_minor": 0
      },
      "text/plain": [
       "  0%|          | 0/58 [00:00<?, ?it/s]"
      ]
     },
     "metadata": {},
     "output_type": "display_data"
    },
    {
     "name": "stdout",
     "output_type": "stream",
     "text": [
      "Epoch 4/10\n"
     ]
    },
    {
     "data": {
      "application/vnd.jupyter.widget-view+json": {
       "model_id": "d24a90054ea94cb28498c528b474681f",
       "version_major": 2,
       "version_minor": 0
      },
      "text/plain": [
       "  0%|          | 0/324 [00:00<?, ?it/s]"
      ]
     },
     "metadata": {},
     "output_type": "display_data"
    },
    {
     "data": {
      "application/vnd.jupyter.widget-view+json": {
       "model_id": "39802de3ba5a494bb41549e905f24d00",
       "version_major": 2,
       "version_minor": 0
      },
      "text/plain": [
       "  0%|          | 0/58 [00:00<?, ?it/s]"
      ]
     },
     "metadata": {},
     "output_type": "display_data"
    },
    {
     "name": "stdout",
     "output_type": "stream",
     "text": [
      "Epoch 5/10\n"
     ]
    },
    {
     "data": {
      "application/vnd.jupyter.widget-view+json": {
       "model_id": "0e533fec04ca4ebcac6a2c8fe5faafbd",
       "version_major": 2,
       "version_minor": 0
      },
      "text/plain": [
       "  0%|          | 0/324 [00:00<?, ?it/s]"
      ]
     },
     "metadata": {},
     "output_type": "display_data"
    },
    {
     "data": {
      "application/vnd.jupyter.widget-view+json": {
       "model_id": "5b88d7c970fe4b89b0d476c7bb913536",
       "version_major": 2,
       "version_minor": 0
      },
      "text/plain": [
       "  0%|          | 0/58 [00:00<?, ?it/s]"
      ]
     },
     "metadata": {},
     "output_type": "display_data"
    },
    {
     "name": "stdout",
     "output_type": "stream",
     "text": [
      "Epoch 6/10\n"
     ]
    },
    {
     "data": {
      "application/vnd.jupyter.widget-view+json": {
       "model_id": "d1c7958373974f39bb68905b88c66a3a",
       "version_major": 2,
       "version_minor": 0
      },
      "text/plain": [
       "  0%|          | 0/324 [00:00<?, ?it/s]"
      ]
     },
     "metadata": {},
     "output_type": "display_data"
    },
    {
     "data": {
      "application/vnd.jupyter.widget-view+json": {
       "model_id": "cb184a9bdc3849c690fcb9ed1481a00b",
       "version_major": 2,
       "version_minor": 0
      },
      "text/plain": [
       "  0%|          | 0/58 [00:00<?, ?it/s]"
      ]
     },
     "metadata": {},
     "output_type": "display_data"
    },
    {
     "name": "stdout",
     "output_type": "stream",
     "text": [
      "Epoch 7/10\n"
     ]
    },
    {
     "data": {
      "application/vnd.jupyter.widget-view+json": {
       "model_id": "86ad1b5bd2404138a15d4b395b82b465",
       "version_major": 2,
       "version_minor": 0
      },
      "text/plain": [
       "  0%|          | 0/324 [00:00<?, ?it/s]"
      ]
     },
     "metadata": {},
     "output_type": "display_data"
    },
    {
     "data": {
      "application/vnd.jupyter.widget-view+json": {
       "model_id": "fe3dee0d264c46289fc1159a24e163fa",
       "version_major": 2,
       "version_minor": 0
      },
      "text/plain": [
       "  0%|          | 0/58 [00:00<?, ?it/s]"
      ]
     },
     "metadata": {},
     "output_type": "display_data"
    },
    {
     "name": "stdout",
     "output_type": "stream",
     "text": [
      "Epoch 8/10\n"
     ]
    },
    {
     "data": {
      "application/vnd.jupyter.widget-view+json": {
       "model_id": "72b8904089474a6fb5ccc7246e67d22c",
       "version_major": 2,
       "version_minor": 0
      },
      "text/plain": [
       "  0%|          | 0/324 [00:00<?, ?it/s]"
      ]
     },
     "metadata": {},
     "output_type": "display_data"
    },
    {
     "data": {
      "application/vnd.jupyter.widget-view+json": {
       "model_id": "e5ceddd75e544257b6063ae52705a0c4",
       "version_major": 2,
       "version_minor": 0
      },
      "text/plain": [
       "  0%|          | 0/58 [00:00<?, ?it/s]"
      ]
     },
     "metadata": {},
     "output_type": "display_data"
    },
    {
     "name": "stdout",
     "output_type": "stream",
     "text": [
      "Epoch 9/10\n"
     ]
    },
    {
     "data": {
      "application/vnd.jupyter.widget-view+json": {
       "model_id": "6ede633e71844f6daa268b5883cf2f30",
       "version_major": 2,
       "version_minor": 0
      },
      "text/plain": [
       "  0%|          | 0/324 [00:00<?, ?it/s]"
      ]
     },
     "metadata": {},
     "output_type": "display_data"
    },
    {
     "data": {
      "application/vnd.jupyter.widget-view+json": {
       "model_id": "853c9c4adbdd4470ac5c2fce0f9e2f21",
       "version_major": 2,
       "version_minor": 0
      },
      "text/plain": [
       "  0%|          | 0/58 [00:00<?, ?it/s]"
      ]
     },
     "metadata": {},
     "output_type": "display_data"
    },
    {
     "name": "stdout",
     "output_type": "stream",
     "text": [
      "Epoch 10/10\n"
     ]
    },
    {
     "data": {
      "application/vnd.jupyter.widget-view+json": {
       "model_id": "d47f602403554f13b2ee5dfff8d55bf8",
       "version_major": 2,
       "version_minor": 0
      },
      "text/plain": [
       "  0%|          | 0/324 [00:00<?, ?it/s]"
      ]
     },
     "metadata": {},
     "output_type": "display_data"
    },
    {
     "data": {
      "application/vnd.jupyter.widget-view+json": {
       "model_id": "d19d085c2b60480d8a0c73154530c418",
       "version_major": 2,
       "version_minor": 0
      },
      "text/plain": [
       "  0%|          | 0/58 [00:00<?, ?it/s]"
      ]
     },
     "metadata": {},
     "output_type": "display_data"
    },
    {
     "data": {
      "text/plain": [
       "RecurrentClassifier(\n",
       "  (embeddings): Embedding(22411, 100, padding_idx=0)\n",
       "  (cell): LSTM(100, 256, num_layers=2, batch_first=True, dropout=0.2, bidirectional=True)\n",
       "  (out_dropout): Dropout(p=0.1, inplace=False)\n",
       "  (out_proj): Sequential(\n",
       "    (0): Linear(in_features=1024, out_features=200, bias=True)\n",
       "    (1): Linear(in_features=200, out_features=6, bias=True)\n",
       "  )\n",
       ")"
      ]
     },
     "execution_count": 20,
     "metadata": {},
     "output_type": "execute_result"
    }
   ],
   "source": [
    "train_dataloader = DataLoader(train_dataset,\n",
    "                              batch_size=trainer_config[\"batch_size\"],\n",
    "                              shuffle=True,\n",
    "                              num_workers=0,\n",
    "                              collate_fn=train_dataset.collate_fn)\n",
    "val_dataloader = DataLoader(val_dataset,\n",
    "                            batch_size=trainer_config[\"batch_size\"],\n",
    "                            shuffle=False,\n",
    "                            num_workers=0,\n",
    "                            collate_fn=val_dataset.collate_fn)\n",
    "t = Trainer(trainer_config)\n",
    "t.fit(clf_model, train_dataloader, val_dataloader)"
   ]
  },
  {
   "cell_type": "code",
   "execution_count": 21,
   "metadata": {},
   "outputs": [],
   "source": [
    "t.save(\"baseline_model.ckpt\")\n",
    "t = Trainer.load(\"baseline_model.ckpt\")"
   ]
  },
  {
   "cell_type": "code",
   "execution_count": 22,
   "metadata": {},
   "outputs": [],
   "source": [
    "def predict(model, text):\n",
    "    tok_text = tok.tokenize(text)\n",
    "    indexed_text = torch.tensor(vocab.vectorize(tok_text)).to(t.device)\n",
    "    genre = model(pack_sequence([indexed_text])).argmax().item()\n",
    "    return genre"
   ]
  },
  {
   "cell_type": "code",
   "execution_count": 27,
   "metadata": {},
   "outputs": [],
   "source": [
    "test_dataloader = DataLoader(TextDataset([tok.tokenize(t) for t in test_data['clear_text'].values], [-1] * test_data.shape[0], vocab),\n",
    "                             batch_size=trainer_config[\"batch_size\"],\n",
    "                             shuffle=False,\n",
    "                             num_workers=0,\n",
    "                             collate_fn=val_dataset.collate_fn)\n",
    "\n",
    "predictions = t.predict(test_dataloader)"
   ]
  },
  {
   "cell_type": "code",
   "execution_count": null,
   "metadata": {},
   "outputs": [],
   "source": []
  },
  {
   "cell_type": "code",
   "execution_count": 28,
   "metadata": {},
   "outputs": [
    {
     "data": {
      "text/plain": [
       "array([5, 4, 1, 3, 2], dtype=int64)"
      ]
     },
     "execution_count": 28,
     "metadata": {},
     "output_type": "execute_result"
    }
   ],
   "source": [
    "sample_submission = pd.read_csv(os.path.join(DATA_PATH, \"sample_submission.csv\"))\n",
    "# pred_labels = le.inverse_transform(predictions)\n",
    "sample_submission[\"rate\"] = predictions\n",
    "sample_submission.loc[sample_submission['rate'] == 5, 'rate'] = 4\n",
    "sample_submission['rate'] = sample_submission['rate'].apply(lambda a: a + 1)\n",
    "\n",
    "sample_submission['rate'].unique()"
   ]
  },
  {
   "cell_type": "code",
   "execution_count": 29,
   "metadata": {},
   "outputs": [],
   "source": [
    "sample_submission.to_csv(DATA_PATH+\"submission.csv\", index=False)"
   ]
  }
 ],
 "metadata": {
  "kernelspec": {
   "display_name": ".venv",
   "language": "python",
   "name": "python3"
  },
  "language_info": {
   "codemirror_mode": {
    "name": "ipython",
    "version": 3
   },
   "file_extension": ".py",
   "mimetype": "text/x-python",
   "name": "python",
   "nbconvert_exporter": "python",
   "pygments_lexer": "ipython3",
   "version": "3.10.11"
  }
 },
 "nbformat": 4,
 "nbformat_minor": 2
}
