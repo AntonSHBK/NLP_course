{
 "cells": [
  {
   "cell_type": "code",
   "execution_count": null,
   "metadata": {},
   "outputs": [],
   "source": [
    "import os\n",
    "\n",
    "import pandas as pd\n",
    "import numpy as np\n",
    "import seaborn as sb\n",
    "import matplotlib.pyplot as plt\n",
    "from gensim.models import KeyedVectors\n",
    "\n",
    "\n",
    "from sklearn.model_selection import GridSearchCV\n",
    "from sklearn.linear_model import LogisticRegression\n",
    "from sklearn.preprocessing import LabelEncoder\n",
    "from sklearn.pipeline import Pipeline\n",
    "\n"
   ]
  },
  {
   "cell_type": "code",
   "execution_count": null,
   "metadata": {},
   "outputs": [],
   "source": [
    "# путь к data\n",
    "DATA_PATH = \"../../data/task_2/\"\n",
    "# Глобальное значение \"random_state\" \n",
    "STATE = 42"
   ]
  },
  {
   "cell_type": "code",
   "execution_count": null,
   "metadata": {},
   "outputs": [],
   "source": [
    "train_data = pd.read_csv(os.path.join(DATA_PATH, \"train.csv\"))\n",
    "test_data = pd.read_csv(os.path.join(DATA_PATH, \"test.csv\"))\n",
    "print(\"Number of rows and columns in the train data set:\", train_data.shape)\n",
    "print(\"Number of rows and columns in the valid data set:\", test_data.shape)\n",
    "train_data.head()"
   ]
  },
  {
   "cell_type": "code",
   "execution_count": null,
   "metadata": {},
   "outputs": [],
   "source": [
    "train_data.info()"
   ]
  },
  {
   "cell_type": "code",
   "execution_count": null,
   "metadata": {},
   "outputs": [],
   "source": [
    "train_data['rate'].unique()"
   ]
  },
  {
   "cell_type": "code",
   "execution_count": null,
   "metadata": {},
   "outputs": [],
   "source": [
    "train_data['rate'].hist(); "
   ]
  },
  {
   "cell_type": "code",
   "execution_count": null,
   "metadata": {},
   "outputs": [],
   "source": [
    "le = LabelEncoder()\n",
    "\n",
    "train_data['rate'] = le.fit_transform(train_data['rate'])\n",
    "\n",
    "# Оптимизация типов данных\n",
    "train_data['rate'] = train_data['rate'].astype('uint8')\n",
    "\n",
    "train_data.head()"
   ]
  },
  {
   "cell_type": "code",
   "execution_count": null,
   "metadata": {},
   "outputs": [],
   "source": [
    "train_data.info()"
   ]
  },
  {
   "cell_type": "markdown",
   "metadata": {},
   "source": [
    "## Препроцессинг\n",
    "\n",
    "\n",
    "word2vec:\n",
    "\n",
    "65:\n",
    "Download\t100\t10\tRussian CoNLL17 corpus\n",
    "3338424\tWord2Vec Continuous Skipgram\tFalse\n",
    "\n",
    "204:\n",
    "204\tDownload\t300\t2\tRussian National Corpus\n",
    "Russian Wikipedia dump of December 2018\n",
    "Russian News from Dialogue Evaluation 2020\n",
    "Araneum Russicum Maximum\n",
    "998459\tGensim Continuous Bag-of-Words\tTrue\n",
    "True\n",
    "True\n",
    "True"
   ]
  },
  {
   "cell_type": "code",
   "execution_count": null,
   "metadata": {},
   "outputs": [],
   "source": [
    "import re\n",
    "import nltk\n",
    "import pymorphy2\n",
    "from nltk.corpus import stopwords\n",
    "\n",
    "# Путь к модели\n",
    "path_to_model = DATA_PATH + '65/model.bin'\n",
    "\n",
    "# Загрузка предварительно обученной модели (может потребовать много времени и памяти)\n",
    "word_vectors = KeyedVectors.load_word2vec_format(path_to_model, binary=True)\n",
    "\n",
    "# Загрузка русских стоп-слов\n",
    "nltk.download('stopwords')\n",
    "russian_stopwords = stopwords.words('russian')\n",
    "\n",
    "# Инициализация анализатора pymorphy2\n",
    "morph = pymorphy2.MorphAnalyzer()\n",
    "\n",
    "def preprocess_text(text):\n",
    "    # Удаление лишних символов и нормализация\n",
    "    text = re.sub(r'[^\\w\\s]', '', text)\n",
    "    text = text.lower()\n",
    "    \n",
    "    # Токенизация\n",
    "    words = nltk.word_tokenize(text, language=\"russian\")\n",
    "    \n",
    "    # Удаление стоп-слов и лемматизация\n",
    "    words = [morph.parse(word)[0].normal_form for word in words if word not in russian_stopwords]\n",
    "    \n",
    "    return ' '.join(words)"
   ]
  },
  {
   "cell_type": "markdown",
   "metadata": {},
   "source": [
    "## Получение вектора для слова"
   ]
  },
  {
   "cell_type": "code",
   "execution_count": null,
   "metadata": {},
   "outputs": [],
   "source": [
    "word = 'компьютер'\n",
    "if word in word_vectors:\n",
    "    vector = word_vectors[word]\n",
    "    print(f\"Вектор для слова '{word}': {vector[:10]}\")  # Печатаем первые 10 элементов для примера\n",
    "else:\n",
    "    print(f\"Слово '{word}' не найдено в модели.\")"
   ]
  },
  {
   "cell_type": "markdown",
   "metadata": {},
   "source": [
    "## Поиск похожих слов"
   ]
  },
  {
   "cell_type": "code",
   "execution_count": null,
   "metadata": {},
   "outputs": [],
   "source": [
    "# Поиск похожих слов\n",
    "similar_words = word_vectors.most_similar(word)\n",
    "print(f\"Слова, похожие на слово '{word}':\")\n",
    "for similar_word, similarity in similar_words:\n",
    "    print(f\"{similar_word}: {similarity}\")\n"
   ]
  },
  {
   "cell_type": "markdown",
   "metadata": {},
   "source": [
    "## Векторизация текста с использованием Word2Vec"
   ]
  },
  {
   "cell_type": "code",
   "execution_count": null,
   "metadata": {},
   "outputs": [],
   "source": [
    "def document_vector(word_vectors, doc):\n",
    "    \"\"\"Создание вектора для документа по среднему векторам слов.\"\"\"\n",
    "    words = doc.split()\n",
    "    # Создание списка векторов для слов, найденных в модели\n",
    "    vectors = [word_vectors[word] for word in words if word in word_vectors.key_to_index]\n",
    "    \n",
    "    # Если векторы найдены, возвращаем средний вектор, иначе вектор нулей\n",
    "    if vectors:\n",
    "        return np.mean(vectors, axis=0)\n",
    "    else:\n",
    "        return np.zeros(word_vectors.vector_size)\n"
   ]
  },
  {
   "cell_type": "markdown",
   "metadata": {},
   "source": [
    "## Предварительная обработка текста"
   ]
  },
  {
   "cell_type": "code",
   "execution_count": null,
   "metadata": {},
   "outputs": [],
   "source": [
    "train_data['clear_text'] = train_data['text'].apply([preprocess_text])\n",
    "\n",
    "train_data = train_data.drop_duplicates(subset='clear_text', keep='last')\n",
    "\n",
    "train_data['vector'] = train_data['clear_text'].apply(lambda doc: document_vector(word_vectors, doc))"
   ]
  },
  {
   "cell_type": "code",
   "execution_count": null,
   "metadata": {},
   "outputs": [],
   "source": [
    "train_vectors = np.array(list(train_data['vector'].values))\n",
    "train_labels = train_data['rate'].values"
   ]
  },
  {
   "cell_type": "code",
   "execution_count": null,
   "metadata": {},
   "outputs": [],
   "source": [
    "test_data['clear_text'] = test_data['text'].apply([preprocess_text])\n",
    "test_data['vector'] = test_data['clear_text'].apply(lambda doc: document_vector(word_vectors, doc))"
   ]
  },
  {
   "cell_type": "code",
   "execution_count": null,
   "metadata": {},
   "outputs": [],
   "source": [
    "test_vectors = np.array(list(test_data['vector'].values))"
   ]
  },
  {
   "cell_type": "code",
   "execution_count": null,
   "metadata": {},
   "outputs": [],
   "source": [
    "from sklearn.model_selection import train_test_split\n",
    "X_train, X_test, y_train, y_test = train_test_split(train_vectors, train_labels, test_size=0.025, random_state=42, shuffle=True)\n",
    "# X_train, X_test, y_train, y_test = train_test_split(train_vectors, train_labels, test_size=0.025, random_state=42, stratify=train_data['rate'], shuffle=True)"
   ]
  },
  {
   "cell_type": "code",
   "execution_count": null,
   "metadata": {},
   "outputs": [],
   "source": [
    "from catboost import Pool\n",
    "\n",
    "# Создание пулов данных для CatBoost\n",
    "train_pool = Pool(data=pd.DataFrame(X_train), label=y_train)\n",
    "valid_pool = Pool(data=pd.DataFrame(X_test), label=y_test)\n"
   ]
  },
  {
   "cell_type": "markdown",
   "metadata": {},
   "source": [
    "# Модель"
   ]
  },
  {
   "cell_type": "code",
   "execution_count": null,
   "metadata": {},
   "outputs": [],
   "source": [
    "from catboost import CatBoostClassifier\n",
    "def fit_model(train_pool, test_pool, **kwargs):\n",
    "    model = CatBoostClassifier(task_type='CPU',\n",
    "\t\t\t\t\t\t\t\titerations = 500,\n",
    "\t\t\t\t\t\t\t\teval_metric='TotalF1',\n",
    "\t\t\t\t\t\t\t\tod_type='Iter', \n",
    "\t\t\t\t\t\t\t\tod_wait=500,\n",
    "\t\t\t\t\t\t\t\tdepth=10,\n",
    "\t\t\t\t\t\t\t\tloss_function='MultiClass',\n",
    "\t\t\t\t\t\t\t\trandom_seed=55,\n",
    "\t\t\t\t\t\t\t\tl2_leaf_reg=5.0,\n",
    "\t\t\t\t\t\t\t\tborder_count=32,\n",
    "\t\t\t\t\t\t\t\t**kwargs)\n",
    "    \n",
    "    return model.fit(train_pool, eval_set=test_pool, \n",
    "                     verbose=5, plot=True, \n",
    "                     use_best_model=True)"
   ]
  },
  {
   "cell_type": "markdown",
   "metadata": {},
   "source": [
    "# Обучение"
   ]
  },
  {
   "cell_type": "code",
   "execution_count": null,
   "metadata": {},
   "outputs": [],
   "source": [
    "model = fit_model(train_pool, valid_pool, learning_rate=0.35,\n",
    "                  dictionaries = [{\n",
    "                      'dictionary_id':'Word',\n",
    "                      'max_dictionary_size': '50000'\n",
    "                  }],\n",
    "                 feature_calcers = ['BoW:top_tokens_count=10000'])"
   ]
  },
  {
   "cell_type": "markdown",
   "metadata": {},
   "source": [
    "# Предикт"
   ]
  },
  {
   "cell_type": "markdown",
   "metadata": {},
   "source": [
    "# Формирование решения"
   ]
  },
  {
   "cell_type": "code",
   "execution_count": null,
   "metadata": {},
   "outputs": [],
   "source": [
    "y_pred = model.predict(test_vectors)\n",
    "pred_labels = le.inverse_transform(y_pred)\n",
    "\n",
    "print(pred_labels)\n",
    "\n",
    "sample_submission = pd.read_csv(os.path.join(DATA_PATH, \"sample_submission.csv\"))\n",
    "sample_submission[\"rate\"] = pred_labels\n",
    "sample_submission.head()\n"
   ]
  },
  {
   "cell_type": "code",
   "execution_count": null,
   "metadata": {},
   "outputs": [],
   "source": [
    "sample_submission.to_csv(DATA_PATH+\"submission.csv\", index=False)"
   ]
  }
 ],
 "metadata": {
  "kernelspec": {
   "display_name": ".venv",
   "language": "python",
   "name": "python3"
  },
  "language_info": {
   "codemirror_mode": {
    "name": "ipython",
    "version": 3
   },
   "file_extension": ".py",
   "mimetype": "text/x-python",
   "name": "python",
   "nbconvert_exporter": "python",
   "pygments_lexer": "ipython3",
   "version": "3.10.11"
  }
 },
 "nbformat": 4,
 "nbformat_minor": 2
}
