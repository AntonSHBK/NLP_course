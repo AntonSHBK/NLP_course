{
 "cells": [
  {
   "cell_type": "markdown",
   "metadata": {},
   "source": [
    "# Генерация релевантных ответов представителей органов государственной власти"
   ]
  },
  {
   "cell_type": "markdown",
   "metadata": {},
   "source": [
    "## Импорты"
   ]
  },
  {
   "cell_type": "code",
   "execution_count": 93,
   "metadata": {},
   "outputs": [],
   "source": [
    "import os\n",
    "from pathlib import Path\n",
    "\n",
    "import pandas as pd\n",
    "import numpy as np\n"
   ]
  },
  {
   "cell_type": "code",
   "execution_count": 94,
   "metadata": {},
   "outputs": [],
   "source": [
    "from utils import *\n",
    "from model import Config, CustomGPT2Model\n",
    "from trainer import Trainer, TrainingManager\n",
    "from custom_data import CustomDataset, CategoricalLabelEncoder"
   ]
  },
  {
   "cell_type": "code",
   "execution_count": 95,
   "metadata": {},
   "outputs": [
    {
     "name": "stdout",
     "output_type": "stream",
     "text": [
      "IMAGES_PATH  ..\\docs\\imgs\n",
      "DATA_PATH  ..\\data\\project\n"
     ]
    }
   ],
   "source": [
    "print('IMAGES_PATH ', IMAGES_PATH)\n",
    "print('DATA_PATH ', DATA_PATH)\n",
    "\n",
    "seed_all(42)"
   ]
  },
  {
   "cell_type": "code",
   "execution_count": 96,
   "metadata": {},
   "outputs": [],
   "source": [
    "plot_graph()"
   ]
  },
  {
   "cell_type": "markdown",
   "metadata": {},
   "source": [
    "# Загрузка данных"
   ]
  },
  {
   "cell_type": "code",
   "execution_count": 97,
   "metadata": {},
   "outputs": [
    {
     "name": "stdout",
     "output_type": "stream",
     "text": [
      "Number of rows and columns in the train data set: (11475, 8)\n"
     ]
    },
    {
     "name": "stderr",
     "output_type": "stream",
     "text": [
      "d:\\Projects\\NLP_course\\.venv\\lib\\site-packages\\openpyxl\\worksheet\\header_footer.py:48: UserWarning: Cannot parse header or footer so it will be ignored\n",
      "  warn(\"\"\"Cannot parse header or footer so it will be ignored\"\"\")\n"
     ]
    }
   ],
   "source": [
    "dataframe = load_data(os.path.join(DATA_PATH, \"data_1.xlsx\"))\n",
    "print(\"Number of rows and columns in the train data set:\", dataframe.shape)"
   ]
  },
  {
   "cell_type": "code",
   "execution_count": 98,
   "metadata": {},
   "outputs": [
    {
     "data": {
      "text/html": [
       "<div>\n",
       "<style scoped>\n",
       "    .dataframe tbody tr th:only-of-type {\n",
       "        vertical-align: middle;\n",
       "    }\n",
       "\n",
       "    .dataframe tbody tr th {\n",
       "        vertical-align: top;\n",
       "    }\n",
       "\n",
       "    .dataframe thead th {\n",
       "        text-align: right;\n",
       "    }\n",
       "</style>\n",
       "<table border=\"1\" class=\"dataframe\">\n",
       "  <thead>\n",
       "    <tr style=\"text-align: right;\">\n",
       "      <th></th>\n",
       "      <th>responsible_person</th>\n",
       "      <th>type_problem</th>\n",
       "      <th>topic</th>\n",
       "      <th>categoria</th>\n",
       "      <th>region</th>\n",
       "      <th>source</th>\n",
       "      <th>target</th>\n",
       "      <th>context</th>\n",
       "    </tr>\n",
       "  </thead>\n",
       "  <tbody>\n",
       "    <tr>\n",
       "      <th>0</th>\n",
       "      <td>Администрация Химки</td>\n",
       "      <td>Устранение проблемы</td>\n",
       "      <td>Неудовлетворительное качество товара, оказания...</td>\n",
       "      <td>Торговля, товары и услуги</td>\n",
       "      <td>Орехово-Зуевский</td>\n",
       "      <td>Цифровизация услуг в любых сферах, а особенно ...</td>\n",
       "      <td>Здравствуйте! На трубопроводе центрального ото...</td>\n",
       "      <td>[id181153628|Ольга], совершенно верно! Каждый...</td>\n",
       "    </tr>\n",
       "    <tr>\n",
       "      <th>1</th>\n",
       "      <td>Администрация Химки</td>\n",
       "      <td>Устранение проблемы</td>\n",
       "      <td>Неудовлетворительное качество товара, оказания...</td>\n",
       "      <td>Торговля, товары и услуги</td>\n",
       "      <td>Орехово-Зуевский</td>\n",
       "      <td>Цифровизация услуг в любых сферах, а особенно ...</td>\n",
       "      <td>Здравствуйте! Специалисты ТСК \"Мосэнерго\" пров...</td>\n",
       "      <td>[id181153628|Ольга], совершенно верно! Каждый...</td>\n",
       "    </tr>\n",
       "    <tr>\n",
       "      <th>2</th>\n",
       "      <td>Администрация Химки</td>\n",
       "      <td>Устранение проблемы</td>\n",
       "      <td>Неудовлетворительное качество товара, оказания...</td>\n",
       "      <td>Торговля, товары и услуги</td>\n",
       "      <td>Орехово-Зуевский</td>\n",
       "      <td>Цифровизация услуг в любых сферах, а особенно ...</td>\n",
       "      <td>Здравствуйте! Конкретизируйте, пожалуйста, Ваш...</td>\n",
       "      <td>[id181153628|Ольга], совершенно верно! Каждый...</td>\n",
       "    </tr>\n",
       "    <tr>\n",
       "      <th>3</th>\n",
       "      <td>Администрация Химки</td>\n",
       "      <td>Устранение проблемы</td>\n",
       "      <td>Неудовлетворительное качество товара, оказания...</td>\n",
       "      <td>Торговля, товары и услуги</td>\n",
       "      <td>Орехово-Зуевский</td>\n",
       "      <td>Цифровизация услуг в любых сферах, а особенно ...</td>\n",
       "      <td>Здравствуйте! Спасибо за Ваш вопрос. В микрора...</td>\n",
       "      <td>[id181153628|Ольга], совершенно верно! Каждый...</td>\n",
       "    </tr>\n",
       "    <tr>\n",
       "      <th>4</th>\n",
       "      <td>Администрация Химки</td>\n",
       "      <td>Устранение проблемы</td>\n",
       "      <td>Неудовлетворительное качество товара, оказания...</td>\n",
       "      <td>Торговля, товары и услуги</td>\n",
       "      <td>Орехово-Зуевский</td>\n",
       "      <td>Цифровизация услуг в любых сферах, а особенно ...</td>\n",
       "      <td>Здравствуйте! Укажите, пожалуйста, точный адре...</td>\n",
       "      <td>[id181153628|Ольга], совершенно верно! Каждый...</td>\n",
       "    </tr>\n",
       "  </tbody>\n",
       "</table>\n",
       "</div>"
      ],
      "text/plain": [
       "    responsible_person         type_problem  \\\n",
       "0  Администрация Химки  Устранение проблемы   \n",
       "1  Администрация Химки  Устранение проблемы   \n",
       "2  Администрация Химки  Устранение проблемы   \n",
       "3  Администрация Химки  Устранение проблемы   \n",
       "4  Администрация Химки  Устранение проблемы   \n",
       "\n",
       "                                               topic  \\\n",
       "0  Неудовлетворительное качество товара, оказания...   \n",
       "1  Неудовлетворительное качество товара, оказания...   \n",
       "2  Неудовлетворительное качество товара, оказания...   \n",
       "3  Неудовлетворительное качество товара, оказания...   \n",
       "4  Неудовлетворительное качество товара, оказания...   \n",
       "\n",
       "                   categoria            region  \\\n",
       "0  Торговля, товары и услуги  Орехово-Зуевский   \n",
       "1  Торговля, товары и услуги  Орехово-Зуевский   \n",
       "2  Торговля, товары и услуги  Орехово-Зуевский   \n",
       "3  Торговля, товары и услуги  Орехово-Зуевский   \n",
       "4  Торговля, товары и услуги  Орехово-Зуевский   \n",
       "\n",
       "                                              source  \\\n",
       "0  Цифровизация услуг в любых сферах, а особенно ...   \n",
       "1  Цифровизация услуг в любых сферах, а особенно ...   \n",
       "2  Цифровизация услуг в любых сферах, а особенно ...   \n",
       "3  Цифровизация услуг в любых сферах, а особенно ...   \n",
       "4  Цифровизация услуг в любых сферах, а особенно ...   \n",
       "\n",
       "                                              target  \\\n",
       "0  Здравствуйте! На трубопроводе центрального ото...   \n",
       "1  Здравствуйте! Специалисты ТСК \"Мосэнерго\" пров...   \n",
       "2  Здравствуйте! Конкретизируйте, пожалуйста, Ваш...   \n",
       "3  Здравствуйте! Спасибо за Ваш вопрос. В микрора...   \n",
       "4  Здравствуйте! Укажите, пожалуйста, точный адре...   \n",
       "\n",
       "                                             context  \n",
       "0   [id181153628|Ольга], совершенно верно! Каждый...  \n",
       "1   [id181153628|Ольга], совершенно верно! Каждый...  \n",
       "2   [id181153628|Ольга], совершенно верно! Каждый...  \n",
       "3   [id181153628|Ольга], совершенно верно! Каждый...  \n",
       "4   [id181153628|Ольга], совершенно верно! Каждый...  "
      ]
     },
     "execution_count": 98,
     "metadata": {},
     "output_type": "execute_result"
    }
   ],
   "source": [
    "dataframe.head(5)"
   ]
  },
  {
   "cell_type": "code",
   "execution_count": 99,
   "metadata": {},
   "outputs": [
    {
     "name": "stdout",
     "output_type": "stream",
     "text": [
      "<class 'pandas.core.frame.DataFrame'>\n",
      "RangeIndex: 11475 entries, 0 to 11474\n",
      "Data columns (total 8 columns):\n",
      " #   Column              Non-Null Count  Dtype \n",
      "---  ------              --------------  ----- \n",
      " 0   responsible_person  11475 non-null  object\n",
      " 1   type_problem        11475 non-null  object\n",
      " 2   topic               11475 non-null  object\n",
      " 3   categoria           11475 non-null  object\n",
      " 4   region              11475 non-null  object\n",
      " 5   source              11150 non-null  object\n",
      " 6   target              11465 non-null  object\n",
      " 7   context             11475 non-null  object\n",
      "dtypes: object(8)\n",
      "memory usage: 717.3+ KB\n"
     ]
    }
   ],
   "source": [
    "dataframe.info()"
   ]
  },
  {
   "cell_type": "code",
   "execution_count": 100,
   "metadata": {},
   "outputs": [
    {
     "data": {
      "text/html": [
       "<div>\n",
       "<style scoped>\n",
       "    .dataframe tbody tr th:only-of-type {\n",
       "        vertical-align: middle;\n",
       "    }\n",
       "\n",
       "    .dataframe tbody tr th {\n",
       "        vertical-align: top;\n",
       "    }\n",
       "\n",
       "    .dataframe thead th {\n",
       "        text-align: right;\n",
       "    }\n",
       "</style>\n",
       "<table border=\"1\" class=\"dataframe\">\n",
       "  <thead>\n",
       "    <tr style=\"text-align: right;\">\n",
       "      <th></th>\n",
       "      <th>responsible_person</th>\n",
       "      <th>type_problem</th>\n",
       "      <th>topic</th>\n",
       "      <th>categoria</th>\n",
       "      <th>region</th>\n",
       "      <th>source</th>\n",
       "      <th>target</th>\n",
       "      <th>context</th>\n",
       "    </tr>\n",
       "  </thead>\n",
       "  <tbody>\n",
       "    <tr>\n",
       "      <th>count</th>\n",
       "      <td>11475</td>\n",
       "      <td>11475</td>\n",
       "      <td>11475</td>\n",
       "      <td>11475</td>\n",
       "      <td>11475</td>\n",
       "      <td>11150</td>\n",
       "      <td>11465</td>\n",
       "      <td>11475</td>\n",
       "    </tr>\n",
       "    <tr>\n",
       "      <th>unique</th>\n",
       "      <td>181</td>\n",
       "      <td>11</td>\n",
       "      <td>120</td>\n",
       "      <td>11</td>\n",
       "      <td>56</td>\n",
       "      <td>5534</td>\n",
       "      <td>9821</td>\n",
       "      <td>5694</td>\n",
       "    </tr>\n",
       "    <tr>\n",
       "      <th>top</th>\n",
       "      <td>Александр Αлексеев</td>\n",
       "      <td>Устранение проблемы</td>\n",
       "      <td>-</td>\n",
       "      <td>ЖКХ</td>\n",
       "      <td>Другие регионы</td>\n",
       "      <td>Это ситуация в доме 15/2 - результат полного о...</td>\n",
       "      <td>Здравствуйте! Спасибо за Ваш вопрос. В микрора...</td>\n",
       "      <td>[id4847589|Александр], кто ответит за нанесён...</td>\n",
       "    </tr>\n",
       "    <tr>\n",
       "      <th>freq</th>\n",
       "      <td>717</td>\n",
       "      <td>8365</td>\n",
       "      <td>1663</td>\n",
       "      <td>4848</td>\n",
       "      <td>2513</td>\n",
       "      <td>24</td>\n",
       "      <td>111</td>\n",
       "      <td>24</td>\n",
       "    </tr>\n",
       "  </tbody>\n",
       "</table>\n",
       "</div>"
      ],
      "text/plain": [
       "        responsible_person         type_problem  topic categoria  \\\n",
       "count                11475                11475  11475     11475   \n",
       "unique                 181                   11    120        11   \n",
       "top     Александр Αлексеев  Устранение проблемы      -       ЖКХ   \n",
       "freq                   717                 8365   1663      4848   \n",
       "\n",
       "                region                                             source  \\\n",
       "count            11475                                              11150   \n",
       "unique              56                                               5534   \n",
       "top     Другие регионы  Это ситуация в доме 15/2 - результат полного о...   \n",
       "freq              2513                                                 24   \n",
       "\n",
       "                                                   target  \\\n",
       "count                                               11465   \n",
       "unique                                               9821   \n",
       "top     Здравствуйте! Спасибо за Ваш вопрос. В микрора...   \n",
       "freq                                                  111   \n",
       "\n",
       "                                                  context  \n",
       "count                                               11475  \n",
       "unique                                               5694  \n",
       "top      [id4847589|Александр], кто ответит за нанесён...  \n",
       "freq                                                   24  "
      ]
     },
     "execution_count": 100,
     "metadata": {},
     "output_type": "execute_result"
    }
   ],
   "source": [
    "dataframe.describe()"
   ]
  },
  {
   "cell_type": "markdown",
   "metadata": {},
   "source": [
    "## Анализ данных"
   ]
  },
  {
   "cell_type": "code",
   "execution_count": 101,
   "metadata": {},
   "outputs": [
    {
     "data": {
      "image/png": "[encoded data removed]",
      "text/plain": [
       "<Figure size 1200x800 with 1 Axes>"
      ]
     },
     "metadata": {},
     "output_type": "display_data"
    }
   ],
   "source": [
    "plot_hist(dataframe, 'type_problem')"
   ]
  },
  {
   "cell_type": "code",
   "execution_count": 102,
   "metadata": {},
   "outputs": [
    {
     "data": {
      "image/png": "[encoded data removed]",
      "text/plain": [
       "<Figure size 1200x800 with 1 Axes>"
      ]
     },
     "metadata": {},
     "output_type": "display_data"
    }
   ],
   "source": [
    "plot_hist(dataframe, 'categoria')"
   ]
  },
  {
   "cell_type": "markdown",
   "metadata": {},
   "source": [
    "## Препроцессинг"
   ]
  },
  {
   "cell_type": "markdown",
   "metadata": {},
   "source": [
    "## Удаление пропусков"
   ]
  },
  {
   "cell_type": "code",
   "execution_count": 103,
   "metadata": {},
   "outputs": [
    {
     "name": "stdout",
     "output_type": "stream",
     "text": [
      "<class 'pandas.core.frame.DataFrame'>\n",
      "Index: 11140 entries, 0 to 11474\n",
      "Data columns (total 8 columns):\n",
      " #   Column              Non-Null Count  Dtype \n",
      "---  ------              --------------  ----- \n",
      " 0   responsible_person  11140 non-null  object\n",
      " 1   type_problem        11140 non-null  object\n",
      " 2   topic               11140 non-null  object\n",
      " 3   categoria           11140 non-null  object\n",
      " 4   region              11140 non-null  object\n",
      " 5   source              11140 non-null  object\n",
      " 6   target              11140 non-null  object\n",
      " 7   context             11140 non-null  object\n",
      "dtypes: object(8)\n",
      "memory usage: 783.3+ KB\n"
     ]
    }
   ],
   "source": [
    "dataframe = dataframe.dropna(subset=['target', 'source'])\n",
    "dataframe.info()"
   ]
  },
  {
   "cell_type": "markdown",
   "metadata": {},
   "source": [
    "### Кодирование меток"
   ]
  },
  {
   "cell_type": "code",
   "execution_count": 104,
   "metadata": {},
   "outputs": [
    {
     "name": "stdout",
     "output_type": "stream",
     "text": [
      "Список категорий в 'categoria': ['Благодарности' 'Комментарии' 'Критика власти' 'Неопределенное сообщение'\n",
      " 'Ответы' 'Повторная жалоба' 'Предложение/инициатива/идея'\n",
      " 'Просьба проинформировать' 'Семьи военнослужащих' 'Соболезнования'\n",
      " 'Устранение проблемы']\n",
      "['Устранение проблемы']\n"
     ]
    }
   ],
   "source": [
    "work_dataframe = dataframe.copy()\n",
    "\n",
    "categorical_columns = ['responsible_person', 'type_problem', 'topic', 'categoria', 'region']\n",
    "datafarme_encoders = CategoricalLabelEncoder(work_dataframe, categorical_columns)\n",
    "\n",
    "datafarme_encoders.get_classes('type_problem')\n",
    "\n",
    "print(datafarme_encoders.decode('type_problem', 10))"
   ]
  },
  {
   "cell_type": "code",
   "execution_count": 105,
   "metadata": {},
   "outputs": [
    {
     "data": {
      "text/html": [
       "<div>\n",
       "<style scoped>\n",
       "    .dataframe tbody tr th:only-of-type {\n",
       "        vertical-align: middle;\n",
       "    }\n",
       "\n",
       "    .dataframe tbody tr th {\n",
       "        vertical-align: top;\n",
       "    }\n",
       "\n",
       "    .dataframe thead th {\n",
       "        text-align: right;\n",
       "    }\n",
       "</style>\n",
       "<table border=\"1\" class=\"dataframe\">\n",
       "  <thead>\n",
       "    <tr style=\"text-align: right;\">\n",
       "      <th></th>\n",
       "      <th>responsible_person</th>\n",
       "      <th>type_problem</th>\n",
       "      <th>topic</th>\n",
       "      <th>categoria</th>\n",
       "      <th>region</th>\n",
       "      <th>source</th>\n",
       "      <th>target</th>\n",
       "      <th>context</th>\n",
       "    </tr>\n",
       "  </thead>\n",
       "  <tbody>\n",
       "    <tr>\n",
       "      <th>0</th>\n",
       "      <td>30</td>\n",
       "      <td>10</td>\n",
       "      <td>79</td>\n",
       "      <td>9</td>\n",
       "      <td>34</td>\n",
       "      <td>Цифровизация услуг в любых сферах, а особенно ...</td>\n",
       "      <td>Здравствуйте! На трубопроводе центрального ото...</td>\n",
       "      <td>[id181153628|Ольга], совершенно верно! Каждый...</td>\n",
       "    </tr>\n",
       "    <tr>\n",
       "      <th>1</th>\n",
       "      <td>30</td>\n",
       "      <td>10</td>\n",
       "      <td>79</td>\n",
       "      <td>9</td>\n",
       "      <td>34</td>\n",
       "      <td>Цифровизация услуг в любых сферах, а особенно ...</td>\n",
       "      <td>Здравствуйте! Специалисты ТСК \"Мосэнерго\" пров...</td>\n",
       "      <td>[id181153628|Ольга], совершенно верно! Каждый...</td>\n",
       "    </tr>\n",
       "    <tr>\n",
       "      <th>2</th>\n",
       "      <td>30</td>\n",
       "      <td>10</td>\n",
       "      <td>79</td>\n",
       "      <td>9</td>\n",
       "      <td>34</td>\n",
       "      <td>Цифровизация услуг в любых сферах, а особенно ...</td>\n",
       "      <td>Здравствуйте! Конкретизируйте, пожалуйста, Ваш...</td>\n",
       "      <td>[id181153628|Ольга], совершенно верно! Каждый...</td>\n",
       "    </tr>\n",
       "    <tr>\n",
       "      <th>3</th>\n",
       "      <td>30</td>\n",
       "      <td>10</td>\n",
       "      <td>79</td>\n",
       "      <td>9</td>\n",
       "      <td>34</td>\n",
       "      <td>Цифровизация услуг в любых сферах, а особенно ...</td>\n",
       "      <td>Здравствуйте! Спасибо за Ваш вопрос. В микрора...</td>\n",
       "      <td>[id181153628|Ольга], совершенно верно! Каждый...</td>\n",
       "    </tr>\n",
       "  </tbody>\n",
       "</table>\n",
       "</div>"
      ],
      "text/plain": [
       "   responsible_person  type_problem  topic  categoria  region  \\\n",
       "0                  30            10     79          9      34   \n",
       "1                  30            10     79          9      34   \n",
       "2                  30            10     79          9      34   \n",
       "3                  30            10     79          9      34   \n",
       "\n",
       "                                              source  \\\n",
       "0  Цифровизация услуг в любых сферах, а особенно ...   \n",
       "1  Цифровизация услуг в любых сферах, а особенно ...   \n",
       "2  Цифровизация услуг в любых сферах, а особенно ...   \n",
       "3  Цифровизация услуг в любых сферах, а особенно ...   \n",
       "\n",
       "                                              target  \\\n",
       "0  Здравствуйте! На трубопроводе центрального ото...   \n",
       "1  Здравствуйте! Специалисты ТСК \"Мосэнерго\" пров...   \n",
       "2  Здравствуйте! Конкретизируйте, пожалуйста, Ваш...   \n",
       "3  Здравствуйте! Спасибо за Ваш вопрос. В микрора...   \n",
       "\n",
       "                                             context  \n",
       "0   [id181153628|Ольга], совершенно верно! Каждый...  \n",
       "1   [id181153628|Ольга], совершенно верно! Каждый...  \n",
       "2   [id181153628|Ольга], совершенно верно! Каждый...  \n",
       "3   [id181153628|Ольга], совершенно верно! Каждый...  "
      ]
     },
     "execution_count": 105,
     "metadata": {},
     "output_type": "execute_result"
    }
   ],
   "source": [
    "work_dataframe.head(4)"
   ]
  },
  {
   "cell_type": "markdown",
   "metadata": {},
   "source": [
    "# Гиперпараметры"
   ]
  },
  {
   "cell_type": "code",
   "execution_count": 106,
   "metadata": {},
   "outputs": [],
   "source": [
    "work_dataframe = work_dataframe[:10]"
   ]
  },
  {
   "cell_type": "code",
   "execution_count": 107,
   "metadata": {},
   "outputs": [],
   "source": [
    "config = Config()\n",
    "\n",
    "config.learning_rate = 1e-3\n",
    "config.num_epochs = 30\n",
    "config.max_length = 64\n",
    "config.batch_size = 64\n",
    "config.test_size = 0.1\n",
    "config.uniq_name = 'custom_gpt2_model'\n",
    "config.special_eval = False\n",
    "config.temperature=0.7\n",
    "config.top_k=11\n",
    "config.top_p=0.9"
   ]
  },
  {
   "cell_type": "markdown",
   "metadata": {},
   "source": [
    "# Обучение"
   ]
  },
  {
   "cell_type": "code",
   "execution_count": 108,
   "metadata": {},
   "outputs": [
    {
     "name": "stdout",
     "output_type": "stream",
     "text": [
      "Список категорий в 'categoria': ['Благодарности' 'Комментарии' 'Критика власти' 'Неопределенное сообщение'\n",
      " 'Ответы' 'Повторная жалоба' 'Предложение/инициатива/идея'\n",
      " 'Просьба проинформировать' 'Семьи военнослужащих' 'Соболезнования'\n",
      " 'Устранение проблемы']\n",
      "gpt2.wte.weight is trainable: True\n",
      "gpt2.wpe.weight is trainable: True\n",
      "gpt2.h.0.ln_1.weight is trainable: False\n",
      "gpt2.h.0.ln_1.bias is trainable: False\n",
      "gpt2.h.0.attn.c_attn.weight is trainable: False\n",
      "gpt2.h.0.attn.c_attn.bias is trainable: False\n",
      "gpt2.h.0.attn.c_proj.weight is trainable: False\n",
      "gpt2.h.0.attn.c_proj.bias is trainable: False\n",
      "gpt2.h.0.ln_2.weight is trainable: False\n",
      "gpt2.h.0.ln_2.bias is trainable: False\n",
      "gpt2.h.0.mlp.c_fc.weight is trainable: False\n",
      "gpt2.h.0.mlp.c_fc.bias is trainable: False\n",
      "gpt2.h.0.mlp.c_proj.weight is trainable: False\n",
      "gpt2.h.0.mlp.c_proj.bias is trainable: False\n",
      "gpt2.h.1.ln_1.weight is trainable: False\n",
      "gpt2.h.1.ln_1.bias is trainable: False\n",
      "gpt2.h.1.attn.c_attn.weight is trainable: False\n",
      "gpt2.h.1.attn.c_attn.bias is trainable: False\n",
      "gpt2.h.1.attn.c_proj.weight is trainable: False\n",
      "gpt2.h.1.attn.c_proj.bias is trainable: False\n",
      "gpt2.h.1.ln_2.weight is trainable: False\n",
      "gpt2.h.1.ln_2.bias is trainable: False\n",
      "gpt2.h.1.mlp.c_fc.weight is trainable: False\n",
      "gpt2.h.1.mlp.c_fc.bias is trainable: False\n",
      "gpt2.h.1.mlp.c_proj.weight is trainable: False\n",
      "gpt2.h.1.mlp.c_proj.bias is trainable: False\n",
      "gpt2.h.2.ln_1.weight is trainable: False\n",
      "gpt2.h.2.ln_1.bias is trainable: False\n",
      "gpt2.h.2.attn.c_attn.weight is trainable: False\n",
      "gpt2.h.2.attn.c_attn.bias is trainable: False\n",
      "gpt2.h.2.attn.c_proj.weight is trainable: False\n",
      "gpt2.h.2.attn.c_proj.bias is trainable: False\n",
      "gpt2.h.2.ln_2.weight is trainable: False\n",
      "gpt2.h.2.ln_2.bias is trainable: False\n",
      "gpt2.h.2.mlp.c_fc.weight is trainable: False\n",
      "gpt2.h.2.mlp.c_fc.bias is trainable: False\n",
      "gpt2.h.2.mlp.c_proj.weight is trainable: False\n",
      "gpt2.h.2.mlp.c_proj.bias is trainable: False\n",
      "gpt2.h.3.ln_1.weight is trainable: False\n",
      "gpt2.h.3.ln_1.bias is trainable: False\n",
      "gpt2.h.3.attn.c_attn.weight is trainable: False\n",
      "gpt2.h.3.attn.c_attn.bias is trainable: False\n",
      "gpt2.h.3.attn.c_proj.weight is trainable: False\n",
      "gpt2.h.3.attn.c_proj.bias is trainable: False\n",
      "gpt2.h.3.ln_2.weight is trainable: False\n",
      "gpt2.h.3.ln_2.bias is trainable: False\n",
      "gpt2.h.3.mlp.c_fc.weight is trainable: False\n",
      "gpt2.h.3.mlp.c_fc.bias is trainable: False\n",
      "gpt2.h.3.mlp.c_proj.weight is trainable: False\n",
      "gpt2.h.3.mlp.c_proj.bias is trainable: False\n",
      "gpt2.h.4.ln_1.weight is trainable: False\n",
      "gpt2.h.4.ln_1.bias is trainable: False\n",
      "gpt2.h.4.attn.c_attn.weight is trainable: False\n",
      "gpt2.h.4.attn.c_attn.bias is trainable: False\n",
      "gpt2.h.4.attn.c_proj.weight is trainable: False\n",
      "gpt2.h.4.attn.c_proj.bias is trainable: False\n",
      "gpt2.h.4.ln_2.weight is trainable: False\n",
      "gpt2.h.4.ln_2.bias is trainable: False\n",
      "gpt2.h.4.mlp.c_fc.weight is trainable: False\n",
      "gpt2.h.4.mlp.c_fc.bias is trainable: False\n",
      "gpt2.h.4.mlp.c_proj.weight is trainable: False\n",
      "gpt2.h.4.mlp.c_proj.bias is trainable: False\n",
      "gpt2.h.5.ln_1.weight is trainable: False\n",
      "gpt2.h.5.ln_1.bias is trainable: False\n",
      "gpt2.h.5.attn.c_attn.weight is trainable: False\n",
      "gpt2.h.5.attn.c_attn.bias is trainable: False\n",
      "gpt2.h.5.attn.c_proj.weight is trainable: False\n",
      "gpt2.h.5.attn.c_proj.bias is trainable: False\n",
      "gpt2.h.5.ln_2.weight is trainable: False\n",
      "gpt2.h.5.ln_2.bias is trainable: False\n",
      "gpt2.h.5.mlp.c_fc.weight is trainable: False\n",
      "gpt2.h.5.mlp.c_fc.bias is trainable: False\n",
      "gpt2.h.5.mlp.c_proj.weight is trainable: False\n",
      "gpt2.h.5.mlp.c_proj.bias is trainable: False\n",
      "gpt2.h.6.ln_1.weight is trainable: False\n",
      "gpt2.h.6.ln_1.bias is trainable: False\n",
      "gpt2.h.6.attn.c_attn.weight is trainable: False\n",
      "gpt2.h.6.attn.c_attn.bias is trainable: False\n",
      "gpt2.h.6.attn.c_proj.weight is trainable: False\n",
      "gpt2.h.6.attn.c_proj.bias is trainable: False\n",
      "gpt2.h.6.ln_2.weight is trainable: False\n",
      "gpt2.h.6.ln_2.bias is trainable: False\n",
      "gpt2.h.6.mlp.c_fc.weight is trainable: False\n",
      "gpt2.h.6.mlp.c_fc.bias is trainable: False\n",
      "gpt2.h.6.mlp.c_proj.weight is trainable: False\n",
      "gpt2.h.6.mlp.c_proj.bias is trainable: False\n",
      "gpt2.h.7.ln_1.weight is trainable: False\n",
      "gpt2.h.7.ln_1.bias is trainable: False\n",
      "gpt2.h.7.attn.c_attn.weight is trainable: False\n",
      "gpt2.h.7.attn.c_attn.bias is trainable: False\n",
      "gpt2.h.7.attn.c_proj.weight is trainable: False\n",
      "gpt2.h.7.attn.c_proj.bias is trainable: False\n",
      "gpt2.h.7.ln_2.weight is trainable: False\n",
      "gpt2.h.7.ln_2.bias is trainable: False\n",
      "gpt2.h.7.mlp.c_fc.weight is trainable: False\n",
      "gpt2.h.7.mlp.c_fc.bias is trainable: False\n",
      "gpt2.h.7.mlp.c_proj.weight is trainable: False\n",
      "gpt2.h.7.mlp.c_proj.bias is trainable: False\n",
      "gpt2.h.8.ln_1.weight is trainable: False\n",
      "gpt2.h.8.ln_1.bias is trainable: False\n",
      "gpt2.h.8.attn.c_attn.weight is trainable: False\n",
      "gpt2.h.8.attn.c_attn.bias is trainable: False\n",
      "gpt2.h.8.attn.c_proj.weight is trainable: False\n",
      "gpt2.h.8.attn.c_proj.bias is trainable: False\n",
      "gpt2.h.8.ln_2.weight is trainable: False\n",
      "gpt2.h.8.ln_2.bias is trainable: False\n",
      "gpt2.h.8.mlp.c_fc.weight is trainable: False\n",
      "gpt2.h.8.mlp.c_fc.bias is trainable: False\n",
      "gpt2.h.8.mlp.c_proj.weight is trainable: False\n",
      "gpt2.h.8.mlp.c_proj.bias is trainable: False\n",
      "gpt2.h.9.ln_1.weight is trainable: False\n",
      "gpt2.h.9.ln_1.bias is trainable: False\n",
      "gpt2.h.9.attn.c_attn.weight is trainable: False\n",
      "gpt2.h.9.attn.c_attn.bias is trainable: False\n",
      "gpt2.h.9.attn.c_proj.weight is trainable: False\n",
      "gpt2.h.9.attn.c_proj.bias is trainable: False\n",
      "gpt2.h.9.ln_2.weight is trainable: False\n",
      "gpt2.h.9.ln_2.bias is trainable: False\n",
      "gpt2.h.9.mlp.c_fc.weight is trainable: False\n",
      "gpt2.h.9.mlp.c_fc.bias is trainable: False\n",
      "gpt2.h.9.mlp.c_proj.weight is trainable: False\n",
      "gpt2.h.9.mlp.c_proj.bias is trainable: False\n",
      "gpt2.h.10.ln_1.weight is trainable: False\n",
      "gpt2.h.10.ln_1.bias is trainable: False\n",
      "gpt2.h.10.attn.c_attn.weight is trainable: False\n",
      "gpt2.h.10.attn.c_attn.bias is trainable: False\n",
      "gpt2.h.10.attn.c_proj.weight is trainable: False\n",
      "gpt2.h.10.attn.c_proj.bias is trainable: False\n",
      "gpt2.h.10.ln_2.weight is trainable: False\n",
      "gpt2.h.10.ln_2.bias is trainable: False\n",
      "gpt2.h.10.mlp.c_fc.weight is trainable: False\n",
      "gpt2.h.10.mlp.c_fc.bias is trainable: False\n",
      "gpt2.h.10.mlp.c_proj.weight is trainable: False\n",
      "gpt2.h.10.mlp.c_proj.bias is trainable: False\n",
      "gpt2.h.11.ln_1.weight is trainable: False\n",
      "gpt2.h.11.ln_1.bias is trainable: False\n",
      "gpt2.h.11.attn.c_attn.weight is trainable: False\n",
      "gpt2.h.11.attn.c_attn.bias is trainable: False\n",
      "gpt2.h.11.attn.c_proj.weight is trainable: False\n",
      "gpt2.h.11.attn.c_proj.bias is trainable: False\n",
      "gpt2.h.11.ln_2.weight is trainable: False\n",
      "gpt2.h.11.ln_2.bias is trainable: False\n",
      "gpt2.h.11.mlp.c_fc.weight is trainable: False\n",
      "gpt2.h.11.mlp.c_fc.bias is trainable: False\n",
      "gpt2.h.11.mlp.c_proj.weight is trainable: False\n",
      "gpt2.h.11.mlp.c_proj.bias is trainable: False\n",
      "gpt2.ln_f.weight is trainable: True\n",
      "gpt2.ln_f.bias is trainable: True\n",
      "type_embedding.weight is trainable: True\n",
      "combined_linear.weight is trainable: True\n",
      "combined_linear.bias is trainable: True\n",
      "lm_head.weight is trainable: True\n",
      "lm_head.bias is trainable: True\n"
     ]
    },
    {
     "name": "stderr",
     "output_type": "stream",
     "text": [
      "d:\\Projects\\NLP_course\\.venv\\lib\\site-packages\\transformers\\optimization.py:457: FutureWarning: This implementation of AdamW is deprecated and will be removed in a future version. Use the PyTorch implementation torch.optim.AdamW instead, or set `no_deprecation_warning=True` to disable this warning\n",
      "  warnings.warn(\n"
     ]
    }
   ],
   "source": [
    "training_manager = TrainingManager(\n",
    "    work_dataframe,\n",
    "    datafarme_encoders,\n",
    "    config,\n",
    "    data_path=DATA_PATH,\n",
    "    imgs_path=IMAGES_PATH\n",
    ")"
   ]
  },
  {
   "cell_type": "code",
   "execution_count": 109,
   "metadata": {},
   "outputs": [
    {
     "data": {
      "application/vnd.jupyter.widget-view+json": {
       "model_id": "7295829a7f7e46e5aef9e8d1586b487b",
       "version_major": 2,
       "version_minor": 0
      },
      "text/plain": [
       "Fit :   0%|          | 0/30 [00:00<?, ?it/s]"
      ]
     },
     "metadata": {},
     "output_type": "display_data"
    },
    {
     "data": {
      "application/vnd.jupyter.widget-view+json": {
       "model_id": "287a0609b1934a419af902413563ec71",
       "version_major": 2,
       "version_minor": 0
      },
      "text/plain": [
       "Training:   0%|          | 0/1 [00:00<?, ?it/s]"
      ]
     },
     "metadata": {},
     "output_type": "display_data"
    },
    {
     "data": {
      "application/vnd.jupyter.widget-view+json": {
       "model_id": "e15357a5378e4b8f85cfdd9ea6cbac14",
       "version_major": 2,
       "version_minor": 0
      },
      "text/plain": [
       "Evaluate:   0%|          | 0/1 [00:00<?, ?it/s]"
      ]
     },
     "metadata": {},
     "output_type": "display_data"
    },
    {
     "data": {
      "application/vnd.jupyter.widget-view+json": {
       "model_id": "8f936267722d45c48d08793d3d19cc91",
       "version_major": 2,
       "version_minor": 0
      },
      "text/plain": [
       "Training:   0%|          | 0/1 [00:00<?, ?it/s]"
      ]
     },
     "metadata": {},
     "output_type": "display_data"
    },
    {
     "data": {
      "application/vnd.jupyter.widget-view+json": {
       "model_id": "230a9a8171ae47fea6515132966ede97",
       "version_major": 2,
       "version_minor": 0
      },
      "text/plain": [
       "Evaluate:   0%|          | 0/1 [00:00<?, ?it/s]"
      ]
     },
     "metadata": {},
     "output_type": "display_data"
    },
    {
     "data": {
      "application/vnd.jupyter.widget-view+json": {
       "model_id": "928e8c5112504fc08776690f9dbe2214",
       "version_major": 2,
       "version_minor": 0
      },
      "text/plain": [
       "Training:   0%|          | 0/1 [00:00<?, ?it/s]"
      ]
     },
     "metadata": {},
     "output_type": "display_data"
    },
    {
     "data": {
      "application/vnd.jupyter.widget-view+json": {
       "model_id": "e47174596026499ea060e73e252a5550",
       "version_major": 2,
       "version_minor": 0
      },
      "text/plain": [
       "Evaluate:   0%|          | 0/1 [00:00<?, ?it/s]"
      ]
     },
     "metadata": {},
     "output_type": "display_data"
    },
    {
     "data": {
      "application/vnd.jupyter.widget-view+json": {
       "model_id": "fef4818175d14a78bb1eb666cf875e1a",
       "version_major": 2,
       "version_minor": 0
      },
      "text/plain": [
       "Training:   0%|          | 0/1 [00:00<?, ?it/s]"
      ]
     },
     "metadata": {},
     "output_type": "display_data"
    },
    {
     "data": {
      "application/vnd.jupyter.widget-view+json": {
       "model_id": "543ff2b5ef6a48068307998346aa5abc",
       "version_major": 2,
       "version_minor": 0
      },
      "text/plain": [
       "Evaluate:   0%|          | 0/1 [00:00<?, ?it/s]"
      ]
     },
     "metadata": {},
     "output_type": "display_data"
    },
    {
     "data": {
      "application/vnd.jupyter.widget-view+json": {
       "model_id": "b41a7a09fd08481d812656b59e4ac5c2",
       "version_major": 2,
       "version_minor": 0
      },
      "text/plain": [
       "Training:   0%|          | 0/1 [00:00<?, ?it/s]"
      ]
     },
     "metadata": {},
     "output_type": "display_data"
    },
    {
     "data": {
      "application/vnd.jupyter.widget-view+json": {
       "model_id": "f3a82984bf0247b795478dc9eacc4d86",
       "version_major": 2,
       "version_minor": 0
      },
      "text/plain": [
       "Evaluate:   0%|          | 0/1 [00:00<?, ?it/s]"
      ]
     },
     "metadata": {},
     "output_type": "display_data"
    },
    {
     "data": {
      "application/vnd.jupyter.widget-view+json": {
       "model_id": "de7036bce4b44f74a64e199180702c26",
       "version_major": 2,
       "version_minor": 0
      },
      "text/plain": [
       "Training:   0%|          | 0/1 [00:00<?, ?it/s]"
      ]
     },
     "metadata": {},
     "output_type": "display_data"
    },
    {
     "data": {
      "application/vnd.jupyter.widget-view+json": {
       "model_id": "65c3d661dab04febba55acce68ebbf27",
       "version_major": 2,
       "version_minor": 0
      },
      "text/plain": [
       "Evaluate:   0%|          | 0/1 [00:00<?, ?it/s]"
      ]
     },
     "metadata": {},
     "output_type": "display_data"
    },
    {
     "data": {
      "application/vnd.jupyter.widget-view+json": {
       "model_id": "400ccdca75a3415f8fdfdfe3767db3b2",
       "version_major": 2,
       "version_minor": 0
      },
      "text/plain": [
       "Training:   0%|          | 0/1 [00:00<?, ?it/s]"
      ]
     },
     "metadata": {},
     "output_type": "display_data"
    },
    {
     "data": {
      "application/vnd.jupyter.widget-view+json": {
       "model_id": "bf4bee654bfe401398a580d4b81b5033",
       "version_major": 2,
       "version_minor": 0
      },
      "text/plain": [
       "Evaluate:   0%|          | 0/1 [00:00<?, ?it/s]"
      ]
     },
     "metadata": {},
     "output_type": "display_data"
    },
    {
     "data": {
      "application/vnd.jupyter.widget-view+json": {
       "model_id": "c51f795646e54711badb8f12dc05878d",
       "version_major": 2,
       "version_minor": 0
      },
      "text/plain": [
       "Training:   0%|          | 0/1 [00:00<?, ?it/s]"
      ]
     },
     "metadata": {},
     "output_type": "display_data"
    },
    {
     "data": {
      "application/vnd.jupyter.widget-view+json": {
       "model_id": "464018ddeaa74c7aa8d21ec221feb5e5",
       "version_major": 2,
       "version_minor": 0
      },
      "text/plain": [
       "Evaluate:   0%|          | 0/1 [00:00<?, ?it/s]"
      ]
     },
     "metadata": {},
     "output_type": "display_data"
    },
    {
     "data": {
      "application/vnd.jupyter.widget-view+json": {
       "model_id": "8cd0dedfcb094cc99ea55b18636cb3a0",
       "version_major": 2,
       "version_minor": 0
      },
      "text/plain": [
       "Training:   0%|          | 0/1 [00:00<?, ?it/s]"
      ]
     },
     "metadata": {},
     "output_type": "display_data"
    },
    {
     "data": {
      "application/vnd.jupyter.widget-view+json": {
       "model_id": "e5bca5dc42ff4bf6b4c7f35c6f72c109",
       "version_major": 2,
       "version_minor": 0
      },
      "text/plain": [
       "Evaluate:   0%|          | 0/1 [00:00<?, ?it/s]"
      ]
     },
     "metadata": {},
     "output_type": "display_data"
    },
    {
     "data": {
      "application/vnd.jupyter.widget-view+json": {
       "model_id": "ca1288d454ac4f09b8d77453075cfb19",
       "version_major": 2,
       "version_minor": 0
      },
      "text/plain": [
       "Training:   0%|          | 0/1 [00:00<?, ?it/s]"
      ]
     },
     "metadata": {},
     "output_type": "display_data"
    },
    {
     "data": {
      "application/vnd.jupyter.widget-view+json": {
       "model_id": "b4a831c9386b4022b34da8da113bcaf5",
       "version_major": 2,
       "version_minor": 0
      },
      "text/plain": [
       "Evaluate:   0%|          | 0/1 [00:00<?, ?it/s]"
      ]
     },
     "metadata": {},
     "output_type": "display_data"
    },
    {
     "data": {
      "application/vnd.jupyter.widget-view+json": {
       "model_id": "df104cb4b82146edb452f2b57e6c3f2b",
       "version_major": 2,
       "version_minor": 0
      },
      "text/plain": [
       "Training:   0%|          | 0/1 [00:00<?, ?it/s]"
      ]
     },
     "metadata": {},
     "output_type": "display_data"
    },
    {
     "data": {
      "application/vnd.jupyter.widget-view+json": {
       "model_id": "e2259f9ac37f4ca9a6157b8d7a9c26b2",
       "version_major": 2,
       "version_minor": 0
      },
      "text/plain": [
       "Evaluate:   0%|          | 0/1 [00:00<?, ?it/s]"
      ]
     },
     "metadata": {},
     "output_type": "display_data"
    },
    {
     "data": {
      "application/vnd.jupyter.widget-view+json": {
       "model_id": "fac0858c690d4d64a8ce53fdac1922ef",
       "version_major": 2,
       "version_minor": 0
      },
      "text/plain": [
       "Training:   0%|          | 0/1 [00:00<?, ?it/s]"
      ]
     },
     "metadata": {},
     "output_type": "display_data"
    },
    {
     "data": {
      "application/vnd.jupyter.widget-view+json": {
       "model_id": "95464902e51a4c69ab8690d1106fee89",
       "version_major": 2,
       "version_minor": 0
      },
      "text/plain": [
       "Evaluate:   0%|          | 0/1 [00:00<?, ?it/s]"
      ]
     },
     "metadata": {},
     "output_type": "display_data"
    },
    {
     "data": {
      "application/vnd.jupyter.widget-view+json": {
       "model_id": "a18d1d2f66b842c9875cfd0e6b6efce3",
       "version_major": 2,
       "version_minor": 0
      },
      "text/plain": [
       "Training:   0%|          | 0/1 [00:00<?, ?it/s]"
      ]
     },
     "metadata": {},
     "output_type": "display_data"
    },
    {
     "data": {
      "application/vnd.jupyter.widget-view+json": {
       "model_id": "3e5417a26b8144b28b5bada3730067c0",
       "version_major": 2,
       "version_minor": 0
      },
      "text/plain": [
       "Evaluate:   0%|          | 0/1 [00:00<?, ?it/s]"
      ]
     },
     "metadata": {},
     "output_type": "display_data"
    },
    {
     "data": {
      "application/vnd.jupyter.widget-view+json": {
       "model_id": "f99047aea49d4a6d875b85a1db1985b6",
       "version_major": 2,
       "version_minor": 0
      },
      "text/plain": [
       "Training:   0%|          | 0/1 [00:00<?, ?it/s]"
      ]
     },
     "metadata": {},
     "output_type": "display_data"
    },
    {
     "data": {
      "application/vnd.jupyter.widget-view+json": {
       "model_id": "f518e89eb21e4587a569d74171bfbfa4",
       "version_major": 2,
       "version_minor": 0
      },
      "text/plain": [
       "Evaluate:   0%|          | 0/1 [00:00<?, ?it/s]"
      ]
     },
     "metadata": {},
     "output_type": "display_data"
    },
    {
     "data": {
      "application/vnd.jupyter.widget-view+json": {
       "model_id": "ff584545f71340b6bbf62a6df4a75bf7",
       "version_major": 2,
       "version_minor": 0
      },
      "text/plain": [
       "Training:   0%|          | 0/1 [00:00<?, ?it/s]"
      ]
     },
     "metadata": {},
     "output_type": "display_data"
    },
    {
     "data": {
      "application/vnd.jupyter.widget-view+json": {
       "model_id": "c7772742c4a24930936ee8239a7a000a",
       "version_major": 2,
       "version_minor": 0
      },
      "text/plain": [
       "Evaluate:   0%|          | 0/1 [00:00<?, ?it/s]"
      ]
     },
     "metadata": {},
     "output_type": "display_data"
    },
    {
     "data": {
      "application/vnd.jupyter.widget-view+json": {
       "model_id": "ee73626bd59945a69b54741500d8073b",
       "version_major": 2,
       "version_minor": 0
      },
      "text/plain": [
       "Training:   0%|          | 0/1 [00:00<?, ?it/s]"
      ]
     },
     "metadata": {},
     "output_type": "display_data"
    },
    {
     "data": {
      "application/vnd.jupyter.widget-view+json": {
       "model_id": "ba5ca3e0d76c4e99a38165b92aa17799",
       "version_major": 2,
       "version_minor": 0
      },
      "text/plain": [
       "Evaluate:   0%|          | 0/1 [00:00<?, ?it/s]"
      ]
     },
     "metadata": {},
     "output_type": "display_data"
    },
    {
     "data": {
      "application/vnd.jupyter.widget-view+json": {
       "model_id": "485c82c627374a2196295b86d2f62248",
       "version_major": 2,
       "version_minor": 0
      },
      "text/plain": [
       "Training:   0%|          | 0/1 [00:00<?, ?it/s]"
      ]
     },
     "metadata": {},
     "output_type": "display_data"
    },
    {
     "data": {
      "application/vnd.jupyter.widget-view+json": {
       "model_id": "c5a79936a46c4066b792dd30a0b10e0a",
       "version_major": 2,
       "version_minor": 0
      },
      "text/plain": [
       "Evaluate:   0%|          | 0/1 [00:00<?, ?it/s]"
      ]
     },
     "metadata": {},
     "output_type": "display_data"
    },
    {
     "data": {
      "application/vnd.jupyter.widget-view+json": {
       "model_id": "bc8dddf34d684db794c0bc1c6962868f",
       "version_major": 2,
       "version_minor": 0
      },
      "text/plain": [
       "Training:   0%|          | 0/1 [00:00<?, ?it/s]"
      ]
     },
     "metadata": {},
     "output_type": "display_data"
    },
    {
     "data": {
      "application/vnd.jupyter.widget-view+json": {
       "model_id": "e617c27d533c49c79983c01feecdcc57",
       "version_major": 2,
       "version_minor": 0
      },
      "text/plain": [
       "Evaluate:   0%|          | 0/1 [00:00<?, ?it/s]"
      ]
     },
     "metadata": {},
     "output_type": "display_data"
    },
    {
     "data": {
      "application/vnd.jupyter.widget-view+json": {
       "model_id": "4e403346aaca408d8612398f5a4cc65c",
       "version_major": 2,
       "version_minor": 0
      },
      "text/plain": [
       "Training:   0%|          | 0/1 [00:00<?, ?it/s]"
      ]
     },
     "metadata": {},
     "output_type": "display_data"
    },
    {
     "data": {
      "application/vnd.jupyter.widget-view+json": {
       "model_id": "8959b8ef6f3a42669a6b215966911f2f",
       "version_major": 2,
       "version_minor": 0
      },
      "text/plain": [
       "Evaluate:   0%|          | 0/1 [00:00<?, ?it/s]"
      ]
     },
     "metadata": {},
     "output_type": "display_data"
    },
    {
     "data": {
      "application/vnd.jupyter.widget-view+json": {
       "model_id": "b8768f057ac848f5b0fe7a5c1bb36397",
       "version_major": 2,
       "version_minor": 0
      },
      "text/plain": [
       "Training:   0%|          | 0/1 [00:00<?, ?it/s]"
      ]
     },
     "metadata": {},
     "output_type": "display_data"
    },
    {
     "data": {
      "application/vnd.jupyter.widget-view+json": {
       "model_id": "93a85c898d82495c980d709f01d956ac",
       "version_major": 2,
       "version_minor": 0
      },
      "text/plain": [
       "Evaluate:   0%|          | 0/1 [00:00<?, ?it/s]"
      ]
     },
     "metadata": {},
     "output_type": "display_data"
    },
    {
     "data": {
      "application/vnd.jupyter.widget-view+json": {
       "model_id": "d05ce6a98b4f4f609cdfae1dbf9c973e",
       "version_major": 2,
       "version_minor": 0
      },
      "text/plain": [
       "Training:   0%|          | 0/1 [00:00<?, ?it/s]"
      ]
     },
     "metadata": {},
     "output_type": "display_data"
    },
    {
     "data": {
      "application/vnd.jupyter.widget-view+json": {
       "model_id": "37d03ce9fbd34d8fab46d66bf011bbc4",
       "version_major": 2,
       "version_minor": 0
      },
      "text/plain": [
       "Evaluate:   0%|          | 0/1 [00:00<?, ?it/s]"
      ]
     },
     "metadata": {},
     "output_type": "display_data"
    },
    {
     "data": {
      "application/vnd.jupyter.widget-view+json": {
       "model_id": "11a562f504214b23ac57625ae7872969",
       "version_major": 2,
       "version_minor": 0
      },
      "text/plain": [
       "Training:   0%|          | 0/1 [00:00<?, ?it/s]"
      ]
     },
     "metadata": {},
     "output_type": "display_data"
    },
    {
     "data": {
      "application/vnd.jupyter.widget-view+json": {
       "model_id": "a0fbe11babbf45978f9e19a22355ff65",
       "version_major": 2,
       "version_minor": 0
      },
      "text/plain": [
       "Evaluate:   0%|          | 0/1 [00:00<?, ?it/s]"
      ]
     },
     "metadata": {},
     "output_type": "display_data"
    },
    {
     "data": {
      "application/vnd.jupyter.widget-view+json": {
       "model_id": "fd3d0e38b2754b438176d33d5936d9cd",
       "version_major": 2,
       "version_minor": 0
      },
      "text/plain": [
       "Training:   0%|          | 0/1 [00:00<?, ?it/s]"
      ]
     },
     "metadata": {},
     "output_type": "display_data"
    },
    {
     "data": {
      "application/vnd.jupyter.widget-view+json": {
       "model_id": "a8f25cc38436425bbc129aa82593e576",
       "version_major": 2,
       "version_minor": 0
      },
      "text/plain": [
       "Evaluate:   0%|          | 0/1 [00:00<?, ?it/s]"
      ]
     },
     "metadata": {},
     "output_type": "display_data"
    },
    {
     "data": {
      "application/vnd.jupyter.widget-view+json": {
       "model_id": "4d45feb1fb364bfd95214d7a3a25045c",
       "version_major": 2,
       "version_minor": 0
      },
      "text/plain": [
       "Training:   0%|          | 0/1 [00:00<?, ?it/s]"
      ]
     },
     "metadata": {},
     "output_type": "display_data"
    },
    {
     "data": {
      "application/vnd.jupyter.widget-view+json": {
       "model_id": "22834d2008d142e7a78db36af05e5a1d",
       "version_major": 2,
       "version_minor": 0
      },
      "text/plain": [
       "Evaluate:   0%|          | 0/1 [00:00<?, ?it/s]"
      ]
     },
     "metadata": {},
     "output_type": "display_data"
    },
    {
     "data": {
      "application/vnd.jupyter.widget-view+json": {
       "model_id": "98ce5e7e8d7f4e5b80391c29dc1c8a1d",
       "version_major": 2,
       "version_minor": 0
      },
      "text/plain": [
       "Training:   0%|          | 0/1 [00:00<?, ?it/s]"
      ]
     },
     "metadata": {},
     "output_type": "display_data"
    },
    {
     "data": {
      "application/vnd.jupyter.widget-view+json": {
       "model_id": "efc67658a42941e79f1d38713ab40c4d",
       "version_major": 2,
       "version_minor": 0
      },
      "text/plain": [
       "Evaluate:   0%|          | 0/1 [00:00<?, ?it/s]"
      ]
     },
     "metadata": {},
     "output_type": "display_data"
    },
    {
     "data": {
      "application/vnd.jupyter.widget-view+json": {
       "model_id": "aca89c1f6a114c1b9f35f8e4296390a3",
       "version_major": 2,
       "version_minor": 0
      },
      "text/plain": [
       "Training:   0%|          | 0/1 [00:00<?, ?it/s]"
      ]
     },
     "metadata": {},
     "output_type": "display_data"
    },
    {
     "data": {
      "application/vnd.jupyter.widget-view+json": {
       "model_id": "4cfe92afa4b646e493528a2854e37c22",
       "version_major": 2,
       "version_minor": 0
      },
      "text/plain": [
       "Evaluate:   0%|          | 0/1 [00:00<?, ?it/s]"
      ]
     },
     "metadata": {},
     "output_type": "display_data"
    },
    {
     "data": {
      "application/vnd.jupyter.widget-view+json": {
       "model_id": "49719de02a58405689810c3af4d5676a",
       "version_major": 2,
       "version_minor": 0
      },
      "text/plain": [
       "Training:   0%|          | 0/1 [00:00<?, ?it/s]"
      ]
     },
     "metadata": {},
     "output_type": "display_data"
    },
    {
     "data": {
      "application/vnd.jupyter.widget-view+json": {
       "model_id": "45389c22790d42a5a58d5aa9f2d33168",
       "version_major": 2,
       "version_minor": 0
      },
      "text/plain": [
       "Evaluate:   0%|          | 0/1 [00:00<?, ?it/s]"
      ]
     },
     "metadata": {},
     "output_type": "display_data"
    },
    {
     "data": {
      "application/vnd.jupyter.widget-view+json": {
       "model_id": "e40f3bd3de7348debff3666d77415326",
       "version_major": 2,
       "version_minor": 0
      },
      "text/plain": [
       "Training:   0%|          | 0/1 [00:00<?, ?it/s]"
      ]
     },
     "metadata": {},
     "output_type": "display_data"
    },
    {
     "data": {
      "application/vnd.jupyter.widget-view+json": {
       "model_id": "939d77ec4c2f4d10b62384e593842630",
       "version_major": 2,
       "version_minor": 0
      },
      "text/plain": [
       "Evaluate:   0%|          | 0/1 [00:00<?, ?it/s]"
      ]
     },
     "metadata": {},
     "output_type": "display_data"
    },
    {
     "data": {
      "application/vnd.jupyter.widget-view+json": {
       "model_id": "fe17ee4d198946e39700fd7cb0677459",
       "version_major": 2,
       "version_minor": 0
      },
      "text/plain": [
       "Training:   0%|          | 0/1 [00:00<?, ?it/s]"
      ]
     },
     "metadata": {},
     "output_type": "display_data"
    },
    {
     "data": {
      "application/vnd.jupyter.widget-view+json": {
       "model_id": "c08de7e9624f4960a8e225f386d6b298",
       "version_major": 2,
       "version_minor": 0
      },
      "text/plain": [
       "Evaluate:   0%|          | 0/1 [00:00<?, ?it/s]"
      ]
     },
     "metadata": {},
     "output_type": "display_data"
    },
    {
     "data": {
      "application/vnd.jupyter.widget-view+json": {
       "model_id": "7d64614a6f7a47b1b93e427651399580",
       "version_major": 2,
       "version_minor": 0
      },
      "text/plain": [
       "Training:   0%|          | 0/1 [00:00<?, ?it/s]"
      ]
     },
     "metadata": {},
     "output_type": "display_data"
    },
    {
     "data": {
      "application/vnd.jupyter.widget-view+json": {
       "model_id": "24e6e47d01b84e98a8124df49551b698",
       "version_major": 2,
       "version_minor": 0
      },
      "text/plain": [
       "Evaluate:   0%|          | 0/1 [00:00<?, ?it/s]"
      ]
     },
     "metadata": {},
     "output_type": "display_data"
    }
   ],
   "source": [
    "training_manager.fit()"
   ]
  },
  {
   "cell_type": "code",
   "execution_count": 110,
   "metadata": {},
   "outputs": [
    {
     "data": {
      "image/png": "[encoded data removed]",
      "text/plain": [
       "<Figure size 1500x600 with 1 Axes>"
      ]
     },
     "metadata": {},
     "output_type": "display_data"
    }
   ],
   "source": [
    "training_manager.plot_main_metrics()"
   ]
  },
  {
   "cell_type": "code",
   "execution_count": 111,
   "metadata": {},
   "outputs": [
    {
     "name": "stdout",
     "output_type": "stream",
     "text": [
      "Model saved to ..\\data\\project\\custom_gpt2_model.pth\n"
     ]
    }
   ],
   "source": [
    "training_manager.save()"
   ]
  },
  {
   "cell_type": "markdown",
   "metadata": {},
   "source": [
    "# Предикт"
   ]
  },
  {
   "cell_type": "code",
   "execution_count": 112,
   "metadata": {},
   "outputs": [
    {
     "data": {
      "text/html": [
       "<div>\n",
       "<style scoped>\n",
       "    .dataframe tbody tr th:only-of-type {\n",
       "        vertical-align: middle;\n",
       "    }\n",
       "\n",
       "    .dataframe tbody tr th {\n",
       "        vertical-align: top;\n",
       "    }\n",
       "\n",
       "    .dataframe thead th {\n",
       "        text-align: right;\n",
       "    }\n",
       "</style>\n",
       "<table border=\"1\" class=\"dataframe\">\n",
       "  <thead>\n",
       "    <tr style=\"text-align: right;\">\n",
       "      <th></th>\n",
       "      <th>index</th>\n",
       "      <th>type_problem</th>\n",
       "      <th>source</th>\n",
       "      <th>target</th>\n",
       "    </tr>\n",
       "  </thead>\n",
       "  <tbody>\n",
       "    <tr>\n",
       "      <th>0</th>\n",
       "      <td>1</td>\n",
       "      <td>10</td>\n",
       "      <td>Цифровизация услуг в любых сферах, а особенно ...</td>\n",
       "      <td>Здравствуйте! Специалисты ТСК \"Мосэнерго\" пров...</td>\n",
       "    </tr>\n",
       "    <tr>\n",
       "      <th>1</th>\n",
       "      <td>5</td>\n",
       "      <td>10</td>\n",
       "      <td>Цифровизация услуг в любых сферах, а особенно ...</td>\n",
       "      <td>Здравствуйте! 23.01.24 специалисты ТСК \"Мосэне...</td>\n",
       "    </tr>\n",
       "    <tr>\n",
       "      <th>2</th>\n",
       "      <td>0</td>\n",
       "      <td>10</td>\n",
       "      <td>Цифровизация услуг в любых сферах, а особенно ...</td>\n",
       "      <td>Здравствуйте! На трубопроводе центрального ото...</td>\n",
       "    </tr>\n",
       "    <tr>\n",
       "      <th>3</th>\n",
       "      <td>7</td>\n",
       "      <td>7</td>\n",
       "      <td>Ув. Губернатор, почему Ваша команда не дает ко...</td>\n",
       "      <td>[id711165326|Галина], добрый день! В случае, е...</td>\n",
       "    </tr>\n",
       "    <tr>\n",
       "      <th>4</th>\n",
       "      <td>2</td>\n",
       "      <td>10</td>\n",
       "      <td>Цифровизация услуг в любых сферах, а особенно ...</td>\n",
       "      <td>Здравствуйте! Конкретизируйте, пожалуйста, Ваш...</td>\n",
       "    </tr>\n",
       "  </tbody>\n",
       "</table>\n",
       "</div>"
      ],
      "text/plain": [
       "   index  type_problem                                             source  \\\n",
       "0      1            10  Цифровизация услуг в любых сферах, а особенно ...   \n",
       "1      5            10  Цифровизация услуг в любых сферах, а особенно ...   \n",
       "2      0            10  Цифровизация услуг в любых сферах, а особенно ...   \n",
       "3      7             7  Ув. Губернатор, почему Ваша команда не дает ко...   \n",
       "4      2            10  Цифровизация услуг в любых сферах, а особенно ...   \n",
       "\n",
       "                                              target  \n",
       "0  Здравствуйте! Специалисты ТСК \"Мосэнерго\" пров...  \n",
       "1  Здравствуйте! 23.01.24 специалисты ТСК \"Мосэне...  \n",
       "2  Здравствуйте! На трубопроводе центрального ото...  \n",
       "3  [id711165326|Галина], добрый день! В случае, е...  \n",
       "4  Здравствуйте! Конкретизируйте, пожалуйста, Ваш...  "
      ]
     },
     "execution_count": 112,
     "metadata": {},
     "output_type": "execute_result"
    }
   ],
   "source": [
    "testing_train_data: pd.DataFrame = training_manager.train_dataloader.dataset.dataframe\n",
    "testing_train_data = testing_train_data.reset_index()\n",
    "testing_train_data.head()\n"
   ]
  },
  {
   "cell_type": "code",
   "execution_count": 113,
   "metadata": {},
   "outputs": [
    {
     "name": "stdout",
     "output_type": "stream",
     "text": [
      "['Устранение проблемы']\n",
      "Source -  Цифровизация услуг в любых сферах, а особенно в медицине – очень важное направление в развитии региона.\n",
      "\n",
      "Но иногда на проблему надо взглянуть не в электронном виде, не на бумажке, а в живую, пообщавшись с неподставными людьми, а с настоящими жителями.\n",
      "\n",
      "В нашем микрорайоне Левобережный города Химки и в 2023 и уже в 2024 году случаются постоянные аварии с теплоснабжением и с водоснабжением в связи с изношенностью труб и коммуникаций. Аварии «подлатают» для галочки и для фото и все, а проблемы не решена. Кругом гейзеры горячей воды, раскопанные ямы, часто холодные дома. Сейчас без отопления находятся несколько домов микрорайона.\n",
      "\n",
      "И на таких гнилых коммуникациях хотят построить детский сад на территории Гимназии № 16 (сейчас МАОУ «Перспектива», 1 корпус), поставив весь микрорайон под угрозу лишения тепло и водоснабжения весь район.\n",
      "\n",
      "Уважаемый губернатор, услышьте наше обращение! В нашем районе очереди нет, несмотря на отписки в комментариях об очереди в 600 человек.. А вот что есть, так это гнилые трубы, постоянные аварии теплоснабжения.\n",
      "\n",
      "Мы просим оставить детям школьный стадион, вернуть территорию школе и перенести строительство на альтернативные площадки. Мы просим капитальный ремонт коммуникаций теплоснабжения!  Мы просим усовершенствовать спортивное ядро нашей Гимназии и создать максимально отличные условия для спорта для наших детей не на бумаге, а в жизни!\n",
      "Target -  Здравствуйте! Специалисты ТСК \"Мосэнерго\" провели работы по регулировке параметров на центральном тепловом пункте 22.01.24. Подача ГВС и отопления восстановлены. Для заполнения системы может понадобиться время.  \n",
      "Ранее для удобства жителей в Химках запустили горячую линию по вопросам теплоснабжения по номеру: +7 (495) 793-01-01. Также информацию о работе ресурсоснабжающей организации можно получить по номерам горячей линии ТСК \"Мосэнерго\": +7 (495) 276-95-59, +7 (495) 225-14-33.\n",
      "\n",
      "Приносим извинения за доставленные неудобства.\n",
      "\n",
      "С уважением, Администрация г.о. Химки\n"
     ]
    }
   ],
   "source": [
    "type_message = testing_train_data['type_problem'][3]\n",
    "source = testing_train_data['source'][3]\n",
    "target = testing_train_data['target'][3]\n",
    "\n",
    "print(datafarme_encoders.decode('type_problem', type_message))\n",
    "\n",
    "print('Source - ', source)\n",
    "print('Target - ', target)"
   ]
  },
  {
   "cell_type": "code",
   "execution_count": 114,
   "metadata": {},
   "outputs": [
    {
     "name": "stdout",
     "output_type": "stream",
     "text": [
      "argmax - ................................................................\n",
      "sampling - Мос.. ( точныйлева- номера по-)ос--. по)Мос6.\n",
      "14. имело.......-жа Хим активную уважением уважением- 27!-- Хим,..--. Хим-.\n",
      " г.\n",
      "top_k - Мос\n",
      ". поМос...-)-. по.. (.. по..- уважением по (. уважением. (-.Мос). Хим\n",
      " уважением-.- по, по.,..\n",
      "\n",
      "top_p -  уважением..-- добы стай уважениемтизи) адрес. маленькие толстой всювалить,.киерут-ленныеленные созданию. ( антикор) правленияленные слугаалах. секунду г двенадца в33 ресурс- ~.Мос парнюленные подсвеограде поверьтизи воспринима..val6- кожаными все.- адрес балкон\n"
     ]
    }
   ],
   "source": [
    "generated_text_argmax = training_manager.generate_text(source, type_message, max_length=config.max_length, method='argmax')\n",
    "print('argmax -', generated_text_argmax)\n",
    "\n",
    "generated_text_temperature = training_manager.generate_text(source, type_message, max_length=config.max_length, method='sampling', temperature=config.temperature)\n",
    "print('sampling -', generated_text_temperature)\n",
    "\n",
    "generated_text_top_k = training_manager.generate_text(source, type_message, max_length=config.max_length, method='top_k', top_k=config.top_k)\n",
    "print('top_k -', generated_text_top_k)\n",
    "\n",
    "generated_text_top_p = training_manager.generate_text(source, type_message, max_length=config.max_length, method='top_p', top_p=config.top_p)\n",
    "print('top_p -', generated_text_top_p)"
   ]
  },
  {
   "cell_type": "code",
   "execution_count": 115,
   "metadata": {},
   "outputs": [
    {
     "name": "stdout",
     "output_type": "stream",
     "text": [
      "{'overall': 0.007857141745918525, 'bleu': 0, 'rouge': 0.023809520442177348, 'meteor': 0.0}\n",
      "{'overall': 0.01073868682993054, 'bleu': 2.070935045606207e-233, 'rouge': 0.024999997112500335, 'meteor': 0.007541478129713423}\n",
      "{'overall': 0.006804122276161425, 'bleu': 0, 'rouge': 0.020618552352004316, 'meteor': 0.0}\n"
     ]
    },
    {
     "name": "stderr",
     "output_type": "stream",
     "text": [
      "d:\\Projects\\NLP_course\\.venv\\lib\\site-packages\\nltk\\translate\\bleu_score.py:552: UserWarning: \n",
      "The hypothesis contains 0 counts of 2-gram overlaps.\n",
      "Therefore the BLEU score evaluates to 0, independently of\n",
      "how many N-gram overlaps of lower order it contains.\n",
      "Consider using lower n-gram order or use SmoothingFunction()\n",
      "  warnings.warn(_msg)\n",
      "d:\\Projects\\NLP_course\\.venv\\lib\\site-packages\\nltk\\translate\\bleu_score.py:552: UserWarning: \n",
      "The hypothesis contains 0 counts of 3-gram overlaps.\n",
      "Therefore the BLEU score evaluates to 0, independently of\n",
      "how many N-gram overlaps of lower order it contains.\n",
      "Consider using lower n-gram order or use SmoothingFunction()\n",
      "  warnings.warn(_msg)\n",
      "d:\\Projects\\NLP_course\\.venv\\lib\\site-packages\\nltk\\translate\\bleu_score.py:552: UserWarning: \n",
      "The hypothesis contains 0 counts of 4-gram overlaps.\n",
      "Therefore the BLEU score evaluates to 0, independently of\n",
      "how many N-gram overlaps of lower order it contains.\n",
      "Consider using lower n-gram order or use SmoothingFunction()\n",
      "  warnings.warn(_msg)\n"
     ]
    }
   ],
   "source": [
    "# special_metrics = training_manager.trainer.evaluator.evaluate(\n",
    "#     hypotheses=[generated_text_argmax],\n",
    "#     references=[target]\n",
    "# )\n",
    "# print(special_metrics)\n",
    "\n",
    "special_metrics = training_manager.trainer.evaluator.evaluate(\n",
    "    hypotheses=[generated_text_temperature],\n",
    "    references=[target]\n",
    ")\n",
    "print(special_metrics)\n",
    "\n",
    "special_metrics = training_manager.trainer.evaluator.evaluate(\n",
    "    hypotheses=[generated_text_top_k],\n",
    "    references=[target]\n",
    ")\n",
    "print(special_metrics)\n",
    "\n",
    "special_metrics = training_manager.trainer.evaluator.evaluate(\n",
    "    hypotheses=[generated_text_top_p],\n",
    "    references=[target]\n",
    ")\n",
    "print(special_metrics)"
   ]
  }
 ],
 "metadata": {
  "kernelspec": {
   "display_name": ".venv",
   "language": "python",
   "name": "python3"
  },
  "language_info": {
   "codemirror_mode": {
    "name": "ipython",
    "version": 3
   },
   "file_extension": ".py",
   "mimetype": "text/x-python",
   "name": "python",
   "nbconvert_exporter": "python",
   "pygments_lexer": "ipython3",
   "version": "3.10.11"
  }
 },
 "nbformat": 4,
 "nbformat_minor": 2
}
