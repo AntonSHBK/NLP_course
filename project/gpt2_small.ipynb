{
 "cells": [
  {
   "cell_type": "markdown",
   "metadata": {},
   "source": [
    "# Генерация релевантных ответов представителей органов государственной власти"
   ]
  },
  {
   "cell_type": "markdown",
   "metadata": {},
   "source": [
    "## Импорты"
   ]
  },
  {
   "cell_type": "code",
   "execution_count": null,
   "metadata": {},
   "outputs": [],
   "source": [
    "import os\n",
    "from pathlib import Path\n",
    "\n",
    "import pandas as pd\n",
    "import numpy as np\n"
   ]
  },
  {
   "cell_type": "code",
   "execution_count": null,
   "metadata": {},
   "outputs": [],
   "source": [
    "from utils import *\n",
    "from model import Config, CustomGPT2Model\n",
    "from trainer import Trainer, TrainingManager\n",
    "from custom_data import CustomDataset, CategoricalLabelEncoder"
   ]
  },
  {
   "cell_type": "code",
   "execution_count": null,
   "metadata": {},
   "outputs": [],
   "source": [
    "print('IMAGES_PATH ', IMAGES_PATH)\n",
    "print('DATA_PATH ', DATA_PATH)\n",
    "\n",
    "seed_all(42)"
   ]
  },
  {
   "cell_type": "code",
   "execution_count": null,
   "metadata": {},
   "outputs": [],
   "source": [
    "plot_graph()"
   ]
  },
  {
   "cell_type": "markdown",
   "metadata": {},
   "source": [
    "# Загрузка данных"
   ]
  },
  {
   "cell_type": "code",
   "execution_count": null,
   "metadata": {},
   "outputs": [],
   "source": [
    "dataframe = load_data(os.path.join(DATA_PATH, \"data_1.xlsx\"))\n",
    "print(\"Number of rows and columns in the train data set:\", dataframe.shape)"
   ]
  },
  {
   "cell_type": "code",
   "execution_count": null,
   "metadata": {},
   "outputs": [],
   "source": [
    "dataframe.head(5)"
   ]
  },
  {
   "cell_type": "code",
   "execution_count": null,
   "metadata": {},
   "outputs": [],
   "source": [
    "dataframe.info()"
   ]
  },
  {
   "cell_type": "code",
   "execution_count": null,
   "metadata": {},
   "outputs": [],
   "source": [
    "dataframe.describe()"
   ]
  },
  {
   "cell_type": "markdown",
   "metadata": {},
   "source": [
    "## Анализ данных"
   ]
  },
  {
   "cell_type": "code",
   "execution_count": null,
   "metadata": {},
   "outputs": [],
   "source": [
    "plot_hist(dataframe, 'type_problem')"
   ]
  },
  {
   "cell_type": "code",
   "execution_count": null,
   "metadata": {},
   "outputs": [],
   "source": [
    "plot_hist(dataframe, 'categoria')"
   ]
  },
  {
   "cell_type": "markdown",
   "metadata": {},
   "source": [
    "## Препроцессинг"
   ]
  },
  {
   "cell_type": "markdown",
   "metadata": {},
   "source": [
    "## Удаление пропусков"
   ]
  },
  {
   "cell_type": "code",
   "execution_count": null,
   "metadata": {},
   "outputs": [],
   "source": [
    "dataframe = dataframe.dropna(subset=['target', 'source'])\n",
    "dataframe.info()"
   ]
  },
  {
   "cell_type": "markdown",
   "metadata": {},
   "source": [
    "### Кодирование меток"
   ]
  },
  {
   "cell_type": "code",
   "execution_count": null,
   "metadata": {},
   "outputs": [],
   "source": [
    "work_dataframe = dataframe.copy()\n",
    "\n",
    "categorical_columns = ['responsible_person', 'type_problem', 'topic', 'categoria', 'region']\n",
    "datafarme_encoders = CategoricalLabelEncoder(work_dataframe, categorical_columns)\n",
    "\n",
    "datafarme_encoders.get_classes('type_problem')\n",
    "\n",
    "print(datafarme_encoders.decode('type_problem', 10))"
   ]
  },
  {
   "cell_type": "code",
   "execution_count": null,
   "metadata": {},
   "outputs": [],
   "source": [
    "work_dataframe.head(4)"
   ]
  },
  {
   "cell_type": "markdown",
   "metadata": {},
   "source": [
    "# Гиперпараметры"
   ]
  },
  {
   "cell_type": "code",
   "execution_count": null,
   "metadata": {},
   "outputs": [],
   "source": [
    "work_dataframe = work_dataframe[:10]"
   ]
  },
  {
   "cell_type": "code",
   "execution_count": null,
   "metadata": {},
   "outputs": [],
   "source": [
    "config = Config()\n",
    "\n",
    "config.learning_rate = 1e-5\n",
    "config.num_epochs = 10\n",
    "config.max_length = 64\n",
    "config.temperature = 0.9\n",
    "config.batch_size = 16\n",
    "config.test_size = 0.1\n",
    "config.uniq_name = 'custom_gpt2_model'\n",
    "config.special_eval = False"
   ]
  },
  {
   "cell_type": "markdown",
   "metadata": {},
   "source": [
    "# Обучение"
   ]
  },
  {
   "cell_type": "code",
   "execution_count": null,
   "metadata": {},
   "outputs": [],
   "source": [
    "training_manager = TrainingManager(\n",
    "    work_dataframe,\n",
    "    datafarme_encoders,\n",
    "    config,\n",
    "    data_path=DATA_PATH,\n",
    "    imgs_path=IMAGES_PATH\n",
    ")"
   ]
  },
  {
   "cell_type": "code",
   "execution_count": null,
   "metadata": {},
   "outputs": [],
   "source": [
    "training_manager.fit()"
   ]
  },
  {
   "cell_type": "code",
   "execution_count": null,
   "metadata": {},
   "outputs": [],
   "source": [
    "training_manager.plot_main_metrics()"
   ]
  },
  {
   "cell_type": "code",
   "execution_count": null,
   "metadata": {},
   "outputs": [],
   "source": [
    "training_manager.plot_special_metrics()"
   ]
  },
  {
   "cell_type": "code",
   "execution_count": null,
   "metadata": {},
   "outputs": [],
   "source": [
    "# training_manager.save()"
   ]
  },
  {
   "cell_type": "markdown",
   "metadata": {},
   "source": [
    "# Предикт"
   ]
  },
  {
   "cell_type": "code",
   "execution_count": null,
   "metadata": {},
   "outputs": [],
   "source": [
    "testing_train_data: pd.DataFrame = training_manager.train_dataloader.dataset.dataframe\n",
    "testing_train_data = testing_train_data.reset_index()\n",
    "testing_train_data.head()\n"
   ]
  },
  {
   "cell_type": "code",
   "execution_count": null,
   "metadata": {},
   "outputs": [],
   "source": [
    "type_message = testing_train_data['type_problem'][0]\n",
    "source = testing_train_data['source'][0]\n",
    "target = testing_train_data['target'][0]\n",
    "\n",
    "print(datafarme_encoders.decode('type_problem', type_message))\n",
    "\n",
    "print('Source - ', source)\n",
    "print('Target - ', target)"
   ]
  },
  {
   "cell_type": "code",
   "execution_count": null,
   "metadata": {},
   "outputs": [],
   "source": [
    "generated_text_argmax = training_manager.generate_text(source, type_message, max_length=config.max_length, method='argmax')\n",
    "print('argmax -', generated_text_argmax)\n",
    "\n",
    "generated_text_temperature = training_manager.generate_text(source, type_message, max_length=config.max_length, method='sampling', temperature=0.7,)\n",
    "print('sampling -', generated_text_temperature)\n",
    "\n",
    "generated_text_top_k = training_manager.generate_text(source, type_message, max_length=config.max_length, method='top_k', top_k=11)\n",
    "print('top_k -', generated_text_top_k)\n",
    "\n",
    "generated_text_top_p = training_manager.generate_text(source, type_message, max_length=config.max_length, method='top_p', top_p=0.9)\n",
    "print('top_p -', generated_text_top_p)"
   ]
  },
  {
   "cell_type": "code",
   "execution_count": null,
   "metadata": {},
   "outputs": [],
   "source": [
    "special_metrics = training_manager.trainer.evaluator.evaluate(\n",
    "    hypotheses=[generated_text_temperature],\n",
    "    references=[target]\n",
    ")\n",
    "print(special_metrics)"
   ]
  }
 ],
 "metadata": {
  "kernelspec": {
   "display_name": ".venv",
   "language": "python",
   "name": "python3"
  },
  "language_info": {
   "codemirror_mode": {
    "name": "ipython",
    "version": 3
   },
   "file_extension": ".py",
   "mimetype": "text/x-python",
   "name": "python",
   "nbconvert_exporter": "python",
   "pygments_lexer": "ipython3",
   "version": "3.10.11"
  }
 },
 "nbformat": 4,
 "nbformat_minor": 2
}
