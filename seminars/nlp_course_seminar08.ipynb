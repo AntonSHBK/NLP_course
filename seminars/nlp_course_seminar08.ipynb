{
  "cells": [
    {
      "cell_type": "markdown",
      "metadata": {
        "id": "bDv22QyyLAxb"
      },
      "source": [
        "# Statistical Machine Translation"
      ]
    },
    {
      "cell_type": "markdown",
      "metadata": {
        "id": "N8gPif5iLAxv"
      },
      "source": [
        "If you have seen the SMT lecture, you already know what the task of machine translation is and what word alignment is. With the help of this notebook, let's try to figure it all out in practice."
      ]
    },
    {
      "cell_type": "markdown",
      "metadata": {
        "id": "ZAVZSZayLAxz"
      },
      "source": [
        "# IBM MODEL 1"
      ]
    },
    {
      "cell_type": "markdown",
      "metadata": {
        "id": "Lj2r6EB2LAx1"
      },
      "source": [
        "1.We need to calculate $$p(f,a|e,m)=\\frac{p(f,a|e,m)}{\\sum_{a \\in A} p(f,a|e,m)}$$\n",
        "* English pairs consist of: $l=2$ words.  \n",
        "* German pairs: $m=2$  \n",
        "* Alignment $a$ is {${a_{1},..., a_{m}}$}, where each $a_{j} \\in {0,...,l}$\n",
        "<F>\n",
        "\n",
        "2.There are $(l+1)^m$ possible alignments. And in IBM1 all allignments $a$ are equally likely:\n",
        "$$p(a|e,m) = \\frac{1}{(l+1)^m}$$\n",
        "<F>\n",
        "3.To generate a German string $f$ from an English string $e$:  \n",
        "* Step 1: Pick an alignment $a$ with probability: $\\frac{1}{(l+1)^m}$  \n",
        "* Step 2: Pick the German words with probs: $$p(f|a,e,m)={\\prod_{j=1}^{m} t(f_{j}|e_{a_{j}})}$$\n",
        "\n",
        "4.The final result:  $$p(f,a|e,m)=p(a|e,m)\\times{p(f|a,e,m)}=\\frac{1}{(l+1)^m}{\\prod_{j=1}^{m} t(f_{j}|e_{a_{j}})}$$\n"
      ]
    },
    {
      "cell_type": "markdown",
      "metadata": {
        "id": "D_yYkG8CTShB"
      },
      "source": [
        "## Statistical Machine Translation in Python 3 with NLTK"
      ]
    },
    {
      "cell_type": "markdown",
      "metadata": {
        "id": "4tCqHeiOTsGa"
      },
      "source": [
        "Original: https://notebook.community/dcavar/python-tutorial-for-ipython/notebooks/Machine%20Translation%20in%20Python%203%20with%20NLTK"
      ]
    },
    {
      "cell_type": "code",
      "execution_count": null,
      "metadata": {
        "id": "6gwz1YNrTjpu"
      },
      "outputs": [],
      "source": [
        "import nltk\n",
        "from nltk.corpus import comtrans"
      ]
    },
    {
      "cell_type": "markdown",
      "metadata": {
        "id": "EDNp2GvnTosq"
      },
      "source": [
        "We can load a word-level alignment corpus for English and French from the NLTK dataset:"
      ]
    },
    {
      "cell_type": "code",
      "execution_count": null,
      "metadata": {
        "colab": {
          "base_uri": "https://localhost:8080/"
        },
        "id": "mG_zx6j9T1xp",
        "outputId": "3fcd9aa0-7b00-4ba2-b215-97b00fb778ae"
      },
      "outputs": [
        {
          "name": "stderr",
          "output_type": "stream",
          "text": [
            "[nltk_data] Downloading package comtrans to /root/nltk_data...\n",
            "[nltk_data] Downloading package punkt to /root/nltk_data...\n",
            "[nltk_data]   Unzipping tokenizers/punkt.zip.\n"
          ]
        },
        {
          "data": {
            "text/plain": [
              "True"
            ]
          },
          "execution_count": 2,
          "metadata": {},
          "output_type": "execute_result"
        }
      ],
      "source": [
        "nltk.download('comtrans')\n",
        "nltk.download('punkt')"
      ]
    },
    {
      "cell_type": "code",
      "execution_count": null,
      "metadata": {
        "id": "CRR5fqvjTy_X"
      },
      "outputs": [],
      "source": [
        "words = comtrans.words(\"alignment-en-fr.txt\")"
      ]
    },
    {
      "cell_type": "markdown",
      "metadata": {
        "id": "QcRk2SEBT_Zk"
      },
      "source": [
        "Print out the words in the corpus as a list:"
      ]
    },
    {
      "cell_type": "code",
      "execution_count": null,
      "metadata": {
        "colab": {
          "base_uri": "https://localhost:8080/"
        },
        "id": "iclgHzykUBVX",
        "outputId": "26ba8799-821b-4c53-e00f-d1a00c54cb82"
      },
      "outputs": [
        {
          "name": "stdout",
          "output_type": "stream",
          "text": [
            "Resumption\n",
            "of\n",
            "the\n",
            "session\n",
            "I\n",
            "declare\n",
            "resumed\n",
            "the\n",
            "session\n",
            "of\n",
            "the\n",
            "European\n",
            "Parliament\n",
            "adjourned\n",
            "on\n",
            "Friday\n",
            "17\n",
            "December\n",
            "1999\n",
            ",\n",
            "...\n"
          ]
        }
      ],
      "source": [
        "for word in words[:20]:\n",
        "    print(word)\n",
        "print(\"...\")"
      ]
    },
    {
      "cell_type": "code",
      "execution_count": null,
      "metadata": {
        "colab": {
          "base_uri": "https://localhost:8080/",
          "height": 195
        },
        "id": "FhR0URbEUZKX",
        "outputId": "34b5f064-0bdb-4b16-edba-c0ac56ec0f0c"
      },
      "outputs": [
        {
          "data": {
            "image/svg+xml": [
              "<?xml version=\"1.0\" encoding=\"UTF-8\" standalone=\"no\"?>\n",
              "<!DOCTYPE svg PUBLIC \"-//W3C//DTD SVG 1.1//EN\"\n",
              " \"http://www.w3.org/Graphics/SVG/1.1/DTD/svg11.dtd\">\n",
              "<!-- Generated by graphviz version 2.43.0 (0)\n",
              " -->\n",
              "<!-- Title: align Pages: 1 -->\n",
              "<svg width=\"834pt\" height=\"116pt\"\n",
              " viewBox=\"0.00 0.00 833.50 116.00\" xmlns=\"http://www.w3.org/2000/svg\" xmlns:xlink=\"http://www.w3.org/1999/xlink\">\n",
              "<g id=\"graph0\" class=\"graph\" transform=\"scale(1 1) rotate(0) translate(4 112)\">\n",
              "<title>align</title>\n",
              "<polygon fill=\"white\" stroke=\"transparent\" points=\"-4,4 -4,-112 829.5,-112 829.5,4 -4,4\"/>\n",
              "<!-- Madam_source -->\n",
              "<g id=\"node1\" class=\"node\">\n",
              "<title>Madam_source</title>\n",
              "<text text-anchor=\"middle\" x=\"52.5\" y=\"-86.3\" font-family=\"Times,serif\" font-size=\"14.00\">Madam</text>\n",
              "</g>\n",
              "<!-- President_source -->\n",
              "<g id=\"node2\" class=\"node\">\n",
              "<title>President_source</title>\n",
              "<text text-anchor=\"middle\" x=\"153.5\" y=\"-86.3\" font-family=\"Times,serif\" font-size=\"14.00\">President</text>\n",
              "</g>\n",
              "<!-- Madam_source&#45;&#45;President_source -->\n",
              "<!-- Madame_target -->\n",
              "<g id=\"node10\" class=\"node\">\n",
              "<title>Madame_target</title>\n",
              "<text text-anchor=\"middle\" x=\"32.5\" y=\"-14.3\" font-family=\"Times,serif\" font-size=\"14.00\">Madame</text>\n",
              "</g>\n",
              "<!-- Madam_source&#45;&#45;Madame_target -->\n",
              "<g id=\"edge3\" class=\"edge\">\n",
              "<title>Madam_source&#45;&#45;Madame_target</title>\n",
              "<path fill=\"none\" stroke=\"black\" d=\"M47.56,-71.7C44.46,-60.85 40.48,-46.92 37.39,-36.1\"/>\n",
              "</g>\n",
              "<!-- ,_source -->\n",
              "<g id=\"node3\" class=\"node\">\n",
              "<title>,_source</title>\n",
              "<text text-anchor=\"middle\" x=\"274.5\" y=\"-86.3\" font-family=\"Times,serif\" font-size=\"14.00\">,</text>\n",
              "</g>\n",
              "<!-- President_source&#45;&#45;,_source -->\n",
              "<!-- la_target -->\n",
              "<g id=\"node11\" class=\"node\">\n",
              "<title>la_target</title>\n",
              "<text text-anchor=\"middle\" x=\"110.5\" y=\"-14.3\" font-family=\"Times,serif\" font-size=\"14.00\">la</text>\n",
              "</g>\n",
              "<!-- President_source&#45;&#45;la_target -->\n",
              "<g id=\"edge4\" class=\"edge\">\n",
              "<title>President_source&#45;&#45;la_target</title>\n",
              "<path fill=\"none\" stroke=\"black\" d=\"M142.87,-71.7C136.21,-60.85 127.65,-46.92 121.01,-36.1\"/>\n",
              "</g>\n",
              "<!-- Présidente_target -->\n",
              "<g id=\"node12\" class=\"node\">\n",
              "<title>Présidente_target</title>\n",
              "<text text-anchor=\"middle\" x=\"192.5\" y=\"-14.3\" font-family=\"Times,serif\" font-size=\"14.00\">Présidente</text>\n",
              "</g>\n",
              "<!-- President_source&#45;&#45;Présidente_target -->\n",
              "<g id=\"edge1\" class=\"edge\">\n",
              "<title>President_source&#45;&#45;Présidente_target</title>\n",
              "<path fill=\"none\" stroke=\"black\" d=\"M163.14,-71.7C169.19,-60.85 176.95,-46.92 182.97,-36.1\"/>\n",
              "</g>\n",
              "<!-- on_source -->\n",
              "<g id=\"node4\" class=\"node\">\n",
              "<title>on_source</title>\n",
              "<text text-anchor=\"middle\" x=\"346.5\" y=\"-86.3\" font-family=\"Times,serif\" font-size=\"14.00\">on</text>\n",
              "</g>\n",
              "<!-- ,_source&#45;&#45;on_source -->\n",
              "<!-- ,_target -->\n",
              "<g id=\"node13\" class=\"node\">\n",
              "<title>,_target</title>\n",
              "<text text-anchor=\"middle\" x=\"274.5\" y=\"-14.3\" font-family=\"Times,serif\" font-size=\"14.00\">,</text>\n",
              "</g>\n",
              "<!-- ,_source&#45;&#45;,_target -->\n",
              "<g id=\"edge9\" class=\"edge\">\n",
              "<title>,_source&#45;&#45;,_target</title>\n",
              "<path fill=\"none\" stroke=\"black\" d=\"M274.5,-71.7C274.5,-60.85 274.5,-46.92 274.5,-36.1\"/>\n",
              "</g>\n",
              "<!-- a_source -->\n",
              "<g id=\"node5\" class=\"node\">\n",
              "<title>a_source</title>\n",
              "<text text-anchor=\"middle\" x=\"490.5\" y=\"-86.3\" font-family=\"Times,serif\" font-size=\"14.00\">a</text>\n",
              "</g>\n",
              "<!-- on_source&#45;&#45;a_source -->\n",
              "<!-- c&#39;_target -->\n",
              "<g id=\"node14\" class=\"node\">\n",
              "<title>c&#39;_target</title>\n",
              "<text text-anchor=\"middle\" x=\"346.5\" y=\"-14.3\" font-family=\"Times,serif\" font-size=\"14.00\">c&#39;</text>\n",
              "</g>\n",
              "<!-- on_source&#45;&#45;c&#39;_target -->\n",
              "<g id=\"edge2\" class=\"edge\">\n",
              "<title>on_source&#45;&#45;c&#39;_target</title>\n",
              "<path fill=\"none\" stroke=\"black\" d=\"M346.5,-71.7C346.5,-60.85 346.5,-46.92 346.5,-36.1\"/>\n",
              "</g>\n",
              "<!-- point_source -->\n",
              "<g id=\"node6\" class=\"node\">\n",
              "<title>point_source</title>\n",
              "<text text-anchor=\"middle\" x=\"563.5\" y=\"-86.3\" font-family=\"Times,serif\" font-size=\"14.00\">point</text>\n",
              "</g>\n",
              "<!-- a_source&#45;&#45;point_source -->\n",
              "<!-- une_target -->\n",
              "<g id=\"node16\" class=\"node\">\n",
              "<title>une_target</title>\n",
              "<text text-anchor=\"middle\" x=\"490.5\" y=\"-14.3\" font-family=\"Times,serif\" font-size=\"14.00\">une</text>\n",
              "</g>\n",
              "<!-- a_source&#45;&#45;une_target -->\n",
              "<g id=\"edge5\" class=\"edge\">\n",
              "<title>a_source&#45;&#45;une_target</title>\n",
              "<path fill=\"none\" stroke=\"black\" d=\"M490.5,-71.7C490.5,-60.85 490.5,-46.92 490.5,-36.1\"/>\n",
              "</g>\n",
              "<!-- of_source -->\n",
              "<g id=\"node7\" class=\"node\">\n",
              "<title>of_source</title>\n",
              "<text text-anchor=\"middle\" x=\"636.5\" y=\"-86.3\" font-family=\"Times,serif\" font-size=\"14.00\">of</text>\n",
              "</g>\n",
              "<!-- point_source&#45;&#45;of_source -->\n",
              "<!-- motion_target -->\n",
              "<g id=\"node17\" class=\"node\">\n",
              "<title>motion_target</title>\n",
              "<text text-anchor=\"middle\" x=\"563.5\" y=\"-14.3\" font-family=\"Times,serif\" font-size=\"14.00\">motion</text>\n",
              "</g>\n",
              "<!-- point_source&#45;&#45;motion_target -->\n",
              "<g id=\"edge8\" class=\"edge\">\n",
              "<title>point_source&#45;&#45;motion_target</title>\n",
              "<path fill=\"none\" stroke=\"black\" d=\"M563.5,-71.7C563.5,-60.85 563.5,-46.92 563.5,-36.1\"/>\n",
              "</g>\n",
              "<!-- order_source -->\n",
              "<g id=\"node8\" class=\"node\">\n",
              "<title>order_source</title>\n",
              "<text text-anchor=\"middle\" x=\"717.5\" y=\"-86.3\" font-family=\"Times,serif\" font-size=\"14.00\">order</text>\n",
              "</g>\n",
              "<!-- of_source&#45;&#45;order_source -->\n",
              "<!-- de_target -->\n",
              "<g id=\"node18\" class=\"node\">\n",
              "<title>de_target</title>\n",
              "<text text-anchor=\"middle\" x=\"636.5\" y=\"-14.3\" font-family=\"Times,serif\" font-size=\"14.00\">de</text>\n",
              "</g>\n",
              "<!-- of_source&#45;&#45;de_target -->\n",
              "<g id=\"edge6\" class=\"edge\">\n",
              "<title>of_source&#45;&#45;de_target</title>\n",
              "<path fill=\"none\" stroke=\"black\" d=\"M636.5,-71.7C636.5,-60.85 636.5,-46.92 636.5,-36.1\"/>\n",
              "</g>\n",
              "<!-- ._source -->\n",
              "<g id=\"node9\" class=\"node\">\n",
              "<title>._source</title>\n",
              "<text text-anchor=\"middle\" x=\"793.5\" y=\"-86.3\" font-family=\"Times,serif\" font-size=\"14.00\">.</text>\n",
              "</g>\n",
              "<!-- order_source&#45;&#45;._source -->\n",
              "<!-- procédure_target -->\n",
              "<g id=\"node19\" class=\"node\">\n",
              "<title>procédure_target</title>\n",
              "<text text-anchor=\"middle\" x=\"717.5\" y=\"-14.3\" font-family=\"Times,serif\" font-size=\"14.00\">procédure</text>\n",
              "</g>\n",
              "<!-- order_source&#45;&#45;procédure_target -->\n",
              "<g id=\"edge10\" class=\"edge\">\n",
              "<title>order_source&#45;&#45;procédure_target</title>\n",
              "<path fill=\"none\" stroke=\"black\" d=\"M717.5,-71.7C717.5,-60.85 717.5,-46.92 717.5,-36.1\"/>\n",
              "</g>\n",
              "<!-- ._target -->\n",
              "<g id=\"node20\" class=\"node\">\n",
              "<title>._target</title>\n",
              "<text text-anchor=\"middle\" x=\"798.5\" y=\"-14.3\" font-family=\"Times,serif\" font-size=\"14.00\">.</text>\n",
              "</g>\n",
              "<!-- ._source&#45;&#45;._target -->\n",
              "<g id=\"edge7\" class=\"edge\">\n",
              "<title>._source&#45;&#45;._target</title>\n",
              "<path fill=\"none\" stroke=\"black\" d=\"M794.74,-71.7C795.51,-60.85 796.51,-46.92 797.28,-36.1\"/>\n",
              "</g>\n",
              "<!-- Madame_target&#45;&#45;la_target -->\n",
              "<!-- la_target&#45;&#45;Présidente_target -->\n",
              "<!-- Présidente_target&#45;&#45;,_target -->\n",
              "<!-- ,_target&#45;&#45;c&#39;_target -->\n",
              "<!-- est_target -->\n",
              "<g id=\"node15\" class=\"node\">\n",
              "<title>est_target</title>\n",
              "<text text-anchor=\"middle\" x=\"418.5\" y=\"-14.3\" font-family=\"Times,serif\" font-size=\"14.00\">est</text>\n",
              "</g>\n",
              "<!-- c&#39;_target&#45;&#45;est_target -->\n",
              "<!-- est_target&#45;&#45;une_target -->\n",
              "<!-- une_target&#45;&#45;motion_target -->\n",
              "<!-- motion_target&#45;&#45;de_target -->\n",
              "<!-- de_target&#45;&#45;procédure_target -->\n",
              "<!-- procédure_target&#45;&#45;._target -->\n",
              "</g>\n",
              "</svg>\n"
            ],
            "text/plain": [
              "AlignedSent(['Madam', 'President', ',', 'on', 'a', 'point', 'of', 'order', '.'], ['Madame', 'la', 'Présidente', ',', 'c'', 'est', 'une', 'motion', 'de', 'procédure', '.'], Alignment([(0, 0), (1, 1), (1, 2), (2, 3), (3, 4), (4, 6), (5, 7), (6, 8), (7, 9), (8, 10)]))"
            ]
          },
          "execution_count": 5,
          "metadata": {},
          "output_type": "execute_result"
        }
      ],
      "source": [
        "als = comtrans.aligned_sents(\"alignment-en-fr.txt\")[10]\n",
        "als"
      ]
    },
    {
      "cell_type": "markdown",
      "metadata": {
        "id": "Tc1YvuRbUn_2"
      },
      "source": [
        "The alignments can be accessed via the alignment property:"
      ]
    },
    {
      "cell_type": "code",
      "execution_count": null,
      "metadata": {
        "colab": {
          "base_uri": "https://localhost:8080/"
        },
        "id": "CSWqQZQXUqbZ",
        "outputId": "86b5cce4-3ae9-4483-b66a-5b9d56899833"
      },
      "outputs": [
        {
          "data": {
            "text/plain": [
              "Alignment([(0, 0), (1, 1), (1, 2), (2, 3), (3, 4), (4, 6), (5, 7), (6, 8), (7, 9), (8, 10)])"
            ]
          },
          "execution_count": 6,
          "metadata": {},
          "output_type": "execute_result"
        }
      ],
      "source": [
        "als.alignment"
      ]
    },
    {
      "cell_type": "markdown",
      "metadata": {
        "id": "s9P24xQ7UuWd"
      },
      "source": [
        "We can display the alignment using the invert function:"
      ]
    },
    {
      "cell_type": "code",
      "execution_count": null,
      "metadata": {
        "colab": {
          "base_uri": "https://localhost:8080/",
          "height": 195
        },
        "id": "hXpUCpEoVOjr",
        "outputId": "03df9a0f-e322-4826-c131-29d7d3230eca"
      },
      "outputs": [
        {
          "data": {
            "image/svg+xml": [
              "<?xml version=\"1.0\" encoding=\"UTF-8\" standalone=\"no\"?>\n",
              "<!DOCTYPE svg PUBLIC \"-//W3C//DTD SVG 1.1//EN\"\n",
              " \"http://www.w3.org/Graphics/SVG/1.1/DTD/svg11.dtd\">\n",
              "<!-- Generated by graphviz version 2.43.0 (0)\n",
              " -->\n",
              "<!-- Title: align Pages: 1 -->\n",
              "<svg width=\"834pt\" height=\"116pt\"\n",
              " viewBox=\"0.00 0.00 833.50 116.00\" xmlns=\"http://www.w3.org/2000/svg\" xmlns:xlink=\"http://www.w3.org/1999/xlink\">\n",
              "<g id=\"graph0\" class=\"graph\" transform=\"scale(1 1) rotate(0) translate(4 112)\">\n",
              "<title>align</title>\n",
              "<polygon fill=\"white\" stroke=\"transparent\" points=\"-4,4 -4,-112 829.5,-112 829.5,4 -4,4\"/>\n",
              "<!-- Madame_source -->\n",
              "<g id=\"node1\" class=\"node\">\n",
              "<title>Madame_source</title>\n",
              "<text text-anchor=\"middle\" x=\"32.5\" y=\"-86.3\" font-family=\"Times,serif\" font-size=\"14.00\">Madame</text>\n",
              "</g>\n",
              "<!-- la_source -->\n",
              "<g id=\"node2\" class=\"node\">\n",
              "<title>la_source</title>\n",
              "<text text-anchor=\"middle\" x=\"110.5\" y=\"-86.3\" font-family=\"Times,serif\" font-size=\"14.00\">la</text>\n",
              "</g>\n",
              "<!-- Madame_source&#45;&#45;la_source -->\n",
              "<!-- Madam_target -->\n",
              "<g id=\"node12\" class=\"node\">\n",
              "<title>Madam_target</title>\n",
              "<text text-anchor=\"middle\" x=\"52.5\" y=\"-14.3\" font-family=\"Times,serif\" font-size=\"14.00\">Madam</text>\n",
              "</g>\n",
              "<!-- Madame_source&#45;&#45;Madam_target -->\n",
              "<g id=\"edge3\" class=\"edge\">\n",
              "<title>Madame_source&#45;&#45;Madam_target</title>\n",
              "<path fill=\"none\" stroke=\"black\" d=\"M37.44,-71.7C40.54,-60.85 44.52,-46.92 47.61,-36.1\"/>\n",
              "</g>\n",
              "<!-- Présidente_source -->\n",
              "<g id=\"node3\" class=\"node\">\n",
              "<title>Présidente_source</title>\n",
              "<text text-anchor=\"middle\" x=\"192.5\" y=\"-86.3\" font-family=\"Times,serif\" font-size=\"14.00\">Présidente</text>\n",
              "</g>\n",
              "<!-- la_source&#45;&#45;Présidente_source -->\n",
              "<!-- President_target -->\n",
              "<g id=\"node13\" class=\"node\">\n",
              "<title>President_target</title>\n",
              "<text text-anchor=\"middle\" x=\"153.5\" y=\"-14.3\" font-family=\"Times,serif\" font-size=\"14.00\">President</text>\n",
              "</g>\n",
              "<!-- la_source&#45;&#45;President_target -->\n",
              "<g id=\"edge5\" class=\"edge\">\n",
              "<title>la_source&#45;&#45;President_target</title>\n",
              "<path fill=\"none\" stroke=\"black\" d=\"M121.13,-71.7C127.79,-60.85 136.35,-46.92 142.99,-36.1\"/>\n",
              "</g>\n",
              "<!-- ,_source -->\n",
              "<g id=\"node4\" class=\"node\">\n",
              "<title>,_source</title>\n",
              "<text text-anchor=\"middle\" x=\"274.5\" y=\"-86.3\" font-family=\"Times,serif\" font-size=\"14.00\">,</text>\n",
              "</g>\n",
              "<!-- Présidente_source&#45;&#45;,_source -->\n",
              "<!-- Présidente_source&#45;&#45;President_target -->\n",
              "<g id=\"edge1\" class=\"edge\">\n",
              "<title>Présidente_source&#45;&#45;President_target</title>\n",
              "<path fill=\"none\" stroke=\"black\" d=\"M182.86,-71.7C176.81,-60.85 169.05,-46.92 163.03,-36.1\"/>\n",
              "</g>\n",
              "<!-- c&#39;_source -->\n",
              "<g id=\"node5\" class=\"node\">\n",
              "<title>c&#39;_source</title>\n",
              "<text text-anchor=\"middle\" x=\"346.5\" y=\"-86.3\" font-family=\"Times,serif\" font-size=\"14.00\">c&#39;</text>\n",
              "</g>\n",
              "<!-- ,_source&#45;&#45;c&#39;_source -->\n",
              "<!-- ,_target -->\n",
              "<g id=\"node14\" class=\"node\">\n",
              "<title>,_target</title>\n",
              "<text text-anchor=\"middle\" x=\"274.5\" y=\"-14.3\" font-family=\"Times,serif\" font-size=\"14.00\">,</text>\n",
              "</g>\n",
              "<!-- ,_source&#45;&#45;,_target -->\n",
              "<g id=\"edge7\" class=\"edge\">\n",
              "<title>,_source&#45;&#45;,_target</title>\n",
              "<path fill=\"none\" stroke=\"black\" d=\"M274.5,-71.7C274.5,-60.85 274.5,-46.92 274.5,-36.1\"/>\n",
              "</g>\n",
              "<!-- est_source -->\n",
              "<g id=\"node6\" class=\"node\">\n",
              "<title>est_source</title>\n",
              "<text text-anchor=\"middle\" x=\"418.5\" y=\"-86.3\" font-family=\"Times,serif\" font-size=\"14.00\">est</text>\n",
              "</g>\n",
              "<!-- c&#39;_source&#45;&#45;est_source -->\n",
              "<!-- on_target -->\n",
              "<g id=\"node15\" class=\"node\">\n",
              "<title>on_target</title>\n",
              "<text text-anchor=\"middle\" x=\"346.5\" y=\"-14.3\" font-family=\"Times,serif\" font-size=\"14.00\">on</text>\n",
              "</g>\n",
              "<!-- c&#39;_source&#45;&#45;on_target -->\n",
              "<g id=\"edge4\" class=\"edge\">\n",
              "<title>c&#39;_source&#45;&#45;on_target</title>\n",
              "<path fill=\"none\" stroke=\"black\" d=\"M346.5,-71.7C346.5,-60.85 346.5,-46.92 346.5,-36.1\"/>\n",
              "</g>\n",
              "<!-- une_source -->\n",
              "<g id=\"node7\" class=\"node\">\n",
              "<title>une_source</title>\n",
              "<text text-anchor=\"middle\" x=\"490.5\" y=\"-86.3\" font-family=\"Times,serif\" font-size=\"14.00\">une</text>\n",
              "</g>\n",
              "<!-- est_source&#45;&#45;une_source -->\n",
              "<!-- motion_source -->\n",
              "<g id=\"node8\" class=\"node\">\n",
              "<title>motion_source</title>\n",
              "<text text-anchor=\"middle\" x=\"563.5\" y=\"-86.3\" font-family=\"Times,serif\" font-size=\"14.00\">motion</text>\n",
              "</g>\n",
              "<!-- une_source&#45;&#45;motion_source -->\n",
              "<!-- a_target -->\n",
              "<g id=\"node16\" class=\"node\">\n",
              "<title>a_target</title>\n",
              "<text text-anchor=\"middle\" x=\"490.5\" y=\"-14.3\" font-family=\"Times,serif\" font-size=\"14.00\">a</text>\n",
              "</g>\n",
              "<!-- une_source&#45;&#45;a_target -->\n",
              "<g id=\"edge6\" class=\"edge\">\n",
              "<title>une_source&#45;&#45;a_target</title>\n",
              "<path fill=\"none\" stroke=\"black\" d=\"M490.5,-71.7C490.5,-60.85 490.5,-46.92 490.5,-36.1\"/>\n",
              "</g>\n",
              "<!-- de_source -->\n",
              "<g id=\"node9\" class=\"node\">\n",
              "<title>de_source</title>\n",
              "<text text-anchor=\"middle\" x=\"636.5\" y=\"-86.3\" font-family=\"Times,serif\" font-size=\"14.00\">de</text>\n",
              "</g>\n",
              "<!-- motion_source&#45;&#45;de_source -->\n",
              "<!-- point_target -->\n",
              "<g id=\"node17\" class=\"node\">\n",
              "<title>point_target</title>\n",
              "<text text-anchor=\"middle\" x=\"563.5\" y=\"-14.3\" font-family=\"Times,serif\" font-size=\"14.00\">point</text>\n",
              "</g>\n",
              "<!-- motion_source&#45;&#45;point_target -->\n",
              "<g id=\"edge9\" class=\"edge\">\n",
              "<title>motion_source&#45;&#45;point_target</title>\n",
              "<path fill=\"none\" stroke=\"black\" d=\"M563.5,-71.7C563.5,-60.85 563.5,-46.92 563.5,-36.1\"/>\n",
              "</g>\n",
              "<!-- procédure_source -->\n",
              "<g id=\"node10\" class=\"node\">\n",
              "<title>procédure_source</title>\n",
              "<text text-anchor=\"middle\" x=\"717.5\" y=\"-86.3\" font-family=\"Times,serif\" font-size=\"14.00\">procédure</text>\n",
              "</g>\n",
              "<!-- de_source&#45;&#45;procédure_source -->\n",
              "<!-- of_target -->\n",
              "<g id=\"node18\" class=\"node\">\n",
              "<title>of_target</title>\n",
              "<text text-anchor=\"middle\" x=\"636.5\" y=\"-14.3\" font-family=\"Times,serif\" font-size=\"14.00\">of</text>\n",
              "</g>\n",
              "<!-- de_source&#45;&#45;of_target -->\n",
              "<g id=\"edge8\" class=\"edge\">\n",
              "<title>de_source&#45;&#45;of_target</title>\n",
              "<path fill=\"none\" stroke=\"black\" d=\"M636.5,-71.7C636.5,-60.85 636.5,-46.92 636.5,-36.1\"/>\n",
              "</g>\n",
              "<!-- ._source -->\n",
              "<g id=\"node11\" class=\"node\">\n",
              "<title>._source</title>\n",
              "<text text-anchor=\"middle\" x=\"798.5\" y=\"-86.3\" font-family=\"Times,serif\" font-size=\"14.00\">.</text>\n",
              "</g>\n",
              "<!-- procédure_source&#45;&#45;._source -->\n",
              "<!-- order_target -->\n",
              "<g id=\"node19\" class=\"node\">\n",
              "<title>order_target</title>\n",
              "<text text-anchor=\"middle\" x=\"717.5\" y=\"-14.3\" font-family=\"Times,serif\" font-size=\"14.00\">order</text>\n",
              "</g>\n",
              "<!-- procédure_source&#45;&#45;order_target -->\n",
              "<g id=\"edge10\" class=\"edge\">\n",
              "<title>procédure_source&#45;&#45;order_target</title>\n",
              "<path fill=\"none\" stroke=\"black\" d=\"M717.5,-71.7C717.5,-60.85 717.5,-46.92 717.5,-36.1\"/>\n",
              "</g>\n",
              "<!-- ._target -->\n",
              "<g id=\"node20\" class=\"node\">\n",
              "<title>._target</title>\n",
              "<text text-anchor=\"middle\" x=\"793.5\" y=\"-14.3\" font-family=\"Times,serif\" font-size=\"14.00\">.</text>\n",
              "</g>\n",
              "<!-- ._source&#45;&#45;._target -->\n",
              "<g id=\"edge2\" class=\"edge\">\n",
              "<title>._source&#45;&#45;._target</title>\n",
              "<path fill=\"none\" stroke=\"black\" d=\"M797.26,-71.7C796.49,-60.85 795.49,-46.92 794.72,-36.1\"/>\n",
              "</g>\n",
              "<!-- Madam_target&#45;&#45;President_target -->\n",
              "<!-- President_target&#45;&#45;,_target -->\n",
              "<!-- ,_target&#45;&#45;on_target -->\n",
              "<!-- on_target&#45;&#45;a_target -->\n",
              "<!-- a_target&#45;&#45;point_target -->\n",
              "<!-- point_target&#45;&#45;of_target -->\n",
              "<!-- of_target&#45;&#45;order_target -->\n",
              "<!-- order_target&#45;&#45;._target -->\n",
              "</g>\n",
              "</svg>\n"
            ],
            "text/plain": [
              "AlignedSent(['Madame', 'la', 'Présidente', ',', 'c'', 'est', 'une', 'motion', 'de', 'procédure', '.'], ['Madam', 'President', ',', 'on', 'a', 'point', 'of', 'order', '.'], Alignment([(0, 0), (1, 1), (2, 1), (3, 2), (4, 3), (6, 4), (7, 5), (8, 6), (9, 7), (10, 8)]))"
            ]
          },
          "execution_count": 7,
          "metadata": {},
          "output_type": "execute_result"
        }
      ],
      "source": [
        "als.invert()"
      ]
    },
    {
      "cell_type": "markdown",
      "metadata": {
        "id": "4gZP1ZyGVl8G"
      },
      "source": [
        "We can also create alignments directly using the NLTK translate module. We import the translation modules from NLTK:"
      ]
    },
    {
      "cell_type": "code",
      "execution_count": null,
      "metadata": {
        "id": "zhmDsHZ9VSQq"
      },
      "outputs": [],
      "source": [
        "from nltk.translate import Alignment, AlignedSent"
      ]
    },
    {
      "cell_type": "markdown",
      "metadata": {
        "id": "JdyA_foFVppe"
      },
      "source": [
        "We can create an alignment example:"
      ]
    },
    {
      "cell_type": "code",
      "execution_count": null,
      "metadata": {
        "id": "_EG_2y8tVVWC"
      },
      "outputs": [],
      "source": [
        "als = AlignedSent( [\"Reprise\", \"de\", \"la\", \"session\" ], \\\n",
        "    [\"Resumption\", \"of\", \"the\", \"session\" ] , \\\n",
        "    Alignment( [ (0 , 0), (1 , 1), (2 , 2), (3 , 3) ] ) )"
      ]
    },
    {
      "cell_type": "markdown",
      "metadata": {
        "id": "afaiNc7jVs65"
      },
      "source": [
        "## Translating with IBM Model 1 in NLTK"
      ]
    },
    {
      "cell_type": "markdown",
      "metadata": {
        "id": "I8CAS1lqVvwI"
      },
      "source": [
        "We already imported comtrans from NLTK in the code above. We have to import IBMModel1 from nltk.translate:"
      ]
    },
    {
      "cell_type": "code",
      "execution_count": null,
      "metadata": {
        "id": "eB3BPvWUVxrh"
      },
      "outputs": [],
      "source": [
        "from nltk.translate import IBMModel1\n",
        "import numpy as np\n",
        "import nltk"
      ]
    },
    {
      "cell_type": "markdown",
      "metadata": {
        "id": "BPZxSFeZV0eE"
      },
      "source": [
        "We can create an IBMModel1 using 20 iterations to run the learning algorithm using the first 10 sentences from the aligned corpus; see the EM explanation on the slides and the following publications:\n",
        "\n",
        "\n",
        "\n",
        "*   Philipp Koehn. 2010. Statistical Machine Translation. Cambridge University Press, New York.\n",
        "*   Peter E Brown, Stephen A. Della Pietra, Vincent J. Della Pietra, and Robert L. Mercer. 1993. The Mathematics of Statistical Machine Translation: Parameter Estimation. Computational Linguistics, 19 (2), 263-311.\n",
        "\n"
      ]
    },
    {
      "cell_type": "code",
      "execution_count": null,
      "metadata": {
        "colab": {
          "base_uri": "https://localhost:8080/",
          "height": 175
        },
        "id": "V38FL0XqiLhN",
        "outputId": "6f60deda-e11b-45df-9544-3251820cb34c"
      },
      "outputs": [
        {
          "data": {
            "image/svg+xml": [
              "<?xml version=\"1.0\" encoding=\"UTF-8\" standalone=\"no\"?>\n",
              "<!DOCTYPE svg PUBLIC \"-//W3C//DTD SVG 1.1//EN\"\n",
              " \"http://www.w3.org/Graphics/SVG/1.1/DTD/svg11.dtd\">\n",
              "<!-- Generated by graphviz version 2.43.0 (0)\n",
              " -->\n",
              "<!-- Title: align Pages: 1 -->\n",
              "<svg width=\"329pt\" height=\"116pt\"\n",
              " viewBox=\"0.00 0.00 328.50 116.00\" xmlns=\"http://www.w3.org/2000/svg\" xmlns:xlink=\"http://www.w3.org/1999/xlink\">\n",
              "<g id=\"graph0\" class=\"graph\" transform=\"scale(1 1) rotate(0) translate(4 112)\">\n",
              "<title>align</title>\n",
              "<polygon fill=\"white\" stroke=\"transparent\" points=\"-4,4 -4,-112 324.5,-112 324.5,4 -4,4\"/>\n",
              "<!-- Wiederaufnahme_source -->\n",
              "<g id=\"node1\" class=\"node\">\n",
              "<title>Wiederaufnahme_source</title>\n",
              "<text text-anchor=\"middle\" x=\"58.5\" y=\"-86.3\" font-family=\"Times,serif\" font-size=\"14.00\">Wiederaufnahme</text>\n",
              "</g>\n",
              "<!-- der_source -->\n",
              "<g id=\"node2\" class=\"node\">\n",
              "<title>der_source</title>\n",
              "<text text-anchor=\"middle\" x=\"167.5\" y=\"-86.3\" font-family=\"Times,serif\" font-size=\"14.00\">der</text>\n",
              "</g>\n",
              "<!-- Wiederaufnahme_source&#45;&#45;der_source -->\n",
              "<!-- Resumption_target -->\n",
              "<g id=\"node4\" class=\"node\">\n",
              "<title>Resumption_target</title>\n",
              "<text text-anchor=\"middle\" x=\"41.5\" y=\"-14.3\" font-family=\"Times,serif\" font-size=\"14.00\">Resumption</text>\n",
              "</g>\n",
              "<!-- Wiederaufnahme_source&#45;&#45;Resumption_target -->\n",
              "<g id=\"edge4\" class=\"edge\">\n",
              "<title>Wiederaufnahme_source&#45;&#45;Resumption_target</title>\n",
              "<path fill=\"none\" stroke=\"black\" d=\"M54.3,-71.7C51.66,-60.85 48.28,-46.92 45.65,-36.1\"/>\n",
              "</g>\n",
              "<!-- Sitzungsperiode_source -->\n",
              "<g id=\"node3\" class=\"node\">\n",
              "<title>Sitzungsperiode_source</title>\n",
              "<text text-anchor=\"middle\" x=\"268.5\" y=\"-86.3\" font-family=\"Times,serif\" font-size=\"14.00\">Sitzungsperiode</text>\n",
              "</g>\n",
              "<!-- der_source&#45;&#45;Sitzungsperiode_source -->\n",
              "<!-- of_target -->\n",
              "<g id=\"node5\" class=\"node\">\n",
              "<title>of_target</title>\n",
              "<text text-anchor=\"middle\" x=\"128.5\" y=\"-14.3\" font-family=\"Times,serif\" font-size=\"14.00\">of</text>\n",
              "</g>\n",
              "<!-- der_source&#45;&#45;of_target -->\n",
              "<g id=\"edge2\" class=\"edge\">\n",
              "<title>der_source&#45;&#45;of_target</title>\n",
              "<path fill=\"none\" stroke=\"black\" d=\"M157.86,-71.7C151.81,-60.85 144.05,-46.92 138.03,-36.1\"/>\n",
              "</g>\n",
              "<!-- the_target -->\n",
              "<g id=\"node6\" class=\"node\">\n",
              "<title>the_target</title>\n",
              "<text text-anchor=\"middle\" x=\"200.5\" y=\"-14.3\" font-family=\"Times,serif\" font-size=\"14.00\">the</text>\n",
              "</g>\n",
              "<!-- der_source&#45;&#45;the_target -->\n",
              "<g id=\"edge3\" class=\"edge\">\n",
              "<title>der_source&#45;&#45;the_target</title>\n",
              "<path fill=\"none\" stroke=\"black\" d=\"M175.66,-71.7C180.77,-60.85 187.34,-46.92 192.44,-36.1\"/>\n",
              "</g>\n",
              "<!-- session_target -->\n",
              "<g id=\"node7\" class=\"node\">\n",
              "<title>session_target</title>\n",
              "<text text-anchor=\"middle\" x=\"273.5\" y=\"-14.3\" font-family=\"Times,serif\" font-size=\"14.00\">session</text>\n",
              "</g>\n",
              "<!-- Sitzungsperiode_source&#45;&#45;session_target -->\n",
              "<g id=\"edge1\" class=\"edge\">\n",
              "<title>Sitzungsperiode_source&#45;&#45;session_target</title>\n",
              "<path fill=\"none\" stroke=\"black\" d=\"M269.74,-71.7C270.51,-60.85 271.51,-46.92 272.28,-36.1\"/>\n",
              "</g>\n",
              "<!-- Resumption_target&#45;&#45;of_target -->\n",
              "<!-- of_target&#45;&#45;the_target -->\n",
              "<!-- the_target&#45;&#45;session_target -->\n",
              "</g>\n",
              "</svg>\n"
            ],
            "text/plain": [
              "AlignedSent(['Wiederaufnahme', 'der', 'Sitzungsperiode'], ['Resumption', 'of', 'the', 'session'], Alignment([(0, 0), (1, 1), (1, 2), (2, 3)]))"
            ]
          },
          "execution_count": 11,
          "metadata": {},
          "output_type": "execute_result"
        }
      ],
      "source": [
        "comtrans.aligned_sents()[0]"
      ]
    },
    {
      "cell_type": "code",
      "execution_count": null,
      "metadata": {
        "id": "RfcOJi8_V8uX"
      },
      "outputs": [],
      "source": [
        "com_ibm1 = IBMModel1(comtrans.aligned_sents()[:100], 20)"
      ]
    },
    {
      "cell_type": "code",
      "execution_count": null,
      "metadata": {
        "colab": {
          "base_uri": "https://localhost:8080/"
        },
        "id": "NTqp7n-HToRu",
        "outputId": "cdce7d5f-bac0-4cc9-c50f-a82bb21d3a19"
      },
      "outputs": [
        {
          "data": {
            "text/plain": [
              "defaultdict(<function nltk.translate.ibm1.IBMModel1.set_uniform_probabilities.<locals>.<lambda>()>,\n",
              "            {None: 1e-12,\n",
              "             'Please': 0.23411716753470124,\n",
              "             'rise': 0.23411716753470124,\n",
              "             ',': 2.013585441185218e-06,\n",
              "             'then': 0.04787841160207327,\n",
              "             'for': 3.1761546037985005e-10,\n",
              "             'this': 4.347173180406405e-08,\n",
              "             'minute': 0.00018442026758979944,\n",
              "             \"'\": 1.4423826907387919e-08,\n",
              "             's': 2.570357725939981e-07,\n",
              "             'silence': 0.00018442026758979944,\n",
              "             '.': 1.426827150712763e-12,\n",
              "             'I': 7.37602607664982e-11,\n",
              "             'would': 0.05406503202758656,\n",
              "             'ask': 0.48521709688115267,\n",
              "             'that': 2.308247189554263e-11,\n",
              "             'they': 9.088937186752897e-05,\n",
              "             'reconsider': 0.00041728526710854333,\n",
              "             'since': 2.21126362285639e-06,\n",
              "             'is': 1.0092731231569363e-10,\n",
              "             'not': 1e-12,\n",
              "             'the': 1e-12,\n",
              "             'case': 2.8677730351563437e-08,\n",
              "             'like': 1.2300828849930803e-07,\n",
              "             'Mr': 6.313273151814353e-10,\n",
              "             'Barón': 8.189522416678571e-05,\n",
              "             'Crespo': 8.189522416678571e-05,\n",
              "             'who': 0.0052134998604785555,\n",
              "             'made': 0.1249076089034189,\n",
              "             'request': 0.04127901869305077,\n",
              "             'to': 2.0905104891569424e-09,\n",
              "             'speak': 0.070772563690242,\n",
              "             'propose': 0.0008037152848856499,\n",
              "             'it': 1.4308632162954456e-10,\n",
              "             'That': 0.0008617018377005225,\n",
              "             'if': 2.2097507740294883e-08,\n",
              "             'he': 0.004823393790032812,\n",
              "             'so': 0.007971127417754437,\n",
              "             'wishes': 0.070772563690242,\n",
              "             'of': 1e-12,\n",
              "             'course': 0.07606385102616384,\n",
              "             'Therefore': 0.010496667174636064,\n",
              "             'Madam': 1e-12,\n",
              "             'President': 1e-12,\n",
              "             'you': 1e-12,\n",
              "             'Commission': 1e-12,\n",
              "             'express': 0.010496667174636064,\n",
              "             'its': 9.444519195038919e-10,\n",
              "             'opinion': 0.0060309905348469115,\n",
              "             'on': 1e-12,\n",
              "             'issue': 1.807389082507464e-06,\n",
              "             'and': 1e-12,\n",
              "             'we': 1e-12,\n",
              "             'proceed': 0.010496667174636064,\n",
              "             'vote': 2.1119452354440586e-11})"
            ]
          },
          "execution_count": 13,
          "metadata": {},
          "output_type": "execute_result"
        }
      ],
      "source": [
        "com_ibm1.translation_table[\"bitte\"]"
      ]
    },
    {
      "cell_type": "code",
      "execution_count": null,
      "metadata": {
        "colab": {
          "base_uri": "https://localhost:8080/"
        },
        "id": "DJL6KBPTV-x4",
        "outputId": "68f11fa7-6116-41fc-c5ee-edc1bfed31f7"
      },
      "outputs": [
        {
          "name": "stdout",
          "output_type": "stream",
          "text": [
            "0.234\n"
          ]
        }
      ],
      "source": [
        "print(round(com_ibm1.translation_table[\"bitte\"][\"Please\"], 3) )"
      ]
    },
    {
      "cell_type": "code",
      "execution_count": null,
      "metadata": {
        "colab": {
          "base_uri": "https://localhost:8080/"
        },
        "id": "gKKEPdD_WA3S",
        "outputId": "7281a41c-3281-4ad3-e347-4451966c99a6"
      },
      "outputs": [
        {
          "name": "stdout",
          "output_type": "stream",
          "text": [
            "0.997\n"
          ]
        }
      ],
      "source": [
        "print(round(com_ibm1.translation_table[\"Sitzungsperiode\"][\"session\"] , 3) )"
      ]
    },
    {
      "cell_type": "code",
      "execution_count": null,
      "metadata": {
        "id": "NdwfE2_j6-s_"
      },
      "outputs": [],
      "source": [
        "def translate(model, input_sentence):\n",
        "  words = nltk.word_tokenize(input_sentence)\n",
        "  result = []\n",
        "  for word in words:\n",
        "    translation_table = com_ibm1.translation_table[word]\n",
        "    result.append(max(translation_table, key=translation_table.get))\n",
        "  return \" \".join(result)\n"
      ]
    },
    {
      "cell_type": "code",
      "execution_count": null,
      "metadata": {
        "colab": {
          "base_uri": "https://localhost:8080/",
          "height": 35
        },
        "id": "9IrOP8pchNYU",
        "outputId": "1caeb257-b757-443b-f0a0-851a30f3b6ad"
      },
      "outputs": [
        {
          "data": {
            "application/vnd.google.colaboratory.intrinsic+json": {
              "type": "string"
            },
            "text/plain": [
              "'Resumption of session'"
            ]
          },
          "execution_count": 17,
          "metadata": {},
          "output_type": "execute_result"
        }
      ],
      "source": [
        "translate(com_ibm1, \"Wiederaufnahme der Sitzungsperiode\")"
      ]
    },
    {
      "cell_type": "markdown",
      "metadata": {
        "id": "eBxh6dgyUKkm"
      },
      "source": [
        "## Machine Translation with Recurrent Neural Networks\n",
        "\n"
      ]
    },
    {
      "cell_type": "markdown",
      "metadata": {
        "id": "QJE5xKzVbT2C"
      },
      "source": [
        "Source: HSE University"
      ]
    },
    {
      "cell_type": "markdown",
      "metadata": {
        "id": "mqDE6AiEUkRm"
      },
      "source": [
        "Let us consider a sequence-to-sequence model for translation the dates in different format.\n",
        "\n",
        "Train an Encoder-Decoder model based on RNN.\n",
        "\n",
        "Configure GPU hardware accelerator (Runtime -> Change Runtime -> GPU)\n",
        "\n",
        "Install the necessary libraries.\n",
        "\n"
      ]
    },
    {
      "cell_type": "code",
      "execution_count": null,
      "metadata": {
        "id": "prTwLDAcVqhK"
      },
      "outputs": [],
      "source": [
        "%matplotlib inline"
      ]
    },
    {
      "cell_type": "code",
      "execution_count": null,
      "metadata": {
        "id": "akKnQhiMVqhV"
      },
      "outputs": [],
      "source": [
        "from io import open\n",
        "import unicodedata\n",
        "import string\n",
        "import re\n",
        "import random\n",
        "\n",
        "import torch\n",
        "import torch.nn as nn\n",
        "from torch import optim\n",
        "import torch.nn.functional as F"
      ]
    },
    {
      "cell_type": "code",
      "execution_count": null,
      "metadata": {
        "colab": {
          "base_uri": "https://localhost:8080/"
        },
        "id": "UU6gPCeaVqhX",
        "outputId": "2f8a0539-823b-44e2-a794-20d6f1087db5"
      },
      "outputs": [
        {
          "name": "stdout",
          "output_type": "stream",
          "text": [
            "cuda\n"
          ]
        }
      ],
      "source": [
        "device = torch.device(\"cuda\" if torch.cuda.is_available() else \"cpu\")\n",
        "print(device)"
      ]
    },
    {
      "cell_type": "markdown",
      "metadata": {
        "id": "WVQcqR3gVqhZ"
      },
      "source": [
        "### 1. Generate a dataset"
      ]
    },
    {
      "cell_type": "code",
      "execution_count": null,
      "metadata": {
        "id": "-wcfDHHhTj_n"
      },
      "outputs": [],
      "source": [
        "import datetime\n",
        "from random import randrange\n",
        "from datetime import timedelta"
      ]
    },
    {
      "cell_type": "code",
      "execution_count": null,
      "metadata": {
        "id": "-NlFW6Q8Vqha"
      },
      "outputs": [],
      "source": [
        "def get_random_date(start, end):\n",
        "    delta = end - start\n",
        "    int_delta = (delta.days * 24 * 60 * 60) + delta.seconds\n",
        "    random_second = randrange(int_delta)\n",
        "    return (start + timedelta(seconds=random_second)).replace(hour=0, minute = 0, second=0)\n",
        "\n",
        "\n",
        "FORMATS = ['%d %b %Y', '%d %B %Y', '%B %dth, %Y', '%b %d, %Y',\n",
        "           '%d/%m/%Y', '%d/%m/%y', '%d-%b-%y', '%d.%m.%Y']\n",
        "\n",
        "TARGET_FORMAT = '%d-%m-%Y'\n",
        "\n",
        "def get_dataset(fst_dt, snd_dt, fmt_dt):\n",
        "    fst_d = datetime.datetime.strptime(fst_dt, fmt_dt)\n",
        "    snd_d = datetime.datetime.strptime(snd_dt, fmt_dt)\n",
        "    dataset = []\n",
        "    for i in range(10000):\n",
        "        date_format = random.choice(FORMATS)\n",
        "        rand_dt = get_random_date(fst_d, snd_d)\n",
        "        t = (datetime.datetime.strftime(rand_dt, date_format),\n",
        "            datetime.datetime.strftime(rand_dt, TARGET_FORMAT))\n",
        "        dataset.append(t)\n",
        "    return dataset\n",
        "\n",
        "dataset = get_dataset('1/1/2017', '1/1/2019', '%m/%d/%Y')"
      ]
    },
    {
      "cell_type": "code",
      "execution_count": null,
      "metadata": {
        "colab": {
          "base_uri": "https://localhost:8080/"
        },
        "id": "XvcBDa-7Vqhc",
        "outputId": "303703ba-a457-4f61-e490-f6a331b12806"
      },
      "outputs": [
        {
          "data": {
            "text/plain": [
              "[('October 12th, 2018', '12-10-2018'),\n",
              " ('May 20, 2018', '20-05-2018'),\n",
              " ('22 September 2017', '22-09-2017'),\n",
              " ('28 March 2018', '28-03-2018'),\n",
              " ('11 Jun 2018', '11-06-2018'),\n",
              " ('19 January 2018', '19-01-2018'),\n",
              " ('27 Apr 2017', '27-04-2017'),\n",
              " ('18.09.2017', '18-09-2017'),\n",
              " ('March 24th, 2018', '24-03-2018'),\n",
              " ('04/09/18', '04-09-2018')]"
            ]
          },
          "execution_count": 23,
          "metadata": {},
          "output_type": "execute_result"
        }
      ],
      "source": [
        "dataset[:10]"
      ]
    },
    {
      "cell_type": "markdown",
      "metadata": {
        "id": "1WkshY7UVqhe"
      },
      "source": [
        "### 2. Create a helper class for word2index, index2word"
      ]
    },
    {
      "cell_type": "code",
      "execution_count": null,
      "metadata": {
        "id": "TGvNJBurVqhf"
      },
      "outputs": [],
      "source": [
        "# the longest string length + EOS token\n",
        "MAX_LENGTH = max(map(lambda x: len(x[0]), dataset)) + 1"
      ]
    },
    {
      "cell_type": "code",
      "execution_count": null,
      "metadata": {
        "colab": {
          "base_uri": "https://localhost:8080/"
        },
        "id": "aiBU8Eagp65J",
        "outputId": "05761342-9b7d-4345-905e-059cdf8d8846"
      },
      "outputs": [
        {
          "data": {
            "text/plain": [
              "21"
            ]
          },
          "execution_count": 25,
          "metadata": {},
          "output_type": "execute_result"
        }
      ],
      "source": [
        "MAX_LENGTH"
      ]
    },
    {
      "cell_type": "code",
      "execution_count": null,
      "metadata": {
        "id": "NWC8oCvPVqhg"
      },
      "outputs": [],
      "source": [
        "SOS_token = 0  # start of sentence\n",
        "EOS_token = 1  # end of sentence\n",
        "\n",
        "# in our case token is a symbol\n",
        "class Lang:\n",
        "    def __init__(self, name):\n",
        "        self.name = name\n",
        "        self.word2index = {}\n",
        "        self.index2word = {0: \"SOS\", 1: \"EOS\"}\n",
        "        self.n_words = 2  # SOS and EOS\n",
        "\n",
        "    def addSentence(self, sentence):\n",
        "        for word in list(sentence):\n",
        "            self.addWord(word)\n",
        "\n",
        "    def addWord(self, word): # update token dict\n",
        "        if word not in self.word2index:\n",
        "            self.word2index[word] = self.n_words\n",
        "            self.index2word[self.n_words] = word\n",
        "            self.n_words += 1"
      ]
    },
    {
      "cell_type": "code",
      "execution_count": null,
      "metadata": {
        "colab": {
          "base_uri": "https://localhost:8080/"
        },
        "id": "FeLIOTDiVqhi",
        "outputId": "a769b517-b725-45c4-8a43-21b4736d6938"
      },
      "outputs": [
        {
          "name": "stdout",
          "output_type": "stream",
          "text": [
            "human 43\n",
            "iso 13\n",
            "('09.03.2017', '09-03-2017')\n"
          ]
        }
      ],
      "source": [
        "def readLangs(lang1, lang2):\n",
        "    input_lang = Lang(lang1) # source dates\n",
        "    output_lang = Lang(lang2) # target dates\n",
        "    return input_lang, output_lang\n",
        "\n",
        "\n",
        "def prepareData(lang1, lang2, pairs):\n",
        "    input_lang, output_lang = readLangs(lang1, lang2)\n",
        "    for pair in pairs:\n",
        "        input_lang.addSentence(pair[0])\n",
        "        output_lang.addSentence(pair[1])\n",
        "    print(input_lang.name, input_lang.n_words)\n",
        "    print(output_lang.name, output_lang.n_words)\n",
        "    return input_lang, output_lang, pairs\n",
        "\n",
        "\n",
        "input_lang, output_lang, pairs = prepareData('human', 'iso', dataset)\n",
        "print(random.choice(pairs))"
      ]
    },
    {
      "cell_type": "code",
      "execution_count": null,
      "metadata": {
        "colab": {
          "base_uri": "https://localhost:8080/"
        },
        "id": "W4lkiluVrEux",
        "outputId": "edb8da73-8c48-4a65-f9b9-af2e32bf9fc3"
      },
      "outputs": [
        {
          "data": {
            "text/plain": [
              "{'O': 2,\n",
              " 'c': 3,\n",
              " 't': 4,\n",
              " 'o': 5,\n",
              " 'b': 6,\n",
              " 'e': 7,\n",
              " 'r': 8,\n",
              " ' ': 9,\n",
              " '1': 10,\n",
              " '2': 11,\n",
              " 'h': 12,\n",
              " ',': 13,\n",
              " '0': 14,\n",
              " '8': 15,\n",
              " 'M': 16,\n",
              " 'a': 17,\n",
              " 'y': 18,\n",
              " 'S': 19,\n",
              " 'p': 20,\n",
              " 'm': 21,\n",
              " '7': 22,\n",
              " 'J': 23,\n",
              " 'u': 24,\n",
              " 'n': 25,\n",
              " '9': 26,\n",
              " 'A': 27,\n",
              " '.': 28,\n",
              " '4': 29,\n",
              " '/': 30,\n",
              " 'D': 31,\n",
              " '6': 32,\n",
              " 'i': 33,\n",
              " 'l': 34,\n",
              " '-': 35,\n",
              " 'N': 36,\n",
              " 'v': 37,\n",
              " '5': 38,\n",
              " '3': 39,\n",
              " 'F': 40,\n",
              " 'g': 41,\n",
              " 's': 42}"
            ]
          },
          "execution_count": 28,
          "metadata": {},
          "output_type": "execute_result"
        }
      ],
      "source": [
        "input_lang.word2index"
      ]
    },
    {
      "cell_type": "markdown",
      "metadata": {
        "id": "lBPwvB_dVqhk"
      },
      "source": [
        "### 3. The Seq2Seq Model\n",
        "\n",
        "Source code: https://pytorch.org/tutorials/intermediate/seq2seq_translation_tutorial.html\n",
        "- A model consists of two RNNs: an encoder and a decoder. Encoder reads the sentence and outputs a vector (encoded sentence), decoder reads this vector and generates the sentence; We are going to use [GRU cells](https://paperswithcode.com/method/gru)\n",
        "- add EOS token to the end of the original sentence (its vector representation, getting after applying encoder - and there is a vector, which we will give in decoder);\n",
        "- SOS token is fed to the input of decoder as the first character, and EOS token embedding from encoder is fed as the initial hidden state."
      ]
    },
    {
      "cell_type": "markdown",
      "metadata": {
        "id": "Z1Ix9meOitZb"
      },
      "source": [
        "![seq2seq.png](data:image/png;base64,iVBORw0KGgoAAAANSUhEUgAAAf4AAADmCAYAAAA0nednAAAABGdBTUEAALGPC/xhBQAAQABJREFUeAHtnQeYFMUWhYccJIOAgooRBQMqKipKEBPoM/NEkbAEQfAZQVHJZjA9E0qOKuaEARX0gREDBgQEBBQQJEjO8P7T270O48zOTE/Y2eXe7ztT1VV1K5zuqltV3dMdCJgYA8aAMWAMGAPGgDFgDBgDxoAxYAwYA8aAMWAMGAPGgDFgDBgDxoAxYAwYA8aAMWAMGAPGgDFgDBgDxoAxYAwYA8aAMWAMGAPGgDFgDBgDxoAxYAwYA8aAMWAMGAPGgDFgDBgDxoAxYAwYA8aAMWAMGAPGgDFgDBgDxoAxYAwYA8aAMWAMGAPGgDFgDBgDxoAxYAwYA8aAMWAMGAPGgDFgDBgDxoAxYAwYA8aAMWAMGAPGgDFgDBgDxoAxYAwYA8aAMWAMGAPGgDFgDBgDxoAxYAwYA8aAMWAMGAPGgDFgDBgDxoAxYAwYA8aAMWAMGAPGgDFgDBgDxoAxYAwYA8aAMWAMGAPGgDFgDBgDxoAxYAwYA8aAMWAMGAPGgDFgDBgDURgoFCU+WdGtyehU8BKYkqxMQ/JJRxkhReabw4epaQlwB1ib6bUePXp0jSJFiqxv3br1utzqOnHixFIbNmzYb+fOnRs7duz4Z6FChXbllt7ijAFjwBgwBgKBZBr+7RC6DewD5oFDQXWwHIwA7cFN4FGQCklWGadRuePA06moZFCe6SpHRf4JygCdk6UgkuR2DiPpRAwfOnTo7oiRRJQoUeKgNm3aLFaaUaNGHbp9+3ZdG42B6hrAkKuuw/bff/97mzdvvlVhkhEjRjTdtWvXfbt37z45O8T5XcPvI506dRoYFGZeY8AYMAaMgRAGioYcJ3Ko1ZkMv8RbqWX86jK7unv8PsLR/iDVhj9d5ahx++onBknoHLICL7927dpLWa2vzsrKet0rDwM+Cqzyjj2XlbpznYwcObLBjh07tBNUknR/4I4CB2LYz8fts2TJkhaTJk06XcaftIeTdhLpioPB4AfS1CTtf8CA4cOHz+rQocPLw4YN6074onr16r1bv359TWhMUshAPLsvpC2+bt26/Tg3S6OdG85jpaJFi1YsXbr0ypYtW+bFeJKfdxLrcMq7gQXgIZ+nP5Y8YkkTb/GpyDPeOhTY9Mk0/OqUnuGXXyu0Lbkwpw51MzgC/AaGA12ckVaJ2qruDy4FVcBkMAHkGBj8kh1A6doCGREZ8NHAk554zgX1wHTwIhgLagHleRhQHnPBnUDxobIPAfeAC4GMqoxPD/ApkCj+FtAYnAh+Ah+CvuBAEEs555DuCfAWeBfcDTQhGQMGg9VAonOossTnIWAZUP6qu5fmO/ylwRlAOzCadLQAt4Ebgc7BfiDecxjAEJdk9d0Co3sVRl95FsOgd8XNEeIeZCv+55yAIM+MGTOKfffdd2NJU5LgRzHat2DMdymJBn3Cv8V7Isa/D+6dlKVbRiUI/4rVvTh3BIP/Pnq1if9FAcTr/D5O3qvZeXgJ/3PU4RMvb6UxSZwBb/eFc5+z+8J5WwPn/9h9IfxizsvdpK1NyUW//fbbHYTNwn8H5+ZtrzakKUT4bZyrG/BXZycogI6uh1kcd+O8T/XS+nA1ZrQCulbVH24H1wP1NUkWWAg+ApKmoD3QdaXJaSbJaVTmOBBpkVKTOLXnc+DX8B+E7nVAY1ukPGJJg3pcEkue28lRNkfj7TxwKPB2mfGaRGIgmYb/PgrZ6RakC/GNSIUS3gbIGKvTy/hfBAYB6csohROl/zeYDdRJ24HLQH0gw+bJNXi0VSzDfTY4BagT/wYU9wD4DPQGKnsM0MXzIfgAyPBvBi+CX0E4eZ7AC8BEMBXIAMnVgCYdtUXGbzx4DjQGd4H1YASIpZxipDscnAPUzumgLugFVgLdt5cMAR3AMvAYOB90AQ2AuNkJ1CHESREgqQiUtzhQBxMfkvuA0ktyPYcY2nMYhFth5C/FLccgvahw4cLafh/FIL4oO4vs32LFihUmvFBwmPzo7P7xxx+PIE6cB9gpGBtsmMlnNYP9G8R3J1x8azKja0a69YkbjvsCh58xYZiBKziCceiIUXqKiUAH0lxFHp1Jv4R6P089x7Vv3z74mvHUzI3CgHZcOOetOKfD4bZ0LLsvypKJwD2cgzvc7L/GVZ88mzBN0N7i3PTlfA9QPH71S12Lizh3t+EuByeT9jqOnx8zZsyxJUuW/Itdg4EcT+DczyQ+VtHkVrLOhfxeWC38Q8FjQPXLdNFYuT9QXw0n7xNYKlxEAQnTOdTYLZFf4p3L7CP7DctAMg2/OownMoi5iYyXpCfQTF9GdgXQyjWc4a9N+L/BbqAV319AhvBa0BAED+LFOT4G7AIysGcBGQ11jmWgE/gfmAPKg3tBMyADImMqo6mLR0YmnChv5acLrTXYDraC4eB6cDOQgZa8CyYAGftnwWKwEsRSjuovUV5HAtW3M3gGXAiUhwxmFpCcAn4DqrfK0IB6EXgFhIqX9z5EHAy8ThPTOdS2Liuw99DbysD7Gu5wBt8P8Xv5EvS3sGL7kcH874Bs30s4V2BE1DYZ8qXcHvgmO+rvX8LfZMDvDmoDDgvNwHjfib83yBII24lh+QZX9RiK69TDze8bjNUtGKnLSNsB3EyZZ1PCcX+XYr7cGIDv/eFN/e8qDH19+F0HhyMJO5WwqLsv8K9bOberDLbtz2TSpf7nCHmfz7mZxEEfzuHbTNi+xt/YiWSCz2RgsOsfTdqPKXPb1q1bC2H4Fdwe3Z5cW9oJmMDE8TnO+QI3fSTHu9bVxz0jofGkK+gDCoP24AJwAvBkB57+oC34A2g8GQ080Vigvn8EUD/UePAQ0JgVTkoQqPwuBVXAZKCx4nXgicbHc4H6ssY7jZNjQS2g9Or/qtdcoH6v+GA5kwN1vG+Bzp/kWKAxsAmoDpTvKPAqyE3Upy4HvcAhYAroANaAcHIOge1BI6BxV/kPARqbPLkEj/KrDb4Hb4LHwWYQKkUIUNu1mBkAxgGdP8/wy78VbAEmURgoGiU+FdHFyPRwN+NBuPe6fl1YNUA5sM4N85yjXc88XHVSyXsunIOgn3fwKy/Jl+AsoAtLMgOok2kQqgVUnqR8thPT71FuKrVD+Um8WXXd7EOnA6vT6UJ9FEwH6pSfgnhFbZ7jKqk9Eq89x+EvBBaB34BEA81noAUQb+EMP8GOfMhvKNduVEzOcgbcH0qVKvWzZ2zDaRGnyZ06ZrA4bSFugwLJRwPYP4SBvaoCSbcCOIMoxv1eBnsNImeDxkBcn0QeJxF+Av5rQY5gaLZgVH5gpf8DaTRwmERhYNy4ceW2bNnSEr5acQ4ak7ww/H8Ch22rVq360oUXXrgJQzxL2RCe6+4LRv886YP5wUZfuhjqdzlnyyhnP/I5n6CvcWXIL8Dfi7gilDm5TJkyM7nHP1E6nnCbqMbMmTP/RVrt6vRnMnI36b/g2JsE/OmlDXJlXHQtqr/8D8hgyuisB+pn1YEM6QdgO/DkGjxlgOJ03Z0CPgLKpw0YDcTHzeAiMAjsBI+AcKL0MsazwROgHbgM6Pr8Dqi8B4D6cm+gfMcAGboPgeonwy8jqbHlVxAq+xBwOPB4KIL/fVAR9APrQGcwAZwAfgaR5FAiVJ9XwQHgEqC6XAlCpRoB3rm6C38zMBBoAnM5kKitL4EN4Gmgdit/cdwHhMpjBLQCT4BxbuR9uDtdv/J4w/WbE4WBolHiUxEtQyVI1AlXOr6/fzRAhIozvSfQO8mh8cHHK4IONgX51dZpoC4YC8aD04A6RjyiziPRBMS7AJ0Afpa7nmdw54OrQUPwLxfnu2E4MUuk9iiDYm4uW0NyU4eUeHXNPvrn79x/BkUPueKKK7YywN7KYNuOQfZuDER/jnWPfXjZsmXfZID2yncyI00PVnJhBxWMigY+SU2MTU3+wvd79mH2L3legL4O9pg06TYAYS+40FZye/wjVKcpU6Z0a9KkyQ5WmhUwOhosOoATyUcZTcWQPIVrkgsDrKp1P34oSZbB14NgBEb7l2AVJmAx7b5wTo4U9bhvBevLT9huzt0kvNqNOVJhrNzvw4gfy7EmDPfjv59t/fWk+4h6PEC5MoYB98HAl/G+rGuH67Adfl0Hj3FdaQFxNwgVjQGCRH34B8eXPXl+H38jMB3c6YZ7TnE8x4BdQEb3LHABkMHpBSQ9QbJ2MJeRVyfwPzAHlAf3gmZA1/3DoAvQJCa0rgSFlcqEVgNLgQyzxqjXQE3gjV14w8p+hNYA0n0dfAJkvDW5CBXV9UagPN8B74KLwNnAE8+4K91woPM1GqguJUCw3MJBN6B23xAUMTTI7000goLMG4mBcEY2UtpkhcsoLHYz07beIBc6cRqQ1RlDRRe+5AigGaHkdPAq6AdikcNJJKOv8tuBYWALkITyUDw7OOzvL25oJdzHgeqveo8HzwFJBbAQaBBSuceBjeAKUBR4kls5Xprc3J/cSPFSJSihuJF48dlHSfplsN6FIX8I43sMA7FW2kNAAwbbl7gFoPvoWg3EJOSxiIQfg8KbN2/+L0/v53R6JhOHuYO/8tKgrPu/j2MAluKK9xyhTl5bdzH5KESa3hj9pSTQualEPfthUA6hvKasMl/KUTRPNAbmcg5+INFv4RJihO8lvAbQym8IUF91rgnOkYyiZGO2s8cK2g1yjH9VHXAOHePDBOMvztP53BY4iuAbCH+ROmzFfxHudM5tsAGRaqBGjRp/cI61ozPLCUj+jwyYjL7ky2zH2Xkrhl99XKJrciaYCpRWvMighcrRbsA8XG+8ew//pUArWskMsAHcDqYAjSWS8tmOr98VaH0I9gcqW+eqL5CsznYi/i4kRv1J8i1Q+zSWyVCHivJeCDSJ+gCMBhKPiyL4dW4laqdkHdC4kQV0rj3RmO31dfVl7xx48eb6YCDYCPlQ962ii3swGAA00NcGd4LnwFUgVHRxTAMNgbZzRoGbgQyqOkUssoBEa0BF0Auo7d4AonzqAA1umhhoILoB6KL1DApeR1SXz0EDMB6MBd1BU3A5eB28C04AN4GfgfIuBX4BO8AfIFo5JIkqGpDFx7/AJKCBtyVQ/VXvV0FKRas+CpiBwb5l6dKlqofuu+p8BssjGIF1wQHyM1APxwhrwOsKPgOXkIeeB/gEf3lwDijLwP8IhmAEfsl0IL5vwQDUI06Tx2oM+N65fEUrQfKoS9iLxI1E92PS7cZvEiMDPLw3ddu2beqnejByPKvuv+B0Av4R7n34nJzgV0bjBRf/2H1ZsGDBbPSU/lT9BAu7MiWZoJ2lMM7Rp8FxTABmcyw4E0L+2fEc+VxCug6ETVZa9I9EP2v+/PltiKtG0Aauq5GkeUXxSRQZTU82eR7cQi4U9CZYKU+QFA7ye96SrmenFxDiamzSeCejp/FF48xp4HCQqDQng07gfKA85e8INHblxllwm1Vvrz+Fa19/4u8C34JRQGOdyvJE7RMkkTjIjqX/43kNaFKghdaJQGOoSQIMeOQnkIUv1cfQ0sAuwzgGrAIy+roAI8kVRMiwtQBNwJ/gNvBfEItoFqnJhTAQfAUaAdXlMvAkUL5PgevAw+AWEGr4CXJW7kNxLwKXgjngZuB1nKvwq64qpyLQTPl5cC+QrAexlOMkjvLThviHgMocDtTJXgcyjttBWsR9wc6LFKbVWWGMQ3C557oDf3CY7ut/TMB7ug3A2/rq8hDgI4Q1IywLbAZfMoi/weRC58IRjMzzGHwNOr1AMze9jIauocHVqlXrq4ToXEWYszoIqYuiTaIw4L5Y6Xoe5LyFtyP+i8lce1SuBdcxAZgJ7+fC7124l+GO57z08LLk+CfCdejsvnAOX0S/H2Gnc+7acz5Gemkx2sq3NNhEmmnjx4+vyM7PuxwfgV4LJobOZEDXF+XOd/Pdrb+B8nfAqeifRnkE79ZfNW8rXrz4S9R9o5e/T7dYHHrqb4tBLfA1mAgkBwFNAsLVReOF5AhQBmwAp4NbwUygSVRdoLzbAV3HJwBJqKEtnh0c028hUlUFL4Engcb/G8Eg0BJ44xfef8iRhGjMXgvqgSJA9fLajjdHLnF9Gv9eBU1yYrLrr7F4ITgYyJD/CNSOcUATgW7Ak8/xaIx9G2jSonH2QWCSAAO6EPJSVL5m6cuBM1LEUBl1ykquTgzJ/5FEZeoC9rbYlKAsUAd1DIV7LKO5BeQmJYiUrjp4JFFHWxEhUrqxlBNBfY9gDQjVgcrK1zNi/q5VtU6dOmuivdxFq0W276vyhPfaPHq5yx4noKAfjB07dj/u/V9DO9uxI3AxE7UTMLjPuYZX/+qQ4fN2X2pwPIEJwdXiBaOt/+Q/Kj/yMXHaBZAxaQQ2cx4vwMh/pEjSvkzcpaRZzeFk/PPxH43/PPzFmRBcyu2cd7nv/zNhozkeje4C/IlKazIYC5SXVqwyNqpze3CT68dx4mTUHgM3Ai0QBgMZ9HtAbXAneA5oQh5O/kdgQzAFjAIyaMeBG8AzYBmoCFQPGWjV7TAwD1wEfgMad2QwVYcPwE8gWLSqnwQ+BaeDOmAGUB6q/1qg86m87wa9Qai0IOAtsAl8B0YBlae8XgUyyqHljCKsLVDZmkxoQlMe7AdagtdAVyD+lgBxdgqQznTQEITmqbZrgqCJgSZFC4GJTwby2vD7rLapGQPGQF4ygAHWU/67WMH/G7cXx8d59eF4Ff6R2n3R0/9eOO9VaKYH9TiWES9Buj9wp6P7BLsAU/E7ouc82NaXYZLBraJA0u7GkWG7j8nEBIWhR3BSb+HIOE0F9YAm/TJuMobRDL8Mcx9wEygD1P73QUeQ0378waJJ+hAgwyr9P8Fg8CCQyDBq8rA/+ApcAmQoLwMfgybgEXAdkL4mH4+CYAk1norTRESTjGOB9L4Hk8FdQCvxULmcgBeBjLgmDSpnH6CVuOqyFISWI/7UNhlzTWC6AXH7BCgJaoI/wW0uyuGKb5UhztaA0DwJciYId+AqXQsFmPhjoJA/NdMyBowBY+BvBuLZfeH2QZGNGzfuyz18Gf5chXwrsBtQrkqVKsuDv9eQq1LikZXJQsZnV5xZaTytBpYDTVRikWIkqgSkEyrKTwbzr6AI7RL62Z0MysLxluC3FAjOOzRNuGPVV3XQbkw0UbuC06lMtUlGPliqc7AS7AgONL8xYAwYA8aAMWAMGAPGgDFgDBgDxoAxYAwYA8aAMWAMGAPGgDFgDBgDxoAxYAwYA8aAMWAMGAPGgDFgDBgDxoAxYAwYA8aAMWAMGAPGgDFgDBgDxoAxYAwYA8aAMWAMGAPGgDFgDBgDxoAxYAwYA8aAMWAMGAN7IwN6ic2TQegVLwl6PbDeDhhJT+/059XOeoNcKqUimevtdomIuMhNihOpl/SkUtQGvSQnEREXyea7KnkGXyd6K59JGhiI2LHSULZXRMKDBBnpHdC5tSUdHdhrTyJutHbozVepHiQSGoj0GlV9G523s+mtYGFFgzavb903bGTkQBskInOTaTHqb3qVbBZoCk4GMQnv6b8LLNyyZYs+vbyWTzzvYQw4bkL4F5s2bVrJ1wPX4n+Ha81vn+hOpfSGPeGUoAq2xf8J0NvkVoAJoAGIVdSPZdB+BXo74UIwBOhVtZ7otbbPAb26VuVMAdeCeESG+H6wDagNp4JgkcFXPdaBZWA26AzikSYk/gKojmvBOyAc33oj31SgeiwGsUhpEun6OBfoevk3MEkDA4XTUEa0InwPEmSs90svBEuBLso9BgmO24JUduAzyV8Xeij0IYl4JFo7NOi8CNT5hKkg3g4cbZBIeCBiUO4B1vJ1td/4gMp6BuW3ZOSpqyPENSTsJwbt1byzfQX++YSFDlZe8lDXBolQRjL/+AeqeBS4JJaqcj1cw8RxIFjJh3d68h7+X/hi3z1MEltJXxNKjicSX5tDfe1vPDhv7dq1I2PJPyTN4Rw/AGQ0g6UOB8PBEUDfC3gbqHwZvDIgFhlBIhkyvQdf77P/BlwLFC7RuKs6XwmeB6rHcUCTg4tBLKJ6/gw6gc0RFB4hXPWYAzTGqP6aCNQHsYgmKhOBwzfueHAeCMf3DYTH2pdJ6shCfnV9aHJhkkYGMsHwe82Na5BA6RqgjilD2BP8Au4BziCBq46R6g7sGbUZlHVTEG7GH6tEa0dpMtLgoAFhKBgMTgTPgAtALCIuchskEh6IGLQ7Mig/SDnrGbD7MiC/A1pg5J9TBRm8D+D4bXAk8U8DDUrV0PmAD71UU5oospB4GySikJTPo53JbNGiRbvzWeVBvKNfxiTANdJNLl8G1ASiCtfOcD7qM7B8+fJZ+JcSdpEmBUoToxQh3RigFfC0EJ0jOfYMdz/8bcBfoALQZCEWOcxNNAj3FaBrXeKF18L/GbgfaEIgo/wykMS6O1KLtK8B5fkbCBX1KU0KFoETgMbGU8AhQBORWMThm4QaRzXWZgGHb9xgvsXZfeAxYJIPGNCAn1/FGSSofHegDuYMErjOIIGbjg5ckXIkX4BHgxBPB4jWjgPJdzS4HmhC0Qu8BSSxDkS1SJvbIKH4RAcirWwkg/l62gAG5YsZlP/i+FyMfh1W+M0w+uUI+4L464Da8gIozequC67JXs4A18fBoqB48eJz5O7YsWOuXMI1cdUEQEZL4oTzKeadxM3nuDC3Bmo7MbH9aKGgyXN7UChERYZafVKu5DRQAWhnwKkXbjR53k3QEfdo0M491vUuWQCuA+rLkpKgqeMLBLQAikUmkeg/YE2ExPUILwGmA7VBhvtqINmV7UT93YNvUu8EDt+4Ht9F8Y8BWlg8DNIqgwYN2qd///5eu9Jadn4uTCctv4ozSFB5rzM6gwHHziCBq47rdV68vjuwZuPqwDJi7YDE68AaECRlwJ3gTDAL3AdWgFgkWju0KunrZlQK9yRwFlDnDW4fhxFFg4QQSbyByIv3MxBJR4P0RrkalNkF+B1vBcKOwuCXwlXUJv24skiu4r0Ac/dOBvQp3qVLl+6va6RYsWLrxEKNGjX+4vO88lbkPn5xtvSdvkIa9UVHNLmUDm51LyyKeyzx/cDd4HuQm6ivveEmUB8MvnZz0+vtRmrsaOv678XVcajoS3cqQ0b2S/AiiFcKhVGo4YY1wL0SaLwoCu4AatcvIJp4Y1MO3yh4fo9vTV7qAeW5HaRcdC3MmTPnPCaCHdlRPIfzX6Jfv35HAG+cTHkd8nsBuhDyo2gmu79bcWeQwO9dkFqFFwfb3Hg5qerA3opfnXszkPE7B2j1WxesB7lJPO1Q5/YGns/wa5KxKLfMI8SFGySCk/oaiOh8X5FJYwbgLqzwZ3J8PB1Tqx1JdbZtv2QFJ/8ZTAg0EC0F3qC4nyJM9l4GqlatugvD7xFQBM/OlStXOuMT15RWmoKMV4AdouBxy/FzvQX3dyULJxoXtDqdBTQ5z00aEymDrP5wvwucmETG8HYwFWhyfhHQsfqeDK8nlfG8AzQ+yei3AE4nwU1UirkZHIh7KpChHw/OBz1BJxBNHL5J9A++CRPfxwNNcu4BM4Hak3KZNWvWVq6JjZzzfbzC2GFsOGTIEO36bhCIzwHp1leoUGEhi5FYrhEvywLtBp/Q/NRQ74JUnZ1BAtdrizdIeO1pjCdVHfgL8r4XrAIjgSYC08ABoDV4GuQm8bRjNxmNBceBU8BToD3wY/xRCyu+ByIM+yAM/cUy+Gzrf07H06TnJ+BMgPj2+lcY/KHEa8B5TqWTRhOYQwjzJm8KNtkLGahfv/52ro+VNH1fVvbqR8sx8HK1I7TC3UFahl/HTrgb5/lzZg0KjyDXEK7+8zFQ/5Ecme04BvlF/OPAhWAikKGWjsJiFU3+ZeQLA01wlwNd738AGSYZyY1gfzAZ1AGajFwLtoBkye9uRt/ialIhUTtk+GvrIAZZ5qbxONah5xffmhAVBQeDoUBtl1QCOn4IzAbJlv9yDTQn0/0ZQ4rgL4FbHFe7JmXwl8HvQMf491m9evXBTAyW4J/LdaVJ0C+k+0V+bjvO43ivEp20/CjbqbQzSODqQlTn8i7IFfhl/CWp7sCTKEPwZA0ezeCzwKFeYC5urO3wsmjjeh7F1SDSDfR0wxJ1EhqIsrKy/uR/1cfzANa5VKR0yZIlp/J0/5uqFJ1tiVw6WOeRI0eOZWJQm4nCTN33J/hUOqATrzQmezUDX9P687geTsZ9k2vpNJcNz3ApXqKJ7xP8I6Ssu6u0uVy5cj86Mbn/aJGgseJIF0rtjRsN8c8B6rfPAY2NZ4OpIB7Zl8TlgCbqwaKJQGlQHSwAE0Ad8Bi4ESRbZpKhxsFjgMrdBA4DEk1CYpE9+EahLNAu3mYgvrWCXgHOAxK1UVIKXAhG6yDZwpa+xr4bBg4cWJvzr4nZnevXr+994403To1UFrcHivBPo4PZdTyC8ehw0sltgf7hTz/99D5cc1M4nsK4NKVz585zI+VTUMLzq+EX/7oodcE5gwRu6CCRjg7cgnLPBFrtvw0kJ2Q7Mf+XNVo7biK/m8FUoItc8me249xbc70JOVrZJDQQsVo7mv9VN+aJ7Jms7v/HU9Ya/OrSoTbSmb7G4FfQjgAoxgRAq4EAOn3lIp9kO/a7NzPA6msIk8HzGICf4No4C/cKl48n5fLQ3wtMBgbjbck/QTYRL8OpFd5QdgTWKk0UeZZ4IVg+4qAJaA6+AJqs7gPUxxwDg+vJEDzveQcR3N8I/wEcA0aBl8DFQH1Mq18ZffXjRkAiI/Sq48v+kW6foONI3vpEXOpGVnXdrrgyuGrH60ATGO08zgDqY1cDicJjkRdI5PCNq4mDwzeu+q/4VlnBUpmDlWAJODA4IhX+3r17a6J2l4tci9COEQm0shf2EK61g7Zv396E66gJ19+d7AwU1SSA4/dKly79cps2bTbuoVAADnQx5rVo9v0z+ArIiMcqF5HwNbAYqONokNgfnAMmA3XgC4A68HQQLLF0YKX/HqgDvwteAurAylMdWJ2gKfgArALPg+NAQ7AaHA2WgWgSrR1a3aj+Oldvg5XgMiDD2gMMBtEkeJDoROIqYCz4HWiQKA9GA8kksM3xZf/ENBCx+jqOzvI1WMUAPha3KTiezvOInuCfMmVK0Xnz5n1DlscQP5K4EuAq4hfWq1fvCG31BpWZm/cAInXOdW7Et0nmMeC3Twe4jm7kuugLKnBtrAK9+GufDI0jPD9yApPHCcTXJmAreIXJZhaTzS3ZKeL+9Qx/AzTVF74Dka6rrsQNAdHkYBJcD1qAI4BW/x+CbmAuuAPcA8KJ6nNWuIiQsA4cDwsJ8w5VR9W1FHga/BuUBDLW/cEjIFY5gYRaFOTwjT8LhOPbM/ya/MRj+DOqT3ONHcIipglt0PnTGK9J1Jhrr732I65Hnct8L4UyoAW+BwnqfiPQqrECkPHtBbxBIh0dmOICtwB1rBOB+JwB1MG/ArFKbu1QHhcBdTYNCPuAzeApcBvQTDaaRBsk1FETHYi0gr+BfLq6g7Ierhl+6KGH3tqkSZMdqiDxmtgNIl7b+4VxP2U34GpuE6j8WCWjBolYK72XpUukT+vWUCGular8V395JN5Gjx5duVSpUuvzwQNb1WjDX0CTlLwS7ezuC/4Afg2XjPp6ELwo4DApkrF9mknAvkwCrqKVbYDO5RgWLqPy++2A/G74ddWpDVVBxEFCiZIg0TpwRcpQ597ks6xY2lGCvFWPJSAWg++zKompTZgwoUqrVq1WY9x3hcuJ+21lGLR3XXjhhX64ythBIlxb99Iwz/BrdatJ7TowfS/lwpodmQEtYs4EmpSMBhm9i/fss8/WZbepLfXUJECr/wHsAszGn+8kkwy/DRL57vJJa4Xz1SCRVmYyrzDP8Hs10+7b8d6BucaAy4Bug8wJYiOjDb9XTxYupdasWXMDO1O3gA+41TSA3amfvfj84GaS4ff4skHCY8LcYAby5SAR3IC9yK+t5epB7dXzG6nekQsqzrz5hIF8fZ3o65C8QKi7JgCs/qfy8Ont3LZckB+4zwTDn69Pfn44yQWkjnadFJATac0wBgoSA+4EoCtt0jNm91WqVOkR918EGdvMTDD8GUuOVcwYMAYyi4FnnnmmLyuswl26dNFDvSmTVJeT6vxFTDrKSGc5KTvZScqYv5gezN8B9XC5nvfK4hqdmaSsk55N4aTnmEEZ6sLnP5n9U12lVJeT6vzFTzrKSGc5qT7nlr8xYAwYA8EMcJ//V4y9Pkb2OOEfYHv66HmA4DSZ4i/Qhj9TSLZ6GAPGgDFgDOwdDHTt2nUUL/6pywTgqFWrVk3nL4H6J1JGiRn+jDodVhljwBgwBoyB/M4Ab/tbwQSgFQ/9jeM9AF9xG+CMTGqTGf5MOhtWF2PAGDAGjIECwwBb/w/zwp/W3Pt/ha3/6zKlYWb4M+VMWD2MAWPAGDAGChwDvOXvA95QqreWXscHgbw3y+ZpO83w5yn9VrgxYAwYA8ZAQWdAD/7xN78GtPMMVv4T9LXAvGyzGf68ZN/KNgaMAWPAGNgrGOC//RsqV658LI2tunr16gn6cFleNdwMf14xb+UaA8aAMWAM7FUM6KNSrPyb88R/2Tlz5ozPK+Nvhn+vuuysscaAMWAMGAN5yYCMPyv/i/PS+Jvhz8srwMo2BowBY8AY2OsYkPHnif8LaHgZVv490k2AGf50M27lGQPGgDFgDOz1DOiz5eAqVv5ZvDlVn/tNm5jhTxvVVpAxYAwYA8aAMfA3A9dee+1a/ud/IcZ/MH/101/+0iJm+NNCsxViDBgDxoAxYAz8kwGM/2yMf3tW/6+w8t/vnymSH2KGP/mcWo7GgDGQIgZYGS0n65QPjukqJ0U0edmKJ/GVaklXOaluR57lz0t+3qLwR7nuXk7Hk/4F2vCnq/Omq5wUX5Xp6rzpKifFdFn2ecTAZ/S3TrwEpU6Ky09XOSlphvjZtWvXtWQ+PSUFuJmmq5xUtiFT8uZhv8HUZevcuXNvSHWd8uwFAqlumJu/Ou/TXJyPQuqsFJaZrnJS0gSv87LVVC8lBbiZpqucVLbB8s5bBujHM7kX2p5a/Ig7hGt2Ef64FzDoMTQ4uwfTyPOX0FapHLZd25HGKYet2MX4C3npoul76SK5Kpw8dkWKjxZOXzqcNA3Jo1povTD4BxLXhTq3Yxs57DfhI+lHKzcofhflHhStnKD05o2BAV7tm8V7/WcMGzbs9Y4dO86LQcVXkpwL2Zd2PlBicGhH5xjBRZqyQUI06KlMyhipcpI9SNBJ+9CGQnTi/n4oj9TJyXK3BgncLqA9+Y8Ol38k/XBpI4Q5g0S0ciLoWrAx8A8GGBiP37Fjx5lE7GH4/pEwcoCeqD6I/no17sUY+tfDJfXKIV1V4oMnGDn69PdL6DuvhdOPFJZIn2asuZh++yr1Hk+9FoWp14qiRYt+guH4Nlz5UfTDqfwjjLJ3E7g8t3L+oWQBMTHA+fkP5/UKrqkzXZ5j0osnUYE3/CLD67x4bZD45+Blg0Q8PcbSFigG+FxqAyYQ0zHedRloZ8fbOOmzQpvGAH10PPp+Df/w4cNrb9++/SdWhg15//vn8dZX+nwmdhb1bchk57N49S196hnA6BfG+H+C+zyf9n0iFSUW9K1+hzN35ht29hsPqXTyJzRIcFLCDhLRypG+Bgn04xok4qljcFp3kHiJWfmpCQwSLzNInGaDRDCz5i8oDKhfYIRHs4JuRJviNvyu/ph49elTutcQvIMQE6UY7caojvHTn1WAqz/a+nNMdOdJIs7vLnaqW+N+xRj+SocOHZYmuyJxX3jJrkB+yk+djZPhDRJxV93trN4gEbM+ZfoeJCjEBomYmbaEeyMDdK9fabceOvUlierHUyg7E9VJvzAeneC0ieoH52X+1DHASn8h19VYFpq9UlGKGf44WU20kyeqH091E+3kierHU1dLawzkIQOF6ZeJ3PZMVD/epif6SddE9eOtr6X3x8C97Apdxeq/lj/1yFpm+CNzEykm0U6eqH6kekUKT7STJ6ofqV4WbgwYA8aAMRCBAZ4ZWYnhf5w5af8ISXwHm+H3TZ0pGgPGgDFgDBgDqWOgePHiD5F7c54POyqZpZjhTyablpcxYAwYA8aAMZAkBniwbz0r/oE8FD4gSVk62ZjhTyablpcxYAwYA8aAMZBEBvhX1ki2/M/i32C+H0ANrY4Z/lBG7NgYMAaMAWPAGMgQBtxV/wtUp2OyqmSGP1lMWj7GgDFgDBgDxkAKGGC7/ylW/ddOnDgxKQ9bm+FPwUmyLI0BY8AYMAaMgWQxwBP+P5DXwjVr1lyYjDzN8CeDRcvDGDAGjAFjwBhIIQO8V+UJVv1dk1GEGf5ksGh5GAPGQL5koF+/fv1ZRTVeu3Zto4EDBzaOtxF+9P3oqF5+9bw2Jarv5WNu3jBQs2bNVyn51NGjR1dOtAZm+ONgMNGO40ffj46a5FfPoyNRfS8fc42BTGVgwIABV1G3Plu2bGm8efPmRvxlako8dfWj70dHdfKr57UnUX0vH3PzjoHmzZtvZcX//qZNmxLe7t8rPtKTjFOljsOHODRIeNlpkIj5NZ9+9P3oqHJ+9byGJarv5WOuMZDJDJQqVep1BlENpiV4eGoHdX0gnvr60fejozr51fPak6i+l4+5ecsA16k+/3w5GJVITWzFHyN76jiQvlXJNUiAe2JUdZL50fejo8L86nntSVTfy8dcYyCTGejRo8dGraDcOu7mHurYeOrrR9+PjurkV89rT6L6Xj7m5i0DZcuWfZsaNOXp/lKJ1MQMf4zsJdpx/Oj70VFz/Op5VCSq7+VjrjGQ6QzwXfth1HEbE/n1vXv3nhNvff3o+9FRvfzqeW1KVN/Lx9y8Y+Dqq69eQ+kz/vrrr7MTqYUZ/jjYS7Tj+NH3o6Mm+dXz6EhU38vHXGMgkxmoXbv2u9SvOG9Hm+ennn70/eiobn71vHYlqu/lY27eMsAu1Svcdm6RSC1ivkedSCEZrhvzl49KlixZ+Pbbb7+LB4F+f+CBB0bE2y4/+n50VC+/el6bEtDv6+VhrjGQBwzE3J+9upUvX74Y/kI82b/NC4vH9aPvR0d18qvntScBfevXHol57PKZ3pPZoXqmS5cux/utyt5u+HUx8wB7v5j5g3AnLbOumHWCE/rR96OjMv3qefWNV79///4BeBmAvg0SHonmppOBuPtzOiuXX8uyfp1ZZ477+8VXr169hvF5X17ss8lP7fb6p/r79OkT6NvX7JSfiyecTjyTqHD6FmYMJMKA9edE2Iusa/06MjfpjmnZsuU2Vv3fU2598Imf8u0evx/WTMcYMAaMAWPAGMgjBljtfwFO8Vu8GX6/zJmeMWAMGAPGgDGQNwx8wQN+Zvjzhnsr1RgwBowBY8AYSC8DrPa/BXX9lmorfr/MmZ4xYAwYA8aAMZA3DCzmQeqD/RZtht8vc6ZnDBgDxoAxYAzkAQPu0/xrn3nmmf38FG+G3w9rpmMMGAPGgDFgDOQhA2z1/wp8rfr3+r/zJXLe+JpXgAcswmbBCQnwNrCwcekI9OqmOqguJslngM9j1oDnwu3bt/8djv292CH51bIcE2DA6zdeFsWK6d0+mSFe3axPZ8b5yIBaLGS7vxb1+DTeutiKP17GgtK3adMmULx48bBo2LBhUMr0e7t37+7U6+WXX05/4QW4RL08Y9iwYXeBNdu2bfudwXgx/lXDhw+/kU6Y1P40duzY/cj70SlTpiRlBjljxoxi1LPTiBEjmhbgU5RQ01q3br1Hf+YNloGDDz440KtXrwBv9kso70SVrU8nymDB0mexMY+Fp6348+q0suILnHbaaXsUX7Vq1T2O7aBgMMDg/zwtuQR8QMfTFxsL0fk6gUcw0hUI7weSInwC+ksyqskXuXokI8PvvvvufiYnN1Plq5ORX0HOIysrK9CgQYPA1q1bA9OnTw/cf//9gbfeeivw6aefBjgfBbnp1rZ8wgBjzjr6chU/1U3KSsJPwQVJ58wzzwy0a9cubJPee+89fS0vcNNNNwW+/fbbACtGZ+AYOHBg4Morr8zRGTVqVOChhx4K/P7774HGjRsHOnXqFGjevHlO/IMPPhjQ6n3OnDmB4447LqDjU075+2+cKufWW28NLFmyJHDJJZcEtC0YLCtWrAhcd911gY8++ihQpUqVgCYrfHfAuQ3Al54CasMZZ5wR2L59e+C1114L8C0CJ01wHnu7n5XyBfB6CZ3ty44dO+Z8HWvkyJHvEv4fPuv6bTBHTAR6cnwZxrY2OjOJ74lB+UJpiHuY8GZs23ZG926CTuL4W7aWO3AtzSd+PMfVlRaD/Q0r9Vs6dOjw/tChQxsTNJj8jsCdBXpSl09IfzT+8WAneVzYtm3bJYQNJ4+TSPsk4VtAWyC5n/xOIL9bsw/tN5SBRo0aBbSjJ9FKe9OmTYE33ngjwMNUTj+D18C9996r8xjYsGFDoGnTpoEnnngisO++++ZkZX06hwrzpIABxhN9VvogP1mb4ffDWojOhAkTNDjvEcprFZ1dABnVH374wTH8NWvWDBx77LGByZMnOxOFs88+O1C5cuXA+PHjHSOr+4m6RSAjrjSzZ88OSOeuu+4K3HPPPQHFH3rooYFPPvnESafVx0knnRSYP39+4IILLgjs2LEjcOqppzorkz///DOnPhqkzjvvPGfiofQrV64M3HHHHXqvvuNqkqA6zps3z1nh6PbFgQcemKNvnmwG4OtEl4sPgzlhEvULx9cHh2EQ7ib9nYRtB/PxnwnP05gknEb6rwgTwccQpu9ra2W/HDTiHD6OqxlfMQx2IZ0j+XELM/GoQ/rJCuBYdTgTfMhk4FiM/4+4yrcDtyAGUf5E0mSRxbxy5cqNWbduXSvlQbx01e+t74uMGEU7ejL8CxYscDRk9NUvq1WrFqhbt64zof/ll18C33zzjRNvfTpGYi2ZbwZY8W9EeR8/GST1nqSfChQEHRnpxx57bA98/71epfy3aID4+uuvA++//75jrLWFOHfuXCfBfffd57hvv/22syJ/6qmnnNW8BhGt1GX0S5cuHdDA8vPPPzsrDRn52267zdHTKkTHrOCcrUhNBPbZ5+/r4Z133nGM/llnnRX48ssvA7NmzQqUKVMm8Mgjj+yxM8BXB51Jh8rUrkN+lAEDBjTiveK7+bDI3eyq1E5mGzCYzv00jOmK3PIdM2ZMVdLK6G8i7eHs3hyFewfHRTHcD4TojsBon89nkM9ROHrHyiWsJc6f8terV+8Yjt+lo/fgsCh5dSfP83Cv0jG4EejLbbfgLAGtwHDiNWvowCR0M/oj8I8D2uW5lWNHR8f5TVJ5jiNxUb26s/kSWLRokdNntOPGOXMmzFOnTg20atXK6WMffPCBk4X16UhMWniyGNCKn77890AfR8Y264+DrEhJtcV+zjnOuJ2T5Kijjsrxy3P66acHSpQo4YTpYaGvvvoqsH79esdga/tecdpql7DV60D+V199VY5jiA86KHtXR/FasSsPDIUzIVAa79aAjLpuA3z4YfbC9Mcff1S0syV5yy2yDYFAhQoVnNsKf/zxhz7h64RhOALNmjVz/In8DBkypH8i+lzMuzx92hfX5JQdljO5Ny712zCUPTES63EnMhno6uXp16Uua6SLWzG3PLhdcrriacdUDOwi+Tm/o6jXvehqS78QW+0KVpqP5LILsJBVOlG7y+g4gmg7X+WfRlpt9Zdy0znhGPi17Ap0YXLxJmkqEfckE4RP3DRJdTL0HP+R1EYGZaadO0nFihUDixcvDrCD4vh171+yfPlyx1Vf06S5oPVpp3H2k2kMbKJCpf1Uygy/H9ZCdLTVp2373KRUKW+MZokW9Dc/3VPXal3G2jPAwfmwbescVqqkcTxblFZ5KA6j5tyXV4y26D2REfcEI+B4+ZSjs0LRgSYmgoykV25wGZ6uHzfYcPvRp77ZFUY53rxI7+iShXNt48qQdgEJG35m2HqKVk1yDK08Erbva2Fsn6fsidzD10N+3olYnZ0ioHO1Af8O0hR/8cUXcyYzHKvzOkJdFV/IOw51iffiDibOeXEHybX1r1W+I9QjZ9JEXA0vPNkueeeU4ydv2pKKc9zPT11i0fn111+dZIccckhOcrjO6U9a/WsMUL8riH06p9HmyRgG6IMb6EZm+DPmjISpCCcpTChLNiYENWrUcB7K0xa97uHrXqIevNNDRbo3L9EtAg00GmC0najJAlvAzrF2ECR6eFD3+jWm6jkAT/TgkeT4448PvPDCC45frsqS7po1zkLWeYbAiUzwh7dK9U8wC9/qbPH3RbkJfG+Fh/fha1jt2rXf9Z1hkCLPWLyJAR9Mvv/C2J+ke/X4C2Ho7yKZnrTcTrkPs+r+SueKuHN4mLMIK/GdxGkrpShh3+kYHQ4DmrjlGEAnYM8fx7hy68WbKHxE9Im06b9MMF5i12B/jk9lQvK11MaNG1eO2zXPUAeK2b0KXEw5V7Lr8LziEdVD9fLy06EvydBz3MtXY6IoLVy4MMDtG01CnQdn1We0+6ZnZV5//XWnD0+bNs15PkbP0BTEPh2FIovOAwbox1rU5Cwc4qlCwgNAPIUV1LR60Efb9MHwjG0sbWY71kmm2wF6+v/66693tgr1oJ9WGNo61H33o48+OtClS5eA/mss0Xa/hCe4HVfbjmxpO/VYtWqVE6afE088MaDVvAYpPRfQs2dP5x8FvXv3DmA0ctIF+3MC85mnb9++/WnH1TwTURku/kUb38DQZm+bJNgWnvJeTBaDge7V60n6tzG+8zjuAHZhGAbiBjDKC/BPxVuVv//9SLohGPhxiiP8Xrkxynql458aj5LH6bTrAx1T9oM8yPcfOv548n2J46YKx+gPwqkJdH8/S2GkeZyJiPOoOWHadVAdsqh3N/nzo6TyHHt86Lka9Wf9g+bII490Jsd6yl+TZ4lW9xs3bgxcdtllAT2To3/SyO/919/6tMekualigL6v+/t6wC9u+XvUj1vVFDwG9NCdZvzB0H9/YxUZYxl0GetHH33UeTBv0KBBzj8AlIf+P3z55ZcHfvvtN+fvRNqaf/rppwNXXHGFU0T9+vUD//3vf51tf1a8juvdy1cCGXQ94Kcn9fVQkh5E1MTEu8/sZFKAfvr06TOBv1D66hDRaGD13Bs+u2JQ14DmQE996f/8l+nvdp4+t10uwP8S4QeQ5lrcLdJD/0UvTTQXvbFumi74j1X+5NMDVCb8MVAX/2PkiW13XsrTmbAVrDj1F7838esBkSpMDJ7A1STgNdKvx20CLlNYfpVUnmNxogdv1Z/1TxdNvjWp1kO0ngwePDhw0UUXOf++6datW0Dv7WAXKHDAAQc4SaxPe0yZm0IGStOPfa34U1infJF1XwYQuMsM4Un/3cuWLYtYGe4d7uZ//ru1PRxOpM/DeuGicsLYntzN/45zjpPpYYWtbes82+ZP9xXHqrsag33J3MrVW/f0al94Dn+vJzdl4tCtzF/D9niYUHn5zXPSpEkluCWgXYGCKGnvzzwjs5sH+yJ2o/zep9Wwva1f55eOwUS0Gw/ZPumnvs4DUH4UTSf5DOjhPO9vQ+Fy1wN9eh4gkkhffxvMTfTeAJPkMMB2bvaj3Llk16RJkx1EL/Fux+SSNGwUen/fs3FTsGrXBMtXnvzzYyu6v4ctzALjZkD/xsntLZ3Wp+Om1BRiZEBb/YwFvnY2zfDHSLIlMwaMAWPAGDAGMoUBbh2Woy7Z/zONs1J2jz9Owiy5MWAMGAPGgDGQ1wxwF+Yw6rDQTz3M8PthzXSMAWPAGDAGjIG8ZaAWW/0L/VTBDL8f1kzHGDAGjAFjwBjIQwZY8R8MfvVTBTP8flgzHWPAGDAGjAFjII8Y4Il+vbGvPC/SWuanCmb4/bBmOsaAMWAMGAPGQN4xcCDb/L5W+6qyGf68O3FWsjFgDBgDxoAxEDcDbPEfD36KW9FV2Ov/zsfX2/xyZ3ohDBiXIYTYYdoZ8HMNli1b1qmnvpbpR/zo+9FR3fzqee3yo++HU688c1PGwCn8ne8Lv7n7epuY38IyVK9vhtYrv1Zrr3lzX349QQW83nH3586dOzdi27QQ902n+uHGj74fHdXNr57XrgT0rV97JGaAyyvbP+OSvY1XvX/ipzp7/Yof0uyC9nPlmI4xkJkMxN2f+YhVX7ZNddszbl1R4Effj47fsqTnid9yPX1z854BvvhZnE+sH4vhn+G3NnaP3y9zpmcMGAPGgDFgDKSZAT7mVo8i5/JEv+8P9JjhT/NJs+KMAWPAGDAGjIEEGDiZ1b7v+/sq1wx/AuybqjFgDBgDxoAxkGYGLuHW1DuJlGmGPxH2TNcYMAaMAWPAGEgTA/pEN6v9kypVqvR+IkWa4U+EPdM1BowBY8AYMAbSxAB/OW1BUR+1bNlycyJF2lP9ibBnusaAMWAMGAPGQJoYYIv/Yop6LdHibMWfKIOmbwwYA8aAMWAMpJiBSZMmlWCb/5zSpUu/mWhRZvgTZdD0jQFjwBgwBoyBFDOwePFirfY/a9u27apEizLDnyiDpm8MGAPGgDFgDKSege5s9Q9JRjFm+JPBouVhDBgDxoAxYAykiIFhw4YdjdE/pHLlym8kowgz/Mlg0fIwBowBY8AYMAZSxMD27duv4/7+MzzNvzMZRdhT/clg0fIwBowBY8AYMAZSwADv5i/Du/lbYfjrJCt7W/Eni0nLxxgwBowBY8AYSDIDGP32bPN/yLv5lyUrazP8yWLS8jEGjIF8yQCDalUqvtJv5RPVj6fcXbt2raK8fePRCU6bqH5wXuZPPQPDhw8vy/nuzWq/TzJLM8OfTDYtL2PAGMhXDPBd81pUuC34zE/Fpc/A3MavfrxlYgA+B2142OugeHWV3tN32+0nC9NJIwPbtm27hXP2TpcuXWYls1i7x59MNi0vY8AYSAsDzzzzzIEUdAor2GoMjIXiLRSVXRjsg0AP/N3ZRg37bfNI5aC3G70DpV+4cOGI+pHq5ervihQfKRwDMAOjfTsPey2kbg/S/t+oR077lS/1WY7+F7RpcWg+nj7hvw4ZMmQQqoukEpou2nG0cqLpW3x0Bji/VeD5enBi9NTxpci5YOJTs9TGgDFgDOQNAwyITRgMX6X0qbiLMHS+DBe6y4sUKTKlc+fOn4ZrSW7lYHBltFfkph8uTy8Mo9tHBhvj3N8Li8d99tlnT6MKTWnDvsHtV73IVrsBjXEvIf8p4fKV/s6dO5uQxtfEKdZywpVtYbExwDXyEClLMFnrHptG7KnM8MfOlaU0BoyBPGZgxIgRh2zdunU+BuscBsTJqapOqstJ1PBHazf5n82k4P0SJUocmpWVtSBaer/x6SrHb/3yq557K0a7UMd17dp1SbLbEfdMOdkVsPyMAWPAGIiVAba4m2L0x6XS6KsuqS6HNhTCMKds/HX5Gcsk6axYufWTLl3l+KlbftXhutCCfDzolwqjL15SduEpcxNjwBgwBpLMQA3y+yXJeYbLLl3lhCs7KWHMLeaCmknJLJdM0lVOLlUoUFHcYuqueSGTqidT1TB7uC9VzFq+xoAxkCoGiqQq45B801VOSLHJOcR4FGH1mJzMcsklXeXkUoUCE+Vu8fejQQ1k/FPVMFvxp4pZy9cYMAaMAWPAGIiDAYz9CJLfx2o/pbtaZvjjOCmW1BgwBowBY8AYSAUDPCh5M/mWrl279qOpyD84T9vqD2bD/MaAMWAMGAPGQJoZ4L5+C27L3FysWLGTmzRpsiPVxduKP9UMW/7GgDFgDBgDxkAEBngtb22M/ii2+S/r0KHD0gjJkhpshj+pdFpmxoAxYAwYA8ZAbAyw0i/PX0ffxPD34GVLX8SmlXgqM/yJc2g5GAPGgDFgDBgDcTGAsS8M9H/9yfxff1Rcygkmztd/V0mw7aZuDBgD+YiBfv369d+xY0cjXkpTq1GjRgunTJmyMBXVT3U5qc5fnKSjjHSWk4rznLPKd7EAABcASURBVJd5Tpw4sfi0adNeow6beZiv4+jRo+P+bkMi9beH+xJhz3SNAWMgLQwMGDDgKt4P32fLli1eeXoHfdJfOZ7qclKdv8hJRxnpLEdlFSSR0V+9evUrtElGv1U6HuYL5c+2+kMZsWNjwBjIOAZKlSr1Og8/bVXFcHeAe1JRyVSXk+r8xUk6ykhnOak4z3mVZyYYfbXdDH9eXQFWrjFgDMTMQI8ePTZyP/R9V0Gfnh0bs3IcCVNdTqrzV1PTUUY6y4nj9GV0Up7eL8tKfzqVzLOVvkeQGX6PCXONAWMgoxngE7jDqOA2Vvvre/fuPSdVlU11OanOX7yko4x0lpOqc52ufHl6/9Bt27ato7yXeHq/ZV5s7we31Qx/MBvmNwaMgYxlgPuh71K54kWLFp2XykqmupxU5y9u0lFGOstJ5flOdd5Dhw5tyvMpn1LO9byK9wEmril7B3+sbTHDHytTls4YMAbylIGWLVtuq1OnTtlq1ao1S2VFUl1OqvMXN+koI53lpPJ8pzJvXsN7A/9EeY4dmJb8Ze+JVJYVT95Jfyo2nsItrTFgDBgDxoAxUNAYGDFixL787fRe2nUyz6NcyPb+4kxqo634M+lsWF2MAWPAGDAG8jUDrPLbYPR/Ykt/TeXKlRtkmtEXufY//nx9iVnljQFjwBgwBjKBgaeffroWxv5Z6rIvH9s5t2PHjt9mQr3C1cG2+sOxYmHGgDFgDBgDxkAMDPDEfmn+atoF3EHyB1nlP8QzFjtjUM2zJLbizzPqrWBjwBgwBoyB/MqADD5178YT+7ey0p/GKr8Bq/yU/uMkWVyZ4U8Wk5aPMWAMGAPGQIFnYOTIkSV5dfR/XIM/hSf2m3bu3Pmn/NRwM/z56WxZXY2B/MFANarZJ6iqv+O/L+g4Gd6KZLIe7EggM9VzeS76ySgjl+ydKI3BVcAf0RLmEq96bgMbc0njO4ot7ELjx4+vUbx48VVsYW8OlxHxFXmgrWhWVtaf4eIjhFUlvG9Q3BL8ehI+I4X/4x+1c+fOtrSzHSv8qVSyMf/Ln5WRlY1SKbvHH4UgizYGjIG4GTgSjZ+BvqizEMwGl4B4pDuJH3cVGuB63ypvi78DOB2sBXqpz3/B5yAW2Y9Ed4HmoBZYBJTH3UATFEmiZSiP2kD/224GZNBqgmCRwX8MtAelgN5E+DDQw2GxShMS3g/qA70UZjK4EoiXYCnEwRTQCPwGDgQxCa+Z7YHh7w3KYux03/pdvgVwzdVXX71GGRDfkLhnQB0dk2YBaN2hQ4fPdBxFahH/DigGDgXfg+NAxghfzau8adOmVrSpLW3cH3csGMWT+rMzppI+KqILwsQYMAaMgWQy4Bn+r8j0ZB8ZH47Od0DGsThoAGT4ZVxkHFaCIUDGojX4CxwANoBoIkNzHngDjAbS16RERvMckIwyupCPjLoM/sGuG2r4NanR5EbtfAl0BdXAqWAGiCbKT0+Ny2g+BA4DbcCr4FIQLDdy8AAQlzEb/mHDhnXE2A3F0C1FT8b9JNwLwHudOnU6j/+qH8B294+ElyHNM4RvAZ05ll05hDTLcWMRnTv9zz0jDD/37g+kXU1pUwvqdDZ4C4zG2H9IWFo/n0u5KRF1LBNjwBgwBjKFgSJUZAzQikoGvSnwRBOKEeBdoM+aysDIEFUAmizIEEYTGUjJIDANaGtaht8LT0YZmpDI+Gvi8wMIFRn4TmAROAFotT4K6L0qS0AsojpXAdolGAjEWzNwEdCk4HcgUXvuA5qI9ADxyGVu4sE8tPYIX5Yrsm7dupUY9nMx+nXY9j6F+HIYw8+Iv05pmSyUx8nipTVqf3+FZbrwN7wauk+PsW9CXZvg7kObPqKdb3N7I4vdi/VqA9v6md6UmOtXNOaUltAYMAaMgdQz0JMiTgTavn40pDgZe8GT0/DI6Ov+trbKY5HnSXQX6Ag0sWgHJC9kO07+iZbhGVhn+9vNN9ipx0EJMB2oDecBGZfnQKwrykNIK5mb7QS0DT8f7A9qAxl+je+aRP0MNEHw6oU3JimpVBjAjXL1FzUMu/KtQNhRGMdSuIrapB9XNJmRzlFeQCa41KcwL9Y5kAnJEdTncIy748pPOypx/BF+Pag3iJ0K8VWgRReGiTFgDBgDmcDAsVSiH7gbaNs3NzmJyDfcBH1xg41Pbnq93UgZ/7au/15cHYeK3zJC8wk9ruEGNMC9EsjYayy+A6jMX0A0OdhNoMmLJ56/uhvQC1eTDOW53Q2L2cFYaseiMYaxCyv8mRwfj4E82s2gOkbyS95Dr8MzmBCoHbol4HG6nyLSJazaB2DUy1DHMpSZAx1T/9IY/cMIX8GxJkridy71n0zc/L3B0NPePUQXm4kxYAwYA3nNQHEqoNXpLKCt6dykMZEy+mXB/S5wYhIZw9vBVKCVvbbGdVwIyPB60hiP3zK8PCK5xdyIA3FPBTJE48H5QDsenUA08XYGgsdwz78N5eOBJjn3gJmgMohLtPrF0F8sg8+2/ucYSe1K/ATqgvXt27f/CoM/lHjVV7sVerjvM5xDCFun43QJ5e6gzN9x9ZzHBrkCExPnuGTJkguo75Z01SfTy/EulEyvp9XPGDAGCjYD19C848DH4Cm3qUe6rgzyi2AcuBBMBDLU0lFYrKKtaxl53Uu/EujhMxmsP8ANQEZyI0ikDNSjyu9uim9xv3T9aocMf233OJqzzE1QMSih59fKWxOiokA7A0OB2i6pBHSsBwJng4iiv+aNGTPmeP6+di6JSmM8p27evPlNKWBkl8jl3n5n/tc+lolBbSYKM3GbEXwqRteJV5p0CPffB6SjnIJShi4ME2PAGDAG8poBPZwmQ3ykC9XHM2QN8c8BhwIZao1bZ4OpIB7Zl8TlgHNjOkhRE4HSoLoblkgZQdlG9GoFvhMcA1SublMcBiSahMQiX7uJ9IDdE6As0Db8ZvAj0Kp/BTgPSNRGSSlwIRitg9yE1fzR27Zta1y0aNGZrJb/N27cOHFXF6O+ESP/NQa/gnYEQDEmAJpM6OE+3XaRfJLt2G8mMqBZs4kxYAwYA8lkQMZbD0jpHvHJCWSsB66agAbgC6DV5gXgTzAdBMsQDt4LDojg/55wGdx3wUvgYqA8Z4M6QNv7iZbRnjwOB1VAJ6AtchlnyTCwAIwFrYF4kpG8GpQBl4JXQTTZhwS/AbmjgOquCZIMcGcQKpUJWAmko1sMUYX/6B/Hyv5rsIr752Nxm4LjMfyPYOhvnjJlStF58+Z9Q0bHED+SuBLgKuIX1qtX74j69etvj1pIdoIDcBYDnRvt+pikmAFb8aeYYMveGDAGksaADIREK3cZ7GCJxegr/UXgetACyAhr9f8B6Ob6k1HGv8lL2+OeaDXeyz1QWTL8Ms5a9SvtUWAtuBnEYvRJ5tySaIY7ASivrUA7Ff8BSRH+xjaTFfwtGPKurOpvIVPdN3/s0EMP1XMIgSZNmuwgviNePQvQmjjtKvyPScDVcRh9ZWViDBgDxoAxkM8Z0IpfBvXLDG9HNepXIo/rqMXXfiCR3Vet5ounsh0TJkyowmpehj2s8B//Mm+++WbpsJHRAzXZ0vWiWyAmxoAxYAwYA/mQAc/wz6Hu54PT82EbrMqpZ0C3KXR9tAFm+FPPt5VgDBgDxkDKGPAMvwZz4duUlWQZ52cGjqDy3jVihj+NZzKR7aU0VtOKMgaMgXzEgLavqwfVVw95LQ86Nq8xIAbsOrHrwBgwBowBY8AYMAaMAWPAGDAGjAFjwBgwBowBY8AYMAaMAWPAGDAGjAFjwBgwBowBY8AYMAaMAWPAGDAGjAFjwBgwBowBY8AYMAaMAWPAGDAGjAFjwBgwBowBY8AYMAaMAWPAGDAGjAFjwBgwBowBY8AYMAaMAWPAGDAG8g8D9ua+/HOurKbGQKYz8DAV1Edv7gD62lx+ktZU9lTwEpjis+KxtD8Z5YRWL5ZyQ3XSfsyHfIqvW7duPz7ZuzTa1/v46l+lokWLVixduvTKli1b5rdrKe3cxlugGf54GbP0xsDew4BetbsN6GMq88ChQK/i1et39UU4fZJV35VfCiTrgb4pXwN4YXgzQrKoxULwUYTaPEO4PhbTAzwRIU204FjaP4JM2oObwKPRMowxPlq5E8inFdCniM8AtwN9mthXO0eMGHH5zp07X0Q/rPB53i87dux4iheJEb+YL/vdzXFtoNf07iDNLNw7SPc2riOkKUTa24i7AX/OK5+VluNunTp1muomNSdBBnQSTIwBY8AYCMfAOgJl+CXyS7zVVzv894NPQKYZeaq0h9TiaCh4DEQy/NcSJxRE8c6ZzmHoeYzaXoxu4eHDhzch4ckY6vs8BQzyKjDKO/bcXbt2Lfb8Q4cOvQd97QBJvgbi/2zC6uG+haHvS54D8Afw34yj/BeR7224mmCeTNrrOH5+zJgxx5YsWfIvdg0GcjyhQ4cOM4k38cGAGX4fpJmKMbCXMCCD4Rl++beCLeAN0BRIJoLJIEsHrlTEfQqcDhT3ENCgL9HuwT3gQrAv+AFolf0piCTaaVAeDcAG8BYYAmYDSU3QEzQGlcCbYDiYAbqCPqAw0Er7AnACUD7BIoNzGbgXjAKSK8EloBFYB/4HFD8f5Cb6vrxW9lr1LgLdwHQQSVT3c4GModJpNa2dFE+itd9L57nt8MjYfg7kV90lOoeC5K9sJ/LvyJEjT9qxY8dVGOR/k2o/jO37uDmGH4P8B0b71kg5oN8A/dsVz7b9me3btxd/jjCROJ8JwiQO+jA5eJvVvK6Pxk4kOxHkO9j1jybtx5S1bevWrYUw/Apuj25P6qWdgAlFihR5Lisra4Gb3pwYGDDDHwNJlsQY2EsZ0CC/023707hvuH4Zcxk1GfEPwScgWIZzsAJoC1pbzAeDU4HkeSDjqwnDVCCjL7c2+BWEiiYRX4DK4BWwDHQHZ4HjwQ6gSYYmEk+CP0A/IKMtg/kzmAOqg7ngA7AdhEo1Ag4HFdwIrXCfAz+A/kDl3wnqgtOBxwvef8hYQsSL6n4yeBscAMRHqFxDwAPgM9Ab3AzGAE24XgCxtJ9kOdIM37NAt2ZuBLvAm2At+A38D6gd34N/CMb6cIzqNRjUVhjtw0iwCYP/IsZ1eLDh9hRJV8jzey7p9YndAPrn4WjCNT9UF0P9LoZ7GfqaUJxPmq9xZch1bfQirkjhwoUnlylTZib3+HWt5MiMGTNqzJw581+k7YBOf2473E36Lzj2JgF/5iQ2T1gGzPCHpcUCjQFjAAaGBrEQPPg+TngHUBUMAZ+DYJGhGwhkLDUIy/gprYyrBnatQFuD7UC7CMPB9UBGL1S6EaB8tNq8zI1cg6uJggz/D0B1U5nKRxMBpdPquT6QnqBVu1bTMnqxSB03kfIfD1Rn7TTIkMqY7QSRRBOQx9xITVQ06bgIjHPDgh3FdwIyyJqglAfaVZABl+GP1v6vSOPJMXjExXJwLlgNJNNcyK+VvtoUVjCij2BAW2BQvyTBtaVKlXq+devWans4qYvBFR97CCv0f7MNP5E8jiSvAK5420MI281KfxKBHUhzpCKZXNxH+cdyrAnD/fjvZ1t/Pek+YhLwAHl+pnTug4Ev43153LhxNbds2dIOf3vwGJOWcrh3A5NcGCiaS5xFGQPGgDHghwFvoF+F8nxwGNBqugaQFAMzHF8gUMp167puqCNjJvHSy99bP0HyBf4WQMZAhrMWkMgI+JV3UdQE4ypwOVD574FngSYsucmnQZFf41fdagWFBXuVbxVwO6gFPI7UDkks7c9Omb1DoTZrx+A3L9CHuxXj+wPG9odcjL6yXYsB14RrDyFskRuw0XXD8kW6qu7EQBOVALsCmpScz67DkewWnEN8Q+KbEHYR7r+YAJzLLYHJSutJjRo1/vj1119/YJIwi7BDvHBzc2fADH/u/FisMWAMxM+AM5C7apuC1Iu4fg3w44LC5Q3WCY4q4R5oJR9OTiRQK8EtYDBYCHqCCiAR0YTlBHAtaAxOAqcBHdcDf4JI4hk8xXs7A9olCBWNv9OAJj1jgXYWVIYmSZ6UcD2R2u+lk/sTOAJ0AcPATBCXYOwfxYhqq74tq+cOrOh1q2QEhncsRjf0HP3OvfirIxWA4Z4tw46cGpoG414S436WwkkXPFHSBGA2wcJ/J02aVGLJkiXPkc8lpOtAmGP43clB1vz589sQp52kDdR9JGlewW8ShYFwF2MUFYs2BowBYyCHgeI5vuieX9wklXAfB4PAU0AG7zkQTrT9LZGB90SG/UWgLeEWQDsI2mUYAJRPZSDxJhrZR9npPH80V+0qBbS7IMNVHXwA9gdngtykQVCkV++FQWGeVwZeRn8baAdkrLcAiTc2R2t/durs3ytxbgOaUDwLvDzwxibce/8AA38hD+MdgBHtgRZ2dbfO0++suJ+OLZfsVBhinaNN6J+ObvtgXYy+jksrngnGtPHjx1fUfXqwhr8LavLjSPPmzbdSD03CJLu5v1+MvKaj/zPht5L3bNx2JUqUqM6tAKqfNSs7qf3mxoAuEBNjwBgwBuJlQNu5x4HuQKvSPbZgOQ4n2tb+HMgwytiPBdJvCrSdHm61NoTw/4BzwMNgIegHZNRvBZ5x0z38duBSsBlImoGPwGIdIM2BVpdvg0j3rYly5EZ+HwAjwQugDKgJtISdB8KJ6iS5C5QFMmA1wAbwBgiVBQTodkJF0AtoPD4bSMRtHRCt/Urrieo2GlwLxHFX8CSIW1h1/4HSYIHV9UnsArTHyKo+OYLBPQBDPTEnIMjD0/cduU2wkPg70HuUqBEY7LboaBfgSI51vjZzX/9CjPVyqZL2d+JOZiLwJv7J+OeT/miiNMHTzsDEBQsWFMUVpwOYWIxGVxyaxMlAoTjTW3JjwBgwBsSAjKiMYlUwDZwB1gMZSA3MS4FE283HgoZgOpDxHApk4GQotaKVcZNxiCRNiNBqszaQcdOqrhP4DMhYjgP/AhLV6UHwMTgIdAPjwVSgLfotQAbsVxAsIzhoD24CqosmFDKa54KDwSagScMooPzCyS4CCwEZquFAPKwEbcEkIAktR8b5TrA/+ApcAh4DlwG1oYmLSO0n+h+8n0CY8tKE4yjgnQu8/gVDXBijuyvaC3xUAga9Kkb5T/lJ30wP6uGVES9BHn/gTie/J9hdmIrfEXdbfyAH7UEVBZJ2N85P4D5uK0xQGHoEZ/9zQMcm8TOgi9TEGDAGjAE/DMhwlwNatcYrJVDQqliGMVYpT0IZgnCr9X0I3w62AU+Ufq13gKtbAKqrDHQ8UonEMqLBeceir0mRjJ/qnJtoHFZd/wpKJG42guC65tb+INXM9PLK3iIbN27c191NyLWS7DJUYPJQrkqVKsu13Z9rYos0BowBY8AYMAaMAWPAGDAGjAFjwBgwBowBY8AYMAaMAWPAGDAGjAFjwBgwBowBY8AYMAaMAWPAGDAGjAFjwBgwBowBY8AYMAaMAWPAGDAGjAFjwBgwBowBY8AYMAaMAWPAGDAGjAFjwBgwBowBY8AYMAaMAWPAGDAGjAFjwBgwBowBY8AYMAaMAWPAGDAGjAFjwBgwBowBY8AYMAaMAWPAGDAGjAFjwBgwBowBY8AYMAaMAWPAGDAGjAFjwBgwBowBY8AYMAaMAWPAGDAGjAFjwBgwBowBY8AYMAaMAWPAGDAGjAFjwBgwBowBY8AYMAaMAWPAGDAGjAFjwBgwBowBY8AYMAaMAWPAGDAGjAFjwBgwBowBY8AYMAaMAWPAGDAGjAFjwBgwBowBY8AYMAaMAWPAGDAGjAFjwBgwBowBY8AYMAaMAWPAGDAGjAFjwBgwBowBY8AYMAaMAWPAGDAGjAFjwBgwBowBY8AYMAaMAWPAGDAGCg4D/wf1o3zld1cTjwAAAABJRU5ErkJggg==)"
      ]
    },
    {
      "cell_type": "code",
      "execution_count": null,
      "metadata": {
        "id": "f6rfDylHVqhl"
      },
      "outputs": [],
      "source": [
        "class EncoderRNN(nn.Module):\n",
        "    def __init__(self, input_size, hidden_size):\n",
        "        super(EncoderRNN, self).__init__()\n",
        "        self.hidden_size = hidden_size\n",
        "\n",
        "        self.embedding = nn.Embedding(input_size, hidden_size)\n",
        "        self.gru = nn.GRU(hidden_size, hidden_size)\n",
        "\n",
        "    def forward(self, input, hidden):\n",
        "        embedded = self.embedding(input).view(1, 1, -1)\n",
        "        output = embedded\n",
        "        output, hidden = self.gru(output, hidden)\n",
        "        return output, hidden\n",
        "\n",
        "    def initHidden(self):\n",
        "        return torch.zeros(1, 1, self.hidden_size, device=device)"
      ]
    },
    {
      "cell_type": "markdown",
      "metadata": {
        "id": "ou1WsJ4IVqhp"
      },
      "source": [
        "### 4. Attention Decoder\n",
        "\n",
        "What is attention and how does it work? [Read here](https://lena-voita.github.io/nlp_course/seq2seq_and_attention.html#attention_idea)\n",
        "\n",
        "Attention mechanism allows a decoder to look at different parts of the sentence when generating your output.\n",
        "- compute attention weights\n",
        "- then multiply them with an encoder hidden state (``attn_applied``)\n"
      ]
    },
    {
      "cell_type": "code",
      "execution_count": null,
      "metadata": {
        "id": "EajIrn8ZmcY3"
      },
      "outputs": [],
      "source": [
        "# attention decoder\n",
        "class AttnDecoderRNN(nn.Module):\n",
        "    def __init__(self, hidden_size, output_size, dropout_p=0.1, max_length=MAX_LENGTH):\n",
        "        super(AttnDecoderRNN, self).__init__()\n",
        "        self.hidden_size = hidden_size\n",
        "        self.output_size = output_size\n",
        "        self.dropout_p = dropout_p\n",
        "        self.max_length = max_length\n",
        "\n",
        "        self.embedding = nn.Embedding(self.output_size, self.hidden_size)\n",
        "        self.attn = nn.Linear(self.hidden_size * 2, self.max_length)\n",
        "        self.attn_combine = nn.Linear(self.hidden_size * 2, self.hidden_size)\n",
        "        self.dropout = nn.Dropout(self.dropout_p)\n",
        "        self.gru = nn.GRU(self.hidden_size, self.hidden_size)\n",
        "        self.out = nn.Linear(self.hidden_size, self.output_size)\n",
        "\n",
        "    def forward(self, input, hidden, encoder_outputs):\n",
        "\n",
        "        embedded = self.embedding(input).view(1, 1, -1)\n",
        "        # embedded:  torch.Size([1, 1, 256])\n",
        "        # hidden:  torch.Size([1, 1, 256])\n",
        "        embedded = self.dropout(embedded)\n",
        "\n",
        "        # replace with a new score function\n",
        "        attn_weights = F.softmax(\n",
        "            self.attn(torch.cat((embedded[0], hidden[0]), 1)), dim=1) # calculate attention\n",
        "        # attn_weights:  torch.Size([1, 21]) i.e. weight for each input seq token\n",
        "        # encoder_outputs: torch.Size([21, 256]) i.e. embedding for each input seq token\n",
        "        attn_applied = torch.bmm(attn_weights.unsqueeze(0),   # dot product for matrices\n",
        "                                 encoder_outputs.unsqueeze(0))\n",
        "        # attn_applied:  torch.Size([1, 1, 256])\n",
        "\n",
        "        output = torch.cat((embedded[0], attn_applied[0]), 1) # concatenate embeddings and attention\n",
        "        # output:  torch.Size([1, 512])\n",
        "        output = self.attn_combine(output).unsqueeze(0)  # add linear transformation\n",
        "        # attn_combine:  torch.Size([1, 1, 256])\n",
        "\n",
        "        output = F.relu(output) # add activation\n",
        "        output, hidden = self.gru(output, hidden)  # add rnn step\n",
        "\n",
        "        output = F.log_softmax(self.out(output[0]), dim=1)  # output\n",
        "        return output, hidden, attn_weights\n",
        "\n",
        "    def initHidden(self):\n",
        "        return torch.zeros(1, 1, self.hidden_size, device=device)"
      ]
    },
    {
      "cell_type": "markdown",
      "metadata": {
        "id": "5RfXcQE4Vqhs"
      },
      "source": [
        "### 5. Training\n",
        "- create input tensors (with symbol index) from each pair in the training set\n",
        "- add EOS tokens both to source and target\n"
      ]
    },
    {
      "cell_type": "code",
      "execution_count": null,
      "metadata": {
        "id": "Akw4OZ7MVqhs"
      },
      "outputs": [],
      "source": [
        "def indexesFromSentence(lang, sentence):\n",
        "    return [lang.word2index[word] for word in list(sentence)]\n",
        "\n",
        "\n",
        "def tensorFromSentence(lang, sentence):\n",
        "    indexes = indexesFromSentence(lang, sentence)\n",
        "    indexes.append(EOS_token)\n",
        "    return torch.tensor(indexes, dtype=torch.long, device=device).view(-1, 1)\n",
        "\n",
        "\n",
        "def tensorsFromPair(pair):\n",
        "    input_tensor = tensorFromSentence(input_lang, pair[0])\n",
        "    target_tensor = tensorFromSentence(output_lang, pair[1])\n",
        "    return (input_tensor, target_tensor)"
      ]
    },
    {
      "cell_type": "code",
      "execution_count": null,
      "metadata": {
        "id": "-rnKP7oIVqhu"
      },
      "outputs": [],
      "source": [
        "# \"Teacher forcing\" - conception\n",
        "# https://machinelearningmastery.com/teacher-forcing-for-recurrent-neural-networks/\n",
        "teacher_forcing_ratio = 0.5\n",
        "\n",
        "# for single input sample\n",
        "def train(input_tensor, target_tensor, encoder, decoder, encoder_optimizer, decoder_optimizer, criterion, max_length=MAX_LENGTH):\n",
        "    encoder_hidden = encoder.initHidden()\n",
        "\n",
        "    encoder_optimizer.zero_grad()\n",
        "    decoder_optimizer.zero_grad()\n",
        "\n",
        "    input_length = input_tensor.size(0)\n",
        "    target_length = target_tensor.size(0)\n",
        "\n",
        "    encoder_outputs = torch.zeros(max_length, encoder.hidden_size, device=device)\n",
        "\n",
        "    loss = 0\n",
        "\n",
        "    # iterate over all tokens in input sequence to train encoder\n",
        "    for ei in range(input_length):\n",
        "        encoder_output, encoder_hidden = encoder(\n",
        "            input_tensor[ei], encoder_hidden)\n",
        "        encoder_outputs[ei] = encoder_output[0, 0]\n",
        "\n",
        "    decoder_input = torch.tensor([[SOS_token]], device=device)\n",
        "    # initiate decoder hidden state with encoder hidden state\n",
        "    decoder_hidden = encoder_hidden\n",
        "\n",
        "    use_teacher_forcing = False\n",
        "    # use it for some iterations\n",
        "    use_teacher_forcing = True if random.random() < teacher_forcing_ratio else False\n",
        "\n",
        "    if use_teacher_forcing:\n",
        "        # for each decoder step we calculate loss on predictions but pass true values forward\n",
        "        for di in range(target_length):\n",
        "            decoder_output, decoder_hidden, decoder_attention = decoder(\n",
        "                decoder_input, decoder_hidden, encoder_outputs)\n",
        "\n",
        "            loss += criterion(decoder_output, target_tensor[di])\n",
        "            decoder_input = target_tensor[di]\n",
        "\n",
        "    else:\n",
        "        # Without teacher forcing: use its own predictions as the next input\n",
        "        for di in range(target_length):\n",
        "            decoder_output, decoder_hidden, decoder_attention = decoder(\n",
        "                decoder_input, decoder_hidden, encoder_outputs)\n",
        "            topv, topi = decoder_output.topk(1)\n",
        "            decoder_input = topi.squeeze().detach()  # detach from history as input\n",
        "\n",
        "            loss += criterion(decoder_output, target_tensor[di])\n",
        "            if decoder_input.item() == EOS_token:\n",
        "                break\n",
        "\n",
        "    loss.backward()\n",
        "\n",
        "    encoder_optimizer.step()\n",
        "    decoder_optimizer.step()\n",
        "\n",
        "    return loss.item() / target_length"
      ]
    },
    {
      "cell_type": "code",
      "execution_count": null,
      "metadata": {
        "id": "BDacClKzVqhw"
      },
      "outputs": [],
      "source": [
        "def trainIters(encoder, decoder, n_iters, print_every=1000, plot_every=100, learning_rate=0.01):\n",
        "    plot_losses = []\n",
        "    print_loss_total = 0  # Reset every print_every\n",
        "    plot_loss_total = 0  # Reset every plot_every\n",
        "\n",
        "    encoder_optimizer = optim.SGD(encoder.parameters(), lr=learning_rate)\n",
        "    decoder_optimizer = optim.SGD(decoder.parameters(), lr=learning_rate)\n",
        "    training_pairs = [tensorsFromPair(random.choice(pairs))\n",
        "                      for i in range(n_iters)]\n",
        "\n",
        "    # https://towardsdatascience.com/cross-entropy-negative-log-likelihood-and-all-that-jazz-47a95bd2e81\n",
        "    criterion = nn.NLLLoss()  # The negative log likelihood loss\n",
        "\n",
        "    for iter in range(1, n_iters + 1):\n",
        "        training_pair = training_pairs[iter - 1]\n",
        "        input_tensor = training_pair[0]\n",
        "        target_tensor = training_pair[1]\n",
        "\n",
        "        loss = train(input_tensor, target_tensor, encoder,\n",
        "                     decoder, encoder_optimizer, decoder_optimizer, criterion)\n",
        "        print_loss_total += loss\n",
        "        plot_loss_total += loss\n",
        "\n",
        "        if iter % print_every == 0:\n",
        "            print_loss_avg = print_loss_total / print_every\n",
        "            print_loss_total = 0\n",
        "            print('(%d %d%%) %.4f' % (iter, iter / n_iters * 100, print_loss_avg))\n",
        "\n",
        "        if iter % plot_every == 0:\n",
        "            plot_loss_avg = plot_loss_total / plot_every\n",
        "            plot_losses.append(plot_loss_avg)\n",
        "            plot_loss_total = 0\n",
        "\n",
        "    showPlot(plot_losses)"
      ]
    },
    {
      "cell_type": "markdown",
      "metadata": {
        "id": "_h5mjBGkVqhy"
      },
      "source": [
        "### Plotting results"
      ]
    },
    {
      "cell_type": "code",
      "execution_count": null,
      "metadata": {
        "id": "8Cb7nr0tVqhy"
      },
      "outputs": [],
      "source": [
        "import matplotlib.pyplot as plt\n",
        "import matplotlib.ticker as ticker\n",
        "import numpy as np\n",
        "\n",
        "\n",
        "def showPlot(points):\n",
        "    plt.figure()\n",
        "    fig, ax = plt.subplots()\n",
        "    # this locator puts ticks at regular intervals\n",
        "    loc = ticker.MultipleLocator(base=0.2)\n",
        "    ax.yaxis.set_major_locator(loc)\n",
        "    plt.plot(points)"
      ]
    },
    {
      "cell_type": "markdown",
      "metadata": {
        "id": "Elor0NPsVqh2"
      },
      "source": [
        "### 6. Quality Evaluation"
      ]
    },
    {
      "cell_type": "code",
      "execution_count": null,
      "metadata": {
        "id": "daNldZxdVqh3"
      },
      "outputs": [],
      "source": [
        "def evaluate(encoder, decoder, sentence, max_length=MAX_LENGTH):\n",
        "    with torch.no_grad():\n",
        "        input_tensor = tensorFromSentence(input_lang, sentence)\n",
        "        input_length = input_tensor.size()[0]\n",
        "        encoder_hidden = encoder.initHidden()\n",
        "\n",
        "        encoder_outputs = torch.zeros(max_length, encoder.hidden_size, device=device)\n",
        "\n",
        "        for ei in range(input_length):\n",
        "            encoder_output, encoder_hidden = encoder(input_tensor[ei],\n",
        "                                                     encoder_hidden)\n",
        "            encoder_outputs[ei] += encoder_output[0, 0]\n",
        "\n",
        "        decoder_input = torch.tensor([[SOS_token]], device=device)  # SOS\n",
        "\n",
        "        decoder_hidden = encoder_hidden\n",
        "\n",
        "        decoded_words = []\n",
        "        decoder_attentions = torch.zeros(max_length, max_length)\n",
        "\n",
        "        for di in range(max_length):\n",
        "            decoder_output, decoder_hidden, decoder_attention = decoder(\n",
        "                decoder_input, decoder_hidden, encoder_outputs)\n",
        "            decoder_attentions[di] = decoder_attention.data\n",
        "            topv, topi = decoder_output.data.topk(1)\n",
        "            if topi.item() == EOS_token:\n",
        "                decoded_words.append('<EOS>')\n",
        "                break\n",
        "            else:\n",
        "                decoded_words.append(output_lang.index2word[topi.item()])\n",
        "\n",
        "            decoder_input = topi.squeeze().detach()\n",
        "\n",
        "        return decoded_words, decoder_attentions[:di + 1]"
      ]
    },
    {
      "cell_type": "markdown",
      "metadata": {
        "id": "Mv-MFLmhVqh7"
      },
      "source": [
        "\n",
        "You can look at a couple of sentences from the training sample and assess the quality.\n",
        "\n",
        "\n",
        "\n",
        "\n"
      ]
    },
    {
      "cell_type": "code",
      "execution_count": null,
      "metadata": {
        "id": "d5YMQnaSVqh7"
      },
      "outputs": [],
      "source": [
        "def evaluateRandomly(encoder, decoder, n=10):\n",
        "    for i in range(n):\n",
        "        pair = random.choice(pairs)\n",
        "        print('>', pair[0])\n",
        "        print('=', pair[1])\n",
        "        output_words, attentions = evaluate(encoder, decoder, pair[0])\n",
        "        output_sentence = ''.join(output_words)\n",
        "        print('<', output_sentence)\n",
        "        print('')"
      ]
    },
    {
      "cell_type": "markdown",
      "metadata": {
        "id": "K9WFymSLVqh9"
      },
      "source": [
        "### 7. Start training"
      ]
    },
    {
      "cell_type": "code",
      "execution_count": null,
      "metadata": {
        "colab": {
          "base_uri": "https://localhost:8080/",
          "height": 621
        },
        "id": "J_4Mcw7jVqiA",
        "outputId": "a6edbfa9-3d4b-4a30-d26a-5c71de8d2434"
      },
      "outputs": [
        {
          "name": "stdout",
          "output_type": "stream",
          "text": [
            "(500 10%) 1.2439\n",
            "(1000 20%) 0.6545\n",
            "(1500 30%) 0.4764\n",
            "(2000 40%) 0.2994\n",
            "(2500 50%) 0.1994\n",
            "(3000 60%) 0.1648\n",
            "(3500 70%) 0.1303\n",
            "(4000 80%) 0.1097\n",
            "(4500 90%) 0.1188\n",
            "(5000 100%) 0.0866\n"
          ]
        },
        {
          "data": {
            "text/plain": [
              "<Figure size 640x480 with 0 Axes>"
            ]
          },
          "metadata": {},
          "output_type": "display_data"
        },
        {
          "data": {
            "image/png": "[encoded data removed]",
            "text/plain": [
              "<Figure size 640x480 with 1 Axes>"
            ]
          },
          "metadata": {},
          "output_type": "display_data"
        }
      ],
      "source": [
        "hidden_size = 256\n",
        "encoder1 = EncoderRNN(input_lang.n_words, hidden_size).to(device)\n",
        "attn_decoder1 = AttnDecoderRNN(hidden_size, output_lang.n_words, dropout_p=0.1).to(device)\n",
        "\n",
        "trainIters(encoder1, attn_decoder1, 5000, print_every=500)"
      ]
    },
    {
      "cell_type": "code",
      "execution_count": null,
      "metadata": {
        "colab": {
          "base_uri": "https://localhost:8080/"
        },
        "id": "x3gQ3JEZVqiC",
        "outputId": "c5dbb667-0ef3-4955-e016-71526f304001"
      },
      "outputs": [
        {
          "name": "stdout",
          "output_type": "stream",
          "text": [
            "> 13/06/17\n",
            "= 13-06-2017\n",
            "< 13-06-2017<EOS>\n",
            "\n",
            "> 23/01/18\n",
            "= 23-01-2018\n",
            "< 23-01-2018<EOS>\n",
            "\n",
            "> 12/09/18\n",
            "= 12-09-2018\n",
            "< 12-09-2018<EOS>\n",
            "\n",
            "> 02/01/17\n",
            "= 02-01-2017\n",
            "< 02-01-2017<EOS>\n",
            "\n",
            "> 11-Aug-17\n",
            "= 11-08-2017\n",
            "< 11-08-2017<EOS>\n",
            "\n",
            "> 18/09/17\n",
            "= 18-09-2017\n",
            "< 18-09-2017<EOS>\n",
            "\n",
            "> 30 June 2017\n",
            "= 30-06-2017\n",
            "< 30-07-2017<EOS>\n",
            "\n",
            "> 03/04/2018\n",
            "= 03-04-2018\n",
            "< 03-04-2018<EOS>\n",
            "\n",
            "> 30/08/2018\n",
            "= 30-08-2018\n",
            "< 30-08-2018<EOS>\n",
            "\n",
            "> October 08th, 2017\n",
            "= 08-10-2017\n",
            "< 05-10-2017<EOS>\n",
            "\n"
          ]
        }
      ],
      "source": [
        "evaluateRandomly(encoder1, attn_decoder1)"
      ]
    },
    {
      "cell_type": "markdown",
      "metadata": {
        "id": "GM4X_iyyVqiD"
      },
      "source": [
        "### 8.  Attention visualization\n",
        "\n",
        "For transformer models use [BertViz](https://github.com/jessevig/bertviz)"
      ]
    },
    {
      "cell_type": "code",
      "execution_count": null,
      "metadata": {
        "colab": {
          "base_uri": "https://localhost:8080/",
          "height": 454
        },
        "id": "dianxS9yVqiE",
        "outputId": "1776de40-d80e-45d1-9b23-c5849294ddcf"
      },
      "outputs": [
        {
          "data": {
            "text/plain": [
              "<matplotlib.image.AxesImage at 0x7f3950781480>"
            ]
          },
          "execution_count": 39,
          "metadata": {},
          "output_type": "execute_result"
        },
        {
          "data": {
            "image/png": "[encoded data removed]",
            "text/plain": [
              "<Figure size 916.364x480 with 1 Axes>"
            ]
          },
          "metadata": {},
          "output_type": "display_data"
        }
      ],
      "source": [
        "output_words, attentions = evaluate(\n",
        "    encoder1, attn_decoder1, \"05 October 2017\")\n",
        "plt.matshow(attentions.numpy())"
      ]
    },
    {
      "cell_type": "code",
      "execution_count": null,
      "metadata": {
        "colab": {
          "base_uri": "https://localhost:8080/"
        },
        "id": "aPB2GUJ8e176",
        "outputId": "d5c6e172-044f-4277-e1e8-cfd728b11b9d"
      },
      "outputs": [
        {
          "data": {
            "text/plain": [
              "['0', '5', '-', '1', '0', '-', '2', '0', '1', '7', '<EOS>']"
            ]
          },
          "execution_count": 40,
          "metadata": {},
          "output_type": "execute_result"
        }
      ],
      "source": [
        "output_words"
      ]
    },
    {
      "cell_type": "code",
      "execution_count": null,
      "metadata": {
        "colab": {
          "base_uri": "https://localhost:8080/",
          "height": 454
        },
        "id": "0K9QqSDOVqiG",
        "outputId": "65de1835-9ce0-4e42-b1ff-84babcdd9ef1"
      },
      "outputs": [
        {
          "data": {
            "text/plain": [
              "<matplotlib.image.AxesImage at 0x7f39505fa290>"
            ]
          },
          "execution_count": 41,
          "metadata": {},
          "output_type": "execute_result"
        },
        {
          "data": {
            "image/png": "[encoded data removed]",
            "text/plain": [
              "<Figure size 916.364x480 with 1 Axes>"
            ]
          },
          "metadata": {},
          "output_type": "display_data"
        }
      ],
      "source": [
        "output_words, attentions = evaluate(\n",
        "    encoder1, attn_decoder1, \"05.10.2017\")\n",
        "plt.matshow(attentions.numpy())"
      ]
    },
    {
      "cell_type": "code",
      "execution_count": null,
      "metadata": {
        "id": "6SrR3zPUVqiJ"
      },
      "outputs": [],
      "source": [
        "def showAttention(input_sentence, output_words, attentions):\n",
        "    # Set up figure with colorbar\n",
        "\n",
        "    fig = plt.figure()\n",
        "    ax = fig.add_subplot(111)\n",
        "    cax = ax.matshow(attentions.numpy(), cmap='bone')\n",
        "    fig.colorbar(cax)\n",
        "\n",
        "    # Set up axes\n",
        "    ax.set_xticklabels([''] + list(input_sentence) +\n",
        "                       ['<EOS>'], rotation=90)\n",
        "    ax.set_yticklabels([''] + output_words)\n",
        "\n",
        "    # Show label at every tick\n",
        "    ax.xaxis.set_major_locator(ticker.MultipleLocator(1))\n",
        "    ax.yaxis.set_major_locator(ticker.MultipleLocator(1))\n",
        "\n",
        "    plt.show()\n",
        "\n",
        "\n",
        "\n",
        "def evaluateAndShowAttention(input_sentence):\n",
        "    output_words, attentions = evaluate(\n",
        "        encoder1, attn_decoder1, input_sentence)\n",
        "    print('input =', input_sentence)\n",
        "    print('output =', ''.join(list(output_words)))\n",
        "    showAttention(input_sentence, output_words, attentions)"
      ]
    },
    {
      "cell_type": "code",
      "execution_count": null,
      "metadata": {
        "colab": {
          "base_uri": "https://localhost:8080/",
          "height": 510
        },
        "id": "JgkM0CKDTkBz",
        "outputId": "127a3352-1fe6-4c15-cfce-8a9675cef807"
      },
      "outputs": [
        {
          "name": "stdout",
          "output_type": "stream",
          "text": [
            "input = February 22th, 2018\n",
            "output = 22-02-2018<EOS>\n"
          ]
        },
        {
          "name": "stderr",
          "output_type": "stream",
          "text": [
            "<ipython-input-42-6edc18ede701>:10: UserWarning: FixedFormatter should only be used together with FixedLocator\n",
            "  ax.set_xticklabels([''] + list(input_sentence) +\n",
            "<ipython-input-42-6edc18ede701>:12: UserWarning: FixedFormatter should only be used together with FixedLocator\n",
            "  ax.set_yticklabels([''] + output_words)\n"
          ]
        },
        {
          "data": {
            "image/png": "[encoded data removed]",
            "text/plain": [
              "<Figure size 640x480 with 2 Axes>"
            ]
          },
          "metadata": {},
          "output_type": "display_data"
        }
      ],
      "source": [
        "evaluateAndShowAttention(\"February 22th, 2018\")"
      ]
    },
    {
      "cell_type": "code",
      "execution_count": null,
      "metadata": {
        "colab": {
          "base_uri": "https://localhost:8080/",
          "height": 510
        },
        "id": "MBlFTq3STkB_",
        "outputId": "36d39797-3a26-4a76-a4a8-60c54afa305a"
      },
      "outputs": [
        {
          "name": "stdout",
          "output_type": "stream",
          "text": [
            "input = 04/01/2018\n",
            "output = 04-01-2018<EOS>\n"
          ]
        },
        {
          "name": "stderr",
          "output_type": "stream",
          "text": [
            "<ipython-input-42-6edc18ede701>:10: UserWarning: FixedFormatter should only be used together with FixedLocator\n",
            "  ax.set_xticklabels([''] + list(input_sentence) +\n",
            "<ipython-input-42-6edc18ede701>:12: UserWarning: FixedFormatter should only be used together with FixedLocator\n",
            "  ax.set_yticklabels([''] + output_words)\n"
          ]
        },
        {
          "data": {
            "image/png": "[encoded data removed]",
            "text/plain": [
              "<Figure size 640x480 with 2 Axes>"
            ]
          },
          "metadata": {},
          "output_type": "display_data"
        }
      ],
      "source": [
        "evaluateAndShowAttention(\"04/01/2018\")"
      ]
    },
    {
      "cell_type": "code",
      "execution_count": null,
      "metadata": {
        "colab": {
          "base_uri": "https://localhost:8080/",
          "height": 510
        },
        "id": "0MHN3nTjTkCE",
        "outputId": "7deffe35-2853-407e-84af-5ade0383946f"
      },
      "outputs": [
        {
          "name": "stdout",
          "output_type": "stream",
          "text": [
            "input = December 17th, 2018\n",
            "output = 11-12-2018<EOS>\n"
          ]
        },
        {
          "name": "stderr",
          "output_type": "stream",
          "text": [
            "<ipython-input-42-6edc18ede701>:10: UserWarning: FixedFormatter should only be used together with FixedLocator\n",
            "  ax.set_xticklabels([''] + list(input_sentence) +\n",
            "<ipython-input-42-6edc18ede701>:12: UserWarning: FixedFormatter should only be used together with FixedLocator\n",
            "  ax.set_yticklabels([''] + output_words)\n"
          ]
        },
        {
          "data": {
            "image/png": "[encoded data removed]",
            "text/plain": [
              "<Figure size 640x480 with 2 Axes>"
            ]
          },
          "metadata": {},
          "output_type": "display_data"
        }
      ],
      "source": [
        "evaluateAndShowAttention(\"December 17th, 2018\")"
      ]
    },
    {
      "cell_type": "code",
      "execution_count": null,
      "metadata": {
        "colab": {
          "base_uri": "https://localhost:8080/",
          "height": 510
        },
        "id": "WASvolAhTkCJ",
        "outputId": "49841c7f-97af-4a67-c8cd-856c2e869aa5"
      },
      "outputs": [
        {
          "name": "stdout",
          "output_type": "stream",
          "text": [
            "input = Feb 03, 2018\n",
            "output = 07-02-2018<EOS>\n"
          ]
        },
        {
          "name": "stderr",
          "output_type": "stream",
          "text": [
            "<ipython-input-42-6edc18ede701>:10: UserWarning: FixedFormatter should only be used together with FixedLocator\n",
            "  ax.set_xticklabels([''] + list(input_sentence) +\n",
            "<ipython-input-42-6edc18ede701>:12: UserWarning: FixedFormatter should only be used together with FixedLocator\n",
            "  ax.set_yticklabels([''] + output_words)\n"
          ]
        },
        {
          "data": {
            "image/png": "[encoded data removed]",
            "text/plain": [
              "<Figure size 640x480 with 2 Axes>"
            ]
          },
          "metadata": {},
          "output_type": "display_data"
        }
      ],
      "source": [
        "evaluateAndShowAttention(\"Feb 03, 2018\")"
      ]
    },
    {
      "cell_type": "markdown",
      "metadata": {
        "id": "oiOPssocVqiL"
      },
      "source": [
        "\n",
        "### 9. Evaluate the model on test set"
      ]
    },
    {
      "cell_type": "code",
      "execution_count": null,
      "metadata": {
        "id": "vBLbx9cLVqiL"
      },
      "outputs": [],
      "source": [
        "dataset_test = get_dataset('1/1/2017', '1/1/2019', '%m/%d/%Y')"
      ]
    },
    {
      "cell_type": "code",
      "execution_count": null,
      "metadata": {
        "colab": {
          "base_uri": "https://localhost:8080/"
        },
        "id": "GnzH99yATkCT",
        "outputId": "d3b16885-e312-4223-a694-3d59327b4847"
      },
      "outputs": [
        {
          "data": {
            "text/plain": [
              "10000"
            ]
          },
          "execution_count": 48,
          "metadata": {},
          "output_type": "execute_result"
        }
      ],
      "source": [
        "len(dataset_test)"
      ]
    },
    {
      "cell_type": "code",
      "execution_count": null,
      "metadata": {
        "id": "eImaOuLNVqiO"
      },
      "outputs": [],
      "source": [
        "def accuracy_on_test(encoder, decoder, dataset_test):\n",
        "    i = 0\n",
        "    n = 0\n",
        "    for pair in dataset_test:\n",
        "        pred = []\n",
        "        # pair[1] - target\n",
        "        output_words, attentions = evaluate(encoder, decoder, pair[0])\n",
        "        output_sentence = ''.join(output_words)\n",
        "        # output_sentence - pred\n",
        "        n += 1\n",
        "        i += int(output_sentence[:10]== pair[1][:10])\n",
        "    return i*1. /n\n"
      ]
    },
    {
      "cell_type": "markdown",
      "metadata": {
        "id": "HAydDhnqqKyt"
      },
      "source": [
        "BLEU metric"
      ]
    },
    {
      "cell_type": "code",
      "execution_count": null,
      "metadata": {
        "colab": {
          "base_uri": "https://localhost:8080/"
        },
        "id": "KjdtG3zdp3os",
        "outputId": "07f22cf1-47c2-4c18-b860-53e970beadcc"
      },
      "outputs": [
        {
          "name": "stdout",
          "output_type": "stream",
          "text": [
            "Collecting sacrebleu\n",
            "  Downloading sacrebleu-2.4.1-py3-none-any.whl (106 kB)\n",
            "\u001b[?25l     \u001b[90m━━━━━━━━━━━━━━━━━━━━━━━━━━━━━━━━━━━━━━━━\u001b[0m \u001b[32m0.0/106.6 kB\u001b[0m \u001b[31m?\u001b[0m eta \u001b[36m-:--:--\u001b[0m\r\u001b[2K     \u001b[90m━━━━━━━━━━━━━━━━━━━━━━━━━━━━━━━━━━━━━━━━\u001b[0m \u001b[32m106.6/106.6 kB\u001b[0m \u001b[31m3.0 MB/s\u001b[0m eta \u001b[36m0:00:00\u001b[0m\n",
            "\u001b[?25hCollecting portalocker (from sacrebleu)\n",
            "  Downloading portalocker-2.8.2-py3-none-any.whl (17 kB)\n",
            "Requirement already satisfied: regex in /usr/local/lib/python3.10/dist-packages (from sacrebleu) (2023.12.25)\n",
            "Requirement already satisfied: tabulate>=0.8.9 in /usr/local/lib/python3.10/dist-packages (from sacrebleu) (0.9.0)\n",
            "Requirement already satisfied: numpy>=1.17 in /usr/local/lib/python3.10/dist-packages (from sacrebleu) (1.25.2)\n",
            "Collecting colorama (from sacrebleu)\n",
            "  Downloading colorama-0.4.6-py2.py3-none-any.whl (25 kB)\n",
            "Requirement already satisfied: lxml in /usr/local/lib/python3.10/dist-packages (from sacrebleu) (4.9.4)\n",
            "Installing collected packages: portalocker, colorama, sacrebleu\n",
            "Successfully installed colorama-0.4.6 portalocker-2.8.2 sacrebleu-2.4.1\n"
          ]
        }
      ],
      "source": [
        "!pip install sacrebleu"
      ]
    },
    {
      "cell_type": "code",
      "execution_count": null,
      "metadata": {
        "id": "VXd5lXOmBqQL"
      },
      "outputs": [],
      "source": [
        "import sacrebleu\n",
        "\n",
        "def bleu_on_test(encoder, decoder, dataset_test):\n",
        "    i = 0\n",
        "    n = 0\n",
        "    translated = []\n",
        "    target = []\n",
        "    for pair in dataset_test:\n",
        "        pred = []\n",
        "        # pair[1] - target\n",
        "        output_words, attentions = evaluate(encoder, decoder, pair[0])\n",
        "        output_sentence = ''.join(output_words)\n",
        "        # output_sentence - pred\n",
        "        translated.append(output_sentence[:10])\n",
        "        target.append(pair[1])\n",
        "    bleu = sacrebleu.corpus_bleu(translated, [target])\n",
        "    return bleu.score"
      ]
    },
    {
      "cell_type": "code",
      "execution_count": null,
      "metadata": {
        "colab": {
          "base_uri": "https://localhost:8080/"
        },
        "id": "kj9o8m2dVqiR",
        "outputId": "98722b8e-78cc-4375-b496-723bbdab69b0"
      },
      "outputs": [
        {
          "name": "stdout",
          "output_type": "stream",
          "text": [
            "0.72\n"
          ]
        }
      ],
      "source": [
        "accuracy = accuracy_on_test(encoder1, attn_decoder1, dataset_test[:100])\n",
        "print(accuracy)"
      ]
    },
    {
      "cell_type": "code",
      "execution_count": null,
      "metadata": {
        "colab": {
          "base_uri": "https://localhost:8080/"
        },
        "id": "E0ean8i9DJbp",
        "outputId": "2ca7f19d-625c-4805-9775-5f854a9d4f5d"
      },
      "outputs": [
        {
          "name": "stdout",
          "output_type": "stream",
          "text": [
            "87.36326463765838\n"
          ]
        }
      ],
      "source": [
        "bleu = bleu_on_test(encoder1, attn_decoder1, dataset_test[:100])\n",
        "print(bleu)"
      ]
    },
    {
      "cell_type": "markdown",
      "metadata": {
        "id": "-KSlwkHn1Kmp"
      },
      "source": [
        "The better mentric to more complex seq2seq tasks might be [BERTScore](https://huggingface.co/spaces/evaluate-metric/bertscore)"
      ]
    },
    {
      "cell_type": "markdown",
      "metadata": {
        "id": "l9WjHZWBkAqz"
      },
      "source": [
        "### Exercise 1\n",
        "\n",
        "Replace the score function in Attention layer following the tutorial https://pytorch.org/tutorials/beginner/deploy_seq2seq_hybrid_frontend_tutorial.html#define-decoders-attention-module"
      ]
    },
    {
      "cell_type": "markdown",
      "metadata": {
        "id": "VCbwqanMlk3q"
      },
      "source": [
        "Train a model with a new Decoder"
      ]
    },
    {
      "cell_type": "code",
      "execution_count": null,
      "metadata": {
        "colab": {
          "base_uri": "https://localhost:8080/",
          "height": 621
        },
        "id": "XaowW6cvlZjr",
        "outputId": "0abc62c1-ddf7-4790-f647-429641dd4514"
      },
      "outputs": [
        {
          "name": "stdout",
          "output_type": "stream",
          "text": [
            "(500 10%) 1.2520\n",
            "(1000 20%) 0.6215\n",
            "(1500 30%) 0.4150\n",
            "(2000 40%) 0.1915\n",
            "(2500 50%) 0.1798\n",
            "(3000 60%) 0.1170\n",
            "(3500 70%) 0.1259\n",
            "(4000 80%) 0.1455\n",
            "(4500 90%) 0.1053\n",
            "(5000 100%) 0.0958\n"
          ]
        },
        {
          "data": {
            "text/plain": [
              "<Figure size 640x480 with 0 Axes>"
            ]
          },
          "metadata": {},
          "output_type": "display_data"
        },
        {
          "data": {
            "image/png": "[encoded data removed]",
            "text/plain": [
              "<Figure size 640x480 with 1 Axes>"
            ]
          },
          "metadata": {},
          "output_type": "display_data"
        }
      ],
      "source": [
        "hidden_size = 256\n",
        "encoder1 = EncoderRNN(input_lang.n_words, hidden_size).to(device)\n",
        "attn_decoder1 = AttnDecoderRNN(hidden_size, output_lang.n_words, dropout_p=0.1).to(device)\n",
        "\n",
        "trainIters(encoder1, attn_decoder1, 5000, print_every=500)"
      ]
    },
    {
      "cell_type": "markdown",
      "metadata": {
        "id": "cWQoQDVGlpfX"
      },
      "source": [
        "Let's see how the attention quotients have changed.\n",
        "\n"
      ]
    },
    {
      "cell_type": "code",
      "execution_count": null,
      "metadata": {
        "colab": {
          "base_uri": "https://localhost:8080/",
          "height": 510
        },
        "id": "e72bJr__ly2U",
        "outputId": "6f5f8b14-0c90-4254-c659-92bf354b57e2"
      },
      "outputs": [
        {
          "name": "stdout",
          "output_type": "stream",
          "text": [
            "input = December 17th, 2018\n",
            "output = 05-12-2018<EOS>\n"
          ]
        },
        {
          "name": "stderr",
          "output_type": "stream",
          "text": [
            "<ipython-input-42-6edc18ede701>:10: UserWarning: FixedFormatter should only be used together with FixedLocator\n",
            "  ax.set_xticklabels([''] + list(input_sentence) +\n",
            "<ipython-input-42-6edc18ede701>:12: UserWarning: FixedFormatter should only be used together with FixedLocator\n",
            "  ax.set_yticklabels([''] + output_words)\n"
          ]
        },
        {
          "data": {
            "image/png": "[encoded data removed]",
            "text/plain": [
              "<Figure size 640x480 with 2 Axes>"
            ]
          },
          "metadata": {},
          "output_type": "display_data"
        }
      ],
      "source": [
        "evaluateAndShowAttention(\"December 17th, 2018\")"
      ]
    },
    {
      "cell_type": "markdown",
      "metadata": {
        "id": "oJ84JPKDl59b"
      },
      "source": [
        "Now the sequence is decoded correctly.\n",
        "\n"
      ]
    },
    {
      "cell_type": "markdown",
      "metadata": {
        "id": "5DPkI-Wil_n-"
      },
      "source": [
        "Try to change the functions score to 'dot' and 'concat' in the tutorial."
      ]
    },
    {
      "cell_type": "markdown",
      "metadata": {
        "id": "09AssJzhEMX7"
      },
      "source": [
        "### Exercise 2\n",
        "\n",
        "Replace AttnDecoderRNN with simple DecoderRNN\n"
      ]
    },
    {
      "cell_type": "code",
      "execution_count": null,
      "metadata": {
        "id": "63-gaIGcVqho"
      },
      "outputs": [],
      "source": [
        "# simple decoder\n",
        "class DecoderRNN(nn.Module):\n",
        "    def __init__(self, hidden_size, output_size):\n",
        "        super(DecoderRNN, self).__init__()\n",
        "        self.hidden_size = hidden_size\n",
        "\n",
        "        self.embedding = nn.Embedding(output_size, hidden_size)\n",
        "        self.gru = nn.GRU(hidden_size, hidden_size)\n",
        "        self.out = nn.Linear(hidden_size, output_size)\n",
        "        self.softmax = nn.LogSoftmax(dim=1)\n",
        "\n",
        "    def forward(self, input, hidden):\n",
        "        output = self.embedding(input).view(1, 1, -1)\n",
        "        output = F.relu(output)\n",
        "        output, hidden = self.gru(output, hidden)\n",
        "        output = self.softmax(self.out(output[0]))\n",
        "        return output, hidden\n",
        "\n",
        "    def initHidden(self):\n",
        "        return torch.zeros(1, 1, self.hidden_size, device=device)"
      ]
    },
    {
      "cell_type": "markdown",
      "metadata": {
        "id": "ydGBhaX8E08Y"
      },
      "source": [
        "### Exercise 3\n",
        "\n",
        "Implement bidirectional GRU in Encoder following\n",
        "https://discuss.pytorch.org/t/about-bidirectional-gru-with-seq2seq-example-and-some-modifications/15588"
      ]
    },
    {
      "cell_type": "code",
      "execution_count": null,
      "metadata": {
        "id": "ksqd3PGi82Fr"
      },
      "outputs": [],
      "source": []
    }
  ],
  "metadata": {
    "accelerator": "GPU",
    "colab": {
      "provenance": []
    },
    "gpuClass": "standard",
    "kernelspec": {
      "display_name": "Python 3",
      "language": "python",
      "name": "python3"
    },
    "language_info": {
      "codemirror_mode": {
        "name": "ipython",
        "version": 3
      },
      "file_extension": ".py",
      "mimetype": "text/x-python",
      "name": "python",
      "nbconvert_exporter": "python",
      "pygments_lexer": "ipython3",
      "version": "3.10.11"
    }
  },
  "nbformat": 4,
  "nbformat_minor": 0
}
