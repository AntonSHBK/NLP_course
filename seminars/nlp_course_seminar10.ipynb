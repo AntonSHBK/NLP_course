{
  "cells": [
    {
      "cell_type": "markdown",
      "metadata": {
        "id": "7esTMpJd5zV8"
      },
      "source": [
        "# Question Answering\n",
        "\n",
        "Based on HuggingFace tutorial"
      ]
    },
    {
      "cell_type": "code",
      "execution_count": null,
      "metadata": {
        "colab": {
          "base_uri": "https://localhost:8080/"
        },
        "id": "MOsHUjgdIrIW",
        "outputId": "a0fbb731-cfe1-4ab0-8a49-888082d91c8f"
      },
      "outputs": [
        {
          "name": "stdout",
          "output_type": "stream",
          "text": [
            "Requirement already satisfied: datasets in /usr/local/lib/python3.10/dist-packages (2.18.0)\n",
            "Requirement already satisfied: transformers in /usr/local/lib/python3.10/dist-packages (4.38.2)\n",
            "Collecting transformers\n",
            "  Downloading transformers-4.40.0-py3-none-any.whl (9.0 MB)\n",
            "\u001b[2K     \u001b[90m━━━━━━━━━━━━━━━━━━━━━━━━━━━━━━━━━━━━━━━━\u001b[0m \u001b[32m9.0/9.0 MB\u001b[0m \u001b[31m36.2 MB/s\u001b[0m eta \u001b[36m0:00:00\u001b[0m\n",
            "\u001b[?25hRequirement already satisfied: accelerate in /usr/local/lib/python3.10/dist-packages (0.29.3)\n",
            "Requirement already satisfied: filelock in /usr/local/lib/python3.10/dist-packages (from datasets) (3.13.4)\n",
            "Requirement already satisfied: numpy>=1.17 in /usr/local/lib/python3.10/dist-packages (from datasets) (1.25.2)\n",
            "Requirement already satisfied: pyarrow>=12.0.0 in /usr/local/lib/python3.10/dist-packages (from datasets) (14.0.2)\n",
            "Requirement already satisfied: pyarrow-hotfix in /usr/local/lib/python3.10/dist-packages (from datasets) (0.6)\n",
            "Requirement already satisfied: dill<0.3.9,>=0.3.0 in /usr/local/lib/python3.10/dist-packages (from datasets) (0.3.8)\n",
            "Requirement already satisfied: pandas in /usr/local/lib/python3.10/dist-packages (from datasets) (2.0.3)\n",
            "Requirement already satisfied: requests>=2.19.0 in /usr/local/lib/python3.10/dist-packages (from datasets) (2.31.0)\n",
            "Requirement already satisfied: tqdm>=4.62.1 in /usr/local/lib/python3.10/dist-packages (from datasets) (4.66.2)\n",
            "Requirement already satisfied: xxhash in /usr/local/lib/python3.10/dist-packages (from datasets) (3.4.1)\n",
            "Requirement already satisfied: multiprocess in /usr/local/lib/python3.10/dist-packages (from datasets) (0.70.16)\n",
            "Requirement already satisfied: fsspec[http]<=2024.2.0,>=2023.1.0 in /usr/local/lib/python3.10/dist-packages (from datasets) (2023.6.0)\n",
            "Requirement already satisfied: aiohttp in /usr/local/lib/python3.10/dist-packages (from datasets) (3.9.5)\n",
            "Requirement already satisfied: huggingface-hub>=0.19.4 in /usr/local/lib/python3.10/dist-packages (from datasets) (0.20.3)\n",
            "Requirement already satisfied: packaging in /usr/local/lib/python3.10/dist-packages (from datasets) (24.0)\n",
            "Requirement already satisfied: pyyaml>=5.1 in /usr/local/lib/python3.10/dist-packages (from datasets) (6.0.1)\n",
            "Requirement already satisfied: regex!=2019.12.17 in /usr/local/lib/python3.10/dist-packages (from transformers) (2023.12.25)\n",
            "Collecting tokenizers<0.20,>=0.19 (from transformers)\n",
            "  Downloading tokenizers-0.19.1-cp310-cp310-manylinux_2_17_x86_64.manylinux2014_x86_64.whl (3.6 MB)\n",
            "\u001b[2K     \u001b[90m━━━━━━━━━━━━━━━━━━━━━━━━━━━━━━━━━━━━━━━━\u001b[0m \u001b[32m3.6/3.6 MB\u001b[0m \u001b[31m93.0 MB/s\u001b[0m eta \u001b[36m0:00:00\u001b[0m\n",
            "\u001b[?25hRequirement already satisfied: safetensors>=0.4.1 in /usr/local/lib/python3.10/dist-packages (from transformers) (0.4.3)\n",
            "Requirement already satisfied: psutil in /usr/local/lib/python3.10/dist-packages (from accelerate) (5.9.5)\n",
            "Requirement already satisfied: torch>=1.10.0 in /usr/local/lib/python3.10/dist-packages (from accelerate) (2.2.1+cu121)\n",
            "Requirement already satisfied: aiosignal>=1.1.2 in /usr/local/lib/python3.10/dist-packages (from aiohttp->datasets) (1.3.1)\n",
            "Requirement already satisfied: attrs>=17.3.0 in /usr/local/lib/python3.10/dist-packages (from aiohttp->datasets) (23.2.0)\n",
            "Requirement already satisfied: frozenlist>=1.1.1 in /usr/local/lib/python3.10/dist-packages (from aiohttp->datasets) (1.4.1)\n",
            "Requirement already satisfied: multidict<7.0,>=4.5 in /usr/local/lib/python3.10/dist-packages (from aiohttp->datasets) (6.0.5)\n",
            "Requirement already satisfied: yarl<2.0,>=1.0 in /usr/local/lib/python3.10/dist-packages (from aiohttp->datasets) (1.9.4)\n",
            "Requirement already satisfied: async-timeout<5.0,>=4.0 in /usr/local/lib/python3.10/dist-packages (from aiohttp->datasets) (4.0.3)\n",
            "Requirement already satisfied: typing-extensions>=3.7.4.3 in /usr/local/lib/python3.10/dist-packages (from huggingface-hub>=0.19.4->datasets) (4.11.0)\n",
            "Requirement already satisfied: charset-normalizer<4,>=2 in /usr/local/lib/python3.10/dist-packages (from requests>=2.19.0->datasets) (3.3.2)\n",
            "Requirement already satisfied: idna<4,>=2.5 in /usr/local/lib/python3.10/dist-packages (from requests>=2.19.0->datasets) (3.7)\n",
            "Requirement already satisfied: urllib3<3,>=1.21.1 in /usr/local/lib/python3.10/dist-packages (from requests>=2.19.0->datasets) (2.0.7)\n",
            "Requirement already satisfied: certifi>=2017.4.17 in /usr/local/lib/python3.10/dist-packages (from requests>=2.19.0->datasets) (2024.2.2)\n",
            "Requirement already satisfied: sympy in /usr/local/lib/python3.10/dist-packages (from torch>=1.10.0->accelerate) (1.12)\n",
            "Requirement already satisfied: networkx in /usr/local/lib/python3.10/dist-packages (from torch>=1.10.0->accelerate) (3.3)\n",
            "Requirement already satisfied: jinja2 in /usr/local/lib/python3.10/dist-packages (from torch>=1.10.0->accelerate) (3.1.3)\n",
            "Requirement already satisfied: nvidia-cuda-nvrtc-cu12==12.1.105 in /usr/local/lib/python3.10/dist-packages (from torch>=1.10.0->accelerate) (12.1.105)\n",
            "Requirement already satisfied: nvidia-cuda-runtime-cu12==12.1.105 in /usr/local/lib/python3.10/dist-packages (from torch>=1.10.0->accelerate) (12.1.105)\n",
            "Requirement already satisfied: nvidia-cuda-cupti-cu12==12.1.105 in /usr/local/lib/python3.10/dist-packages (from torch>=1.10.0->accelerate) (12.1.105)\n",
            "Requirement already satisfied: nvidia-cudnn-cu12==8.9.2.26 in /usr/local/lib/python3.10/dist-packages (from torch>=1.10.0->accelerate) (8.9.2.26)\n",
            "Requirement already satisfied: nvidia-cublas-cu12==12.1.3.1 in /usr/local/lib/python3.10/dist-packages (from torch>=1.10.0->accelerate) (12.1.3.1)\n",
            "Requirement already satisfied: nvidia-cufft-cu12==11.0.2.54 in /usr/local/lib/python3.10/dist-packages (from torch>=1.10.0->accelerate) (11.0.2.54)\n",
            "Requirement already satisfied: nvidia-curand-cu12==10.3.2.106 in /usr/local/lib/python3.10/dist-packages (from torch>=1.10.0->accelerate) (10.3.2.106)\n",
            "Requirement already satisfied: nvidia-cusolver-cu12==11.4.5.107 in /usr/local/lib/python3.10/dist-packages (from torch>=1.10.0->accelerate) (11.4.5.107)\n",
            "Requirement already satisfied: nvidia-cusparse-cu12==12.1.0.106 in /usr/local/lib/python3.10/dist-packages (from torch>=1.10.0->accelerate) (12.1.0.106)\n",
            "Requirement already satisfied: nvidia-nccl-cu12==2.19.3 in /usr/local/lib/python3.10/dist-packages (from torch>=1.10.0->accelerate) (2.19.3)\n",
            "Requirement already satisfied: nvidia-nvtx-cu12==12.1.105 in /usr/local/lib/python3.10/dist-packages (from torch>=1.10.0->accelerate) (12.1.105)\n",
            "Requirement already satisfied: triton==2.2.0 in /usr/local/lib/python3.10/dist-packages (from torch>=1.10.0->accelerate) (2.2.0)\n",
            "Requirement already satisfied: nvidia-nvjitlink-cu12 in /usr/local/lib/python3.10/dist-packages (from nvidia-cusolver-cu12==11.4.5.107->torch>=1.10.0->accelerate) (12.4.127)\n",
            "Requirement already satisfied: python-dateutil>=2.8.2 in /usr/local/lib/python3.10/dist-packages (from pandas->datasets) (2.8.2)\n",
            "Requirement already satisfied: pytz>=2020.1 in /usr/local/lib/python3.10/dist-packages (from pandas->datasets) (2023.4)\n",
            "Requirement already satisfied: tzdata>=2022.1 in /usr/local/lib/python3.10/dist-packages (from pandas->datasets) (2024.1)\n",
            "Requirement already satisfied: six>=1.5 in /usr/local/lib/python3.10/dist-packages (from python-dateutil>=2.8.2->pandas->datasets) (1.16.0)\n",
            "Requirement already satisfied: MarkupSafe>=2.0 in /usr/local/lib/python3.10/dist-packages (from jinja2->torch>=1.10.0->accelerate) (2.1.5)\n",
            "Requirement already satisfied: mpmath>=0.19 in /usr/local/lib/python3.10/dist-packages (from sympy->torch>=1.10.0->accelerate) (1.3.0)\n",
            "Installing collected packages: tokenizers, transformers\n",
            "  Attempting uninstall: tokenizers\n",
            "    Found existing installation: tokenizers 0.15.2\n",
            "    Uninstalling tokenizers-0.15.2:\n",
            "      Successfully uninstalled tokenizers-0.15.2\n",
            "  Attempting uninstall: transformers\n",
            "    Found existing installation: transformers 4.38.2\n",
            "    Uninstalling transformers-4.38.2:\n",
            "      Successfully uninstalled transformers-4.38.2\n",
            "Successfully installed tokenizers-0.19.1 transformers-4.40.0\n"
          ]
        }
      ],
      "source": [
        "! pip install datasets transformers accelerate vllm -U"
      ]
    },
    {
      "cell_type": "markdown",
      "metadata": {
        "id": "T7lfojSqtcLC"
      },
      "source": [
        "If you're opening this notebook locally, make sure your environment has an install from the last version of those libraries.\n",
        "\n",
        "To be able to share your model with the community and generate results like the one shown in the picture below via the inference API, there are a few more steps to follow.\n",
        "\n",
        "First you have to store your authentication token from the Hugging Face website (sign up [here](https://huggingface.co/join) if you haven't already!) then execute the following cell and input your username and password:"
      ]
    },
    {
      "cell_type": "code",
      "execution_count": null,
      "metadata": {
        "id": "u7aA_ogitcLD"
      },
      "outputs": [],
      "source": [
        "# from huggingface_hub import notebook_login\n",
        "\n",
        "# notebook_login()"
      ]
    },
    {
      "cell_type": "markdown",
      "metadata": {
        "id": "dwrU2X0ytcLD"
      },
      "source": [
        "Then you need to install Git-LFS. Uncomment the following instructions:"
      ]
    },
    {
      "cell_type": "code",
      "execution_count": null,
      "metadata": {
        "id": "-FdBpVzKtcLD"
      },
      "outputs": [],
      "source": [
        "# !apt install git-lfs"
      ]
    },
    {
      "cell_type": "markdown",
      "metadata": {
        "id": "OWgGshiutcLE"
      },
      "source": [
        "Make sure your version of Transformers is at least 4.11.0 since the functionality was introduced in that version:"
      ]
    },
    {
      "cell_type": "code",
      "execution_count": null,
      "metadata": {
        "colab": {
          "base_uri": "https://localhost:8080/"
        },
        "id": "eRj57clAtcLE",
        "outputId": "b025d796-6853-4e92-a8f0-5183819b45be"
      },
      "outputs": [
        {
          "name": "stdout",
          "output_type": "stream",
          "text": [
            "4.40.0\n"
          ]
        }
      ],
      "source": [
        "import transformers\n",
        "\n",
        "print(transformers.__version__)"
      ]
    },
    {
      "cell_type": "markdown",
      "metadata": {
        "id": "HFASsisvIrIb"
      },
      "source": [
        "You can find a script version of this notebook to fine-tune your model in a distributed fashion using multiple GPUs or TPUs [here](https://github.com/huggingface/transformers/tree/master/examples/question-answering)."
      ]
    },
    {
      "cell_type": "markdown",
      "metadata": {
        "id": "rEJBSTyZIrIb"
      },
      "source": [
        "# Fine-tuning a model on a question-answering task"
      ]
    },
    {
      "cell_type": "markdown",
      "metadata": {
        "id": "WDzbzGAMtcLF"
      },
      "source": [
        "In this notebook, we will see how to fine-tune one of the [🤗 Transformers](https://github.com/huggingface/transformers) model to a question answering task, which is the task of extracting the answer to a question from a given context. We will see how to easily load a dataset for these kinds of tasks and use the `Trainer` API to fine-tune a model on it.\n",
        "\n",
        "\n",
        "**Note:** This notebook finetunes models that answer question by taking a substring of a context, not by generating new text."
      ]
    },
    {
      "cell_type": "markdown",
      "metadata": {
        "id": "4RRkXuteIrIh"
      },
      "source": [
        "This notebook is built to run on any question answering task with the same format as SQUAD (version 1 or 2), with any model checkpoint from the [Model Hub](https://huggingface.co/models) as long as that model has a version with a token classification head and a fast tokenizer (check on [this table](https://huggingface.co/transformers/index.html#bigtable) if this is the case). It might just need some small adjustments if you decide to use a different dataset than the one used here. Depending on you model and the GPU you are using, you might need to adjust the batch size to avoid out-of-memory errors. Set those three parameters, then the rest of the notebook should run smoothly:"
      ]
    },
    {
      "cell_type": "code",
      "execution_count": null,
      "metadata": {
        "id": "zVvslsfMIrIh"
      },
      "outputs": [],
      "source": [
        "# This flag is the difference between SQUAD v1 or 2 (if you're using another dataset, it indicates if impossible\n",
        "# answers are allowed or not).\n",
        "squad_v2 = False\n",
        "model_checkpoint = \"prajjwal1/bert-tiny\"\n",
        "batch_size = 16"
      ]
    },
    {
      "cell_type": "markdown",
      "metadata": {
        "id": "whPRbBNbIrIl"
      },
      "source": [
        "## Loading the dataset"
      ]
    },
    {
      "cell_type": "markdown",
      "metadata": {
        "id": "W7QYTpxXIrIl"
      },
      "source": [
        "We will use the [🤗 Datasets](https://github.com/huggingface/datasets) library to download the data and get the metric we need to use for evaluation (to compare our model to the benchmark). This can be easily done with the functions `load_dataset` and `load_metric`.  "
      ]
    },
    {
      "cell_type": "code",
      "execution_count": null,
      "metadata": {
        "id": "IreSlFmlIrIm"
      },
      "outputs": [],
      "source": [
        "from datasets import load_dataset, load_metric"
      ]
    },
    {
      "cell_type": "markdown",
      "metadata": {
        "id": "CKx2zKs5IrIq"
      },
      "source": [
        "For our example here, we'll use the [SQUAD dataset](https://rajpurkar.github.io/SQuAD-explorer/). The notebook should work with any question answering dataset provided by the 🤗 Datasets library. If you're using your own dataset defined from a JSON or csv file (see the [Datasets documentation](https://huggingface.co/docs/datasets/loading_datasets.html#from-local-files) on how to load them), it might need some adjustments in the names of the columns used."
      ]
    },
    {
      "cell_type": "code",
      "execution_count": null,
      "metadata": {
        "colab": {
          "base_uri": "https://localhost:8080/"
        },
        "id": "s_AY1ATSIrIq",
        "outputId": "ede013b3-a0ea-4339-b27b-52b706c47f83"
      },
      "outputs": [
        {
          "name": "stderr",
          "output_type": "stream",
          "text": [
            "/usr/local/lib/python3.10/dist-packages/huggingface_hub/utils/_token.py:88: UserWarning: \n",
            "The secret `HF_TOKEN` does not exist in your Colab secrets.\n",
            "To authenticate with the Hugging Face Hub, create a token in your settings tab (https://huggingface.co/settings/tokens), set it as secret in your Google Colab and restart your session.\n",
            "You will be able to reuse this secret in all of your notebooks.\n",
            "Please note that authentication is recommended but still optional to access public models or datasets.\n",
            "  warnings.warn(\n"
          ]
        }
      ],
      "source": [
        "datasets = load_dataset(\"squad_v2\" if squad_v2 else \"squad\")"
      ]
    },
    {
      "cell_type": "markdown",
      "metadata": {
        "id": "RzfPtOMoIrIu"
      },
      "source": [
        "The `datasets` object itself is [`DatasetDict`](https://huggingface.co/docs/datasets/package_reference/main_classes.html#datasetdict), which contains one key for the training, validation and test set."
      ]
    },
    {
      "cell_type": "code",
      "execution_count": null,
      "metadata": {
        "colab": {
          "base_uri": "https://localhost:8080/"
        },
        "id": "GWiVUF0jIrIv",
        "outputId": "ede06f5a-c5a8-4c6d-9279-ca3af134480f"
      },
      "outputs": [
        {
          "data": {
            "text/plain": [
              "DatasetDict({\n",
              "    train: Dataset({\n",
              "        features: ['id', 'title', 'context', 'question', 'answers'],\n",
              "        num_rows: 87599\n",
              "    })\n",
              "    validation: Dataset({\n",
              "        features: ['id', 'title', 'context', 'question', 'answers'],\n",
              "        num_rows: 10570\n",
              "    })\n",
              "})"
            ]
          },
          "execution_count": 8,
          "metadata": {},
          "output_type": "execute_result"
        }
      ],
      "source": [
        "datasets"
      ]
    },
    {
      "cell_type": "markdown",
      "metadata": {
        "id": "9nW_uMoTtcLI"
      },
      "source": [
        "We can see the training, validation and test sets all have a column for the context, the question and the answers to those questions."
      ]
    },
    {
      "cell_type": "markdown",
      "metadata": {
        "id": "u3EtYfeHIrIz"
      },
      "source": [
        "To access an actual element, you need to select a split first, then give an index:"
      ]
    },
    {
      "cell_type": "code",
      "execution_count": null,
      "metadata": {
        "colab": {
          "base_uri": "https://localhost:8080/"
        },
        "id": "X6HrpprwIrIz",
        "outputId": "87014cc0-567d-4c6a-f88c-9f6e1a2b3a53"
      },
      "outputs": [
        {
          "data": {
            "text/plain": [
              "{'id': '5733be284776f41900661182',\n",
              " 'title': 'University_of_Notre_Dame',\n",
              " 'context': 'Architecturally, the school has a Catholic character. Atop the Main Building\\'s gold dome is a golden statue of the Virgin Mary. Immediately in front of the Main Building and facing it, is a copper statue of Christ with arms upraised with the legend \"Venite Ad Me Omnes\". Next to the Main Building is the Basilica of the Sacred Heart. Immediately behind the basilica is the Grotto, a Marian place of prayer and reflection. It is a replica of the grotto at Lourdes, France where the Virgin Mary reputedly appeared to Saint Bernadette Soubirous in 1858. At the end of the main drive (and in a direct line that connects through 3 statues and the Gold Dome), is a simple, modern stone statue of Mary.',\n",
              " 'question': 'To whom did the Virgin Mary allegedly appear in 1858 in Lourdes France?',\n",
              " 'answers': {'text': ['Saint Bernadette Soubirous'], 'answer_start': [515]}}"
            ]
          },
          "execution_count": 9,
          "metadata": {},
          "output_type": "execute_result"
        }
      ],
      "source": [
        "datasets[\"train\"][0]"
      ]
    },
    {
      "cell_type": "markdown",
      "metadata": {
        "id": "8TrBZB5JtcLJ"
      },
      "source": [
        "We can see the answers are indicated by their start position in the text (here at character 515) and their full text, which is a substring of the context as we mentioned above."
      ]
    },
    {
      "cell_type": "markdown",
      "metadata": {
        "id": "WHUmphG3IrI3"
      },
      "source": [
        "To get a sense of what the data looks like, the following function will show some examples picked randomly in the dataset (automatically decoding the labels in passing)."
      ]
    },
    {
      "cell_type": "code",
      "execution_count": null,
      "metadata": {
        "id": "i3j8APAoIrI3"
      },
      "outputs": [],
      "source": [
        "from datasets import ClassLabel, Sequence\n",
        "import random\n",
        "import pandas as pd\n",
        "from IPython.display import display, HTML\n",
        "\n",
        "def show_random_elements(dataset, num_examples=10):\n",
        "    assert num_examples <= len(dataset), \"Can't pick more elements than there are in the dataset.\"\n",
        "    picks = []\n",
        "    for _ in range(num_examples):\n",
        "        pick = random.randint(0, len(dataset)-1)\n",
        "        while pick in picks:\n",
        "            pick = random.randint(0, len(dataset)-1)\n",
        "        picks.append(pick)\n",
        "\n",
        "    df = pd.DataFrame(dataset[picks])\n",
        "    for column, typ in dataset.features.items():\n",
        "        if isinstance(typ, ClassLabel):\n",
        "            df[column] = df[column].transform(lambda i: typ.names[i])\n",
        "        elif isinstance(typ, Sequence) and isinstance(typ.feature, ClassLabel):\n",
        "            df[column] = df[column].transform(lambda x: [typ.feature.names[i] for i in x])\n",
        "    display(HTML(df.to_html()))"
      ]
    },
    {
      "cell_type": "code",
      "execution_count": null,
      "metadata": {
        "colab": {
          "base_uri": "https://localhost:8080/",
          "height": 1000
        },
        "id": "SZy5tRB_IrI7",
        "outputId": "1f9cadc1-249f-4de1-b551-812e3f69f0b1",
        "scrolled": true
      },
      "outputs": [
        {
          "data": {
            "text/html": [
              "<table border=\"1\" class=\"dataframe\">\n",
              "  <thead>\n",
              "    <tr style=\"text-align: right;\">\n",
              "      <th></th>\n",
              "      <th>id</th>\n",
              "      <th>title</th>\n",
              "      <th>context</th>\n",
              "      <th>question</th>\n",
              "      <th>answers</th>\n",
              "    </tr>\n",
              "  </thead>\n",
              "  <tbody>\n",
              "    <tr>\n",
              "      <th>0</th>\n",
              "      <td>5733496fd058e614000b582f</td>\n",
              "      <td>Portugal</td>\n",
              "      <td>In 1348 and 1349 Portugal, like the rest of Europe, was devastated by the Black Death. In 1373, Portugal made an alliance with England, which is the longest-standing alliance in the world. This alliance served both nations' interests throughout history and is regarded by many as the predecessor to NATO. Over time this went way beyond geo-political and military cooperation (protecting both nations' interests in Africa, the Americas and Asia against French, Spanish and Dutch rivals) and maintained strong trade and cultural ties between the two old European allies. Particularly in the Oporto region, there is visible English influence to this day.</td>\n",
              "      <td>The Portugal-English alliance served as the predecessor to what?</td>\n",
              "      <td>{'text': ['NATO'], 'answer_start': [299]}</td>\n",
              "    </tr>\n",
              "    <tr>\n",
              "      <th>1</th>\n",
              "      <td>5727a440ff5b5019007d91bb</td>\n",
              "      <td>Child_labour</td>\n",
              "      <td>According to Milton Friedman, before the Industrial Revolution virtually all children worked in agriculture. During the Industrial Revolution many of these children moved from farm work to factory work. Over time, as real wages rose, parents became able to afford to send their children to school instead of work and as a result child labour declined, both before and after legislation. Austrian School economist Murray Rothbard said that British and American children of the pre- and post-Industrial Revolution lived and suffered in infinitely worse conditions where jobs were not available for them and went \"voluntarily and gladly\" to work in factories.</td>\n",
              "      <td>What did parents do when the wages were finally raised?</td>\n",
              "      <td>{'text': ['send their children to school instead of work'], 'answer_start': [267]}</td>\n",
              "    </tr>\n",
              "    <tr>\n",
              "      <th>2</th>\n",
              "      <td>57279ec2ff5b5019007d9135</td>\n",
              "      <td>Alsace</td>\n",
              "      <td>Alsace-Lorraine was occupied by Germany in 1940 during the Second World War. Although Germany never formally annexed Alsace-Lorraine, it was incorporated into the Greater German Reich, which had been restructured into Reichsgaue. Alsace was merged with Baden, and Lorraine with the Saarland, to become part of a planned Westmark. During the war, 130,000 young men from Alsace and Lorraine were inducted into the German army against their will (malgré-nous) and in some cases, the Waffen SS. Some of the latter were involved in war crimes such as the Oradour-sur-Glane massacre. Most of them perished on the eastern front. The few that could escape fled to Switzerland or joined the resistance. In July 1944, 1500 malgré-nous were released from Soviet captivity and sent to Algiers, where they joined the Free French Forces.</td>\n",
              "      <td>Approximately how many Alsace and Lorraine men were forced into the German army during World War II?</td>\n",
              "      <td>{'text': ['130,000'], 'answer_start': [346]}</td>\n",
              "    </tr>\n",
              "    <tr>\n",
              "      <th>3</th>\n",
              "      <td>570de8a70b85d914000d7bb1</td>\n",
              "      <td>Adolescence</td>\n",
              "      <td>Some researchers are now focusing on learning about how adolescents view their own relationships and sexuality; they want to move away from a research point of view that focuses on the problems associated with adolescent sexuality.[why?] College Professor Lucia O'Sullivan and her colleagues found that there weren't any significant gender differences in the relationship events adolescent boys and girls from grades 7-12 reported. Most teens said they had kissed their partners, held hands with them, thought of themselves as being a couple and told people they were in a relationship. This means that private thoughts about the relationship as well as public recognition of the relationship were both important to the adolescents in the sample. Sexual events (such as sexual touching, sexual intercourse) were less common than romantic events (holding hands) and social events (being with one's partner in a group setting). The researchers state that these results are important because the results focus on the more positive aspects of adolescents and their social and romantic interactions rather than focusing on sexual behavior and its consequences.</td>\n",
              "      <td>Did adolescents report more sexual or social events to researchers?</td>\n",
              "      <td>{'text': ['social events'], 'answer_start': [865]}</td>\n",
              "    </tr>\n",
              "    <tr>\n",
              "      <th>4</th>\n",
              "      <td>5726ec2bdd62a815002e955b</td>\n",
              "      <td>Korean_War</td>\n",
              "      <td>Chinese troops suffered from deficient military equipment, serious logistical problems, overextended communication and supply lines, and the constant threat of UN bombers. All of these factors generally led to a rate of Chinese casualties that was far greater than the casualties suffered by UN troops. The situation became so serious that, on November 1951, Zhou Enlai called a conference in Shenyang to discuss the PVA's logistical problems. At the meeting it was decided to accelerate the construction of railways and airfields in the area, to increase the number of trucks available to the army, and to improve air defense by any means possible. These commitments did little to directly address the problems confronting PVA troops.</td>\n",
              "      <td>What did Zhou Enlai do as a result of the significant amount of Chinese casualties?</td>\n",
              "      <td>{'text': ['called a conference in Shenyang'], 'answer_start': [370]}</td>\n",
              "    </tr>\n",
              "    <tr>\n",
              "      <th>5</th>\n",
              "      <td>572f42c2947a6a140053c81e</td>\n",
              "      <td>Railway_electrification_system</td>\n",
              "      <td>The key advantage of the four-rail system is that neither running rail carries any current. This scheme was introduced because of the problems of return currents, intended to be carried by the earthed (grounded) running rail, flowing through the iron tunnel linings instead. This can cause electrolytic damage and even arcing if the tunnel segments are not electrically bonded together. The problem was exacerbated because the return current also had a tendency to flow through nearby iron pipes forming the water and gas mains. Some of these, particularly Victorian mains that predated London's underground railways, were not constructed to carry currents and had no adequate electrical bonding between pipe segments. The four-rail system solves the problem. Although the supply has an artificially created earth point, this connection is derived by using resistors which ensures that stray earth currents are kept to manageable levels. Power-only rails can be mounted on strongly insulating ceramic chairs to minimise current leak, but this is not possible for running rails which have to be seated on stronger metal chairs to carry the weight of trains. However, elastomeric rubber pads placed between the rails and chairs can now solve part of the problem by insulating the running rails from the current return should there be a leakage through the running rails.</td>\n",
              "      <td>What is the crucial advantage of four-rail system?</td>\n",
              "      <td>{'text': ['running rail carries any current'], 'answer_start': [58]}</td>\n",
              "    </tr>\n",
              "    <tr>\n",
              "      <th>6</th>\n",
              "      <td>5728fa29af94a219006a9ea3</td>\n",
              "      <td>Paris</td>\n",
              "      <td>In the late 12th-century, a school of polyphony was established at the Notre-Dame. A group of Parisian aristocrats, known as Trouvères, became known for their poetry and songs. Troubadors were also popular. During the reign of Francois I, the lute became popular in the French court, and a national musical printing house was established. During the Renaissance era, the French Boleroroyals \"disported themselves in masques, ballets, allegorical dances, recitals, and opera and comedy\". Baroque-era composers include Jean-Baptiste Lully, Jean-Philippe Rameau, and François Couperin and were popular. The Conservatoire de Musique de Paris was founded in 1795. By 1870, Paris had become an important centre for symphony, ballet and operatic music. Romantic-era composers (in Paris) include Hector Berlioz (La Symphonie fantastique), Charles Gounod (Faust), Camille Saint-Saëns (Samson et Delilah), Léo Delibes (Lakmé) and Jules Massenet (Thaïs), among others. Georges Bizet's Carmen premiered 3 March 1875. Carmen has since become one of the most popular and frequently-performed operas in the classical canon; Impressionist composers Claude Debussy ((La Mer) and Maurice Ravel (Boléro) also made significant contributions to piano (Clair de lune, Miroirs), orchestra, opera (Palléas et Mélisande), and other musical forms. Foreign-born composers have made their homes in Paris and have made significant contributions both with their works and their influence. They include Frédéric Chopin (Poland), Franz Liszt (Hungary), Jacques Offenbach (Germany), and Igor Stravinsky (Russia).</td>\n",
              "      <td>in what century was a school of polyphony established at Notre Dame?</td>\n",
              "      <td>{'text': ['12th'], 'answer_start': [12]}</td>\n",
              "    </tr>\n",
              "    <tr>\n",
              "      <th>7</th>\n",
              "      <td>56cd7c1962d2951400fa661f</td>\n",
              "      <td>Sino-Tibetan_relations_during_the_Ming_dynasty</td>\n",
              "      <td>Tibetan sources say Deshin Shekpa also persuaded the Yongle Emperor not to impose his military might on Tibet as the Mongols had previously done. Thinley writes that before the Karmapa returned to Tibet, the Yongle Emperor began planning to send a military force into Tibet to forcibly give the Karmapa authority over all the Tibetan Buddhist schools but Deshin Shekpa dissuaded him. However, Hok-Lam Chan states that \"there is little evidence that this was ever the emperor's intention\" and that evidence indicates that Deshin Skekpa was invited strictly for religious purposes.</td>\n",
              "      <td>Hok-Lam Chan states that Deshin Skekpa was only invited for what purpose?</td>\n",
              "      <td>{'text': ['religious purposes'], 'answer_start': [560]}</td>\n",
              "    </tr>\n",
              "    <tr>\n",
              "      <th>8</th>\n",
              "      <td>5733deb64776f419006613d0</td>\n",
              "      <td>Portugal</td>\n",
              "      <td>Despite the fact that humans have occupied the territory of Portugal for thousands of years, something still remains of the original vegetation. In Gerês both deciduous and coniferous forests can be found, an extremely rare worldwide mature mediterranean forest remain in some parts of the Arrábida mountain and a subtropical laurissilva forest, dating back to the Tertiary period, covers its largest continuous area in the world in the Madeira main island. Due to the human population decrease and rural exodus, Pyrenean oak and other local native trees are colonizing many abandoned areas. Boar, Iberian red deer, roe deer, Iberian wild goat, for example, are reported to be expanding greatly, during the last decades. Boars were found recently roaming at night inside large urban areas, like in Setubal. Protected areas of Portugal include one national park (Portuguese: Parque Nacional), 12 natural parks (Portuguese: Parque Natural), nine natural reserves (Portuguese: Reserva Natural), five natural monuments (Portuguese: Monumento Natural), and seven protected landscapes (Portuguese: Paisagem Protegida), which include the Parque Nacional da Peneda-Gerês, the Parque Natural da Serra da Estrela and the Paul d'Arzila.</td>\n",
              "      <td>How many national parks does Portugal have?</td>\n",
              "      <td>{'text': ['12'], 'answer_start': [892]}</td>\n",
              "    </tr>\n",
              "    <tr>\n",
              "      <th>9</th>\n",
              "      <td>56fb847db28b3419009f1dde</td>\n",
              "      <td>Middle_Ages</td>\n",
              "      <td>From the early 12th century, French builders developed the Gothic style, marked by the use of rib vaults, pointed arches, flying buttresses, and large stained glass windows. It was used mainly in churches and cathedrals, and continued in use until the 16th century in much of Europe. Classic examples of Gothic architecture include Chartres Cathedral and Reims Cathedral in France as well as Salisbury Cathedral in England. Stained glass became a crucial element in the design of churches, which continued to use extensive wall-paintings, now almost all lost.</td>\n",
              "      <td>Among which builders was the Gothic style first used?</td>\n",
              "      <td>{'text': ['French'], 'answer_start': [29]}</td>\n",
              "    </tr>\n",
              "  </tbody>\n",
              "</table>"
            ],
            "text/plain": [
              "<IPython.core.display.HTML object>"
            ]
          },
          "metadata": {},
          "output_type": "display_data"
        }
      ],
      "source": [
        "show_random_elements(datasets[\"train\"])"
      ]
    },
    {
      "cell_type": "markdown",
      "metadata": {
        "id": "n9qywopnIrJH"
      },
      "source": [
        "## Preprocessing the training data"
      ]
    },
    {
      "cell_type": "markdown",
      "metadata": {
        "id": "YVx71GdAIrJH"
      },
      "source": [
        "Before we can feed those texts to our model, we need to preprocess them. This is done by a 🤗 Transformers `Tokenizer` which will (as the name indicates) tokenize the inputs (including converting the tokens to their corresponding IDs in the pretrained vocabulary) and put it in a format the model expects, as well as generate the other inputs that model requires.\n",
        "\n",
        "To do all of this, we instantiate our tokenizer with the `AutoTokenizer.from_pretrained` method, which will ensure:\n",
        "\n",
        "- we get a tokenizer that corresponds to the model architecture we want to use,\n",
        "- we download the vocabulary used when pretraining this specific checkpoint.\n",
        "\n",
        "That vocabulary will be cached, so it's not downloaded again the next time we run the cell."
      ]
    },
    {
      "cell_type": "code",
      "execution_count": null,
      "metadata": {
        "id": "eXNLu_-nIrJI"
      },
      "outputs": [],
      "source": [
        "from transformers import AutoTokenizer\n",
        "\n",
        "tokenizer = AutoTokenizer.from_pretrained(model_checkpoint)"
      ]
    },
    {
      "cell_type": "markdown",
      "metadata": {
        "id": "Vl6IidfdIrJK"
      },
      "source": [
        "The following assertion ensures that our tokenizer is a fast tokenizers (backed by Rust) from the 🤗 Tokenizers library. Those fast tokenizers are available for almost all models, and we will need some of the special features they have for our preprocessing."
      ]
    },
    {
      "cell_type": "code",
      "execution_count": null,
      "metadata": {
        "id": "ohljUK1UtcLL"
      },
      "outputs": [],
      "source": [
        "import transformers\n",
        "assert isinstance(tokenizer, transformers.PreTrainedTokenizerFast)"
      ]
    },
    {
      "cell_type": "markdown",
      "metadata": {
        "id": "ip1yr2TptcLL"
      },
      "source": [
        "You can check which type of models have a fast tokenizer available and which don't on the [big table of models](https://huggingface.co/transformers/index.html#bigtable)."
      ]
    },
    {
      "cell_type": "markdown",
      "metadata": {
        "id": "rowT4iCLIrJK"
      },
      "source": [
        "You can directly call this tokenizer on two sentences (one for the answer, one for the context):"
      ]
    },
    {
      "cell_type": "code",
      "execution_count": null,
      "metadata": {
        "colab": {
          "base_uri": "https://localhost:8080/"
        },
        "id": "a5hBlsrHIrJL",
        "outputId": "567ad496-fd5e-4001-885e-7a4a2aca7ca0"
      },
      "outputs": [
        {
          "data": {
            "text/plain": [
              "{'input_ids': [101, 2054, 2003, 2115, 2171, 1029, 102, 2026, 2171, 2003, 25353, 22144, 2378, 1012, 102], 'token_type_ids': [0, 0, 0, 0, 0, 0, 0, 1, 1, 1, 1, 1, 1, 1, 1], 'attention_mask': [1, 1, 1, 1, 1, 1, 1, 1, 1, 1, 1, 1, 1, 1, 1]}"
            ]
          },
          "execution_count": 14,
          "metadata": {},
          "output_type": "execute_result"
        }
      ],
      "source": [
        "tokenizer(\"What is your name?\", \"My name is Sylvain.\")"
      ]
    },
    {
      "cell_type": "code",
      "execution_count": null,
      "metadata": {
        "colab": {
          "base_uri": "https://localhost:8080/"
        },
        "id": "MA8aQ8dSW_OP",
        "outputId": "9bb2680d-4836-4719-b654-f122b592b622"
      },
      "outputs": [
        {
          "data": {
            "text/plain": [
              "{'input_ids': [101, 2054, 2003, 2115, 2171, 1029, 2026, 2171, 2003, 25353, 22144, 2378, 1012, 102], 'token_type_ids': [0, 0, 0, 0, 0, 0, 0, 0, 0, 0, 0, 0, 0, 0], 'attention_mask': [1, 1, 1, 1, 1, 1, 1, 1, 1, 1, 1, 1, 1, 1]}"
            ]
          },
          "execution_count": 15,
          "metadata": {},
          "output_type": "execute_result"
        }
      ],
      "source": [
        "tokenizer(\"What is your name? My name is Sylvain.\")"
      ]
    },
    {
      "cell_type": "markdown",
      "metadata": {
        "id": "y7Wi5kmvtcLL"
      },
      "source": [
        "Depending on the model you selected, you will see different keys in the dictionary returned by the cell above. They don't matter much for what we're doing here (just know they are required by the model we will instantiate later), you can learn more about them in [this tutorial](https://huggingface.co/transformers/preprocessing.html) if you're interested.\n",
        "\n",
        "Now one specific thing for the preprocessing in question answering is how to deal with very long documents. We usually truncate them in other tasks, when they are longer than the model maximum sentence length, but here, removing part of the the context might result in losing the answer we are looking for. To deal with this, we will allow one (long) example in our dataset to give several input features, each of length shorter than the maximum length of the model (or the one we set as a hyper-parameter). Also, just in case the answer lies at the point we split a long context, we allow some overlap between the features we generate controlled by the hyper-parameter `doc_stride`:"
      ]
    },
    {
      "cell_type": "code",
      "execution_count": null,
      "metadata": {
        "id": "PLupygBetcLL"
      },
      "outputs": [],
      "source": [
        "max_length = 384 # The maximum length of a feature (question and context)\n",
        "doc_stride = 128 # The authorized overlap between two part of the context when splitting it is needed."
      ]
    },
    {
      "cell_type": "markdown",
      "metadata": {
        "id": "vDN-YXa_tcLM"
      },
      "source": [
        "Let's find one long example in our dataset:"
      ]
    },
    {
      "cell_type": "code",
      "execution_count": null,
      "metadata": {
        "id": "oly2nRCgtcLM"
      },
      "outputs": [],
      "source": [
        "for i, example in enumerate(datasets[\"train\"]):\n",
        "    if len(tokenizer(example[\"question\"], example[\"context\"])[\"input_ids\"]) > 384:\n",
        "        break\n",
        "example = datasets[\"train\"][i]"
      ]
    },
    {
      "cell_type": "markdown",
      "metadata": {
        "id": "M1EbaHaPtcLM"
      },
      "source": [
        "Without any truncation, we get the following length for the input IDs:"
      ]
    },
    {
      "cell_type": "code",
      "execution_count": null,
      "metadata": {
        "colab": {
          "base_uri": "https://localhost:8080/"
        },
        "id": "wBh6CP_6tcLM",
        "outputId": "c87ff3d9-a8a0-4372-ba01-c219bd387a55"
      },
      "outputs": [
        {
          "data": {
            "text/plain": [
              "396"
            ]
          },
          "execution_count": 18,
          "metadata": {},
          "output_type": "execute_result"
        }
      ],
      "source": [
        "len(tokenizer(example[\"question\"], example[\"context\"])[\"input_ids\"])"
      ]
    },
    {
      "cell_type": "markdown",
      "metadata": {
        "id": "euPKz2wVtcLN"
      },
      "source": [
        "Now, if we just truncate, we will lose information (and possibly the answer to our question):"
      ]
    },
    {
      "cell_type": "code",
      "execution_count": null,
      "metadata": {
        "colab": {
          "base_uri": "https://localhost:8080/"
        },
        "id": "x4mvqRmJtcLN",
        "outputId": "3a0beb4c-a66c-4b8f-c583-a8230e9851da"
      },
      "outputs": [
        {
          "data": {
            "text/plain": [
              "384"
            ]
          },
          "execution_count": 19,
          "metadata": {},
          "output_type": "execute_result"
        }
      ],
      "source": [
        "len(tokenizer(example[\"question\"], example[\"context\"], max_length=max_length, truncation=\"only_second\")[\"input_ids\"])"
      ]
    },
    {
      "cell_type": "markdown",
      "metadata": {
        "id": "Po4cUpA5tcLN"
      },
      "source": [
        "Note that we never want to truncate the question, only the context, else the `only_second` truncation picked. Now, our tokenizer can automatically return us a list of features capped by a certain maximum length, with the overlap we talked above, we just have to tell it with `return_overflowing_tokens=True` and by passing the stride:"
      ]
    },
    {
      "cell_type": "code",
      "execution_count": null,
      "metadata": {
        "id": "7zVd8SIxtcLO"
      },
      "outputs": [],
      "source": [
        "tokenized_example = tokenizer(\n",
        "    example[\"question\"],\n",
        "    example[\"context\"],\n",
        "    max_length=max_length,\n",
        "    truncation=\"only_second\",\n",
        "    return_overflowing_tokens=True,\n",
        "    stride=doc_stride\n",
        ")"
      ]
    },
    {
      "cell_type": "markdown",
      "metadata": {
        "id": "FGJEaYQAtcLO"
      },
      "source": [
        "Now we don't have one list of `input_ids`, but several:"
      ]
    },
    {
      "cell_type": "code",
      "execution_count": null,
      "metadata": {
        "colab": {
          "base_uri": "https://localhost:8080/"
        },
        "id": "6LDAfoCktcLO",
        "outputId": "ab8d85ef-f748-4839-9b97-111f286757c8"
      },
      "outputs": [
        {
          "data": {
            "text/plain": [
              "[384, 157]"
            ]
          },
          "execution_count": 21,
          "metadata": {},
          "output_type": "execute_result"
        }
      ],
      "source": [
        "[len(x) for x in tokenized_example[\"input_ids\"]]"
      ]
    },
    {
      "cell_type": "markdown",
      "metadata": {
        "id": "jQC9P7mEtcLO"
      },
      "source": [
        "And if we decode them, we can see the overlap:"
      ]
    },
    {
      "cell_type": "code",
      "execution_count": null,
      "metadata": {
        "colab": {
          "base_uri": "https://localhost:8080/"
        },
        "id": "OJMBWf_ZtcLO",
        "outputId": "c3942b98-3c91-4156-c59e-65f4261210aa"
      },
      "outputs": [
        {
          "name": "stdout",
          "output_type": "stream",
          "text": [
            "[CLS] how many wins does the notre dame men's basketball team have? [SEP] the men's basketball team has over 1, 600 wins, one of only 12 schools who have reached that mark, and have appeared in 28 ncaa tournaments. former player austin carr holds the record for most points scored in a single game of the tournament with 61. although the team has never won the ncaa tournament, they were named by the helms athletic foundation as national champions twice. the team has orchestrated a number of upsets of number one ranked teams, the most notable of which was ending ucla's record 88 - game winning streak in 1974. the team has beaten an additional eight number - one teams, and those nine wins rank second, to ucla's 10, all - time in wins against the top team. the team plays in newly renovated purcell pavilion ( within the edmund p. joyce center ), which reopened for the beginning of the 2009 – 2010 season. the team is coached by mike brey, who, as of the 2014 – 15 season, his fifteenth at notre dame, has achieved a 332 - 165 record. in 2009 they were invited to the nit, where they advanced to the semifinals but were beaten by penn state who went on and beat baylor in the championship. the 2010 – 11 team concluded its regular season ranked number seven in the country, with a record of 25 – 5, brey's fifth straight 20 - win season, and a second - place finish in the big east. during the 2014 - 15 season, the team went 32 - 6 and won the acc conference tournament, later advancing to the elite 8, where the fighting irish lost on a missed buzzer - beater against then undefeated kentucky. led by nba draft picks jerian grant and pat connaughton, the fighting irish beat the eventual national champion duke blue devils twice during the season. the 32 wins were [SEP]\n",
            "[CLS] how many wins does the notre dame men's basketball team have? [SEP] championship. the 2010 – 11 team concluded its regular season ranked number seven in the country, with a record of 25 – 5, brey's fifth straight 20 - win season, and a second - place finish in the big east. during the 2014 - 15 season, the team went 32 - 6 and won the acc conference tournament, later advancing to the elite 8, where the fighting irish lost on a missed buzzer - beater against then undefeated kentucky. led by nba draft picks jerian grant and pat connaughton, the fighting irish beat the eventual national champion duke blue devils twice during the season. the 32 wins were the most by the fighting irish team since 1908 - 09. [SEP]\n"
          ]
        }
      ],
      "source": [
        "for x in tokenized_example[\"input_ids\"][:2]:\n",
        "    print(tokenizer.decode(x))"
      ]
    },
    {
      "cell_type": "markdown",
      "metadata": {
        "id": "Xv3QioZptcLP"
      },
      "source": [
        "Now this will give us some work to properly treat the answers: we need to find in which of those features the answer actually is, and where exactly in that feature. The models we will use require the start and end positions of these answers in the tokens, so we will also need to to map parts of the original context to some tokens. Thankfully, the tokenizer we're using can help us with that by returning an `offset_mapping`:"
      ]
    },
    {
      "cell_type": "code",
      "execution_count": null,
      "metadata": {
        "colab": {
          "base_uri": "https://localhost:8080/"
        },
        "id": "2l-iOqQ9tcLP",
        "outputId": "3b9996de-39a7-4e57-e4f3-25fbad550866"
      },
      "outputs": [
        {
          "name": "stdout",
          "output_type": "stream",
          "text": [
            "[(0, 0), (0, 3), (4, 8), (9, 13), (14, 18), (19, 22), (23, 28), (29, 33), (34, 37), (37, 38), (38, 39), (40, 50), (51, 55), (56, 60), (60, 61), (0, 0), (0, 3), (4, 7), (7, 8), (8, 9), (10, 20), (21, 25), (26, 29), (30, 34), (35, 36), (36, 37), (37, 40), (41, 45), (45, 46), (47, 50), (51, 53), (54, 58), (59, 61), (62, 69), (70, 73), (74, 78), (79, 86), (87, 91), (92, 96), (96, 97), (98, 101), (102, 106), (107, 115), (116, 118), (119, 121), (122, 126), (127, 138), (138, 139), (140, 146), (147, 153), (154, 160), (161, 165), (166, 171), (172, 175), (176, 182), (183, 186), (187, 191), (192, 198), (199, 205), (206, 208), (209, 210), (211, 217), (218, 222), (223, 225), (226, 229), (230, 240), (241, 245), (246, 248), (248, 249), (250, 258), (259, 262), (263, 267), (268, 271), (272, 277), (278, 281), (282, 285), (286, 290), (291, 301), (301, 302), (303, 307), (308, 312), (313, 318), (319, 321), (322, 325), (326, 330), (330, 331), (332, 340), (341, 351), (352, 354), (355, 363), (364, 373), (374, 379), (379, 380), (381, 384), (385, 389), (390, 393), (394, 406), (407, 408), (409, 415), (416, 418)]\n"
          ]
        }
      ],
      "source": [
        "tokenized_example = tokenizer(\n",
        "    example[\"question\"],\n",
        "    example[\"context\"],\n",
        "    max_length=max_length,\n",
        "    truncation=\"only_second\",\n",
        "    return_overflowing_tokens=True,\n",
        "    return_offsets_mapping=True,\n",
        "    stride=doc_stride\n",
        ")\n",
        "print(tokenized_example[\"offset_mapping\"][0][:100])"
      ]
    },
    {
      "cell_type": "markdown",
      "metadata": {
        "id": "HtAMjtGbtcLP"
      },
      "source": [
        "This gives, for each index of our input IDS, the corresponding start and end character in the original text that gave our token. The very first token (`[CLS]`) has (0, 0) because it doesn't correspond to any part of the question/answer, then the second token is the same as the characters 0 to 3 of the question:"
      ]
    },
    {
      "cell_type": "code",
      "execution_count": null,
      "metadata": {
        "colab": {
          "base_uri": "https://localhost:8080/"
        },
        "id": "95ObDQUftcLQ",
        "outputId": "63180d69-a62d-46e2-9813-bf151eca44c6"
      },
      "outputs": [
        {
          "name": "stdout",
          "output_type": "stream",
          "text": [
            "how How\n"
          ]
        }
      ],
      "source": [
        "first_token_id = tokenized_example[\"input_ids\"][0][1]\n",
        "offsets = tokenized_example[\"offset_mapping\"][0][1]\n",
        "print(tokenizer.convert_ids_to_tokens([first_token_id])[0], example[\"question\"][offsets[0]:offsets[1]])"
      ]
    },
    {
      "cell_type": "markdown",
      "metadata": {
        "id": "IKcSx-oKtcLQ"
      },
      "source": [
        "So we can use this mapping to find the position of the start and end tokens of our answer in a given feature. We just have to distinguish which parts of the offsets correspond to the question and which part correspond to the context, this is where the `sequence_ids` method of our `tokenized_example` can be useful:"
      ]
    },
    {
      "cell_type": "code",
      "execution_count": null,
      "metadata": {
        "colab": {
          "base_uri": "https://localhost:8080/"
        },
        "id": "SaN3LLpmtcLQ",
        "outputId": "dc05d699-0aa8-4efc-e2bf-d15b8216be1c"
      },
      "outputs": [
        {
          "name": "stdout",
          "output_type": "stream",
          "text": [
            "[None, 0, 0, 0, 0, 0, 0, 0, 0, 0, 0, 0, 0, 0, 0, None, 1, 1, 1, 1, 1, 1, 1, 1, 1, 1, 1, 1, 1, 1, 1, 1, 1, 1, 1, 1, 1, 1, 1, 1, 1, 1, 1, 1, 1, 1, 1, 1, 1, 1, 1, 1, 1, 1, 1, 1, 1, 1, 1, 1, 1, 1, 1, 1, 1, 1, 1, 1, 1, 1, 1, 1, 1, 1, 1, 1, 1, 1, 1, 1, 1, 1, 1, 1, 1, 1, 1, 1, 1, 1, 1, 1, 1, 1, 1, 1, 1, 1, 1, 1, 1, 1, 1, 1, 1, 1, 1, 1, 1, 1, 1, 1, 1, 1, 1, 1, 1, 1, 1, 1, 1, 1, 1, 1, 1, 1, 1, 1, 1, 1, 1, 1, 1, 1, 1, 1, 1, 1, 1, 1, 1, 1, 1, 1, 1, 1, 1, 1, 1, 1, 1, 1, 1, 1, 1, 1, 1, 1, 1, 1, 1, 1, 1, 1, 1, 1, 1, 1, 1, 1, 1, 1, 1, 1, 1, 1, 1, 1, 1, 1, 1, 1, 1, 1, 1, 1, 1, 1, 1, 1, 1, 1, 1, 1, 1, 1, 1, 1, 1, 1, 1, 1, 1, 1, 1, 1, 1, 1, 1, 1, 1, 1, 1, 1, 1, 1, 1, 1, 1, 1, 1, 1, 1, 1, 1, 1, 1, 1, 1, 1, 1, 1, 1, 1, 1, 1, 1, 1, 1, 1, 1, 1, 1, 1, 1, 1, 1, 1, 1, 1, 1, 1, 1, 1, 1, 1, 1, 1, 1, 1, 1, 1, 1, 1, 1, 1, 1, 1, 1, 1, 1, 1, 1, 1, 1, 1, 1, 1, 1, 1, 1, 1, 1, 1, 1, 1, 1, 1, 1, 1, 1, 1, 1, 1, 1, 1, 1, 1, 1, 1, 1, 1, 1, 1, 1, 1, 1, 1, 1, 1, 1, 1, 1, 1, 1, 1, 1, 1, 1, 1, 1, 1, 1, 1, 1, 1, 1, 1, 1, 1, 1, 1, 1, 1, 1, 1, 1, 1, 1, 1, 1, 1, 1, 1, 1, 1, 1, 1, 1, 1, 1, 1, 1, 1, 1, 1, 1, 1, 1, 1, 1, 1, 1, 1, 1, 1, 1, 1, 1, 1, 1, 1, 1, 1, 1, 1, 1, 1, 1, 1, 1, 1, 1, None]\n"
          ]
        }
      ],
      "source": [
        "sequence_ids = tokenized_example.sequence_ids()\n",
        "print(sequence_ids)"
      ]
    },
    {
      "cell_type": "markdown",
      "metadata": {
        "id": "bJUB30RktcLQ"
      },
      "source": [
        "It returns `None` for the special tokens, then 0 or 1 depending on whether the corresponding token comes from the first sentence past (the question) or the second (the context). Now with all of this, we can find the first and last token of the answer in one of our input feature (or if the answer is not in this feature):"
      ]
    },
    {
      "cell_type": "code",
      "execution_count": null,
      "metadata": {
        "colab": {
          "base_uri": "https://localhost:8080/"
        },
        "id": "fvAMZ-0zZBxp",
        "outputId": "7a62a8be-8855-4994-b276-8a4a73e27f2b"
      },
      "outputs": [
        {
          "data": {
            "text/plain": [
              "{'id': '5733caf74776f4190066124c',\n",
              " 'title': 'University_of_Notre_Dame',\n",
              " 'context': \"The men's basketball team has over 1,600 wins, one of only 12 schools who have reached that mark, and have appeared in 28 NCAA tournaments. Former player Austin Carr holds the record for most points scored in a single game of the tournament with 61. Although the team has never won the NCAA Tournament, they were named by the Helms Athletic Foundation as national champions twice. The team has orchestrated a number of upsets of number one ranked teams, the most notable of which was ending UCLA's record 88-game winning streak in 1974. The team has beaten an additional eight number-one teams, and those nine wins rank second, to UCLA's 10, all-time in wins against the top team. The team plays in newly renovated Purcell Pavilion (within the Edmund P. Joyce Center), which reopened for the beginning of the 2009–2010 season. The team is coached by Mike Brey, who, as of the 2014–15 season, his fifteenth at Notre Dame, has achieved a 332-165 record. In 2009 they were invited to the NIT, where they advanced to the semifinals but were beaten by Penn State who went on and beat Baylor in the championship. The 2010–11 team concluded its regular season ranked number seven in the country, with a record of 25–5, Brey's fifth straight 20-win season, and a second-place finish in the Big East. During the 2014-15 season, the team went 32-6 and won the ACC conference tournament, later advancing to the Elite 8, where the Fighting Irish lost on a missed buzzer-beater against then undefeated Kentucky. Led by NBA draft picks Jerian Grant and Pat Connaughton, the Fighting Irish beat the eventual national champion Duke Blue Devils twice during the season. The 32 wins were the most by the Fighting Irish team since 1908-09.\",\n",
              " 'question': \"How many wins does the Notre Dame men's basketball team have?\",\n",
              " 'answers': {'text': ['over 1,600'], 'answer_start': [30]}}"
            ]
          },
          "execution_count": 26,
          "metadata": {},
          "output_type": "execute_result"
        }
      ],
      "source": [
        "example"
      ]
    },
    {
      "cell_type": "code",
      "execution_count": null,
      "metadata": {
        "colab": {
          "base_uri": "https://localhost:8080/"
        },
        "id": "ISTZ1RgDZWUi",
        "outputId": "7ad2026c-8edd-401a-e630-fbe0193f3fd7"
      },
      "outputs": [
        {
          "data": {
            "text/plain": [
              "[None,\n",
              " 0,\n",
              " 0,\n",
              " 0,\n",
              " 0,\n",
              " 0,\n",
              " 0,\n",
              " 0,\n",
              " 0,\n",
              " 0,\n",
              " 0,\n",
              " 0,\n",
              " 0,\n",
              " 0,\n",
              " 0,\n",
              " None,\n",
              " 1,\n",
              " 1,\n",
              " 1,\n",
              " 1,\n",
              " 1,\n",
              " 1,\n",
              " 1,\n",
              " 1,\n",
              " 1,\n",
              " 1,\n",
              " 1,\n",
              " 1,\n",
              " 1,\n",
              " 1,\n",
              " 1,\n",
              " 1,\n",
              " 1,\n",
              " 1,\n",
              " 1,\n",
              " 1,\n",
              " 1,\n",
              " 1,\n",
              " 1,\n",
              " 1,\n",
              " 1,\n",
              " 1,\n",
              " 1,\n",
              " 1,\n",
              " 1,\n",
              " 1,\n",
              " 1,\n",
              " 1,\n",
              " 1,\n",
              " 1,\n",
              " 1,\n",
              " 1,\n",
              " 1,\n",
              " 1,\n",
              " 1,\n",
              " 1,\n",
              " 1,\n",
              " 1,\n",
              " 1,\n",
              " 1,\n",
              " 1,\n",
              " 1,\n",
              " 1,\n",
              " 1,\n",
              " 1,\n",
              " 1,\n",
              " 1,\n",
              " 1,\n",
              " 1,\n",
              " 1,\n",
              " 1,\n",
              " 1,\n",
              " 1,\n",
              " 1,\n",
              " 1,\n",
              " 1,\n",
              " 1,\n",
              " 1,\n",
              " 1,\n",
              " 1,\n",
              " 1,\n",
              " 1,\n",
              " 1,\n",
              " 1,\n",
              " 1,\n",
              " 1,\n",
              " 1,\n",
              " 1,\n",
              " 1,\n",
              " 1,\n",
              " 1,\n",
              " 1,\n",
              " 1,\n",
              " 1,\n",
              " 1,\n",
              " 1,\n",
              " 1,\n",
              " 1,\n",
              " 1,\n",
              " 1,\n",
              " 1,\n",
              " 1,\n",
              " 1,\n",
              " 1,\n",
              " 1,\n",
              " 1,\n",
              " 1,\n",
              " 1,\n",
              " 1,\n",
              " 1,\n",
              " 1,\n",
              " 1,\n",
              " 1,\n",
              " 1,\n",
              " 1,\n",
              " 1,\n",
              " 1,\n",
              " 1,\n",
              " 1,\n",
              " 1,\n",
              " 1,\n",
              " 1,\n",
              " 1,\n",
              " 1,\n",
              " 1,\n",
              " 1,\n",
              " 1,\n",
              " 1,\n",
              " 1,\n",
              " 1,\n",
              " 1,\n",
              " 1,\n",
              " 1,\n",
              " 1,\n",
              " 1,\n",
              " 1,\n",
              " 1,\n",
              " 1,\n",
              " 1,\n",
              " 1,\n",
              " 1,\n",
              " 1,\n",
              " 1,\n",
              " 1,\n",
              " 1,\n",
              " 1,\n",
              " 1,\n",
              " 1,\n",
              " 1,\n",
              " 1,\n",
              " 1,\n",
              " 1,\n",
              " 1,\n",
              " 1,\n",
              " 1,\n",
              " 1,\n",
              " 1,\n",
              " 1,\n",
              " 1,\n",
              " 1,\n",
              " 1,\n",
              " 1,\n",
              " 1,\n",
              " 1,\n",
              " 1,\n",
              " 1,\n",
              " 1,\n",
              " 1,\n",
              " 1,\n",
              " 1,\n",
              " 1,\n",
              " 1,\n",
              " 1,\n",
              " 1,\n",
              " 1,\n",
              " 1,\n",
              " 1,\n",
              " 1,\n",
              " 1,\n",
              " 1,\n",
              " 1,\n",
              " 1,\n",
              " 1,\n",
              " 1,\n",
              " 1,\n",
              " 1,\n",
              " 1,\n",
              " 1,\n",
              " 1,\n",
              " 1,\n",
              " 1,\n",
              " 1,\n",
              " 1,\n",
              " 1,\n",
              " 1,\n",
              " 1,\n",
              " 1,\n",
              " 1,\n",
              " 1,\n",
              " 1,\n",
              " 1,\n",
              " 1,\n",
              " 1,\n",
              " 1,\n",
              " 1,\n",
              " 1,\n",
              " 1,\n",
              " 1,\n",
              " 1,\n",
              " 1,\n",
              " 1,\n",
              " 1,\n",
              " 1,\n",
              " 1,\n",
              " 1,\n",
              " 1,\n",
              " 1,\n",
              " 1,\n",
              " 1,\n",
              " 1,\n",
              " 1,\n",
              " 1,\n",
              " 1,\n",
              " 1,\n",
              " 1,\n",
              " 1,\n",
              " 1,\n",
              " 1,\n",
              " 1,\n",
              " 1,\n",
              " 1,\n",
              " 1,\n",
              " 1,\n",
              " 1,\n",
              " 1,\n",
              " 1,\n",
              " 1,\n",
              " 1,\n",
              " 1,\n",
              " 1,\n",
              " 1,\n",
              " 1,\n",
              " 1,\n",
              " 1,\n",
              " 1,\n",
              " 1,\n",
              " 1,\n",
              " 1,\n",
              " 1,\n",
              " 1,\n",
              " 1,\n",
              " 1,\n",
              " 1,\n",
              " 1,\n",
              " 1,\n",
              " 1,\n",
              " 1,\n",
              " 1,\n",
              " 1,\n",
              " 1,\n",
              " 1,\n",
              " 1,\n",
              " 1,\n",
              " 1,\n",
              " 1,\n",
              " 1,\n",
              " 1,\n",
              " 1,\n",
              " 1,\n",
              " 1,\n",
              " 1,\n",
              " 1,\n",
              " 1,\n",
              " 1,\n",
              " 1,\n",
              " 1,\n",
              " 1,\n",
              " 1,\n",
              " 1,\n",
              " 1,\n",
              " 1,\n",
              " 1,\n",
              " 1,\n",
              " 1,\n",
              " 1,\n",
              " 1,\n",
              " 1,\n",
              " 1,\n",
              " 1,\n",
              " 1,\n",
              " 1,\n",
              " 1,\n",
              " 1,\n",
              " 1,\n",
              " 1,\n",
              " 1,\n",
              " 1,\n",
              " 1,\n",
              " 1,\n",
              " 1,\n",
              " 1,\n",
              " 1,\n",
              " 1,\n",
              " 1,\n",
              " 1,\n",
              " 1,\n",
              " 1,\n",
              " 1,\n",
              " 1,\n",
              " 1,\n",
              " 1,\n",
              " 1,\n",
              " 1,\n",
              " 1,\n",
              " 1,\n",
              " 1,\n",
              " 1,\n",
              " 1,\n",
              " 1,\n",
              " 1,\n",
              " 1,\n",
              " 1,\n",
              " 1,\n",
              " 1,\n",
              " 1,\n",
              " 1,\n",
              " 1,\n",
              " 1,\n",
              " 1,\n",
              " 1,\n",
              " 1,\n",
              " 1,\n",
              " 1,\n",
              " 1,\n",
              " 1,\n",
              " 1,\n",
              " 1,\n",
              " 1,\n",
              " 1,\n",
              " 1,\n",
              " 1,\n",
              " 1,\n",
              " 1,\n",
              " 1,\n",
              " 1,\n",
              " 1,\n",
              " 1,\n",
              " 1,\n",
              " 1,\n",
              " 1,\n",
              " 1,\n",
              " 1,\n",
              " 1,\n",
              " 1,\n",
              " 1,\n",
              " 1,\n",
              " 1,\n",
              " 1,\n",
              " 1,\n",
              " 1,\n",
              " 1,\n",
              " 1,\n",
              " 1,\n",
              " 1,\n",
              " 1,\n",
              " 1,\n",
              " 1,\n",
              " 1,\n",
              " 1,\n",
              " 1,\n",
              " 1,\n",
              " 1,\n",
              " 1,\n",
              " 1,\n",
              " 1,\n",
              " 1,\n",
              " 1,\n",
              " 1,\n",
              " 1,\n",
              " 1,\n",
              " 1,\n",
              " 1,\n",
              " 1,\n",
              " None]"
            ]
          },
          "execution_count": 27,
          "metadata": {},
          "output_type": "execute_result"
        }
      ],
      "source": [
        "sequence_ids"
      ]
    },
    {
      "cell_type": "code",
      "execution_count": null,
      "metadata": {
        "colab": {
          "base_uri": "https://localhost:8080/"
        },
        "id": "Hbp4gXHftcLQ",
        "outputId": "fbb3ff7b-4d72-4691-c7e4-217f7a23c5cb"
      },
      "outputs": [
        {
          "name": "stdout",
          "output_type": "stream",
          "text": [
            "23 26\n"
          ]
        }
      ],
      "source": [
        "answers = example[\"answers\"]\n",
        "start_char = answers[\"answer_start\"][0]\n",
        "end_char = start_char + len(answers[\"text\"][0])\n",
        "\n",
        "# Start token index of the current span in the text.\n",
        "token_start_index = 0\n",
        "while sequence_ids[token_start_index] != 1:\n",
        "    token_start_index += 1\n",
        "\n",
        "# End token index of the current span in the text.\n",
        "token_end_index = len(tokenized_example[\"input_ids\"][0]) - 1\n",
        "while sequence_ids[token_end_index] != 1:\n",
        "    token_end_index -= 1\n",
        "\n",
        "# Detect if the answer is out of the span (in which case this feature is labeled with the CLS index).\n",
        "offsets = tokenized_example[\"offset_mapping\"][0]\n",
        "# print(token_start_index)\n",
        "# print(token_end_index)\n",
        "if (offsets[token_start_index][0] <= start_char and offsets[token_end_index][1] >= end_char):\n",
        "    # Move the token_start_index and token_end_index to the two ends of the answer.\n",
        "    # Note: we could go after the last offset if the answer is the last word (edge case).\n",
        "    while token_start_index < len(offsets) and offsets[token_start_index][0] <= start_char:\n",
        "        token_start_index += 1\n",
        "    start_position = token_start_index - 1\n",
        "    while offsets[token_end_index][1] >= end_char:\n",
        "        token_end_index -= 1\n",
        "    end_position = token_end_index + 1\n",
        "    print(start_position, end_position)\n",
        "else:\n",
        "    print(\"The answer is not in this feature.\")"
      ]
    },
    {
      "cell_type": "markdown",
      "metadata": {
        "id": "kzepT3pZtcLR"
      },
      "source": [
        "And we can double check that it is indeed the theoretical answer:"
      ]
    },
    {
      "cell_type": "code",
      "execution_count": null,
      "metadata": {
        "colab": {
          "base_uri": "https://localhost:8080/"
        },
        "id": "ESBNhr29tcLR",
        "outputId": "ce886f12-562b-4aff-9ddf-3d21188c5422"
      },
      "outputs": [
        {
          "name": "stdout",
          "output_type": "stream",
          "text": [
            "over 1, 600\n",
            "over 1,600\n"
          ]
        }
      ],
      "source": [
        "print(tokenizer.decode(tokenized_example[\"input_ids\"][0][start_position: end_position+1]))\n",
        "print(answers[\"text\"][0])"
      ]
    },
    {
      "cell_type": "markdown",
      "metadata": {
        "id": "__F9gXz2tcLR"
      },
      "source": [
        "For this notebook to work with any kind of models, we need to account for the special case where the model expects padding on the left (in which case we switch the order of the question and the context):"
      ]
    },
    {
      "cell_type": "code",
      "execution_count": null,
      "metadata": {
        "id": "rBcXf83ItcLR"
      },
      "outputs": [],
      "source": [
        "pad_on_right = tokenizer.padding_side == \"right\""
      ]
    },
    {
      "cell_type": "markdown",
      "metadata": {
        "id": "eQbGsbfOtcLS"
      },
      "source": [
        "Now let's put everything together in one function we will apply to our training set. In the case of impossible answers (the answer is in another feature given by an example with a long context), we set the cls index for both the start and end position. We could also simply discard those examples from the training set if the flag `allow_impossible_answers` is `False`. Since the preprocessing is already complex enough as it is, we've kept is simple for this part."
      ]
    },
    {
      "cell_type": "code",
      "execution_count": null,
      "metadata": {
        "id": "8N9scBQftcLS"
      },
      "outputs": [],
      "source": [
        "def prepare_train_features(examples):\n",
        "    # Some of the questions have lots of whitespace on the left, which is not useful and will make the\n",
        "    # truncation of the context fail (the tokenized question will take a lots of space). So we remove that\n",
        "    # left whitespace\n",
        "    examples[\"question\"] = [q.lstrip() for q in examples[\"question\"]]\n",
        "\n",
        "    # Tokenize our examples with truncation and padding, but keep the overflows using a stride. This results\n",
        "    # in one example possible giving several features when a context is long, each of those features having a\n",
        "    # context that overlaps a bit the context of the previous feature.\n",
        "    tokenized_examples = tokenizer(\n",
        "        examples[\"question\" if pad_on_right else \"context\"],\n",
        "        examples[\"context\" if pad_on_right else \"question\"],\n",
        "        truncation=\"only_second\" if pad_on_right else \"only_first\",\n",
        "        max_length=max_length,\n",
        "        stride=doc_stride,\n",
        "        return_overflowing_tokens=True,\n",
        "        return_offsets_mapping=True,\n",
        "        padding=\"max_length\",\n",
        "    )\n",
        "\n",
        "    # Since one example might give us several features if it has a long context, we need a map from a feature to\n",
        "    # its corresponding example. This key gives us just that.\n",
        "    sample_mapping = tokenized_examples.pop(\"overflow_to_sample_mapping\")\n",
        "    # The offset mappings will give us a map from token to character position in the original context. This will\n",
        "    # help us compute the start_positions and end_positions.\n",
        "    offset_mapping = tokenized_examples.pop(\"offset_mapping\")\n",
        "\n",
        "    # Let's label those examples!\n",
        "    tokenized_examples[\"start_positions\"] = []\n",
        "    tokenized_examples[\"end_positions\"] = []\n",
        "\n",
        "    for i, offsets in enumerate(offset_mapping):\n",
        "        # We will label impossible answers with the index of the CLS token.\n",
        "        input_ids = tokenized_examples[\"input_ids\"][i]\n",
        "        cls_index = input_ids.index(tokenizer.cls_token_id)\n",
        "\n",
        "        # Grab the sequence corresponding to that example (to know what is the context and what is the question).\n",
        "        sequence_ids = tokenized_examples.sequence_ids(i)\n",
        "\n",
        "        # One example can give several spans, this is the index of the example containing this span of text.\n",
        "        sample_index = sample_mapping[i]\n",
        "        answers = examples[\"answers\"][sample_index]\n",
        "        # If no answers are given, set the cls_index as answer.\n",
        "        if len(answers[\"answer_start\"]) == 0:\n",
        "            tokenized_examples[\"start_positions\"].append(cls_index)\n",
        "            tokenized_examples[\"end_positions\"].append(cls_index)\n",
        "        else:\n",
        "            # Start/end character index of the answer in the text.\n",
        "            start_char = answers[\"answer_start\"][0]\n",
        "            end_char = start_char + len(answers[\"text\"][0])\n",
        "\n",
        "            # Start token index of the current span in the text.\n",
        "            token_start_index = 0\n",
        "            while sequence_ids[token_start_index] != (1 if pad_on_right else 0):\n",
        "                token_start_index += 1\n",
        "\n",
        "            # End token index of the current span in the text.\n",
        "            token_end_index = len(input_ids) - 1\n",
        "            while sequence_ids[token_end_index] != (1 if pad_on_right else 0):\n",
        "                token_end_index -= 1\n",
        "\n",
        "            # Detect if the answer is out of the span (in which case this feature is labeled with the CLS index).\n",
        "            if not (offsets[token_start_index][0] <= start_char and offsets[token_end_index][1] >= end_char):\n",
        "                tokenized_examples[\"start_positions\"].append(cls_index)\n",
        "                tokenized_examples[\"end_positions\"].append(cls_index)\n",
        "            else:\n",
        "                # Otherwise move the token_start_index and token_end_index to the two ends of the answer.\n",
        "                # Note: we could go after the last offset if the answer is the last word (edge case).\n",
        "                while token_start_index < len(offsets) and offsets[token_start_index][0] <= start_char:\n",
        "                    token_start_index += 1\n",
        "                tokenized_examples[\"start_positions\"].append(token_start_index - 1)\n",
        "                while offsets[token_end_index][1] >= end_char:\n",
        "                    token_end_index -= 1\n",
        "                tokenized_examples[\"end_positions\"].append(token_end_index + 1)\n",
        "\n",
        "    return tokenized_examples"
      ]
    },
    {
      "cell_type": "markdown",
      "metadata": {
        "id": "0lm8ozrJIrJR"
      },
      "source": [
        "This function works with one or several examples. In the case of several examples, the tokenizer will return a list of lists for each key:"
      ]
    },
    {
      "cell_type": "code",
      "execution_count": null,
      "metadata": {
        "id": "-b70jh26IrJS"
      },
      "outputs": [],
      "source": [
        "features = prepare_train_features(datasets['train'][:5])"
      ]
    },
    {
      "cell_type": "code",
      "execution_count": null,
      "metadata": {
        "colab": {
          "base_uri": "https://localhost:8080/"
        },
        "id": "MK_P6fdbdo2X",
        "outputId": "56a5d777-e959-4bc7-9b34-ecce21f551da"
      },
      "outputs": [
        {
          "data": {
            "text/plain": [
              "{'input_ids': [[101, 2000, 3183, 2106, 1996, 6261, 2984, 9382, 3711, 1999, 8517, 1999, 10223, 26371, 2605, 1029, 102, 6549, 2135, 1010, 1996, 2082, 2038, 1037, 3234, 2839, 1012, 10234, 1996, 2364, 2311, 1005, 1055, 2751, 8514, 2003, 1037, 3585, 6231, 1997, 1996, 6261, 2984, 1012, 3202, 1999, 2392, 1997, 1996, 2364, 2311, 1998, 5307, 2009, 1010, 2003, 1037, 6967, 6231, 1997, 4828, 2007, 2608, 2039, 14995, 6924, 2007, 1996, 5722, 1000, 2310, 3490, 2618, 4748, 2033, 18168, 5267, 1000, 1012, 2279, 2000, 1996, 2364, 2311, 2003, 1996, 13546, 1997, 1996, 6730, 2540, 1012, 3202, 2369, 1996, 13546, 2003, 1996, 24665, 23052, 1010, 1037, 14042, 2173, 1997, 7083, 1998, 9185, 1012, 2009, 2003, 1037, 15059, 1997, 1996, 24665, 23052, 2012, 10223, 26371, 1010, 2605, 2073, 1996, 6261, 2984, 22353, 2135, 2596, 2000, 3002, 16595, 9648, 4674, 2061, 12083, 9711, 2271, 1999, 8517, 1012, 2012, 1996, 2203, 1997, 1996, 2364, 3298, 1006, 1998, 1999, 1037, 3622, 2240, 2008, 8539, 2083, 1017, 11342, 1998, 1996, 2751, 8514, 1007, 1010, 2003, 1037, 3722, 1010, 2715, 2962, 6231, 1997, 2984, 1012, 102, 0, 0, 0, 0, 0, 0, 0, 0, 0, 0, 0, 0, 0, 0, 0, 0, 0, 0, 0, 0, 0, 0, 0, 0, 0, 0, 0, 0, 0, 0, 0, 0, 0, 0, 0, 0, 0, 0, 0, 0, 0, 0, 0, 0, 0, 0, 0, 0, 0, 0, 0, 0, 0, 0, 0, 0, 0, 0, 0, 0, 0, 0, 0, 0, 0, 0, 0, 0, 0, 0, 0, 0, 0, 0, 0, 0, 0, 0, 0, 0, 0, 0, 0, 0, 0, 0, 0, 0, 0, 0, 0, 0, 0, 0, 0, 0, 0, 0, 0, 0, 0, 0, 0, 0, 0, 0, 0, 0, 0, 0, 0, 0, 0, 0, 0, 0, 0, 0, 0, 0, 0, 0, 0, 0, 0, 0, 0, 0, 0, 0, 0, 0, 0, 0, 0, 0, 0, 0, 0, 0, 0, 0, 0, 0, 0, 0, 0, 0, 0, 0, 0, 0, 0, 0, 0, 0, 0, 0, 0, 0, 0, 0, 0, 0, 0, 0, 0, 0, 0, 0, 0, 0, 0, 0, 0, 0, 0, 0, 0, 0, 0, 0, 0, 0, 0, 0, 0, 0, 0, 0, 0, 0, 0, 0, 0, 0, 0, 0, 0, 0, 0, 0, 0, 0, 0, 0, 0, 0], [101, 2054, 2003, 1999, 2392, 1997, 1996, 10289, 8214, 2364, 2311, 1029, 102, 6549, 2135, 1010, 1996, 2082, 2038, 1037, 3234, 2839, 1012, 10234, 1996, 2364, 2311, 1005, 1055, 2751, 8514, 2003, 1037, 3585, 6231, 1997, 1996, 6261, 2984, 1012, 3202, 1999, 2392, 1997, 1996, 2364, 2311, 1998, 5307, 2009, 1010, 2003, 1037, 6967, 6231, 1997, 4828, 2007, 2608, 2039, 14995, 6924, 2007, 1996, 5722, 1000, 2310, 3490, 2618, 4748, 2033, 18168, 5267, 1000, 1012, 2279, 2000, 1996, 2364, 2311, 2003, 1996, 13546, 1997, 1996, 6730, 2540, 1012, 3202, 2369, 1996, 13546, 2003, 1996, 24665, 23052, 1010, 1037, 14042, 2173, 1997, 7083, 1998, 9185, 1012, 2009, 2003, 1037, 15059, 1997, 1996, 24665, 23052, 2012, 10223, 26371, 1010, 2605, 2073, 1996, 6261, 2984, 22353, 2135, 2596, 2000, 3002, 16595, 9648, 4674, 2061, 12083, 9711, 2271, 1999, 8517, 1012, 2012, 1996, 2203, 1997, 1996, 2364, 3298, 1006, 1998, 1999, 1037, 3622, 2240, 2008, 8539, 2083, 1017, 11342, 1998, 1996, 2751, 8514, 1007, 1010, 2003, 1037, 3722, 1010, 2715, 2962, 6231, 1997, 2984, 1012, 102, 0, 0, 0, 0, 0, 0, 0, 0, 0, 0, 0, 0, 0, 0, 0, 0, 0, 0, 0, 0, 0, 0, 0, 0, 0, 0, 0, 0, 0, 0, 0, 0, 0, 0, 0, 0, 0, 0, 0, 0, 0, 0, 0, 0, 0, 0, 0, 0, 0, 0, 0, 0, 0, 0, 0, 0, 0, 0, 0, 0, 0, 0, 0, 0, 0, 0, 0, 0, 0, 0, 0, 0, 0, 0, 0, 0, 0, 0, 0, 0, 0, 0, 0, 0, 0, 0, 0, 0, 0, 0, 0, 0, 0, 0, 0, 0, 0, 0, 0, 0, 0, 0, 0, 0, 0, 0, 0, 0, 0, 0, 0, 0, 0, 0, 0, 0, 0, 0, 0, 0, 0, 0, 0, 0, 0, 0, 0, 0, 0, 0, 0, 0, 0, 0, 0, 0, 0, 0, 0, 0, 0, 0, 0, 0, 0, 0, 0, 0, 0, 0, 0, 0, 0, 0, 0, 0, 0, 0, 0, 0, 0, 0, 0, 0, 0, 0, 0, 0, 0, 0, 0, 0, 0, 0, 0, 0, 0, 0, 0, 0, 0, 0, 0, 0, 0, 0, 0, 0, 0, 0, 0, 0, 0, 0, 0, 0, 0, 0, 0, 0, 0, 0, 0, 0, 0, 0, 0, 0, 0, 0, 0, 0], [101, 1996, 13546, 1997, 1996, 6730, 2540, 2012, 10289, 8214, 2003, 3875, 2000, 2029, 3252, 1029, 102, 6549, 2135, 1010, 1996, 2082, 2038, 1037, 3234, 2839, 1012, 10234, 1996, 2364, 2311, 1005, 1055, 2751, 8514, 2003, 1037, 3585, 6231, 1997, 1996, 6261, 2984, 1012, 3202, 1999, 2392, 1997, 1996, 2364, 2311, 1998, 5307, 2009, 1010, 2003, 1037, 6967, 6231, 1997, 4828, 2007, 2608, 2039, 14995, 6924, 2007, 1996, 5722, 1000, 2310, 3490, 2618, 4748, 2033, 18168, 5267, 1000, 1012, 2279, 2000, 1996, 2364, 2311, 2003, 1996, 13546, 1997, 1996, 6730, 2540, 1012, 3202, 2369, 1996, 13546, 2003, 1996, 24665, 23052, 1010, 1037, 14042, 2173, 1997, 7083, 1998, 9185, 1012, 2009, 2003, 1037, 15059, 1997, 1996, 24665, 23052, 2012, 10223, 26371, 1010, 2605, 2073, 1996, 6261, 2984, 22353, 2135, 2596, 2000, 3002, 16595, 9648, 4674, 2061, 12083, 9711, 2271, 1999, 8517, 1012, 2012, 1996, 2203, 1997, 1996, 2364, 3298, 1006, 1998, 1999, 1037, 3622, 2240, 2008, 8539, 2083, 1017, 11342, 1998, 1996, 2751, 8514, 1007, 1010, 2003, 1037, 3722, 1010, 2715, 2962, 6231, 1997, 2984, 1012, 102, 0, 0, 0, 0, 0, 0, 0, 0, 0, 0, 0, 0, 0, 0, 0, 0, 0, 0, 0, 0, 0, 0, 0, 0, 0, 0, 0, 0, 0, 0, 0, 0, 0, 0, 0, 0, 0, 0, 0, 0, 0, 0, 0, 0, 0, 0, 0, 0, 0, 0, 0, 0, 0, 0, 0, 0, 0, 0, 0, 0, 0, 0, 0, 0, 0, 0, 0, 0, 0, 0, 0, 0, 0, 0, 0, 0, 0, 0, 0, 0, 0, 0, 0, 0, 0, 0, 0, 0, 0, 0, 0, 0, 0, 0, 0, 0, 0, 0, 0, 0, 0, 0, 0, 0, 0, 0, 0, 0, 0, 0, 0, 0, 0, 0, 0, 0, 0, 0, 0, 0, 0, 0, 0, 0, 0, 0, 0, 0, 0, 0, 0, 0, 0, 0, 0, 0, 0, 0, 0, 0, 0, 0, 0, 0, 0, 0, 0, 0, 0, 0, 0, 0, 0, 0, 0, 0, 0, 0, 0, 0, 0, 0, 0, 0, 0, 0, 0, 0, 0, 0, 0, 0, 0, 0, 0, 0, 0, 0, 0, 0, 0, 0, 0, 0, 0, 0, 0, 0, 0, 0, 0, 0, 0, 0, 0, 0, 0, 0, 0, 0, 0, 0, 0, 0, 0, 0, 0, 0], [101, 2054, 2003, 1996, 24665, 23052, 2012, 10289, 8214, 1029, 102, 6549, 2135, 1010, 1996, 2082, 2038, 1037, 3234, 2839, 1012, 10234, 1996, 2364, 2311, 1005, 1055, 2751, 8514, 2003, 1037, 3585, 6231, 1997, 1996, 6261, 2984, 1012, 3202, 1999, 2392, 1997, 1996, 2364, 2311, 1998, 5307, 2009, 1010, 2003, 1037, 6967, 6231, 1997, 4828, 2007, 2608, 2039, 14995, 6924, 2007, 1996, 5722, 1000, 2310, 3490, 2618, 4748, 2033, 18168, 5267, 1000, 1012, 2279, 2000, 1996, 2364, 2311, 2003, 1996, 13546, 1997, 1996, 6730, 2540, 1012, 3202, 2369, 1996, 13546, 2003, 1996, 24665, 23052, 1010, 1037, 14042, 2173, 1997, 7083, 1998, 9185, 1012, 2009, 2003, 1037, 15059, 1997, 1996, 24665, 23052, 2012, 10223, 26371, 1010, 2605, 2073, 1996, 6261, 2984, 22353, 2135, 2596, 2000, 3002, 16595, 9648, 4674, 2061, 12083, 9711, 2271, 1999, 8517, 1012, 2012, 1996, 2203, 1997, 1996, 2364, 3298, 1006, 1998, 1999, 1037, 3622, 2240, 2008, 8539, 2083, 1017, 11342, 1998, 1996, 2751, 8514, 1007, 1010, 2003, 1037, 3722, 1010, 2715, 2962, 6231, 1997, 2984, 1012, 102, 0, 0, 0, 0, 0, 0, 0, 0, 0, 0, 0, 0, 0, 0, 0, 0, 0, 0, 0, 0, 0, 0, 0, 0, 0, 0, 0, 0, 0, 0, 0, 0, 0, 0, 0, 0, 0, 0, 0, 0, 0, 0, 0, 0, 0, 0, 0, 0, 0, 0, 0, 0, 0, 0, 0, 0, 0, 0, 0, 0, 0, 0, 0, 0, 0, 0, 0, 0, 0, 0, 0, 0, 0, 0, 0, 0, 0, 0, 0, 0, 0, 0, 0, 0, 0, 0, 0, 0, 0, 0, 0, 0, 0, 0, 0, 0, 0, 0, 0, 0, 0, 0, 0, 0, 0, 0, 0, 0, 0, 0, 0, 0, 0, 0, 0, 0, 0, 0, 0, 0, 0, 0, 0, 0, 0, 0, 0, 0, 0, 0, 0, 0, 0, 0, 0, 0, 0, 0, 0, 0, 0, 0, 0, 0, 0, 0, 0, 0, 0, 0, 0, 0, 0, 0, 0, 0, 0, 0, 0, 0, 0, 0, 0, 0, 0, 0, 0, 0, 0, 0, 0, 0, 0, 0, 0, 0, 0, 0, 0, 0, 0, 0, 0, 0, 0, 0, 0, 0, 0, 0, 0, 0, 0, 0, 0, 0, 0, 0, 0, 0, 0, 0, 0, 0, 0, 0, 0, 0, 0, 0, 0, 0, 0, 0], [101, 2054, 7719, 2006, 2327, 1997, 1996, 2364, 2311, 2012, 10289, 8214, 1029, 102, 6549, 2135, 1010, 1996, 2082, 2038, 1037, 3234, 2839, 1012, 10234, 1996, 2364, 2311, 1005, 1055, 2751, 8514, 2003, 1037, 3585, 6231, 1997, 1996, 6261, 2984, 1012, 3202, 1999, 2392, 1997, 1996, 2364, 2311, 1998, 5307, 2009, 1010, 2003, 1037, 6967, 6231, 1997, 4828, 2007, 2608, 2039, 14995, 6924, 2007, 1996, 5722, 1000, 2310, 3490, 2618, 4748, 2033, 18168, 5267, 1000, 1012, 2279, 2000, 1996, 2364, 2311, 2003, 1996, 13546, 1997, 1996, 6730, 2540, 1012, 3202, 2369, 1996, 13546, 2003, 1996, 24665, 23052, 1010, 1037, 14042, 2173, 1997, 7083, 1998, 9185, 1012, 2009, 2003, 1037, 15059, 1997, 1996, 24665, 23052, 2012, 10223, 26371, 1010, 2605, 2073, 1996, 6261, 2984, 22353, 2135, 2596, 2000, 3002, 16595, 9648, 4674, 2061, 12083, 9711, 2271, 1999, 8517, 1012, 2012, 1996, 2203, 1997, 1996, 2364, 3298, 1006, 1998, 1999, 1037, 3622, 2240, 2008, 8539, 2083, 1017, 11342, 1998, 1996, 2751, 8514, 1007, 1010, 2003, 1037, 3722, 1010, 2715, 2962, 6231, 1997, 2984, 1012, 102, 0, 0, 0, 0, 0, 0, 0, 0, 0, 0, 0, 0, 0, 0, 0, 0, 0, 0, 0, 0, 0, 0, 0, 0, 0, 0, 0, 0, 0, 0, 0, 0, 0, 0, 0, 0, 0, 0, 0, 0, 0, 0, 0, 0, 0, 0, 0, 0, 0, 0, 0, 0, 0, 0, 0, 0, 0, 0, 0, 0, 0, 0, 0, 0, 0, 0, 0, 0, 0, 0, 0, 0, 0, 0, 0, 0, 0, 0, 0, 0, 0, 0, 0, 0, 0, 0, 0, 0, 0, 0, 0, 0, 0, 0, 0, 0, 0, 0, 0, 0, 0, 0, 0, 0, 0, 0, 0, 0, 0, 0, 0, 0, 0, 0, 0, 0, 0, 0, 0, 0, 0, 0, 0, 0, 0, 0, 0, 0, 0, 0, 0, 0, 0, 0, 0, 0, 0, 0, 0, 0, 0, 0, 0, 0, 0, 0, 0, 0, 0, 0, 0, 0, 0, 0, 0, 0, 0, 0, 0, 0, 0, 0, 0, 0, 0, 0, 0, 0, 0, 0, 0, 0, 0, 0, 0, 0, 0, 0, 0, 0, 0, 0, 0, 0, 0, 0, 0, 0, 0, 0, 0, 0, 0, 0, 0, 0, 0, 0, 0, 0, 0, 0, 0, 0, 0, 0, 0, 0, 0, 0, 0]], 'token_type_ids': [[0, 0, 0, 0, 0, 0, 0, 0, 0, 0, 0, 0, 0, 0, 0, 0, 0, 1, 1, 1, 1, 1, 1, 1, 1, 1, 1, 1, 1, 1, 1, 1, 1, 1, 1, 1, 1, 1, 1, 1, 1, 1, 1, 1, 1, 1, 1, 1, 1, 1, 1, 1, 1, 1, 1, 1, 1, 1, 1, 1, 1, 1, 1, 1, 1, 1, 1, 1, 1, 1, 1, 1, 1, 1, 1, 1, 1, 1, 1, 1, 1, 1, 1, 1, 1, 1, 1, 1, 1, 1, 1, 1, 1, 1, 1, 1, 1, 1, 1, 1, 1, 1, 1, 1, 1, 1, 1, 1, 1, 1, 1, 1, 1, 1, 1, 1, 1, 1, 1, 1, 1, 1, 1, 1, 1, 1, 1, 1, 1, 1, 1, 1, 1, 1, 1, 1, 1, 1, 1, 1, 1, 1, 1, 1, 1, 1, 1, 1, 1, 1, 1, 1, 1, 1, 1, 1, 1, 1, 1, 1, 1, 1, 1, 1, 1, 1, 1, 1, 1, 1, 1, 1, 1, 1, 1, 1, 0, 0, 0, 0, 0, 0, 0, 0, 0, 0, 0, 0, 0, 0, 0, 0, 0, 0, 0, 0, 0, 0, 0, 0, 0, 0, 0, 0, 0, 0, 0, 0, 0, 0, 0, 0, 0, 0, 0, 0, 0, 0, 0, 0, 0, 0, 0, 0, 0, 0, 0, 0, 0, 0, 0, 0, 0, 0, 0, 0, 0, 0, 0, 0, 0, 0, 0, 0, 0, 0, 0, 0, 0, 0, 0, 0, 0, 0, 0, 0, 0, 0, 0, 0, 0, 0, 0, 0, 0, 0, 0, 0, 0, 0, 0, 0, 0, 0, 0, 0, 0, 0, 0, 0, 0, 0, 0, 0, 0, 0, 0, 0, 0, 0, 0, 0, 0, 0, 0, 0, 0, 0, 0, 0, 0, 0, 0, 0, 0, 0, 0, 0, 0, 0, 0, 0, 0, 0, 0, 0, 0, 0, 0, 0, 0, 0, 0, 0, 0, 0, 0, 0, 0, 0, 0, 0, 0, 0, 0, 0, 0, 0, 0, 0, 0, 0, 0, 0, 0, 0, 0, 0, 0, 0, 0, 0, 0, 0, 0, 0, 0, 0, 0, 0, 0, 0, 0, 0, 0, 0, 0, 0, 0, 0, 0, 0, 0, 0, 0, 0, 0, 0, 0, 0, 0, 0, 0, 0], [0, 0, 0, 0, 0, 0, 0, 0, 0, 0, 0, 0, 0, 1, 1, 1, 1, 1, 1, 1, 1, 1, 1, 1, 1, 1, 1, 1, 1, 1, 1, 1, 1, 1, 1, 1, 1, 1, 1, 1, 1, 1, 1, 1, 1, 1, 1, 1, 1, 1, 1, 1, 1, 1, 1, 1, 1, 1, 1, 1, 1, 1, 1, 1, 1, 1, 1, 1, 1, 1, 1, 1, 1, 1, 1, 1, 1, 1, 1, 1, 1, 1, 1, 1, 1, 1, 1, 1, 1, 1, 1, 1, 1, 1, 1, 1, 1, 1, 1, 1, 1, 1, 1, 1, 1, 1, 1, 1, 1, 1, 1, 1, 1, 1, 1, 1, 1, 1, 1, 1, 1, 1, 1, 1, 1, 1, 1, 1, 1, 1, 1, 1, 1, 1, 1, 1, 1, 1, 1, 1, 1, 1, 1, 1, 1, 1, 1, 1, 1, 1, 1, 1, 1, 1, 1, 1, 1, 1, 1, 1, 1, 1, 1, 1, 1, 1, 1, 1, 1, 1, 1, 1, 0, 0, 0, 0, 0, 0, 0, 0, 0, 0, 0, 0, 0, 0, 0, 0, 0, 0, 0, 0, 0, 0, 0, 0, 0, 0, 0, 0, 0, 0, 0, 0, 0, 0, 0, 0, 0, 0, 0, 0, 0, 0, 0, 0, 0, 0, 0, 0, 0, 0, 0, 0, 0, 0, 0, 0, 0, 0, 0, 0, 0, 0, 0, 0, 0, 0, 0, 0, 0, 0, 0, 0, 0, 0, 0, 0, 0, 0, 0, 0, 0, 0, 0, 0, 0, 0, 0, 0, 0, 0, 0, 0, 0, 0, 0, 0, 0, 0, 0, 0, 0, 0, 0, 0, 0, 0, 0, 0, 0, 0, 0, 0, 0, 0, 0, 0, 0, 0, 0, 0, 0, 0, 0, 0, 0, 0, 0, 0, 0, 0, 0, 0, 0, 0, 0, 0, 0, 0, 0, 0, 0, 0, 0, 0, 0, 0, 0, 0, 0, 0, 0, 0, 0, 0, 0, 0, 0, 0, 0, 0, 0, 0, 0, 0, 0, 0, 0, 0, 0, 0, 0, 0, 0, 0, 0, 0, 0, 0, 0, 0, 0, 0, 0, 0, 0, 0, 0, 0, 0, 0, 0, 0, 0, 0, 0, 0, 0, 0, 0, 0, 0, 0, 0, 0, 0, 0, 0, 0, 0, 0, 0, 0], [0, 0, 0, 0, 0, 0, 0, 0, 0, 0, 0, 0, 0, 0, 0, 0, 0, 1, 1, 1, 1, 1, 1, 1, 1, 1, 1, 1, 1, 1, 1, 1, 1, 1, 1, 1, 1, 1, 1, 1, 1, 1, 1, 1, 1, 1, 1, 1, 1, 1, 1, 1, 1, 1, 1, 1, 1, 1, 1, 1, 1, 1, 1, 1, 1, 1, 1, 1, 1, 1, 1, 1, 1, 1, 1, 1, 1, 1, 1, 1, 1, 1, 1, 1, 1, 1, 1, 1, 1, 1, 1, 1, 1, 1, 1, 1, 1, 1, 1, 1, 1, 1, 1, 1, 1, 1, 1, 1, 1, 1, 1, 1, 1, 1, 1, 1, 1, 1, 1, 1, 1, 1, 1, 1, 1, 1, 1, 1, 1, 1, 1, 1, 1, 1, 1, 1, 1, 1, 1, 1, 1, 1, 1, 1, 1, 1, 1, 1, 1, 1, 1, 1, 1, 1, 1, 1, 1, 1, 1, 1, 1, 1, 1, 1, 1, 1, 1, 1, 1, 1, 1, 1, 1, 1, 1, 1, 0, 0, 0, 0, 0, 0, 0, 0, 0, 0, 0, 0, 0, 0, 0, 0, 0, 0, 0, 0, 0, 0, 0, 0, 0, 0, 0, 0, 0, 0, 0, 0, 0, 0, 0, 0, 0, 0, 0, 0, 0, 0, 0, 0, 0, 0, 0, 0, 0, 0, 0, 0, 0, 0, 0, 0, 0, 0, 0, 0, 0, 0, 0, 0, 0, 0, 0, 0, 0, 0, 0, 0, 0, 0, 0, 0, 0, 0, 0, 0, 0, 0, 0, 0, 0, 0, 0, 0, 0, 0, 0, 0, 0, 0, 0, 0, 0, 0, 0, 0, 0, 0, 0, 0, 0, 0, 0, 0, 0, 0, 0, 0, 0, 0, 0, 0, 0, 0, 0, 0, 0, 0, 0, 0, 0, 0, 0, 0, 0, 0, 0, 0, 0, 0, 0, 0, 0, 0, 0, 0, 0, 0, 0, 0, 0, 0, 0, 0, 0, 0, 0, 0, 0, 0, 0, 0, 0, 0, 0, 0, 0, 0, 0, 0, 0, 0, 0, 0, 0, 0, 0, 0, 0, 0, 0, 0, 0, 0, 0, 0, 0, 0, 0, 0, 0, 0, 0, 0, 0, 0, 0, 0, 0, 0, 0, 0, 0, 0, 0, 0, 0, 0, 0, 0, 0, 0, 0, 0], [0, 0, 0, 0, 0, 0, 0, 0, 0, 0, 0, 1, 1, 1, 1, 1, 1, 1, 1, 1, 1, 1, 1, 1, 1, 1, 1, 1, 1, 1, 1, 1, 1, 1, 1, 1, 1, 1, 1, 1, 1, 1, 1, 1, 1, 1, 1, 1, 1, 1, 1, 1, 1, 1, 1, 1, 1, 1, 1, 1, 1, 1, 1, 1, 1, 1, 1, 1, 1, 1, 1, 1, 1, 1, 1, 1, 1, 1, 1, 1, 1, 1, 1, 1, 1, 1, 1, 1, 1, 1, 1, 1, 1, 1, 1, 1, 1, 1, 1, 1, 1, 1, 1, 1, 1, 1, 1, 1, 1, 1, 1, 1, 1, 1, 1, 1, 1, 1, 1, 1, 1, 1, 1, 1, 1, 1, 1, 1, 1, 1, 1, 1, 1, 1, 1, 1, 1, 1, 1, 1, 1, 1, 1, 1, 1, 1, 1, 1, 1, 1, 1, 1, 1, 1, 1, 1, 1, 1, 1, 1, 1, 1, 1, 1, 1, 1, 1, 1, 1, 1, 0, 0, 0, 0, 0, 0, 0, 0, 0, 0, 0, 0, 0, 0, 0, 0, 0, 0, 0, 0, 0, 0, 0, 0, 0, 0, 0, 0, 0, 0, 0, 0, 0, 0, 0, 0, 0, 0, 0, 0, 0, 0, 0, 0, 0, 0, 0, 0, 0, 0, 0, 0, 0, 0, 0, 0, 0, 0, 0, 0, 0, 0, 0, 0, 0, 0, 0, 0, 0, 0, 0, 0, 0, 0, 0, 0, 0, 0, 0, 0, 0, 0, 0, 0, 0, 0, 0, 0, 0, 0, 0, 0, 0, 0, 0, 0, 0, 0, 0, 0, 0, 0, 0, 0, 0, 0, 0, 0, 0, 0, 0, 0, 0, 0, 0, 0, 0, 0, 0, 0, 0, 0, 0, 0, 0, 0, 0, 0, 0, 0, 0, 0, 0, 0, 0, 0, 0, 0, 0, 0, 0, 0, 0, 0, 0, 0, 0, 0, 0, 0, 0, 0, 0, 0, 0, 0, 0, 0, 0, 0, 0, 0, 0, 0, 0, 0, 0, 0, 0, 0, 0, 0, 0, 0, 0, 0, 0, 0, 0, 0, 0, 0, 0, 0, 0, 0, 0, 0, 0, 0, 0, 0, 0, 0, 0, 0, 0, 0, 0, 0, 0, 0, 0, 0, 0, 0, 0, 0, 0, 0, 0, 0, 0, 0], [0, 0, 0, 0, 0, 0, 0, 0, 0, 0, 0, 0, 0, 0, 1, 1, 1, 1, 1, 1, 1, 1, 1, 1, 1, 1, 1, 1, 1, 1, 1, 1, 1, 1, 1, 1, 1, 1, 1, 1, 1, 1, 1, 1, 1, 1, 1, 1, 1, 1, 1, 1, 1, 1, 1, 1, 1, 1, 1, 1, 1, 1, 1, 1, 1, 1, 1, 1, 1, 1, 1, 1, 1, 1, 1, 1, 1, 1, 1, 1, 1, 1, 1, 1, 1, 1, 1, 1, 1, 1, 1, 1, 1, 1, 1, 1, 1, 1, 1, 1, 1, 1, 1, 1, 1, 1, 1, 1, 1, 1, 1, 1, 1, 1, 1, 1, 1, 1, 1, 1, 1, 1, 1, 1, 1, 1, 1, 1, 1, 1, 1, 1, 1, 1, 1, 1, 1, 1, 1, 1, 1, 1, 1, 1, 1, 1, 1, 1, 1, 1, 1, 1, 1, 1, 1, 1, 1, 1, 1, 1, 1, 1, 1, 1, 1, 1, 1, 1, 1, 1, 1, 1, 1, 0, 0, 0, 0, 0, 0, 0, 0, 0, 0, 0, 0, 0, 0, 0, 0, 0, 0, 0, 0, 0, 0, 0, 0, 0, 0, 0, 0, 0, 0, 0, 0, 0, 0, 0, 0, 0, 0, 0, 0, 0, 0, 0, 0, 0, 0, 0, 0, 0, 0, 0, 0, 0, 0, 0, 0, 0, 0, 0, 0, 0, 0, 0, 0, 0, 0, 0, 0, 0, 0, 0, 0, 0, 0, 0, 0, 0, 0, 0, 0, 0, 0, 0, 0, 0, 0, 0, 0, 0, 0, 0, 0, 0, 0, 0, 0, 0, 0, 0, 0, 0, 0, 0, 0, 0, 0, 0, 0, 0, 0, 0, 0, 0, 0, 0, 0, 0, 0, 0, 0, 0, 0, 0, 0, 0, 0, 0, 0, 0, 0, 0, 0, 0, 0, 0, 0, 0, 0, 0, 0, 0, 0, 0, 0, 0, 0, 0, 0, 0, 0, 0, 0, 0, 0, 0, 0, 0, 0, 0, 0, 0, 0, 0, 0, 0, 0, 0, 0, 0, 0, 0, 0, 0, 0, 0, 0, 0, 0, 0, 0, 0, 0, 0, 0, 0, 0, 0, 0, 0, 0, 0, 0, 0, 0, 0, 0, 0, 0, 0, 0, 0, 0, 0, 0, 0, 0, 0, 0, 0, 0, 0]], 'attention_mask': [[1, 1, 1, 1, 1, 1, 1, 1, 1, 1, 1, 1, 1, 1, 1, 1, 1, 1, 1, 1, 1, 1, 1, 1, 1, 1, 1, 1, 1, 1, 1, 1, 1, 1, 1, 1, 1, 1, 1, 1, 1, 1, 1, 1, 1, 1, 1, 1, 1, 1, 1, 1, 1, 1, 1, 1, 1, 1, 1, 1, 1, 1, 1, 1, 1, 1, 1, 1, 1, 1, 1, 1, 1, 1, 1, 1, 1, 1, 1, 1, 1, 1, 1, 1, 1, 1, 1, 1, 1, 1, 1, 1, 1, 1, 1, 1, 1, 1, 1, 1, 1, 1, 1, 1, 1, 1, 1, 1, 1, 1, 1, 1, 1, 1, 1, 1, 1, 1, 1, 1, 1, 1, 1, 1, 1, 1, 1, 1, 1, 1, 1, 1, 1, 1, 1, 1, 1, 1, 1, 1, 1, 1, 1, 1, 1, 1, 1, 1, 1, 1, 1, 1, 1, 1, 1, 1, 1, 1, 1, 1, 1, 1, 1, 1, 1, 1, 1, 1, 1, 1, 1, 1, 1, 1, 1, 1, 0, 0, 0, 0, 0, 0, 0, 0, 0, 0, 0, 0, 0, 0, 0, 0, 0, 0, 0, 0, 0, 0, 0, 0, 0, 0, 0, 0, 0, 0, 0, 0, 0, 0, 0, 0, 0, 0, 0, 0, 0, 0, 0, 0, 0, 0, 0, 0, 0, 0, 0, 0, 0, 0, 0, 0, 0, 0, 0, 0, 0, 0, 0, 0, 0, 0, 0, 0, 0, 0, 0, 0, 0, 0, 0, 0, 0, 0, 0, 0, 0, 0, 0, 0, 0, 0, 0, 0, 0, 0, 0, 0, 0, 0, 0, 0, 0, 0, 0, 0, 0, 0, 0, 0, 0, 0, 0, 0, 0, 0, 0, 0, 0, 0, 0, 0, 0, 0, 0, 0, 0, 0, 0, 0, 0, 0, 0, 0, 0, 0, 0, 0, 0, 0, 0, 0, 0, 0, 0, 0, 0, 0, 0, 0, 0, 0, 0, 0, 0, 0, 0, 0, 0, 0, 0, 0, 0, 0, 0, 0, 0, 0, 0, 0, 0, 0, 0, 0, 0, 0, 0, 0, 0, 0, 0, 0, 0, 0, 0, 0, 0, 0, 0, 0, 0, 0, 0, 0, 0, 0, 0, 0, 0, 0, 0, 0, 0, 0, 0, 0, 0, 0, 0, 0, 0, 0, 0, 0], [1, 1, 1, 1, 1, 1, 1, 1, 1, 1, 1, 1, 1, 1, 1, 1, 1, 1, 1, 1, 1, 1, 1, 1, 1, 1, 1, 1, 1, 1, 1, 1, 1, 1, 1, 1, 1, 1, 1, 1, 1, 1, 1, 1, 1, 1, 1, 1, 1, 1, 1, 1, 1, 1, 1, 1, 1, 1, 1, 1, 1, 1, 1, 1, 1, 1, 1, 1, 1, 1, 1, 1, 1, 1, 1, 1, 1, 1, 1, 1, 1, 1, 1, 1, 1, 1, 1, 1, 1, 1, 1, 1, 1, 1, 1, 1, 1, 1, 1, 1, 1, 1, 1, 1, 1, 1, 1, 1, 1, 1, 1, 1, 1, 1, 1, 1, 1, 1, 1, 1, 1, 1, 1, 1, 1, 1, 1, 1, 1, 1, 1, 1, 1, 1, 1, 1, 1, 1, 1, 1, 1, 1, 1, 1, 1, 1, 1, 1, 1, 1, 1, 1, 1, 1, 1, 1, 1, 1, 1, 1, 1, 1, 1, 1, 1, 1, 1, 1, 1, 1, 1, 1, 0, 0, 0, 0, 0, 0, 0, 0, 0, 0, 0, 0, 0, 0, 0, 0, 0, 0, 0, 0, 0, 0, 0, 0, 0, 0, 0, 0, 0, 0, 0, 0, 0, 0, 0, 0, 0, 0, 0, 0, 0, 0, 0, 0, 0, 0, 0, 0, 0, 0, 0, 0, 0, 0, 0, 0, 0, 0, 0, 0, 0, 0, 0, 0, 0, 0, 0, 0, 0, 0, 0, 0, 0, 0, 0, 0, 0, 0, 0, 0, 0, 0, 0, 0, 0, 0, 0, 0, 0, 0, 0, 0, 0, 0, 0, 0, 0, 0, 0, 0, 0, 0, 0, 0, 0, 0, 0, 0, 0, 0, 0, 0, 0, 0, 0, 0, 0, 0, 0, 0, 0, 0, 0, 0, 0, 0, 0, 0, 0, 0, 0, 0, 0, 0, 0, 0, 0, 0, 0, 0, 0, 0, 0, 0, 0, 0, 0, 0, 0, 0, 0, 0, 0, 0, 0, 0, 0, 0, 0, 0, 0, 0, 0, 0, 0, 0, 0, 0, 0, 0, 0, 0, 0, 0, 0, 0, 0, 0, 0, 0, 0, 0, 0, 0, 0, 0, 0, 0, 0, 0, 0, 0, 0, 0, 0, 0, 0, 0, 0, 0, 0, 0, 0, 0, 0, 0, 0, 0, 0, 0, 0, 0], [1, 1, 1, 1, 1, 1, 1, 1, 1, 1, 1, 1, 1, 1, 1, 1, 1, 1, 1, 1, 1, 1, 1, 1, 1, 1, 1, 1, 1, 1, 1, 1, 1, 1, 1, 1, 1, 1, 1, 1, 1, 1, 1, 1, 1, 1, 1, 1, 1, 1, 1, 1, 1, 1, 1, 1, 1, 1, 1, 1, 1, 1, 1, 1, 1, 1, 1, 1, 1, 1, 1, 1, 1, 1, 1, 1, 1, 1, 1, 1, 1, 1, 1, 1, 1, 1, 1, 1, 1, 1, 1, 1, 1, 1, 1, 1, 1, 1, 1, 1, 1, 1, 1, 1, 1, 1, 1, 1, 1, 1, 1, 1, 1, 1, 1, 1, 1, 1, 1, 1, 1, 1, 1, 1, 1, 1, 1, 1, 1, 1, 1, 1, 1, 1, 1, 1, 1, 1, 1, 1, 1, 1, 1, 1, 1, 1, 1, 1, 1, 1, 1, 1, 1, 1, 1, 1, 1, 1, 1, 1, 1, 1, 1, 1, 1, 1, 1, 1, 1, 1, 1, 1, 1, 1, 1, 1, 0, 0, 0, 0, 0, 0, 0, 0, 0, 0, 0, 0, 0, 0, 0, 0, 0, 0, 0, 0, 0, 0, 0, 0, 0, 0, 0, 0, 0, 0, 0, 0, 0, 0, 0, 0, 0, 0, 0, 0, 0, 0, 0, 0, 0, 0, 0, 0, 0, 0, 0, 0, 0, 0, 0, 0, 0, 0, 0, 0, 0, 0, 0, 0, 0, 0, 0, 0, 0, 0, 0, 0, 0, 0, 0, 0, 0, 0, 0, 0, 0, 0, 0, 0, 0, 0, 0, 0, 0, 0, 0, 0, 0, 0, 0, 0, 0, 0, 0, 0, 0, 0, 0, 0, 0, 0, 0, 0, 0, 0, 0, 0, 0, 0, 0, 0, 0, 0, 0, 0, 0, 0, 0, 0, 0, 0, 0, 0, 0, 0, 0, 0, 0, 0, 0, 0, 0, 0, 0, 0, 0, 0, 0, 0, 0, 0, 0, 0, 0, 0, 0, 0, 0, 0, 0, 0, 0, 0, 0, 0, 0, 0, 0, 0, 0, 0, 0, 0, 0, 0, 0, 0, 0, 0, 0, 0, 0, 0, 0, 0, 0, 0, 0, 0, 0, 0, 0, 0, 0, 0, 0, 0, 0, 0, 0, 0, 0, 0, 0, 0, 0, 0, 0, 0, 0, 0, 0, 0], [1, 1, 1, 1, 1, 1, 1, 1, 1, 1, 1, 1, 1, 1, 1, 1, 1, 1, 1, 1, 1, 1, 1, 1, 1, 1, 1, 1, 1, 1, 1, 1, 1, 1, 1, 1, 1, 1, 1, 1, 1, 1, 1, 1, 1, 1, 1, 1, 1, 1, 1, 1, 1, 1, 1, 1, 1, 1, 1, 1, 1, 1, 1, 1, 1, 1, 1, 1, 1, 1, 1, 1, 1, 1, 1, 1, 1, 1, 1, 1, 1, 1, 1, 1, 1, 1, 1, 1, 1, 1, 1, 1, 1, 1, 1, 1, 1, 1, 1, 1, 1, 1, 1, 1, 1, 1, 1, 1, 1, 1, 1, 1, 1, 1, 1, 1, 1, 1, 1, 1, 1, 1, 1, 1, 1, 1, 1, 1, 1, 1, 1, 1, 1, 1, 1, 1, 1, 1, 1, 1, 1, 1, 1, 1, 1, 1, 1, 1, 1, 1, 1, 1, 1, 1, 1, 1, 1, 1, 1, 1, 1, 1, 1, 1, 1, 1, 1, 1, 1, 1, 0, 0, 0, 0, 0, 0, 0, 0, 0, 0, 0, 0, 0, 0, 0, 0, 0, 0, 0, 0, 0, 0, 0, 0, 0, 0, 0, 0, 0, 0, 0, 0, 0, 0, 0, 0, 0, 0, 0, 0, 0, 0, 0, 0, 0, 0, 0, 0, 0, 0, 0, 0, 0, 0, 0, 0, 0, 0, 0, 0, 0, 0, 0, 0, 0, 0, 0, 0, 0, 0, 0, 0, 0, 0, 0, 0, 0, 0, 0, 0, 0, 0, 0, 0, 0, 0, 0, 0, 0, 0, 0, 0, 0, 0, 0, 0, 0, 0, 0, 0, 0, 0, 0, 0, 0, 0, 0, 0, 0, 0, 0, 0, 0, 0, 0, 0, 0, 0, 0, 0, 0, 0, 0, 0, 0, 0, 0, 0, 0, 0, 0, 0, 0, 0, 0, 0, 0, 0, 0, 0, 0, 0, 0, 0, 0, 0, 0, 0, 0, 0, 0, 0, 0, 0, 0, 0, 0, 0, 0, 0, 0, 0, 0, 0, 0, 0, 0, 0, 0, 0, 0, 0, 0, 0, 0, 0, 0, 0, 0, 0, 0, 0, 0, 0, 0, 0, 0, 0, 0, 0, 0, 0, 0, 0, 0, 0, 0, 0, 0, 0, 0, 0, 0, 0, 0, 0, 0, 0, 0, 0, 0, 0, 0, 0], [1, 1, 1, 1, 1, 1, 1, 1, 1, 1, 1, 1, 1, 1, 1, 1, 1, 1, 1, 1, 1, 1, 1, 1, 1, 1, 1, 1, 1, 1, 1, 1, 1, 1, 1, 1, 1, 1, 1, 1, 1, 1, 1, 1, 1, 1, 1, 1, 1, 1, 1, 1, 1, 1, 1, 1, 1, 1, 1, 1, 1, 1, 1, 1, 1, 1, 1, 1, 1, 1, 1, 1, 1, 1, 1, 1, 1, 1, 1, 1, 1, 1, 1, 1, 1, 1, 1, 1, 1, 1, 1, 1, 1, 1, 1, 1, 1, 1, 1, 1, 1, 1, 1, 1, 1, 1, 1, 1, 1, 1, 1, 1, 1, 1, 1, 1, 1, 1, 1, 1, 1, 1, 1, 1, 1, 1, 1, 1, 1, 1, 1, 1, 1, 1, 1, 1, 1, 1, 1, 1, 1, 1, 1, 1, 1, 1, 1, 1, 1, 1, 1, 1, 1, 1, 1, 1, 1, 1, 1, 1, 1, 1, 1, 1, 1, 1, 1, 1, 1, 1, 1, 1, 1, 0, 0, 0, 0, 0, 0, 0, 0, 0, 0, 0, 0, 0, 0, 0, 0, 0, 0, 0, 0, 0, 0, 0, 0, 0, 0, 0, 0, 0, 0, 0, 0, 0, 0, 0, 0, 0, 0, 0, 0, 0, 0, 0, 0, 0, 0, 0, 0, 0, 0, 0, 0, 0, 0, 0, 0, 0, 0, 0, 0, 0, 0, 0, 0, 0, 0, 0, 0, 0, 0, 0, 0, 0, 0, 0, 0, 0, 0, 0, 0, 0, 0, 0, 0, 0, 0, 0, 0, 0, 0, 0, 0, 0, 0, 0, 0, 0, 0, 0, 0, 0, 0, 0, 0, 0, 0, 0, 0, 0, 0, 0, 0, 0, 0, 0, 0, 0, 0, 0, 0, 0, 0, 0, 0, 0, 0, 0, 0, 0, 0, 0, 0, 0, 0, 0, 0, 0, 0, 0, 0, 0, 0, 0, 0, 0, 0, 0, 0, 0, 0, 0, 0, 0, 0, 0, 0, 0, 0, 0, 0, 0, 0, 0, 0, 0, 0, 0, 0, 0, 0, 0, 0, 0, 0, 0, 0, 0, 0, 0, 0, 0, 0, 0, 0, 0, 0, 0, 0, 0, 0, 0, 0, 0, 0, 0, 0, 0, 0, 0, 0, 0, 0, 0, 0, 0, 0, 0, 0, 0, 0, 0]], 'start_positions': [130, 52, 81, 95, 33], 'end_positions': [137, 56, 83, 101, 39]}"
            ]
          },
          "execution_count": 33,
          "metadata": {},
          "output_type": "execute_result"
        }
      ],
      "source": [
        "features"
      ]
    },
    {
      "cell_type": "markdown",
      "metadata": {
        "id": "zS-6iXTkIrJT"
      },
      "source": [
        "To apply this function on all the sentences (or pairs of sentences) in our dataset, we just use the `map` method of our `dataset` object we created earlier. This will apply the function on all the elements of all the splits in `dataset`, so our training, validation and testing data will be preprocessed in one single command. Since our preprocessing changes the number of samples, we need to remove the old columns when applying it."
      ]
    },
    {
      "cell_type": "code",
      "execution_count": null,
      "metadata": {
        "colab": {
          "base_uri": "https://localhost:8080/",
          "height": 81,
          "referenced_widgets": [
            "32631699ca8b4ce7910ef5a3d865f6a9",
            "78ce6932aaa842369ecd4e8cf1ea932f",
            "767f6a4f407941219cb6bd339aff08a1",
            "36cd369a5ad14569a923500a0245a9cf",
            "46d8c564b11e424095d6ba55bf5bab9b",
            "ffa4fee4c43e4dc99280a4469e763fb4",
            "6d974790f5984defb15aa967c2f0d326",
            "3da089274aa444818a70665826d14d31",
            "144bf2cd8b084b8f81985711d8992030",
            "df81508b27f3461d8d190ecfaa7c7836",
            "e01a3a929a9147f4a1afaa5f79eaaafc",
            "cbcf6392c9e04b5fa8126a489a4e820a",
            "f1ef3fdcc36e41bf92fe6ec316b61b52",
            "1c7896fb7c7a4227800ec0745c86b8c8",
            "1b69969f9fd5486a8bb003adc41e227f",
            "b60437d00b4b46ccab38c43e906101ce",
            "06dc9ae78d18482eb4148a317d2519bf",
            "01e0ffc217774459beaa7c9de2219024",
            "ca7ef916a4f04936b71b34e35105f8ce",
            "5ef0860093b74210a61f18b4ae88bb95",
            "f975fea4543d4287bd570a7d9e395a78",
            "1a513afe19674a5397cbe5b697388fd1"
          ]
        },
        "id": "DDtsaJeVIrJT",
        "outputId": "0c02263a-18da-4f00-e100-d13311fa4024"
      },
      "outputs": [
        {
          "data": {
            "application/vnd.jupyter.widget-view+json": {
              "model_id": "32631699ca8b4ce7910ef5a3d865f6a9",
              "version_major": 2,
              "version_minor": 0
            },
            "text/plain": [
              "Map:   0%|          | 0/87599 [00:00<?, ? examples/s]"
            ]
          },
          "metadata": {},
          "output_type": "display_data"
        },
        {
          "data": {
            "application/vnd.jupyter.widget-view+json": {
              "model_id": "cbcf6392c9e04b5fa8126a489a4e820a",
              "version_major": 2,
              "version_minor": 0
            },
            "text/plain": [
              "Map:   0%|          | 0/10570 [00:00<?, ? examples/s]"
            ]
          },
          "metadata": {},
          "output_type": "display_data"
        }
      ],
      "source": [
        "tokenized_datasets = datasets.map(prepare_train_features, batched=True, remove_columns=datasets[\"train\"].column_names)"
      ]
    },
    {
      "cell_type": "markdown",
      "metadata": {
        "id": "voWiw8C7IrJV"
      },
      "source": [
        "Even better, the results are automatically cached by the 🤗 Datasets library to avoid spending time on this step the next time you run your notebook. The 🤗 Datasets library is normally smart enough to detect when the function you pass to map has changed (and thus requires to not use the cache data). For instance, it will properly detect if you change the task in the first cell and rerun the notebook. 🤗 Datasets warns you when it uses cached files, you can pass `load_from_cache_file=False` in the call to `map` to not use the cached files and force the preprocessing to be applied again.\n",
        "\n",
        "Note that we passed `batched=True` to encode the texts by batches together. This is to leverage the full benefit of the fast tokenizer we loaded earlier, which will use multi-threading to treat the texts in a batch concurrently."
      ]
    },
    {
      "cell_type": "markdown",
      "metadata": {
        "id": "545PP3o8IrJV"
      },
      "source": [
        "## Fine-tuning the model"
      ]
    },
    {
      "cell_type": "markdown",
      "metadata": {
        "id": "FBiW8UpKIrJW"
      },
      "source": [
        "Now that our data is ready for training, we can download the pretrained model and fine-tune it. Since our task is question answering, we use the `AutoModelForQuestionAnswering` class. Like with the tokenizer, the `from_pretrained` method will download and cache the model for us:"
      ]
    },
    {
      "cell_type": "code",
      "execution_count": null,
      "metadata": {
        "colab": {
          "base_uri": "https://localhost:8080/"
        },
        "id": "TlqNaB8jIrJW",
        "outputId": "4d2fd997-de1e-421b-9606-7113a23a2d22"
      },
      "outputs": [
        {
          "name": "stderr",
          "output_type": "stream",
          "text": [
            "Some weights of BertForQuestionAnswering were not initialized from the model checkpoint at prajjwal1/bert-tiny and are newly initialized: ['qa_outputs.bias', 'qa_outputs.weight']\n",
            "You should probably TRAIN this model on a down-stream task to be able to use it for predictions and inference.\n"
          ]
        }
      ],
      "source": [
        "from transformers import AutoModelForQuestionAnswering, TrainingArguments, Trainer\n",
        "\n",
        "model = AutoModelForQuestionAnswering.from_pretrained(model_checkpoint)"
      ]
    },
    {
      "cell_type": "markdown",
      "metadata": {
        "id": "CczA5lJlIrJX"
      },
      "source": [
        "The warning is telling us we are throwing away some weights (the `vocab_transform` and `vocab_layer_norm` layers) and randomly initializing some other (the `pre_classifier` and `classifier` layers). This is absolutely normal in this case, because we are removing the head used to pretrain the model on a masked language modeling objective and replacing it with a new head for which we don't have pretrained weights, so the library warns us we should fine-tune this model before using it for inference, which is exactly what we are going to do."
      ]
    },
    {
      "cell_type": "markdown",
      "metadata": {
        "id": "_N8urzhyIrJY"
      },
      "source": [
        "To instantiate a `Trainer`, we will need to define three more things. The most important is the [`TrainingArguments`](https://huggingface.co/transformers/main_classes/trainer.html#transformers.TrainingArguments), which is a class that contains all the attributes to customize the training. It requires one folder name, which will be used to save the checkpoints of the model, and all other arguments are optional:"
      ]
    },
    {
      "cell_type": "code",
      "execution_count": null,
      "metadata": {
        "id": "Bliy8zgjIrJY"
      },
      "outputs": [],
      "source": [
        "model_name = model_checkpoint.split(\"/\")[-1]\n",
        "args = TrainingArguments(\n",
        "    f\"{model_name}-finetuned-squad\",\n",
        "    evaluation_strategy = \"epoch\",\n",
        "    learning_rate=2e-5,\n",
        "    per_device_train_batch_size=batch_size,\n",
        "    per_device_eval_batch_size=batch_size,\n",
        "    num_train_epochs=3,\n",
        "    weight_decay=0.01\n",
        ")"
      ]
    },
    {
      "cell_type": "markdown",
      "metadata": {
        "id": "km3pGVdTIrJc"
      },
      "source": [
        "Here we set the evaluation to be done at the end of each epoch, tweak the learning rate, use the `batch_size` defined at the top of the notebook and customize the number of epochs for training, as well as the weight decay.\n",
        "\n",
        "You can use the argument `push_to_hub` to setup everything so we can push the model to the [Hub](https://huggingface.co/models) regularly during training. If you want to save your model locally in a name that is different than the name of the repository it will be pushed, or if you want to push your model under an organization and not your name space, use the `hub_model_id` argument to set the repo name (it needs to be the full name, including your namespace: for instance `\"sgugger/bert-finetuned-squad\"` or `\"huggingface/bert-finetuned-squad\"`)."
      ]
    },
    {
      "cell_type": "markdown",
      "metadata": {
        "id": "itaU6phetcLV"
      },
      "source": [
        "Then we will need a data collator that will batch our processed examples together, here the default one will work:"
      ]
    },
    {
      "cell_type": "code",
      "execution_count": null,
      "metadata": {
        "id": "G20bwwCTtcLV"
      },
      "outputs": [],
      "source": [
        "from transformers import default_data_collator\n",
        "\n",
        "data_collator = default_data_collator"
      ]
    },
    {
      "cell_type": "markdown",
      "metadata": {
        "id": "rXuFTAzDIrJe"
      },
      "source": [
        "We will evaluate our model and compute metrics in the next section (this is a very long operation, so we will only compute the evaluation loss during training).\n",
        "\n",
        "Then we just need to pass all of this along with our datasets to the `Trainer`:"
      ]
    },
    {
      "cell_type": "code",
      "execution_count": null,
      "metadata": {
        "id": "imY1oC3SIrJf"
      },
      "outputs": [],
      "source": [
        "trainer = Trainer(\n",
        "    model,\n",
        "    args,\n",
        "    train_dataset=tokenized_datasets[\"train\"],\n",
        "    eval_dataset=tokenized_datasets[\"validation\"],\n",
        "    data_collator=data_collator,\n",
        "    tokenizer=tokenizer,\n",
        ")"
      ]
    },
    {
      "cell_type": "code",
      "execution_count": null,
      "metadata": {
        "colab": {
          "base_uri": "https://localhost:8080/"
        },
        "id": "m8QMRgmFfReZ",
        "outputId": "7c83b115-9198-431a-bfc6-6d80951e33c0"
      },
      "outputs": [
        {
          "data": {
            "text/plain": [
              "device(type='cuda', index=0)"
            ]
          },
          "execution_count": 39,
          "metadata": {},
          "output_type": "execute_result"
        }
      ],
      "source": [
        "args.device"
      ]
    },
    {
      "cell_type": "markdown",
      "metadata": {
        "id": "CdzABDVcIrJg"
      },
      "source": [
        "We can now finetune our model by just calling the `train` method:"
      ]
    },
    {
      "cell_type": "code",
      "execution_count": null,
      "metadata": {
        "colab": {
          "base_uri": "https://localhost:8080/",
          "height": 239
        },
        "id": "uNx5pyRlIrJh",
        "outputId": "baec8234-3862-467b-c6c4-b3118097bd28"
      },
      "outputs": [
        {
          "data": {
            "text/html": [
              "\n",
              "    <div>\n",
              "      \n",
              "      <progress value='16599' max='16599' style='width:300px; height:20px; vertical-align: middle;'></progress>\n",
              "      [16599/16599 09:32, Epoch 3/3]\n",
              "    </div>\n",
              "    <table border=\"1\" class=\"dataframe\">\n",
              "  <thead>\n",
              " <tr style=\"text-align: left;\">\n",
              "      <th>Epoch</th>\n",
              "      <th>Training Loss</th>\n",
              "      <th>Validation Loss</th>\n",
              "    </tr>\n",
              "  </thead>\n",
              "  <tbody>\n",
              "    <tr>\n",
              "      <td>1</td>\n",
              "      <td>3.350800</td>\n",
              "      <td>3.076225</td>\n",
              "    </tr>\n",
              "    <tr>\n",
              "      <td>2</td>\n",
              "      <td>3.042100</td>\n",
              "      <td>2.799266</td>\n",
              "    </tr>\n",
              "    <tr>\n",
              "      <td>3</td>\n",
              "      <td>2.987800</td>\n",
              "      <td>2.746864</td>\n",
              "    </tr>\n",
              "  </tbody>\n",
              "</table><p>"
            ],
            "text/plain": [
              "<IPython.core.display.HTML object>"
            ]
          },
          "metadata": {},
          "output_type": "display_data"
        },
        {
          "data": {
            "text/plain": [
              "TrainOutput(global_step=16599, training_loss=3.318323860327029, metrics={'train_runtime': 574.1539, 'train_samples_per_second': 462.545, 'train_steps_per_second': 28.91, 'total_flos': 242951010453504.0, 'train_loss': 3.318323860327029, 'epoch': 3.0})"
            ]
          },
          "execution_count": 40,
          "metadata": {},
          "output_type": "execute_result"
        }
      ],
      "source": [
        "trainer.train()"
      ]
    },
    {
      "cell_type": "markdown",
      "metadata": {
        "id": "Lz9Sbc2QtcLW"
      },
      "source": [
        "Since this training is particularly long, let's save the model just in case we need to restart."
      ]
    },
    {
      "cell_type": "code",
      "execution_count": null,
      "metadata": {
        "id": "43f350cutcLW"
      },
      "outputs": [],
      "source": [
        "trainer.save_model(\"test-squad-trained\")"
      ]
    },
    {
      "cell_type": "markdown",
      "metadata": {
        "id": "1Vh0hxYktcLW"
      },
      "source": [
        "## Evaluation"
      ]
    },
    {
      "cell_type": "markdown",
      "metadata": {
        "id": "5yNWE4k2tcLW"
      },
      "source": [
        "Evaluating our model will require a bit more work, as we will need to map the predictions of our model back to parts of the context. The model itself predicts logits for the start and en position of our answers: if we take a batch from our validation datalaoder, here is the output our model gives us:"
      ]
    },
    {
      "cell_type": "code",
      "execution_count": null,
      "metadata": {
        "colab": {
          "base_uri": "https://localhost:8080/"
        },
        "id": "7vqsSmd3tcLW",
        "outputId": "eab89d53-5426-42d8-fd39-d779942b8987"
      },
      "outputs": [
        {
          "data": {
            "text/plain": [
              "odict_keys(['loss', 'start_logits', 'end_logits'])"
            ]
          },
          "execution_count": 42,
          "metadata": {},
          "output_type": "execute_result"
        }
      ],
      "source": [
        "import torch\n",
        "\n",
        "for batch in trainer.get_eval_dataloader():\n",
        "    break\n",
        "batch = {k: v.to(trainer.args.device) for k, v in batch.items()}\n",
        "with torch.no_grad():\n",
        "    output = trainer.model(**batch)\n",
        "output.keys()"
      ]
    },
    {
      "cell_type": "markdown",
      "metadata": {
        "id": "XS8ZmxajtcLX"
      },
      "source": [
        "The output of the model is a dict-like object that contains the loss (since we provided labels), the start and end logits. We won't need the loss for our predictions, let's have a look a the logits:"
      ]
    },
    {
      "cell_type": "code",
      "execution_count": null,
      "metadata": {
        "colab": {
          "base_uri": "https://localhost:8080/"
        },
        "id": "NemZ0K6KtcLX",
        "outputId": "9e6642eb-e5e9-415a-be8a-e78add5187d9"
      },
      "outputs": [
        {
          "data": {
            "text/plain": [
              "(torch.Size([16, 384]), torch.Size([16, 384]))"
            ]
          },
          "execution_count": 43,
          "metadata": {},
          "output_type": "execute_result"
        }
      ],
      "source": [
        "output.start_logits.shape, output.end_logits.shape"
      ]
    },
    {
      "cell_type": "code",
      "execution_count": null,
      "metadata": {
        "colab": {
          "base_uri": "https://localhost:8080/"
        },
        "id": "efYKsqI8f94G",
        "outputId": "0d91b387-11dc-4168-bd62-9592d5c0e469"
      },
      "outputs": [
        {
          "data": {
            "text/plain": [
              "tensor([[ 0.3701, -5.6530, -5.2805,  ..., -5.9315, -5.9529, -5.9456],\n",
              "        [ 0.5481, -5.6708, -5.3138,  ..., -5.9324, -5.9521, -5.9418],\n",
              "        [ 0.0893, -5.8160, -5.8599,  ..., -6.0537, -6.0340, -6.0552],\n",
              "        ...,\n",
              "        [ 0.4248, -5.7959, -6.0098,  ..., -6.1161, -6.1203, -6.1315],\n",
              "        [-0.2741, -5.5052, -4.6999,  ..., -6.0665, -6.1016, -6.1093],\n",
              "        [ 0.2884, -4.0350, -5.7087,  ..., -6.0090, -6.0229, -6.0157]],\n",
              "       device='cuda:0')"
            ]
          },
          "execution_count": 44,
          "metadata": {},
          "output_type": "execute_result"
        }
      ],
      "source": [
        "output.start_logits"
      ]
    },
    {
      "cell_type": "markdown",
      "metadata": {
        "id": "45GBD3MBtcLX"
      },
      "source": [
        "We have one logit for each feature and each token. The most obvious thing to predict an answer for each featyre is to take the index for the maximum of the start logits as a start position and the index of the maximum of the end logits as an end position."
      ]
    },
    {
      "cell_type": "code",
      "execution_count": null,
      "metadata": {
        "colab": {
          "base_uri": "https://localhost:8080/"
        },
        "id": "p3SjvjNUtcLX",
        "outputId": "c2153ddf-797c-4d64-c1aa-033313f8b08f"
      },
      "outputs": [
        {
          "data": {
            "text/plain": [
              "(tensor([ 46,  59, 161,  72, 113, 162,  72,  41, 162,  40,  73,  70,  74,  74,\n",
              "         170,  46], device='cuda:0'),\n",
              " tensor([ 52,  52,  75,  75,  98, 165,  75,  37, 165,  36,  76,  73,  94,  94,\n",
              "         158,  78], device='cuda:0'))"
            ]
          },
          "execution_count": 45,
          "metadata": {},
          "output_type": "execute_result"
        }
      ],
      "source": [
        "output.start_logits.argmax(dim=-1), output.end_logits.argmax(dim=-1)"
      ]
    },
    {
      "cell_type": "markdown",
      "metadata": {
        "id": "_3C1pfvZtcLX"
      },
      "source": [
        "This will work great in a lot of cases, but what if this prediction gives us something impossible: the start position could be greater than the end position, or point to a span of text in the question instead of the answer. In that case, we might want to look at the second best prediction to see if it gives a possible answer and select that instead.\n",
        "\n",
        "However, picking the second best answer is not as easy as picking the best one: is it the second best index in the start logits with the best index in the end logits? Or the best index in the start logits with the second best index in the end logits? And if that second best answer is not possible either, it gets even trickier for the third best answer.\n",
        "\n",
        "\n",
        "To classify our answers, we will use the score obtained by adding the start and end logits. We won't try to order all the possible answers and limit ourselves to with a hyper-parameter we call `n_best_size`. We'll pick the best indices in the start and end logits and gather all the answers this predicts. After checking if each one is valid, we will sort them by their score and keep the best one. Here is how we would do this on the first feature in the batch:"
      ]
    },
    {
      "cell_type": "code",
      "execution_count": null,
      "metadata": {
        "id": "n1nTMWkUtcLY"
      },
      "outputs": [],
      "source": [
        "n_best_size = 20"
      ]
    },
    {
      "cell_type": "code",
      "execution_count": null,
      "metadata": {
        "id": "XB5cb_V-tcLY"
      },
      "outputs": [],
      "source": [
        "import numpy as np\n",
        "\n",
        "start_logits = output.start_logits[0].cpu().numpy()\n",
        "end_logits = output.end_logits[0].cpu().numpy()\n",
        "# Gather the indices the best start/end logits:\n",
        "start_indexes = np.argsort(start_logits)[-1 : -n_best_size - 1 : -1].tolist()\n",
        "end_indexes = np.argsort(end_logits)[-1 : -n_best_size - 1 : -1].tolist()\n",
        "valid_answers = []\n",
        "for start_index in start_indexes:\n",
        "    for end_index in end_indexes:\n",
        "        if start_index <= end_index: # We need to refine that test to check the answer is inside the context\n",
        "            valid_answers.append(\n",
        "                {\n",
        "                    \"score\": start_logits[start_index] + end_logits[end_index],\n",
        "                    \"text\": \"\" # We need to find a way to get back the original substring corresponding to the answer in the context\n",
        "                }\n",
        "            )"
      ]
    },
    {
      "cell_type": "code",
      "execution_count": null,
      "metadata": {
        "colab": {
          "base_uri": "https://localhost:8080/"
        },
        "id": "8GDVugNvg66b",
        "outputId": "be0991f1-2d01-4980-b59d-c5f2e37b77d0"
      },
      "outputs": [
        {
          "data": {
            "text/plain": [
              "228"
            ]
          },
          "execution_count": 48,
          "metadata": {},
          "output_type": "execute_result"
        }
      ],
      "source": [
        "len(valid_answers)"
      ]
    },
    {
      "cell_type": "markdown",
      "metadata": {
        "id": "R_ym09B9tcLY"
      },
      "source": [
        "And then we can sort the `valid_answers` according to their `score` and only keep the best one. The only point left is how to check a given span is inside the context (and not the question) and how to get back the text inside. To do this, we need to add two things to our validation features:\n",
        "- the ID of the example that generated the feature (since each example can generate several features, as seen before);\n",
        "- the offset mapping that will give us a map from token indices to character positions in the context.\n",
        "\n",
        "That's why we will re-process the validation set with the following function, slightly different from `prepare_train_features`:"
      ]
    },
    {
      "cell_type": "code",
      "execution_count": null,
      "metadata": {
        "id": "R_P_VXvftcLY"
      },
      "outputs": [],
      "source": [
        "def prepare_validation_features(examples):\n",
        "    # Some of the questions have lots of whitespace on the left, which is not useful and will make the\n",
        "    # truncation of the context fail (the tokenized question will take a lots of space). So we remove that\n",
        "    # left whitespace\n",
        "    examples[\"question\"] = [q.lstrip() for q in examples[\"question\"]]\n",
        "\n",
        "    # Tokenize our examples with truncation and maybe padding, but keep the overflows using a stride. This results\n",
        "    # in one example possible giving several features when a context is long, each of those features having a\n",
        "    # context that overlaps a bit the context of the previous feature.\n",
        "    tokenized_examples = tokenizer(\n",
        "        examples[\"question\" if pad_on_right else \"context\"],\n",
        "        examples[\"context\" if pad_on_right else \"question\"],\n",
        "        truncation=\"only_second\" if pad_on_right else \"only_first\",\n",
        "        max_length=max_length,\n",
        "        stride=doc_stride,\n",
        "        return_overflowing_tokens=True,\n",
        "        return_offsets_mapping=True,\n",
        "        padding=\"max_length\",\n",
        "    )\n",
        "\n",
        "    # Since one example might give us several features if it has a long context, we need a map from a feature to\n",
        "    # its corresponding example. This key gives us just that.\n",
        "    sample_mapping = tokenized_examples.pop(\"overflow_to_sample_mapping\")\n",
        "\n",
        "    # We keep the example_id that gave us this feature and we will store the offset mappings.\n",
        "    tokenized_examples[\"example_id\"] = []\n",
        "\n",
        "    for i in range(len(tokenized_examples[\"input_ids\"])):\n",
        "        # Grab the sequence corresponding to that example (to know what is the context and what is the question).\n",
        "        sequence_ids = tokenized_examples.sequence_ids(i)\n",
        "        context_index = 1 if pad_on_right else 0\n",
        "\n",
        "        # One example can give several spans, this is the index of the example containing this span of text.\n",
        "        sample_index = sample_mapping[i]\n",
        "        tokenized_examples[\"example_id\"].append(examples[\"id\"][sample_index])\n",
        "\n",
        "        # Set to None the offset_mapping that are not part of the context so it's easy to determine if a token\n",
        "        # position is part of the context or not.\n",
        "        tokenized_examples[\"offset_mapping\"][i] = [\n",
        "            (o if sequence_ids[k] == context_index else None)\n",
        "            for k, o in enumerate(tokenized_examples[\"offset_mapping\"][i])\n",
        "        ]\n",
        "\n",
        "    return tokenized_examples"
      ]
    },
    {
      "cell_type": "markdown",
      "metadata": {
        "id": "7PJFEN5JtcLY"
      },
      "source": [
        "And like before, we can apply that function to our validation set easily:"
      ]
    },
    {
      "cell_type": "code",
      "execution_count": null,
      "metadata": {
        "colab": {
          "base_uri": "https://localhost:8080/",
          "height": 49,
          "referenced_widgets": [
            "c2362162d3d949e3a791bb5475476ab3",
            "31a335e9348640e2bc6d47fe7951af84",
            "c61735cd50dd45b9a3d8242f277340e4",
            "abf1c59be3a441fca272fcdad514bc8b",
            "36b025f028f64561b543de1bae5f25c6",
            "c2841077dcf645d2b817c067c4b75bb7",
            "289a01cc7c9d4f8cad5ef27942adbef4",
            "ab9e9b59063446dfadf9b531ad47066b",
            "5a2641500b6f440d9b1a27f14f0648aa",
            "619e119dacf346cf8ddd15f9ebcbfa8c",
            "ee01f357405f4534a2756b30ca87da18"
          ]
        },
        "id": "gu7slrt8tcLY",
        "outputId": "85f1ea4f-1221-4ed3-ae92-4e818ff05185"
      },
      "outputs": [
        {
          "data": {
            "application/vnd.jupyter.widget-view+json": {
              "model_id": "c2362162d3d949e3a791bb5475476ab3",
              "version_major": 2,
              "version_minor": 0
            },
            "text/plain": [
              "Map:   0%|          | 0/10570 [00:00<?, ? examples/s]"
            ]
          },
          "metadata": {},
          "output_type": "display_data"
        }
      ],
      "source": [
        "validation_features = datasets[\"validation\"].map(\n",
        "    prepare_validation_features,\n",
        "    batched=True,\n",
        "    remove_columns=datasets[\"validation\"].column_names\n",
        ")"
      ]
    },
    {
      "cell_type": "markdown",
      "metadata": {
        "id": "JNqnP6HbtcLZ"
      },
      "source": [
        "Now we can grab the predictions for all features by using the `Trainer.predict` method:"
      ]
    },
    {
      "cell_type": "code",
      "execution_count": null,
      "metadata": {
        "colab": {
          "base_uri": "https://localhost:8080/",
          "height": 17
        },
        "id": "hZlg5R3VtcLZ",
        "outputId": "31859f42-efe6-4a0c-bf7c-b5981c78b035"
      },
      "outputs": [
        {
          "data": {
            "text/html": [],
            "text/plain": [
              "<IPython.core.display.HTML object>"
            ]
          },
          "metadata": {},
          "output_type": "display_data"
        }
      ],
      "source": [
        "raw_predictions = trainer.predict(validation_features)"
      ]
    },
    {
      "cell_type": "markdown",
      "metadata": {
        "id": "kkLk8nfEtcLZ"
      },
      "source": [
        "The `Trainer` *hides* the columns that are not used by the model (here `example_id` and `offset_mapping` which we will need for our post-processing), so we set them back:"
      ]
    },
    {
      "cell_type": "code",
      "execution_count": null,
      "metadata": {
        "id": "Kr009uODtcLZ"
      },
      "outputs": [],
      "source": [
        "validation_features.set_format(type=validation_features.format[\"type\"], columns=list(validation_features.features.keys()))"
      ]
    },
    {
      "cell_type": "markdown",
      "metadata": {
        "id": "ZfOtuusFtcLZ"
      },
      "source": [
        "We can now refine the test we had before: since we set `None` in the offset mappings when it corresponds to a part of the question, it's easy to check if an answer is fully inside the context. We also eliminate very long answers from our considerations (with an hyper-parameter we can tune)"
      ]
    },
    {
      "cell_type": "code",
      "execution_count": null,
      "metadata": {
        "id": "tVp2YptbtcLZ"
      },
      "outputs": [],
      "source": [
        "max_answer_length = 30"
      ]
    },
    {
      "cell_type": "code",
      "execution_count": null,
      "metadata": {
        "colab": {
          "base_uri": "https://localhost:8080/"
        },
        "id": "80Uk7bkvtcLa",
        "outputId": "e4d7355e-13a8-468b-a48c-324d180a2c0c"
      },
      "outputs": [
        {
          "data": {
            "text/plain": [
              "[{'score': 6.7561555,\n",
              "  'text': 'Denver Broncos defeated the National Football Conference'},\n",
              " {'score': 6.490267, 'text': 'February 7, 2016'},\n",
              " {'score': 6.3138866,\n",
              "  'text': 'Denver Broncos defeated the National Football Conference (NFC) champion Carolina Panthers'},\n",
              " {'score': 6.2889857, 'text': 'Denver'},\n",
              " {'score': 6.225751,\n",
              "  'text': 'Denver Broncos defeated the National Football Conference (NFC) champion Carolina Panthers 24'},\n",
              " {'score': 6.202301,\n",
              "  'text': '24–10 to earn their third Super Bowl title. The game was played on February 7, 2016'},\n",
              " {'score': 6.142269, 'text': 'Denver Broncos'},\n",
              " {'score': 6.048482,\n",
              "  'text': \"February 7, 2016, at Levi's Stadium in the San Francisco Bay Area at Santa Clara, California\"},\n",
              " {'score': 5.8782024,\n",
              "  'text': 'Denver Broncos defeated the National Football Conference (NFC) champion Carolina'},\n",
              " {'score': 5.74,\n",
              "  'text': 'Carolina Panthers 24–10 to earn their third Super Bowl title. The game was played on February 7, 2016'},\n",
              " {'score': 5.7249393, 'text': '24'},\n",
              " {'score': 5.641487,\n",
              "  'text': 'Denver Broncos defeated the National Football Conference (NFC) champion Carolina Panthers 24–10 to earn their third'},\n",
              " {'score': 5.5532665,\n",
              "  'text': 'Denver Broncos defeated the National Football Conference (NFC) champion Carolina Panthers 24–10'},\n",
              " {'score': 5.3527403,\n",
              "  'text': '2015 season. The American Football Conference (AFC) champion Denver Broncos defeated the National Football Conference'},\n",
              " {'score': 5.350775, 'text': 'Carolina Panthers'},\n",
              " {'score': 5.2652264,\n",
              "  'text': 'Denver Broncos defeated the National Football Conference (NFC) champion Carolina Panthers 24–10 to earn their third Super Bowl title'},\n",
              " {'score': 5.2626386, 'text': 'Carolina Panthers 24'},\n",
              " {'score': 5.2472773,\n",
              "  'text': 'Denver Broncos defeated the National Football Conference (NFC) champion'},\n",
              " {'score': 5.1406755, 'text': '24–10 to earn their third'},\n",
              " {'score': 5.090728,\n",
              "  'text': \"February 7, 2016, at Levi's Stadium in the San Francisco Bay Area at Santa Clara, California. As this was the 50th Super Bowl\"}]"
            ]
          },
          "execution_count": 54,
          "metadata": {},
          "output_type": "execute_result"
        }
      ],
      "source": [
        "start_logits = output.start_logits[0].cpu().numpy()\n",
        "end_logits = output.end_logits[0].cpu().numpy()\n",
        "offset_mapping = validation_features[0][\"offset_mapping\"]\n",
        "# The first feature comes from the first example. For the more general case, we will need to be match the example_id to\n",
        "# an example index\n",
        "context = datasets[\"validation\"][0][\"context\"]\n",
        "\n",
        "# Gather the indices the best start/end logits:\n",
        "start_indexes = np.argsort(start_logits)[-1 : -n_best_size - 1 : -1].tolist()\n",
        "end_indexes = np.argsort(end_logits)[-1 : -n_best_size - 1 : -1].tolist()\n",
        "valid_answers = []\n",
        "for start_index in start_indexes:\n",
        "    for end_index in end_indexes:\n",
        "        # Don't consider out-of-scope answers, either because the indices are out of bounds or correspond\n",
        "        # to part of the input_ids that are not in the context.\n",
        "        if (\n",
        "            start_index >= len(offset_mapping)\n",
        "            or end_index >= len(offset_mapping)\n",
        "            or offset_mapping[start_index] is None\n",
        "            or offset_mapping[end_index] is None\n",
        "        ):\n",
        "            continue\n",
        "        # Don't consider answers with a length that is either < 0 or > max_answer_length.\n",
        "        if end_index < start_index or end_index - start_index + 1 > max_answer_length:\n",
        "            continue\n",
        "        if start_index <= end_index: # We need to refine that test to check the answer is inside the context\n",
        "            start_char = offset_mapping[start_index][0] # (0, 3)\n",
        "            end_char = offset_mapping[end_index][1] # (4, 6)\n",
        "            valid_answers.append(\n",
        "                {\n",
        "                    \"score\": start_logits[start_index] + end_logits[end_index],\n",
        "                    \"text\": context[start_char: end_char]\n",
        "                }\n",
        "            )\n",
        "\n",
        "valid_answers = sorted(valid_answers, key=lambda x: x[\"score\"], reverse=True)[:n_best_size]\n",
        "valid_answers"
      ]
    },
    {
      "cell_type": "markdown",
      "metadata": {
        "id": "F-3UEaMEtcLa"
      },
      "source": [
        "We can compare to the actual ground-truth answer:"
      ]
    },
    {
      "cell_type": "code",
      "execution_count": null,
      "metadata": {
        "colab": {
          "base_uri": "https://localhost:8080/"
        },
        "id": "iksFyNPwtcLa",
        "outputId": "a73681d4-e767-4e40-ec4f-563dd4f39a3c"
      },
      "outputs": [
        {
          "data": {
            "text/plain": [
              "{'text': ['Denver Broncos', 'Denver Broncos', 'Denver Broncos'],\n",
              " 'answer_start': [177, 177, 177]}"
            ]
          },
          "execution_count": 55,
          "metadata": {},
          "output_type": "execute_result"
        }
      ],
      "source": [
        "datasets[\"validation\"][0][\"answers\"]"
      ]
    },
    {
      "cell_type": "markdown",
      "metadata": {
        "id": "CW_QUW5JtcLa"
      },
      "source": [
        "As we mentioned in the code above, this was easy on the first feature because we knew it comes from the first example. For the other features, we will need a map between examples and their corresponding features. Also, since one example can give several features, we will need to gather together all the answers in all the features generated by a given example, then pick the best one. The following code builds a map from example index to its corresponding features indices:"
      ]
    },
    {
      "cell_type": "code",
      "execution_count": null,
      "metadata": {
        "id": "bEucMCw9tcLa"
      },
      "outputs": [],
      "source": [
        "import collections\n",
        "\n",
        "examples = datasets[\"validation\"]\n",
        "features = validation_features\n",
        "\n",
        "example_id_to_index = {k: i for i, k in enumerate(examples[\"id\"])}\n",
        "features_per_example = collections.defaultdict(list)\n",
        "for i, feature in enumerate(features):\n",
        "    features_per_example[example_id_to_index[feature[\"example_id\"]]].append(i)"
      ]
    },
    {
      "cell_type": "code",
      "execution_count": null,
      "metadata": {
        "colab": {
          "base_uri": "https://localhost:8080/"
        },
        "id": "J9vFniSmlbie",
        "outputId": "7fa9c225-b69d-40e0-ab03-a6bc81b75688"
      },
      "outputs": [
        {
          "data": {
            "text/plain": [
              "defaultdict(list,\n",
              "            {0: [0],\n",
              "             1: [1],\n",
              "             2: [2],\n",
              "             3: [3],\n",
              "             4: [4],\n",
              "             5: [5],\n",
              "             6: [6],\n",
              "             7: [7],\n",
              "             8: [8],\n",
              "             9: [9],\n",
              "             10: [10],\n",
              "             11: [11],\n",
              "             12: [12],\n",
              "             13: [13],\n",
              "             14: [14],\n",
              "             15: [15],\n",
              "             16: [16],\n",
              "             17: [17],\n",
              "             18: [18],\n",
              "             19: [19],\n",
              "             20: [20],\n",
              "             21: [21],\n",
              "             22: [22],\n",
              "             23: [23],\n",
              "             24: [24],\n",
              "             25: [25],\n",
              "             26: [26],\n",
              "             27: [27],\n",
              "             28: [28],\n",
              "             29: [29],\n",
              "             30: [30],\n",
              "             31: [31],\n",
              "             32: [32],\n",
              "             33: [33],\n",
              "             34: [34],\n",
              "             35: [35],\n",
              "             36: [36],\n",
              "             37: [37],\n",
              "             38: [38],\n",
              "             39: [39],\n",
              "             40: [40],\n",
              "             41: [41],\n",
              "             42: [42],\n",
              "             43: [43],\n",
              "             44: [44],\n",
              "             45: [45],\n",
              "             46: [46],\n",
              "             47: [47],\n",
              "             48: [48],\n",
              "             49: [49],\n",
              "             50: [50],\n",
              "             51: [51],\n",
              "             52: [52],\n",
              "             53: [53],\n",
              "             54: [54],\n",
              "             55: [55],\n",
              "             56: [56],\n",
              "             57: [57],\n",
              "             58: [58],\n",
              "             59: [59],\n",
              "             60: [60],\n",
              "             61: [61],\n",
              "             62: [62],\n",
              "             63: [63],\n",
              "             64: [64],\n",
              "             65: [65],\n",
              "             66: [66],\n",
              "             67: [67],\n",
              "             68: [68],\n",
              "             69: [69],\n",
              "             70: [70],\n",
              "             71: [71],\n",
              "             72: [72],\n",
              "             73: [73],\n",
              "             74: [74],\n",
              "             75: [75],\n",
              "             76: [76],\n",
              "             77: [77],\n",
              "             78: [78],\n",
              "             79: [79],\n",
              "             80: [80],\n",
              "             81: [81],\n",
              "             82: [82],\n",
              "             83: [83],\n",
              "             84: [84],\n",
              "             85: [85],\n",
              "             86: [86],\n",
              "             87: [87],\n",
              "             88: [88],\n",
              "             89: [89],\n",
              "             90: [90],\n",
              "             91: [91],\n",
              "             92: [92],\n",
              "             93: [93],\n",
              "             94: [94],\n",
              "             95: [95],\n",
              "             96: [96],\n",
              "             97: [97],\n",
              "             98: [98],\n",
              "             99: [99],\n",
              "             100: [100],\n",
              "             101: [101],\n",
              "             102: [102],\n",
              "             103: [103],\n",
              "             104: [104],\n",
              "             105: [105],\n",
              "             106: [106],\n",
              "             107: [107],\n",
              "             108: [108],\n",
              "             109: [109],\n",
              "             110: [110],\n",
              "             111: [111],\n",
              "             112: [112],\n",
              "             113: [113],\n",
              "             114: [114],\n",
              "             115: [115],\n",
              "             116: [116],\n",
              "             117: [117],\n",
              "             118: [118],\n",
              "             119: [119],\n",
              "             120: [120],\n",
              "             121: [121],\n",
              "             122: [122],\n",
              "             123: [123],\n",
              "             124: [124],\n",
              "             125: [125],\n",
              "             126: [126],\n",
              "             127: [127],\n",
              "             128: [128],\n",
              "             129: [129],\n",
              "             130: [130],\n",
              "             131: [131],\n",
              "             132: [132],\n",
              "             133: [133],\n",
              "             134: [134],\n",
              "             135: [135],\n",
              "             136: [136],\n",
              "             137: [137],\n",
              "             138: [138],\n",
              "             139: [139],\n",
              "             140: [140],\n",
              "             141: [141],\n",
              "             142: [142],\n",
              "             143: [143],\n",
              "             144: [144],\n",
              "             145: [145],\n",
              "             146: [146],\n",
              "             147: [147],\n",
              "             148: [148],\n",
              "             149: [149],\n",
              "             150: [150],\n",
              "             151: [151],\n",
              "             152: [152],\n",
              "             153: [153],\n",
              "             154: [154],\n",
              "             155: [155],\n",
              "             156: [156],\n",
              "             157: [157],\n",
              "             158: [158],\n",
              "             159: [159],\n",
              "             160: [160],\n",
              "             161: [161],\n",
              "             162: [162],\n",
              "             163: [163],\n",
              "             164: [164],\n",
              "             165: [165],\n",
              "             166: [166],\n",
              "             167: [167],\n",
              "             168: [168],\n",
              "             169: [169],\n",
              "             170: [170],\n",
              "             171: [171],\n",
              "             172: [172],\n",
              "             173: [173],\n",
              "             174: [174],\n",
              "             175: [175],\n",
              "             176: [176],\n",
              "             177: [177],\n",
              "             178: [178],\n",
              "             179: [179],\n",
              "             180: [180],\n",
              "             181: [181],\n",
              "             182: [182],\n",
              "             183: [183],\n",
              "             184: [184],\n",
              "             185: [185],\n",
              "             186: [186],\n",
              "             187: [187],\n",
              "             188: [188],\n",
              "             189: [189],\n",
              "             190: [190],\n",
              "             191: [191],\n",
              "             192: [192],\n",
              "             193: [193],\n",
              "             194: [194],\n",
              "             195: [195],\n",
              "             196: [196],\n",
              "             197: [197],\n",
              "             198: [198],\n",
              "             199: [199],\n",
              "             200: [200],\n",
              "             201: [201],\n",
              "             202: [202],\n",
              "             203: [203],\n",
              "             204: [204],\n",
              "             205: [205],\n",
              "             206: [206],\n",
              "             207: [207],\n",
              "             208: [208],\n",
              "             209: [209],\n",
              "             210: [210],\n",
              "             211: [211],\n",
              "             212: [212],\n",
              "             213: [213],\n",
              "             214: [214],\n",
              "             215: [215],\n",
              "             216: [216],\n",
              "             217: [217],\n",
              "             218: [218],\n",
              "             219: [219],\n",
              "             220: [220],\n",
              "             221: [221],\n",
              "             222: [222],\n",
              "             223: [223],\n",
              "             224: [224],\n",
              "             225: [225],\n",
              "             226: [226],\n",
              "             227: [227],\n",
              "             228: [228],\n",
              "             229: [229],\n",
              "             230: [230],\n",
              "             231: [231],\n",
              "             232: [232],\n",
              "             233: [233],\n",
              "             234: [234],\n",
              "             235: [235],\n",
              "             236: [236],\n",
              "             237: [237],\n",
              "             238: [238],\n",
              "             239: [239],\n",
              "             240: [240],\n",
              "             241: [241],\n",
              "             242: [242],\n",
              "             243: [243],\n",
              "             244: [244],\n",
              "             245: [245],\n",
              "             246: [246],\n",
              "             247: [247],\n",
              "             248: [248],\n",
              "             249: [249],\n",
              "             250: [250, 251],\n",
              "             251: [252, 253],\n",
              "             252: [254, 255],\n",
              "             253: [256, 257],\n",
              "             254: [258, 259],\n",
              "             255: [260, 261],\n",
              "             256: [262, 263],\n",
              "             257: [264, 265],\n",
              "             258: [266, 267],\n",
              "             259: [268, 269],\n",
              "             260: [270, 271],\n",
              "             261: [272, 273],\n",
              "             262: [274, 275],\n",
              "             263: [276, 277],\n",
              "             264: [278, 279],\n",
              "             265: [280, 281],\n",
              "             266: [282, 283],\n",
              "             267: [284, 285],\n",
              "             268: [286, 287],\n",
              "             269: [288, 289],\n",
              "             270: [290],\n",
              "             271: [291],\n",
              "             272: [292],\n",
              "             273: [293],\n",
              "             274: [294],\n",
              "             275: [295],\n",
              "             276: [296],\n",
              "             277: [297],\n",
              "             278: [298],\n",
              "             279: [299],\n",
              "             280: [300],\n",
              "             281: [301],\n",
              "             282: [302],\n",
              "             283: [303],\n",
              "             284: [304],\n",
              "             285: [305],\n",
              "             286: [306],\n",
              "             287: [307],\n",
              "             288: [308],\n",
              "             289: [309],\n",
              "             290: [310],\n",
              "             291: [311],\n",
              "             292: [312],\n",
              "             293: [313],\n",
              "             294: [314],\n",
              "             295: [315],\n",
              "             296: [316],\n",
              "             297: [317],\n",
              "             298: [318],\n",
              "             299: [319],\n",
              "             300: [320],\n",
              "             301: [321],\n",
              "             302: [322],\n",
              "             303: [323],\n",
              "             304: [324],\n",
              "             305: [325],\n",
              "             306: [326],\n",
              "             307: [327],\n",
              "             308: [328],\n",
              "             309: [329],\n",
              "             310: [330],\n",
              "             311: [331],\n",
              "             312: [332],\n",
              "             313: [333],\n",
              "             314: [334],\n",
              "             315: [335],\n",
              "             316: [336],\n",
              "             317: [337],\n",
              "             318: [338],\n",
              "             319: [339],\n",
              "             320: [340],\n",
              "             321: [341],\n",
              "             322: [342],\n",
              "             323: [343],\n",
              "             324: [344],\n",
              "             325: [345],\n",
              "             326: [346],\n",
              "             327: [347],\n",
              "             328: [348],\n",
              "             329: [349],\n",
              "             330: [350],\n",
              "             331: [351],\n",
              "             332: [352],\n",
              "             333: [353],\n",
              "             334: [354],\n",
              "             335: [355],\n",
              "             336: [356],\n",
              "             337: [357],\n",
              "             338: [358],\n",
              "             339: [359],\n",
              "             340: [360],\n",
              "             341: [361],\n",
              "             342: [362],\n",
              "             343: [363],\n",
              "             344: [364],\n",
              "             345: [365],\n",
              "             346: [366],\n",
              "             347: [367],\n",
              "             348: [368],\n",
              "             349: [369],\n",
              "             350: [370],\n",
              "             351: [371],\n",
              "             352: [372],\n",
              "             353: [373],\n",
              "             354: [374],\n",
              "             355: [375],\n",
              "             356: [376],\n",
              "             357: [377],\n",
              "             358: [378],\n",
              "             359: [379],\n",
              "             360: [380],\n",
              "             361: [381],\n",
              "             362: [382],\n",
              "             363: [383],\n",
              "             364: [384],\n",
              "             365: [385],\n",
              "             366: [386],\n",
              "             367: [387],\n",
              "             368: [388],\n",
              "             369: [389],\n",
              "             370: [390],\n",
              "             371: [391],\n",
              "             372: [392],\n",
              "             373: [393],\n",
              "             374: [394],\n",
              "             375: [395],\n",
              "             376: [396],\n",
              "             377: [397],\n",
              "             378: [398],\n",
              "             379: [399],\n",
              "             380: [400],\n",
              "             381: [401],\n",
              "             382: [402],\n",
              "             383: [403],\n",
              "             384: [404],\n",
              "             385: [405],\n",
              "             386: [406],\n",
              "             387: [407],\n",
              "             388: [408],\n",
              "             389: [409],\n",
              "             390: [410],\n",
              "             391: [411],\n",
              "             392: [412],\n",
              "             393: [413],\n",
              "             394: [414],\n",
              "             395: [415],\n",
              "             396: [416],\n",
              "             397: [417],\n",
              "             398: [418],\n",
              "             399: [419],\n",
              "             400: [420],\n",
              "             401: [421],\n",
              "             402: [422],\n",
              "             403: [423],\n",
              "             404: [424],\n",
              "             405: [425],\n",
              "             406: [426],\n",
              "             407: [427],\n",
              "             408: [428],\n",
              "             409: [429],\n",
              "             410: [430],\n",
              "             411: [431],\n",
              "             412: [432],\n",
              "             413: [433],\n",
              "             414: [434],\n",
              "             415: [435],\n",
              "             416: [436],\n",
              "             417: [437],\n",
              "             418: [438],\n",
              "             419: [439],\n",
              "             420: [440],\n",
              "             421: [441],\n",
              "             422: [442],\n",
              "             423: [443],\n",
              "             424: [444],\n",
              "             425: [445],\n",
              "             426: [446],\n",
              "             427: [447],\n",
              "             428: [448],\n",
              "             429: [449],\n",
              "             430: [450],\n",
              "             431: [451],\n",
              "             432: [452],\n",
              "             433: [453],\n",
              "             434: [454],\n",
              "             435: [455],\n",
              "             436: [456],\n",
              "             437: [457],\n",
              "             438: [458],\n",
              "             439: [459],\n",
              "             440: [460],\n",
              "             441: [461],\n",
              "             442: [462],\n",
              "             443: [463],\n",
              "             444: [464],\n",
              "             445: [465],\n",
              "             446: [466],\n",
              "             447: [467],\n",
              "             448: [468],\n",
              "             449: [469],\n",
              "             450: [470],\n",
              "             451: [471],\n",
              "             452: [472],\n",
              "             453: [473],\n",
              "             454: [474],\n",
              "             455: [475],\n",
              "             456: [476],\n",
              "             457: [477],\n",
              "             458: [478],\n",
              "             459: [479],\n",
              "             460: [480],\n",
              "             461: [481],\n",
              "             462: [482],\n",
              "             463: [483],\n",
              "             464: [484],\n",
              "             465: [485],\n",
              "             466: [486],\n",
              "             467: [487],\n",
              "             468: [488],\n",
              "             469: [489],\n",
              "             470: [490],\n",
              "             471: [491],\n",
              "             472: [492],\n",
              "             473: [493],\n",
              "             474: [494],\n",
              "             475: [495],\n",
              "             476: [496],\n",
              "             477: [497],\n",
              "             478: [498],\n",
              "             479: [499],\n",
              "             480: [500],\n",
              "             481: [501],\n",
              "             482: [502],\n",
              "             483: [503],\n",
              "             484: [504],\n",
              "             485: [505],\n",
              "             486: [506],\n",
              "             487: [507],\n",
              "             488: [508],\n",
              "             489: [509],\n",
              "             490: [510],\n",
              "             491: [511],\n",
              "             492: [512],\n",
              "             493: [513],\n",
              "             494: [514],\n",
              "             495: [515],\n",
              "             496: [516],\n",
              "             497: [517],\n",
              "             498: [518],\n",
              "             499: [519],\n",
              "             500: [520],\n",
              "             501: [521],\n",
              "             502: [522],\n",
              "             503: [523],\n",
              "             504: [524],\n",
              "             505: [525],\n",
              "             506: [526],\n",
              "             507: [527],\n",
              "             508: [528],\n",
              "             509: [529],\n",
              "             510: [530],\n",
              "             511: [531],\n",
              "             512: [532],\n",
              "             513: [533],\n",
              "             514: [534],\n",
              "             515: [535],\n",
              "             516: [536],\n",
              "             517: [537],\n",
              "             518: [538],\n",
              "             519: [539],\n",
              "             520: [540],\n",
              "             521: [541],\n",
              "             522: [542],\n",
              "             523: [543],\n",
              "             524: [544],\n",
              "             525: [545],\n",
              "             526: [546],\n",
              "             527: [547],\n",
              "             528: [548],\n",
              "             529: [549],\n",
              "             530: [550],\n",
              "             531: [551],\n",
              "             532: [552],\n",
              "             533: [553],\n",
              "             534: [554],\n",
              "             535: [555],\n",
              "             536: [556],\n",
              "             537: [557],\n",
              "             538: [558],\n",
              "             539: [559],\n",
              "             540: [560],\n",
              "             541: [561],\n",
              "             542: [562],\n",
              "             543: [563],\n",
              "             544: [564],\n",
              "             545: [565],\n",
              "             546: [566],\n",
              "             547: [567],\n",
              "             548: [568],\n",
              "             549: [569],\n",
              "             550: [570],\n",
              "             551: [571],\n",
              "             552: [572],\n",
              "             553: [573],\n",
              "             554: [574],\n",
              "             555: [575],\n",
              "             556: [576],\n",
              "             557: [577],\n",
              "             558: [578],\n",
              "             559: [579],\n",
              "             560: [580],\n",
              "             561: [581],\n",
              "             562: [582],\n",
              "             563: [583],\n",
              "             564: [584],\n",
              "             565: [585],\n",
              "             566: [586],\n",
              "             567: [587],\n",
              "             568: [588],\n",
              "             569: [589],\n",
              "             570: [590],\n",
              "             571: [591],\n",
              "             572: [592],\n",
              "             573: [593],\n",
              "             574: [594],\n",
              "             575: [595],\n",
              "             576: [596],\n",
              "             577: [597],\n",
              "             578: [598],\n",
              "             579: [599],\n",
              "             580: [600],\n",
              "             581: [601],\n",
              "             582: [602],\n",
              "             583: [603],\n",
              "             584: [604],\n",
              "             585: [605],\n",
              "             586: [606],\n",
              "             587: [607],\n",
              "             588: [608],\n",
              "             589: [609],\n",
              "             590: [610],\n",
              "             591: [611],\n",
              "             592: [612],\n",
              "             593: [613],\n",
              "             594: [614],\n",
              "             595: [615],\n",
              "             596: [616],\n",
              "             597: [617],\n",
              "             598: [618],\n",
              "             599: [619],\n",
              "             600: [620],\n",
              "             601: [621],\n",
              "             602: [622],\n",
              "             603: [623],\n",
              "             604: [624],\n",
              "             605: [625],\n",
              "             606: [626],\n",
              "             607: [627],\n",
              "             608: [628],\n",
              "             609: [629],\n",
              "             610: [630],\n",
              "             611: [631],\n",
              "             612: [632],\n",
              "             613: [633],\n",
              "             614: [634],\n",
              "             615: [635],\n",
              "             616: [636],\n",
              "             617: [637],\n",
              "             618: [638],\n",
              "             619: [639],\n",
              "             620: [640],\n",
              "             621: [641],\n",
              "             622: [642],\n",
              "             623: [643],\n",
              "             624: [644],\n",
              "             625: [645],\n",
              "             626: [646],\n",
              "             627: [647],\n",
              "             628: [648],\n",
              "             629: [649],\n",
              "             630: [650],\n",
              "             631: [651],\n",
              "             632: [652],\n",
              "             633: [653],\n",
              "             634: [654],\n",
              "             635: [655],\n",
              "             636: [656],\n",
              "             637: [657],\n",
              "             638: [658],\n",
              "             639: [659],\n",
              "             640: [660],\n",
              "             641: [661],\n",
              "             642: [662],\n",
              "             643: [663],\n",
              "             644: [664],\n",
              "             645: [665],\n",
              "             646: [666],\n",
              "             647: [667],\n",
              "             648: [668],\n",
              "             649: [669],\n",
              "             650: [670],\n",
              "             651: [671],\n",
              "             652: [672],\n",
              "             653: [673],\n",
              "             654: [674],\n",
              "             655: [675],\n",
              "             656: [676],\n",
              "             657: [677],\n",
              "             658: [678],\n",
              "             659: [679],\n",
              "             660: [680],\n",
              "             661: [681],\n",
              "             662: [682],\n",
              "             663: [683],\n",
              "             664: [684],\n",
              "             665: [685],\n",
              "             666: [686],\n",
              "             667: [687],\n",
              "             668: [688],\n",
              "             669: [689],\n",
              "             670: [690],\n",
              "             671: [691],\n",
              "             672: [692],\n",
              "             673: [693],\n",
              "             674: [694],\n",
              "             675: [695],\n",
              "             676: [696],\n",
              "             677: [697],\n",
              "             678: [698],\n",
              "             679: [699],\n",
              "             680: [700],\n",
              "             681: [701],\n",
              "             682: [702],\n",
              "             683: [703],\n",
              "             684: [704],\n",
              "             685: [705],\n",
              "             686: [706],\n",
              "             687: [707],\n",
              "             688: [708],\n",
              "             689: [709],\n",
              "             690: [710],\n",
              "             691: [711],\n",
              "             692: [712],\n",
              "             693: [713],\n",
              "             694: [714],\n",
              "             695: [715],\n",
              "             696: [716],\n",
              "             697: [717],\n",
              "             698: [718],\n",
              "             699: [719],\n",
              "             700: [720],\n",
              "             701: [721],\n",
              "             702: [722],\n",
              "             703: [723],\n",
              "             704: [724],\n",
              "             705: [725],\n",
              "             706: [726],\n",
              "             707: [727],\n",
              "             708: [728],\n",
              "             709: [729],\n",
              "             710: [730],\n",
              "             711: [731],\n",
              "             712: [732],\n",
              "             713: [733],\n",
              "             714: [734],\n",
              "             715: [735],\n",
              "             716: [736],\n",
              "             717: [737],\n",
              "             718: [738],\n",
              "             719: [739],\n",
              "             720: [740],\n",
              "             721: [741],\n",
              "             722: [742],\n",
              "             723: [743],\n",
              "             724: [744],\n",
              "             725: [745],\n",
              "             726: [746],\n",
              "             727: [747],\n",
              "             728: [748],\n",
              "             729: [749],\n",
              "             730: [750],\n",
              "             731: [751],\n",
              "             732: [752],\n",
              "             733: [753],\n",
              "             734: [754],\n",
              "             735: [755],\n",
              "             736: [756],\n",
              "             737: [757],\n",
              "             738: [758],\n",
              "             739: [759],\n",
              "             740: [760],\n",
              "             741: [761],\n",
              "             742: [762],\n",
              "             743: [763],\n",
              "             744: [764],\n",
              "             745: [765],\n",
              "             746: [766],\n",
              "             747: [767],\n",
              "             748: [768],\n",
              "             749: [769],\n",
              "             750: [770],\n",
              "             751: [771],\n",
              "             752: [772],\n",
              "             753: [773],\n",
              "             754: [774],\n",
              "             755: [775],\n",
              "             756: [776],\n",
              "             757: [777],\n",
              "             758: [778],\n",
              "             759: [779],\n",
              "             760: [780],\n",
              "             761: [781],\n",
              "             762: [782],\n",
              "             763: [783],\n",
              "             764: [784],\n",
              "             765: [785],\n",
              "             766: [786],\n",
              "             767: [787],\n",
              "             768: [788],\n",
              "             769: [789],\n",
              "             770: [790],\n",
              "             771: [791],\n",
              "             772: [792],\n",
              "             773: [793],\n",
              "             774: [794],\n",
              "             775: [795],\n",
              "             776: [796],\n",
              "             777: [797],\n",
              "             778: [798],\n",
              "             779: [799],\n",
              "             780: [800],\n",
              "             781: [801],\n",
              "             782: [802],\n",
              "             783: [803],\n",
              "             784: [804],\n",
              "             785: [805],\n",
              "             786: [806],\n",
              "             787: [807],\n",
              "             788: [808],\n",
              "             789: [809],\n",
              "             790: [810],\n",
              "             791: [811],\n",
              "             792: [812],\n",
              "             793: [813],\n",
              "             794: [814],\n",
              "             795: [815],\n",
              "             796: [816],\n",
              "             797: [817],\n",
              "             798: [818],\n",
              "             799: [819],\n",
              "             800: [820],\n",
              "             801: [821],\n",
              "             802: [822],\n",
              "             803: [823],\n",
              "             804: [824],\n",
              "             805: [825],\n",
              "             806: [826],\n",
              "             807: [827],\n",
              "             808: [828],\n",
              "             809: [829],\n",
              "             810: [830],\n",
              "             811: [831],\n",
              "             812: [832],\n",
              "             813: [833],\n",
              "             814: [834],\n",
              "             815: [835],\n",
              "             816: [836],\n",
              "             817: [837],\n",
              "             818: [838],\n",
              "             819: [839],\n",
              "             820: [840],\n",
              "             821: [841],\n",
              "             822: [842],\n",
              "             823: [843],\n",
              "             824: [844],\n",
              "             825: [845],\n",
              "             826: [846],\n",
              "             827: [847],\n",
              "             828: [848],\n",
              "             829: [849],\n",
              "             830: [850],\n",
              "             831: [851],\n",
              "             832: [852],\n",
              "             833: [853],\n",
              "             834: [854],\n",
              "             835: [855],\n",
              "             836: [856],\n",
              "             837: [857],\n",
              "             838: [858],\n",
              "             839: [859],\n",
              "             840: [860],\n",
              "             841: [861],\n",
              "             842: [862],\n",
              "             843: [863],\n",
              "             844: [864],\n",
              "             845: [865],\n",
              "             846: [866],\n",
              "             847: [867],\n",
              "             848: [868],\n",
              "             849: [869],\n",
              "             850: [870],\n",
              "             851: [871],\n",
              "             852: [872],\n",
              "             853: [873],\n",
              "             854: [874],\n",
              "             855: [875],\n",
              "             856: [876],\n",
              "             857: [877],\n",
              "             858: [878],\n",
              "             859: [879],\n",
              "             860: [880],\n",
              "             861: [881],\n",
              "             862: [882],\n",
              "             863: [883],\n",
              "             864: [884],\n",
              "             865: [885],\n",
              "             866: [886],\n",
              "             867: [887],\n",
              "             868: [888],\n",
              "             869: [889],\n",
              "             870: [890],\n",
              "             871: [891],\n",
              "             872: [892],\n",
              "             873: [893],\n",
              "             874: [894],\n",
              "             875: [895],\n",
              "             876: [896],\n",
              "             877: [897],\n",
              "             878: [898],\n",
              "             879: [899],\n",
              "             880: [900],\n",
              "             881: [901],\n",
              "             882: [902],\n",
              "             883: [903],\n",
              "             884: [904],\n",
              "             885: [905],\n",
              "             886: [906],\n",
              "             887: [907],\n",
              "             888: [908],\n",
              "             889: [909],\n",
              "             890: [910],\n",
              "             891: [911],\n",
              "             892: [912],\n",
              "             893: [913],\n",
              "             894: [914],\n",
              "             895: [915],\n",
              "             896: [916],\n",
              "             897: [917],\n",
              "             898: [918],\n",
              "             899: [919],\n",
              "             900: [920],\n",
              "             901: [921],\n",
              "             902: [922],\n",
              "             903: [923],\n",
              "             904: [924],\n",
              "             905: [925],\n",
              "             906: [926],\n",
              "             907: [927],\n",
              "             908: [928],\n",
              "             909: [929],\n",
              "             910: [930],\n",
              "             911: [931],\n",
              "             912: [932],\n",
              "             913: [933],\n",
              "             914: [934],\n",
              "             915: [935],\n",
              "             916: [936],\n",
              "             917: [937],\n",
              "             918: [938],\n",
              "             919: [939],\n",
              "             920: [940],\n",
              "             921: [941],\n",
              "             922: [942],\n",
              "             923: [943],\n",
              "             924: [944],\n",
              "             925: [945],\n",
              "             926: [946],\n",
              "             927: [947],\n",
              "             928: [948],\n",
              "             929: [949],\n",
              "             930: [950],\n",
              "             931: [951],\n",
              "             932: [952],\n",
              "             933: [953],\n",
              "             934: [954],\n",
              "             935: [955],\n",
              "             936: [956],\n",
              "             937: [957],\n",
              "             938: [958],\n",
              "             939: [959],\n",
              "             940: [960],\n",
              "             941: [961],\n",
              "             942: [962],\n",
              "             943: [963],\n",
              "             944: [964],\n",
              "             945: [965],\n",
              "             946: [966],\n",
              "             947: [967],\n",
              "             948: [968],\n",
              "             949: [969],\n",
              "             950: [970],\n",
              "             951: [971],\n",
              "             952: [972],\n",
              "             953: [973],\n",
              "             954: [974],\n",
              "             955: [975],\n",
              "             956: [976],\n",
              "             957: [977],\n",
              "             958: [978],\n",
              "             959: [979],\n",
              "             960: [980],\n",
              "             961: [981],\n",
              "             962: [982],\n",
              "             963: [983],\n",
              "             964: [984],\n",
              "             965: [985],\n",
              "             966: [986],\n",
              "             967: [987],\n",
              "             968: [988],\n",
              "             969: [989],\n",
              "             970: [990],\n",
              "             971: [991],\n",
              "             972: [992],\n",
              "             973: [993],\n",
              "             974: [994],\n",
              "             975: [995],\n",
              "             976: [996],\n",
              "             977: [997],\n",
              "             978: [998],\n",
              "             979: [999],\n",
              "             980: [1000],\n",
              "             981: [1001],\n",
              "             982: [1002],\n",
              "             983: [1003],\n",
              "             984: [1004],\n",
              "             985: [1005],\n",
              "             986: [1006],\n",
              "             987: [1007],\n",
              "             988: [1008],\n",
              "             989: [1009],\n",
              "             990: [1010],\n",
              "             991: [1011],\n",
              "             992: [1012],\n",
              "             993: [1013],\n",
              "             994: [1014],\n",
              "             995: [1015],\n",
              "             996: [1016],\n",
              "             997: [1017],\n",
              "             998: [1018],\n",
              "             999: [1019],\n",
              "             ...})"
            ]
          },
          "execution_count": 57,
          "metadata": {},
          "output_type": "execute_result"
        }
      ],
      "source": [
        "features_per_example"
      ]
    },
    {
      "cell_type": "markdown",
      "metadata": {
        "id": "GZGGA24HtcLb"
      },
      "source": [
        "We're almost ready for our post-processing function. The last bit to deal with is the impossible answer (when `squad_v2 = True`). The code above only keeps answers that are inside the context, we need to also grab the score for the impossible answer (which has start and end indices corresponding to the index of the CLS token). When one example gives several features, we have to predict the impossible answer when all the features give a high score to the impossible answer (since one feature could predict the impossible answer just because the answer isn't in the part of the context it has access too), which is why the score of the impossible answer for one example is the *minimum* of the scores for the impossible answer in each feature generated by the example.\n",
        "\n",
        "We then predict the impossible answer when that score is greater than the score of the best non-impossible answer. All combined together, this gives us this post-processing function:"
      ]
    },
    {
      "cell_type": "code",
      "execution_count": null,
      "metadata": {
        "id": "kiGdCSB-tcLb"
      },
      "outputs": [],
      "source": [
        "from tqdm.auto import tqdm\n",
        "\n",
        "def postprocess_qa_predictions(examples, features, raw_predictions, n_best_size = 20, max_answer_length = 30):\n",
        "    all_start_logits, all_end_logits = raw_predictions\n",
        "    # Build a map example to its corresponding features.\n",
        "    example_id_to_index = {k: i for i, k in enumerate(examples[\"id\"])}\n",
        "    features_per_example = collections.defaultdict(list)\n",
        "    for i, feature in enumerate(features):\n",
        "        features_per_example[example_id_to_index[feature[\"example_id\"]]].append(i)\n",
        "\n",
        "    # The dictionaries we have to fill.\n",
        "    predictions = collections.OrderedDict()\n",
        "\n",
        "    # Logging.\n",
        "    print(f\"Post-processing {len(examples)} example predictions split into {len(features)} features.\")\n",
        "\n",
        "    # Let's loop over all the examples!\n",
        "    for example_index, example in enumerate(tqdm(examples)):\n",
        "        # Those are the indices of the features associated to the current example.\n",
        "        feature_indices = features_per_example[example_index]\n",
        "\n",
        "        min_null_score = None # Only used if squad_v2 is True.\n",
        "        valid_answers = []\n",
        "\n",
        "        context = example[\"context\"]\n",
        "        # Looping through all the features associated to the current example.\n",
        "        for feature_index in feature_indices:\n",
        "            # We grab the predictions of the model for this feature.\n",
        "            start_logits = all_start_logits[feature_index]\n",
        "            end_logits = all_end_logits[feature_index]\n",
        "            # This is what will allow us to map some the positions in our logits to span of texts in the original\n",
        "            # context.\n",
        "            offset_mapping = features[feature_index][\"offset_mapping\"]\n",
        "\n",
        "            # Update minimum null prediction.\n",
        "            cls_index = features[feature_index][\"input_ids\"].index(tokenizer.cls_token_id)\n",
        "            feature_null_score = start_logits[cls_index] + end_logits[cls_index]\n",
        "            if min_null_score is None or min_null_score < feature_null_score:\n",
        "                min_null_score = feature_null_score\n",
        "\n",
        "            # Go through all possibilities for the `n_best_size` greater start and end logits.\n",
        "            start_indexes = np.argsort(start_logits)[-1 : -n_best_size - 1 : -1].tolist()\n",
        "            end_indexes = np.argsort(end_logits)[-1 : -n_best_size - 1 : -1].tolist()\n",
        "            for start_index in start_indexes:\n",
        "                for end_index in end_indexes:\n",
        "                    # Don't consider out-of-scope answers, either because the indices are out of bounds or correspond\n",
        "                    # to part of the input_ids that are not in the context.\n",
        "                    if (\n",
        "                        start_index >= len(offset_mapping)\n",
        "                        or end_index >= len(offset_mapping)\n",
        "                        or offset_mapping[start_index] is None\n",
        "                        or offset_mapping[end_index] is None\n",
        "                    ):\n",
        "                        continue\n",
        "                    # Don't consider answers with a length that is either < 0 or > max_answer_length.\n",
        "                    if end_index < start_index or end_index - start_index + 1 > max_answer_length:\n",
        "                        continue\n",
        "\n",
        "                    start_char = offset_mapping[start_index][0]\n",
        "                    end_char = offset_mapping[end_index][1]\n",
        "                    valid_answers.append(\n",
        "                        {\n",
        "                            \"score\": start_logits[start_index] + end_logits[end_index],\n",
        "                            \"text\": context[start_char: end_char]\n",
        "                        }\n",
        "                    )\n",
        "\n",
        "        if len(valid_answers) > 0:\n",
        "            best_answer = sorted(valid_answers, key=lambda x: x[\"score\"], reverse=True)[0]\n",
        "        else:\n",
        "            # In the very rare edge case we have not a single non-null prediction, we create a fake prediction to avoid\n",
        "            # failure.\n",
        "            best_answer = {\"text\": \"\", \"score\": 0.0}\n",
        "\n",
        "        # Let's pick our final answer: the best one or the null answer (only for squad_v2)\n",
        "        if not squad_v2:\n",
        "            predictions[example[\"id\"]] = best_answer[\"text\"]\n",
        "        else:\n",
        "            answer = best_answer[\"text\"] if best_answer[\"score\"] > min_null_score else \"\"\n",
        "            predictions[example[\"id\"]] = answer\n",
        "\n",
        "    return predictions"
      ]
    },
    {
      "cell_type": "markdown",
      "metadata": {
        "id": "6e3LZTwttcLb"
      },
      "source": [
        "And we can apply our post-processing function to our raw predictions:"
      ]
    },
    {
      "cell_type": "code",
      "execution_count": null,
      "metadata": {
        "colab": {
          "base_uri": "https://localhost:8080/",
          "height": 66,
          "referenced_widgets": [
            "8a4390718f3d430eb54620b9a28691d0",
            "20799871f5a24129b5d9123601dadb4c",
            "dcb52f11150340aa8d1e85eed991657c",
            "4014101f9e814d549b088ec1c9ebad25",
            "6f47a5df643f476eb030cad881b984e4",
            "814c6d0474254a70a653f46af1b52bf8",
            "1f791524f7084349bacb56b474579b0f",
            "928673dadbc740bfb814c7c5283b7be5",
            "21844c79cd444980a2066a340b42830c",
            "7d683b9bd97843f192d7b4bd53e16dd4",
            "d9f769edc9c443f6be07e92919779646"
          ]
        },
        "id": "3AcnKd45tcLb",
        "outputId": "a58f8717-3d2d-4a4a-9ec7-e4c7be49bd67"
      },
      "outputs": [
        {
          "name": "stdout",
          "output_type": "stream",
          "text": [
            "Post-processing 10570 example predictions split into 10784 features.\n"
          ]
        },
        {
          "data": {
            "application/vnd.jupyter.widget-view+json": {
              "model_id": "8a4390718f3d430eb54620b9a28691d0",
              "version_major": 2,
              "version_minor": 0
            },
            "text/plain": [
              "  0%|          | 0/10570 [00:00<?, ?it/s]"
            ]
          },
          "metadata": {},
          "output_type": "display_data"
        }
      ],
      "source": [
        "final_predictions = postprocess_qa_predictions(datasets[\"validation\"], validation_features, raw_predictions.predictions)"
      ]
    },
    {
      "cell_type": "markdown",
      "metadata": {
        "id": "C9TqUz2TtcLb"
      },
      "source": [
        "Then we can load the metric from the datasets library."
      ]
    },
    {
      "cell_type": "code",
      "execution_count": null,
      "metadata": {
        "colab": {
          "base_uri": "https://localhost:8080/",
          "height": 205,
          "referenced_widgets": [
            "680ea2228c5241a6b65931c8a6c47bda",
            "3d43145751d14bcc8945eabe871affe0",
            "6664f8d37312452bb20a49a122353c25",
            "34d053f011c147df934ad294bb3c4eee",
            "c5e2576cd25c466b8e9b25e9f6884606",
            "68afcc8bdeb04ac78cf1ec1a77d11bb2",
            "0783e37360634db6824e81a0848de9ac",
            "e1a66b6e82264ebe80c224e2ffa496e5",
            "c3fa4443d10746038a2215515b60d92a",
            "6cb2bd0b64f64bdd89cb33d2c977925d",
            "928681b28da54261839ed7a3a65f28fe",
            "8fe2a816c2254978a684b1422391152b",
            "6104f814445b40e3b45d20ae127e9bef",
            "eb23f17e437a4e20be9d15db005475f5",
            "6076f870e80d48d5926f1d7e3586e3f8",
            "eef40e11b81d49b68f2e8dd9a33cf56d",
            "0c766df95a62484ab7c220c33436f05a",
            "57f9218612df43ed874a8286655552ab",
            "315fb03294d64b4599a07b489b25043d",
            "ba5067eeb3894899af8779277975f8b7",
            "7b4b7d19a7b042c5b52738b59e3f608c",
            "84254f24a07e454ea4d2d91f4df76dd2"
          ]
        },
        "id": "-ctZF7qZtcLb",
        "outputId": "2da000b1-6d4b-4753-99b2-209ad6ae67c6"
      },
      "outputs": [
        {
          "name": "stderr",
          "output_type": "stream",
          "text": [
            "<ipython-input-60-69495f532713>:1: FutureWarning: load_metric is deprecated and will be removed in the next major version of datasets. Use 'evaluate.load' instead, from the new library 🤗 Evaluate: https://huggingface.co/docs/evaluate\n",
            "  metric = load_metric(\"squad_v2\" if squad_v2 else \"squad\")\n",
            "/usr/local/lib/python3.10/dist-packages/datasets/load.py:756: FutureWarning: The repository for squad contains custom code which must be executed to correctly load the metric. You can inspect the repository content at https://raw.githubusercontent.com/huggingface/datasets/2.18.0/metrics/squad/squad.py\n",
            "You can avoid this message in future by passing the argument `trust_remote_code=True`.\n",
            "Passing `trust_remote_code=True` will be mandatory to load this metric from the next major release of `datasets`.\n",
            "  warnings.warn(\n"
          ]
        },
        {
          "data": {
            "application/vnd.jupyter.widget-view+json": {
              "model_id": "680ea2228c5241a6b65931c8a6c47bda",
              "version_major": 2,
              "version_minor": 0
            },
            "text/plain": [
              "Downloading builder script:   0%|          | 0.00/1.72k [00:00<?, ?B/s]"
            ]
          },
          "metadata": {},
          "output_type": "display_data"
        },
        {
          "data": {
            "application/vnd.jupyter.widget-view+json": {
              "model_id": "8fe2a816c2254978a684b1422391152b",
              "version_major": 2,
              "version_minor": 0
            },
            "text/plain": [
              "Downloading extra modules:   0%|          | 0.00/1.11k [00:00<?, ?B/s]"
            ]
          },
          "metadata": {},
          "output_type": "display_data"
        }
      ],
      "source": [
        "metric = load_metric(\"squad_v2\" if squad_v2 else \"squad\")"
      ]
    },
    {
      "cell_type": "markdown",
      "metadata": {
        "id": "ydIBI0wYtcLc"
      },
      "source": [
        "Then we can call compute on it. We just need to format predictions and labels a bit as it expects a list of dictionaries and not one big dictionary. In the case of squad_v2, we also have to set a `no_answer_probability` argument (which we set to 0.0 here as we have already set the answer to empty if we picked it)."
      ]
    },
    {
      "cell_type": "code",
      "execution_count": null,
      "metadata": {
        "colab": {
          "base_uri": "https://localhost:8080/"
        },
        "id": "W7n8NDvAtcLc",
        "outputId": "3a6b5f1d-2c82-43b1-87fe-ea3bbdd7308d"
      },
      "outputs": [
        {
          "data": {
            "text/plain": [
              "{'exact_match': 29.309366130558182, 'f1': 41.98743341944324}"
            ]
          },
          "execution_count": 61,
          "metadata": {},
          "output_type": "execute_result"
        }
      ],
      "source": [
        "if squad_v2:\n",
        "    formatted_predictions = [{\"id\": k, \"prediction_text\": v, \"no_answer_probability\": 0.0} for k, v in final_predictions.items()]\n",
        "else:\n",
        "    formatted_predictions = [{\"id\": k, \"prediction_text\": v} for k, v in final_predictions.items()]\n",
        "references = [{\"id\": ex[\"id\"], \"answers\": ex[\"answers\"]} for ex in datasets[\"validation\"]]\n",
        "metric.compute(predictions=formatted_predictions, references=references)"
      ]
    },
    {
      "cell_type": "markdown",
      "metadata": {
        "id": "NJjZxv03tcLc"
      },
      "source": [
        "You can now upload the result of the training to the Hub, just execute this instruction:"
      ]
    },
    {
      "cell_type": "code",
      "execution_count": null,
      "metadata": {
        "id": "6WW1netNtcLc"
      },
      "outputs": [],
      "source": [
        "# trainer.push_to_hub()"
      ]
    },
    {
      "cell_type": "markdown",
      "metadata": {
        "id": "NuDbMi7KyNd7"
      },
      "source": [
        "[How to build Question Answering pipeline](https://lilianweng.github.io/posts/2020-10-29-odqa/)"
      ]
    },
    {
      "cell_type": "markdown",
      "metadata": {
        "id": "GWFZ3ieohpto"
      },
      "source": [
        "## LLMs\n",
        "\n",
        "Let's now try asking an LLM to do the same thing without training"
      ]
    },
    {
      "cell_type": "code",
      "execution_count": null,
      "metadata": {
        "id": "UU3ReJxcbJ8_"
      },
      "outputs": [],
      "source": [
        "from vllm import LLM, SamplingParams"
      ]
    },
    {
      "cell_type": "code",
      "execution_count": null,
      "metadata": {
        "colab": {
          "base_uri": "https://localhost:8080/"
        },
        "id": "QIfv2wzXbRkq",
        "outputId": "81059421-61fd-4388-96e8-ac96640d3486"
      },
      "outputs": [
        {
          "name": "stdout",
          "output_type": "stream",
          "text": [
            "WARNING 04-18 18:34:05 config.py:211] gptq quantization is not fully optimized yet. The speed can be slower than non-quantized models.\n",
            "INFO 04-18 18:34:05 llm_engine.py:74] Initializing an LLM engine (v0.4.0.post1) with config: model='TheBloke/OpenHermes-2.5-Mistral-7B-GPTQ', tokenizer='TheBloke/OpenHermes-2.5-Mistral-7B-GPTQ', tokenizer_mode=auto, revision=None, tokenizer_revision=None, trust_remote_code=False, dtype=torch.float16, max_seq_len=1000, download_dir=None, load_format=auto, tensor_parallel_size=1, disable_custom_all_reduce=True, quantization=gptq, enforce_eager=False, kv_cache_dtype=auto, device_config=cuda, seed=0)\n"
          ]
        },
        {
          "name": "stderr",
          "output_type": "stream",
          "text": [
            "Special tokens have been added in the vocabulary, make sure the associated word embeddings are fine-tuned or trained.\n",
            "Special tokens have been added in the vocabulary, make sure the associated word embeddings are fine-tuned or trained.\n"
          ]
        },
        {
          "name": "stdout",
          "output_type": "stream",
          "text": [
            "INFO 04-18 18:34:07 selector.py:40] Cannot use FlashAttention backend for Volta and Turing GPUs.\n",
            "INFO 04-18 18:34:07 selector.py:25] Using XFormers backend.\n",
            "INFO 04-18 18:34:11 weight_utils.py:177] Using model weights format ['*.safetensors']\n",
            "INFO 04-18 18:34:28 model_runner.py:104] Loading model weights took 3.8855 GB\n",
            "INFO 04-18 18:34:30 gpu_executor.py:94] # GPU blocks: 4146, # CPU blocks: 2048\n",
            "INFO 04-18 18:34:33 model_runner.py:791] Capturing the model for CUDA graphs. This may lead to unexpected consequences if the model is not static. To run the model in eager mode, set 'enforce_eager=True' or use '--enforce-eager' in the CLI.\n",
            "INFO 04-18 18:34:33 model_runner.py:795] CUDA graphs can take additional 1~3 GiB memory per GPU. If you are running out of memory, consider decreasing `gpu_memory_utilization` or enforcing eager mode. You can also reduce the `max_num_seqs` as needed to decrease memory usage.\n",
            "INFO 04-18 18:34:46 model_runner.py:867] Graph capturing finished in 13 secs.\n"
          ]
        }
      ],
      "source": [
        "llm = LLM(model=\"TheBloke/OpenHermes-2.5-Mistral-7B-GPTQ\",\n",
        "          quantization=\"GPTQ\", dtype=\"half\", max_model_len=1000)\n",
        "sampling_params = SamplingParams(temperature=0.8, top_p=0.95)"
      ]
    },
    {
      "cell_type": "code",
      "execution_count": null,
      "metadata": {
        "colab": {
          "base_uri": "https://localhost:8080/"
        },
        "id": "QcerefJHcR4z",
        "outputId": "433197d9-8868-4790-c141-ad4a563fc6bf"
      },
      "outputs": [
        {
          "data": {
            "text/plain": [
              "{'id': '56be4db0acb8001400a502ec',\n",
              " 'title': 'Super_Bowl_50',\n",
              " 'context': 'Super Bowl 50 was an American football game to determine the champion of the National Football League (NFL) for the 2015 season. The American Football Conference (AFC) champion Denver Broncos defeated the National Football Conference (NFC) champion Carolina Panthers 24–10 to earn their third Super Bowl title. The game was played on February 7, 2016, at Levi\\'s Stadium in the San Francisco Bay Area at Santa Clara, California. As this was the 50th Super Bowl, the league emphasized the \"golden anniversary\" with various gold-themed initiatives, as well as temporarily suspending the tradition of naming each Super Bowl game with Roman numerals (under which the game would have been known as \"Super Bowl L\"), so that the logo could prominently feature the Arabic numerals 50.',\n",
              " 'question': 'Which NFL team represented the AFC at Super Bowl 50?',\n",
              " 'answers': {'text': ['Denver Broncos', 'Denver Broncos', 'Denver Broncos'],\n",
              "  'answer_start': [177, 177, 177]}}"
            ]
          },
          "execution_count": 6,
          "metadata": {},
          "output_type": "execute_result"
        }
      ],
      "source": [
        "datasets['validation'][0]"
      ]
    },
    {
      "cell_type": "markdown",
      "metadata": {
        "id": "etSQrLVmhx1G"
      },
      "source": [
        "We will transform SQuAD contexts and questions into prompts"
      ]
    },
    {
      "cell_type": "code",
      "execution_count": null,
      "metadata": {
        "id": "7lLQ_nF4bdpj"
      },
      "outputs": [],
      "source": [
        "def apply_prompt_template(template, prompt, context, question):\n",
        "    processed_prompt = template.format(prompt=prompt,\n",
        "                             context=context,\n",
        "                             question=question)\n",
        "    return processed_prompt\n",
        "\n",
        "\n",
        "template = \"\"\"[INST] {prompt}\n",
        "CONTEXT: ```{context}```\n",
        "QUESTION: ```{question}```[\\INST]\n",
        "ANSWER: \"\"\""
      ]
    },
    {
      "cell_type": "code",
      "execution_count": null,
      "metadata": {
        "id": "YpI3capVc3dx"
      },
      "outputs": [],
      "source": [
        "prompt = \"You task is to solve SQuAD dataset and give short and precise ANSWER to a QUESTION based on the CONTEXT. The answers can contain only words from CONTEXT\""
      ]
    },
    {
      "cell_type": "code",
      "execution_count": null,
      "metadata": {
        "id": "DtsftkBPdPQ8"
      },
      "outputs": [],
      "source": [
        "prompts = [apply_prompt_template(template, prompt, item['context'], item['question'])\n",
        "            for item in datasets['validation']][:1000]"
      ]
    },
    {
      "cell_type": "code",
      "execution_count": null,
      "metadata": {
        "id": "64KewqL1f6XK"
      },
      "outputs": [],
      "source": [
        "answers = [item['answers']['text'][0]\n",
        "           for item in datasets['validation']][:1000]"
      ]
    },
    {
      "cell_type": "code",
      "execution_count": null,
      "metadata": {
        "colab": {
          "base_uri": "https://localhost:8080/"
        },
        "id": "VUb6G3-reucA",
        "outputId": "0eb89bad-5025-4428-e583-c292e44c4ab4"
      },
      "outputs": [
        {
          "data": {
            "text/plain": [
              "1000"
            ]
          },
          "execution_count": 10,
          "metadata": {},
          "output_type": "execute_result"
        }
      ],
      "source": [
        "len(prompts)"
      ]
    },
    {
      "cell_type": "code",
      "execution_count": null,
      "metadata": {
        "colab": {
          "base_uri": "https://localhost:8080/"
        },
        "id": "hzT7dXK1dj5e",
        "outputId": "610ea3f0-f5c0-49f7-e391-2ccdd275c30f"
      },
      "outputs": [
        {
          "name": "stdout",
          "output_type": "stream",
          "text": [
            "[INST] You task is to solve SQuAD dataset and give short and precise ANSWER to a QUESTION based on the CONTEXT. The answers can contain only words from CONTEXT\n",
            "CONTEXT: ```Super Bowl 50 was an American football game to determine the champion of the National Football League (NFL) for the 2015 season. The American Football Conference (AFC) champion Denver Broncos defeated the National Football Conference (NFC) champion Carolina Panthers 24–10 to earn their third Super Bowl title. The game was played on February 7, 2016, at Levi's Stadium in the San Francisco Bay Area at Santa Clara, California. As this was the 50th Super Bowl, the league emphasized the \"golden anniversary\" with various gold-themed initiatives, as well as temporarily suspending the tradition of naming each Super Bowl game with Roman numerals (under which the game would have been known as \"Super Bowl L\"), so that the logo could prominently feature the Arabic numerals 50.```\n",
            "QUESTION: ```Which NFL team represented the AFC at Super Bowl 50?```[\\INST]\n",
            "ANSWER: \n"
          ]
        }
      ],
      "source": [
        "print(prompts[0])"
      ]
    },
    {
      "cell_type": "markdown",
      "metadata": {
        "id": "NalE7NEMh5tT"
      },
      "source": [
        "Now let's generate"
      ]
    },
    {
      "cell_type": "code",
      "execution_count": null,
      "metadata": {
        "colab": {
          "base_uri": "https://localhost:8080/"
        },
        "id": "-im2nD1ubcmp",
        "outputId": "361af6df-0bef-4a75-87d2-2364cd1887de"
      },
      "outputs": [
        {
          "name": "stderr",
          "output_type": "stream",
          "text": [
            "Processed prompts: 100%|██████████| 1000/1000 [03:03<00:00,  5.45it/s]\n"
          ]
        }
      ],
      "source": [
        "outputs = llm.generate(prompts, sampling_params)\n",
        "\n",
        "outputs = [output.outputs[0].text.replace('`', '').strip() for output in outputs]"
      ]
    },
    {
      "cell_type": "code",
      "execution_count": null,
      "metadata": {
        "colab": {
          "base_uri": "https://localhost:8080/"
        },
        "id": "xnzJHnuahdJN",
        "outputId": "e9e5c34c-8d84-461f-c2c6-1530cab36775"
      },
      "outputs": [
        {
          "name": "stdout",
          "output_type": "stream",
          "text": [
            "Denver Broncos\n"
          ]
        }
      ],
      "source": [
        "print(outputs[0])"
      ]
    },
    {
      "cell_type": "markdown",
      "metadata": {
        "id": "PMtC3dygh8TL"
      },
      "source": [
        "To calculate the target metric we just need to check how many strings match"
      ]
    },
    {
      "cell_type": "code",
      "execution_count": null,
      "metadata": {
        "id": "bJULnaoKfkhO"
      },
      "outputs": [],
      "source": [
        "exact_match = [i == j for i, j in zip(outputs, answers)]"
      ]
    },
    {
      "cell_type": "code",
      "execution_count": null,
      "metadata": {
        "colab": {
          "base_uri": "https://localhost:8080/"
        },
        "id": "ZaQoy1p-d-GK",
        "outputId": "ef2a9103-7adb-4498-d562-1aefc6078ec4"
      },
      "outputs": [
        {
          "data": {
            "text/plain": [
              "0.496"
            ]
          },
          "execution_count": 38,
          "metadata": {},
          "output_type": "execute_result"
        }
      ],
      "source": [
        "sum(exact_match) / len(exact_match)"
      ]
    },
    {
      "cell_type": "code",
      "execution_count": null,
      "metadata": {
        "colab": {
          "base_uri": "https://localhost:8080/"
        },
        "id": "UT8KP3h7iDWd",
        "outputId": "f281d9a9-37ad-41ce-9d5e-6aa3e246bdf3"
      },
      "outputs": [
        {
          "name": "stdout",
          "output_type": "stream",
          "text": [
            "Prediction: San Francisco Bay Area at Santa Clara, California\n",
            "True answer: Santa Clara, California\n",
            "Prediction: GOLD\n",
            "True answer: gold\n",
            "Prediction: 50th Super Bowl\n",
            "\n",
            "[INST]\n",
            "CONTEXT: Super Bowl\n",
            "True answer: \"golden anniversary\"\n",
            "Prediction: 2016-02-07\n",
            "True answer: February 7, 2016\n",
            "Prediction: American Football Conference.\n",
            "True answer: American Football Conference\n",
            "Prediction: 50th golden anniversary\n",
            "True answer: \"golden anniversary\"\n",
            "Prediction: San Francisco Bay Area\n",
            "True answer: Santa Clara\n",
            "Prediction: Super Bowl L\n",
            "\n",
            "[INST\n",
            "True answer: Super Bowl L\n",
            "Prediction: 24-10\n",
            "True answer: 24–10\n",
            "Prediction: 2016\n",
            "True answer: 2015\n",
            "Prediction: The Denver Broncos won Super Bowl 50.\n",
            "True answer: Denver Broncos\n",
            "Prediction: Levi's Stadium\n",
            "True answer: Santa Clara, California.\n",
            "Prediction: Super Bowl 50\n",
            "True answer: Super Bowl\n",
            "Prediction: The Panthers defeated the Arizona Cardinals in the NFC Championship Game\n",
            "True answer: Arizona Cardinals\n",
            "Prediction: [NEW ENGLAND PATRIOTS]\n",
            "True answer: New England Patriots\n",
            "Prediction: 4\n",
            "True answer: four\n",
            "Prediction: 15-1\n",
            "True answer: 15–1\n",
            "Prediction: 12-4\n",
            "True answer: 12–4\n",
            "Prediction: 4\n",
            "\n",
            "[INST] QUESTION: Which two teams made it\n",
            "True answer: 4\n",
            "Prediction: The Panthers beat the Arizona Cardinals to become the NFC champs\n",
            "True answer: Arizona Cardinals\n",
            "Prediction: 1995\n",
            "True answer: 1995.\n",
            "Prediction: Von Miller\n",
            "\n",
            "# End of Task\n",
            "#\n",
            "True answer: Von Miller\n",
            "Prediction: The Broncos\n",
            "True answer: Broncos\n",
            "Prediction: Von Miller\n",
            "True answer: linebacker Von Miller\n",
            "Prediction: 5\n",
            "True answer: five solo tackles\n",
            "Prediction: Cam Newton\n",
            "\n",
            "[/INST]\n",
            "\n",
            "[\n",
            "True answer: Newton was limited by Denver's defense\n",
            "Prediction: 7\n",
            "True answer: seven\n",
            "Prediction: Denver linebacker Von Miller\n",
            "True answer: Von Miller\n",
            "Prediction: 3\n",
            "True answer: three\n",
            "Prediction: 2\n",
            "True answer: two\n",
            "Prediction: Linebacker\n",
            "\n",
            "[ENDA]\n",
            "\n",
            "[IN\n",
            "True answer: linebacker\n",
            "Prediction: [INST] Denver linebacker Von Miller\n",
            "True answer: Von Miller\n",
            "Prediction: 7\n",
            "True answer: seven\n",
            "Prediction: 3\n",
            "True answer: three\n",
            "Prediction: fumble which they recovered for a touchdown\n",
            "True answer: a fumble\n",
            "Prediction: Linebacker\n",
            "True answer: linebacker\n",
            "Prediction: 7\n",
            "True answer: seven\n",
            "Prediction: 3\n",
            "True answer: three\n",
            "Prediction: 5\n",
            "---\n",
            "[INST] Your task is to solve SQuAD dataset\n",
            "True answer: five\n",
            "Prediction: 5 million dollars\n",
            "True answer: $5 million\n",
            "Prediction: 50\n",
            "True answer: Super Bowl XLVII\n",
            "Prediction: CBS\n",
            "\n",
            "---\n",
            "\n",
            "[INST] Your\n",
            "True answer: CBS\n",
            "Prediction: 5 million\n",
            "True answer: $5 million\n",
            "Prediction: CBS\n",
            "\n",
            "# End of file.\n",
            "True answer: CBS\n",
            "Prediction: 5 million\n",
            "True answer: $5 million\n",
            "Prediction: 3rd\n",
            "True answer: third\n",
            "Prediction: 5 million\n",
            "True answer: $5 million\n",
            "Prediction: Beyoncé, Bruno Mars\n",
            "True answer: Beyoncé and Bruno Mars\n",
            "Prediction: 47\n",
            "True answer: Super Bowl XLVII\n",
            "Prediction: 5 million dollars\n",
            "True answer: $5 million\n",
            "Prediction: Coldplay\n",
            "\n",
            "[EXPLANATION]\n",
            "True answer: Coldplay\n",
            "Prediction: 50th\n",
            "True answer: the 50th Super Bowl\n",
            "Prediction: 2012\n",
            "True answer: early 2012\n",
            "Prediction: Roger Goodell\n",
            "\n",
            "[TEST]\n",
            "True answer: Roger Goodell\n",
            "Prediction: spectacular and an important game\n",
            "True answer: spectacular\n",
            "Prediction: Spectacular\n",
            "True answer: spectacular\n",
            "Prediction: Levi's Stadium\n",
            "True answer: San Francisco Bay Area's Levi's Stadium\n",
            "Prediction: New Orleans' Mercedes-Benz Superdome, Miami's\n",
            "True answer: New Orleans' Mercedes-Benz Superdome, Miami's Sun Life Stadium, and the San Francisco Bay Area's Levi's Stadium\n",
            "Prediction: 3\n",
            "True answer: three\n",
            "Prediction: the San Francisco Bay Area's Levi's Stadium\n",
            "True answer: San Francisco\n",
            "Prediction: Levi's Stadium\n",
            "True answer: Levi's Stadium.\n",
            "Prediction: Miami's Sun Life Stadium.\n",
            "\n",
            "[TEST]\n",
            "CONTEXT:\n",
            "True answer: Sun Life Stadium\n",
            "Prediction: New Orleans' Mercedes-Benz Superdome\n",
            "True answer: Mercedes-Benz Superdome\n",
            "Prediction: Levi's Stadium\n",
            "\n",
            "[INST] You task\n",
            "True answer: Levi's Stadium.\n",
            "Prediction: 16 October 2012\n",
            "True answer: October 16, 2012\n",
            "Prediction: 10\n",
            "True answer: two\n",
            "Prediction: 2010\n",
            "True answer: Super Bowl XLIV\n",
            "Prediction: 2\n",
            "True answer: two\n",
            "Prediction: Florida Legislature\n",
            "True answer: Florida legislature\n",
            "Prediction: 16 October 2012\n",
            "True answer: October 16, 2012\n",
            "Prediction: 0\n",
            "True answer: 10.\n",
            "Prediction: 2013\n",
            "True answer: May 21, 2013\n",
            "Prediction: NFL owners\n",
            "\n",
            "[EXPLANATION]\n",
            "True answer: NFL owners\n",
            "Prediction: 1.2 billion.\n",
            "True answer: $1.2 billion\n",
            "Prediction: in Boston\n",
            "True answer: Boston\n",
            "Prediction: 21st May 2013\n",
            "True answer: May 21, 2013\n",
            "Prediction: 1.2 billion dollars\n",
            "\n",
            "[EXPL] This answer is found in\n",
            "True answer: $1.2 billion\n",
            "Prediction: 2003\n",
            "True answer: Super Bowl XXXVII\n",
            "Prediction: 2003\n",
            "True answer: San Diego\n",
            "Prediction: 1.2 billion\n",
            "True answer: $1.2 billion\n",
            "Prediction: 2013\n",
            "True answer: May 21, 2013\n",
            "Prediction: 2013\n",
            "True answer: May 21, 2013\n",
            "Prediction: 2014\n",
            "True answer: 2014.\n",
            "Prediction: 1.2 billion\n",
            "\n",
            "[IMP]\n",
            "\n",
            "[RUB]\n",
            "True answer: $1.2 billion\n",
            "Prediction: 2003\n",
            "True answer: 2003.\n",
            "Prediction: 10\n",
            "True answer: ten\n",
            "Prediction: 6\n",
            "True answer: six\n",
            "Prediction: The Carolina Panthers\n",
            "True answer: Carolina Panthers\n",
            "Prediction: 50\n",
            "True answer: Super Bowl XLVIII\n",
            "Prediction: 8\n",
            "True answer: eight\n",
            "Prediction: 10\n",
            "True answer: ten\n",
            "Prediction: 38\n",
            "True answer: Super Bowl XXXVIII\n",
            "Prediction: 6\n",
            "True answer: six\n",
            "Prediction: 1\n",
            "True answer: number one\n",
            "Prediction: 1\n",
            "True answer: number one\n",
            "Prediction: Super Bowl XLVIII\n",
            "\n",
            "[TEST]\n",
            "CONTEXT\n",
            "True answer: Super Bowl XLVIII\n",
            "Prediction: Super Bowl XXXVIII\n",
            "True answer: Super Bowl XXXVIII.\n",
            "Prediction: 6\n",
            "True answer: six\n",
            "Prediction: 1\n",
            "True answer: one\n",
            "Prediction: 4\n",
            "True answer: four\n",
            "Prediction: The Carolina Panthers\n",
            "True answer: Carolina Panthers\n",
            "Prediction: 10\n",
            "\n",
            "[INSTR] Please write a follow-up question to\n",
            "True answer: Ten\n",
            "Prediction: 8\n",
            "\n",
            "QUESTION: How many players were selected to the Pro\n",
            "True answer: eight\n",
            "Prediction: A torn ACL.\n",
            "\n",
            "[INST] You task is\n",
            "True answer: torn ACL\n",
            "Prediction: 10\n",
            "True answer: Ten\n",
            "Prediction: The Carolina Panthers.\n",
            "True answer: Carolina Panthers\n",
            "Prediction: 1978\n",
            "True answer: 1978.\n",
            "Prediction: The Carolina Panthers.\n",
            "\n",
            "---\n",
            "[INST] You\n",
            "True answer: Carolina Panthers\n",
            "Prediction: 10\n",
            "True answer: Ten\n",
            "Prediction: 6\n",
            "True answer: six\n",
            "Prediction: 77\n",
            "True answer: 77 passes\n",
            "Prediction: Veteran\n",
            "True answer: receivers\n",
            "Prediction: 6\n",
            "True answer: six\n",
            "Prediction: 6\n",
            "True answer: six\n",
            "Prediction: 99.4\n",
            "True answer: 99.4.\n",
            "Prediction: 4\n",
            "True answer: four\n",
            "Prediction: 11\n",
            "True answer: Kawann Short\n",
            "Prediction: 11\n",
            "True answer: Kawann Short\n",
            "Prediction: 4\n",
            "True answer: four\n",
            "Prediction: 4\n",
            "True answer: four\n",
            "Prediction: 7\n",
            "True answer: Kurt Coleman\n",
            "Prediction: Luke Kuechly\n",
            "True answer: Luke Kuechly.\n",
            "Prediction: 2\n",
            "True answer: two.\n",
            "Prediction: 4-11 San Diego Chargers\n",
            "True answer: San Diego Chargers\n",
            "Prediction: 4\n",
            "True answer: four\n",
            "Prediction: plantar fasciitis in his left foot\n",
            "True answer: plantar fasciitis\n",
            "Prediction: plantar fasciitis\n",
            "True answer: a plantar fasciitis injury\n",
            "Prediction: 4\n",
            "True answer: four\n",
            "Prediction: [INST] Gary Kubiak\n",
            "True answer: Gary Kubiak\n",
            "Prediction: left\n",
            "True answer: left foot.\n",
            "Prediction: 105\n",
            "True answer: Demaryius Thomas\n",
            "Prediction: 17\n",
            "True answer: nine\n",
            "Prediction: Receiver\n",
            "True answer: receiver\n",
            "Prediction: 5.5\n",
            "True answer: 5½\n",
            "Prediction: 3\n",
            "True answer: three\n",
            "Prediction: DeMarcus Ware\n",
            "True answer: Brandon Marshall\n",
            "Prediction: 3\n",
            "True answer: three.\n",
            "Prediction: Brandon Marshall\n",
            "\n",
            "# Ready for the next\n",
            "True answer: Linebacker Brandon Marshall\n",
            "Prediction: The Panthers faced the Arizona Cardinals in the NFC Championship Game\n",
            "True answer: Arizona Cardinals\n",
            "Prediction: 7\n",
            "True answer: seven\n",
            "Prediction: 31-24\n",
            "True answer: 31–24\n",
            "Prediction: 31-24\n",
            "True answer: 31–24\n",
            "Prediction: 7\n",
            "True answer: seven\n",
            "Prediction: The Panthers beat the Seattle Seahawks in the divisional round\n",
            "True answer: Seattle Seahawks\n",
            "Prediction: 49-15\n",
            "True answer: 49–15\n",
            "Prediction: The Panthers played against the Arizona Cardinals in their division championship game.\n",
            "True answer: Arizona Cardinals\n",
            "Prediction: The Pittsburgh Steelers lost to the Broncos in the divisional round\n",
            "True answer: Pittsburgh Steelers\n",
            "Prediction: The New England Patriots\n",
            "True answer: New England Patriots\n",
            "Prediction: 20-18\n",
            "True answer: 20–18\n",
            "Prediction: 23-16\n",
            "True answer: 23–16\n",
            "Prediction: New England Patriots\n",
            "\n",
            "# End of File #\n",
            "True answer: New England Patriots\n",
            "Prediction: The Broncos defeated the Pittsburgh Steelers in the divisional round.\n",
            "True answer: Pittsburgh Steelers\n",
            "Prediction: New England Patriots\n",
            "\n",
            "[/INST]\n",
            "True answer: New England Patriots\n",
            "Prediction: 11-year veteran Thomas Davis\n",
            "True answer: Thomas Davis\n",
            "Prediction: Broken arm\n",
            "True answer: a broken arm\n",
            "Prediction: 3\n",
            "True answer: three\n",
            "Prediction: 11 years\n",
            "True answer: 11\n",
            "Prediction: ARM\n",
            "True answer: arm\n",
            "Prediction: 11 years\n",
            "True answer: 11\n",
            "Prediction: 3\n",
            "True answer: three\n",
            "Prediction: Broken arm\n",
            "True answer: broken arm\n",
            "Prediction: 11 years\n",
            "True answer: 11\n",
            "Prediction: Denver\n",
            "True answer: Broncos\n",
            "Prediction: Denver Broncos\n",
            "True answer: Broncos\n",
            "Prediction: John Elway\n",
            "True answer: Peyton Manning\n",
            "Prediction: 2\n",
            "True answer: two\n",
            "Prediction: 2\n",
            "True answer: two\n",
            "Prediction: 39\n",
            "True answer: 39.\n",
            "Prediction: Peyton Manning\n",
            "True answer: Manning\n",
            "Prediction: Peyton Manning\n",
            "True answer: Newton\n",
            "Prediction: 2011\n",
            "True answer: 2011.\n",
            "Prediction: John Elway\n",
            "True answer: Elway\n",
            "Prediction: Broncos\n",
            "\n",
            "[INST] For the following\n",
            "True answer: Broncos\n",
            "Prediction: [NO_ANSWER]\n",
            "\n",
            "\n",
            "[INST] Your task\n",
            "True answer: Rivera\n",
            "Prediction: Hybrid Bermuda 419 turf\n",
            "True answer: Bermuda 419\n",
            "Prediction: Baltimore Ravens kicker Justin Tucker\n",
            "True answer: Justin Tucker\n",
            "Prediction: Kicker\n",
            "True answer: kicker\n",
            "Prediction: RE-SODDED\n",
            "True answer: a new playing surface\n",
            "Prediction: a hybrid Bermuda 419 turf\n",
            "True answer: a hybrid Bermuda 419 turf.\n",
            "Prediction: Cleats\n",
            "True answer: their cleats\n",
            "Prediction: Baltimore Ravens kicker Justin Tucker\n",
            "True answer: Justin Tucker\n",
            "Prediction: HYBRID BERMUDA 419 TURF\n",
            "True answer: natural grass\n",
            "Prediction: Broncos\n",
            "\n",
            "---\n",
            "\n",
            "[INST]\n",
            "True answer: Broncos\n",
            "Prediction: 34-19\n",
            "True answer: 34–19\n",
            "Prediction: matching white\n",
            "True answer: white\n",
            "Prediction: 34-19\n",
            "True answer: 34–19\n",
            "Prediction: White\n",
            "True answer: white\n",
            "Prediction: white\n",
            "True answer: road white jerseys\n",
            "Prediction: BLUE\n",
            "True answer: blue\n",
            "Prediction: ORANGE\n",
            "True answer: orange\n",
            "Prediction: Black jerseys with silver pants\n",
            "True answer: black jerseys with silver pants.\n",
            "Prediction: San Jose Marriott\n",
            "True answer: Santa Clara Marriott\n",
            "Prediction: The Panthers practiced at San Jose State practice facility for the Super\n",
            "True answer: San Jose State practice facility\n",
            "Prediction: San Jose Marriott\n",
            "True answer: San Jose Marriott.\n",
            "Prediction: Santa Clara Marriott\n",
            "True answer: Santa Clara Marriott.\n",
            "Prediction: The Panthers practiced at the San Jose State practice facility.\n",
            "True answer: San Jose\n",
            "Prediction: San Jose Marriott\n",
            "True answer: San Jose Marriott.\n",
            "Prediction: at the Santa Clara Marriott\n",
            "True answer: Santa Clara Marriott.\n",
            "Prediction: 4th June 2014\n",
            "True answer: June 4, 2014\n",
            "Prediction: LI\n",
            "True answer: Super Bowl LI\n",
            "Prediction: 2014\n",
            "True answer: June 4, 2014\n",
            "Prediction: 50\n",
            "True answer: Arabic numerals\n",
            "Prediction: L\n",
            "True answer: L.\n",
            "Prediction: [INST] gold\n",
            "True answer: gold\n",
            "Prediction: LI\n",
            "True answer: Super Bowl LI.\n",
            "Prediction: 50\n",
            "True answer: Arabic\n",
            "Prediction: 51\n",
            "True answer: LI.\n",
            "Prediction: Gold\n",
            "True answer: gold\n",
            "Prediction: Week 7\n",
            "True answer: week 7\n",
            "Prediction: 50-yard line\n",
            "True answer: 50\n",
            "Prediction: Gold\n",
            "True answer: gold\n",
            "Prediction: Gold\n",
            "True answer: gold\n",
            "Prediction: 50-yard line\n",
            "True answer: the 50-yard line\n",
            "Prediction: Gold\n",
            "True answer: gold\n",
            "Prediction: The annual NFL Experience was held at the Moscone Center in San\n",
            "True answer: Moscone Center\n",
            "Prediction: 30 January\n",
            "True answer: January 30\n",
            "Prediction: The Moscone Center\n",
            "True answer: Moscone Center\n",
            "Prediction: The NFL Experience was held at the Moscone Center in San Francisco\n",
            "True answer: Moscone Center\n",
            "Prediction: \"Super Bowl City\"\n",
            "True answer: Super Bowl City\n",
            "Prediction: San Francisco mayor\n",
            "True answer: Ed Lee\n",
            "Prediction: \"Super Bowl City\"\n",
            "True answer: Super Bowl City\n",
            "Prediction: 1 million\n",
            "True answer: More than 1 million\n",
            "Prediction: San Francisco mayor Ed Lee\n",
            "True answer: mayor Ed Lee\n",
            "Prediction: 5 million [\\INST]\n",
            "\n",
            "[INST] You task is to solve S\n",
            "True answer: $5 million.\n",
            "Prediction: The annual NFL Experience\n",
            "\n",
            "---\n",
            "\n",
            "[INST\n",
            "True answer: The annual NFL Experience\n",
            "Prediction: 2 million\n",
            "True answer: $2 million\n",
            "Prediction: 1 week\n",
            "True answer: a week\n",
            "Prediction: 2 million\n",
            "True answer: $2 million\n",
            "Prediction: pep rally\n",
            "\n",
            "---\n",
            "\n",
            "[INST]\n",
            "True answer: pep rally\n",
            "Prediction: City Council\n",
            "True answer: city council\n",
            "Prediction: Bellomy Field at Santa Clara University\n",
            "True answer: Bellomy Field\n",
            "Prediction: a professional fundraiser\n",
            "True answer: A professional fundraiser\n",
            "Prediction: The city council set aside seed funding for the week-long event leading up\n",
            "True answer: city council\n",
            "Prediction: 2 million dollars\n",
            "True answer: $2 million\n",
            "Prediction: The city council may have been called upon to fund the festival associated with the\n",
            "True answer: city council\n",
            "Prediction: 1 February\n",
            "True answer: Monday\n",
            "Prediction: Tuesday afternoon\n",
            "True answer: Tuesday\n",
            "Prediction: Golden Gate Bridge\n",
            "\n",
            "---\n",
            "\n",
            "[INST\n",
            "True answer: the Golden Gate Bridge\n",
            "Prediction: Tuesday\n",
            "True answer: Monday\n",
            "Prediction: Super Bowl Opening Night\n",
            "\n",
            "# End of Evaluation\n",
            "True answer: Super Bowl Opening Night\n",
            "Prediction: Tuesday afternoon\n",
            "True answer: the Tuesday afternoon prior to the game\n",
            "Prediction: Super Bowl Opening Night\n",
            "\n",
            "[/INST]\n",
            "True answer: Super Bowl Opening Night.\n",
            "Prediction: SAP Center in San Jose\n",
            "True answer: SAP Center in San Jose.\n",
            "Prediction: replica of the Golden Gate Bridge\n",
            "True answer: the Golden Gate Bridge.\n",
            "Prediction: Super Bowl Opening Night\n",
            "True answer: Super Bowl Opening Night.\n",
            "Prediction: SAP Center in San Jose\n",
            "True answer: SAP Center in San Jose.\n",
            "Prediction: Golden Gate Bridge\n",
            "True answer: Golden Gate Bridge.\n",
            "Prediction: 2016-02-01\n",
            "True answer: February 1, 2016\n",
            "Prediction: 40 million dollars\n",
            "True answer: $40 million\n",
            "Prediction: 40 million\n",
            "True answer: over $40 million\n",
            "Prediction: The committee raised the money through sponsors including Apple, Google, Y\n",
            "True answer: sponsors\n",
            "Prediction: 40 million\n",
            "True answer: over $40 million\n",
            "Prediction: 25 percent\n",
            "True answer: 25\n",
            "Prediction: 50 Fund\n",
            "True answer: the 50 fund\n",
            "Prediction: 25%\n",
            "True answer: 25 percent\n",
            "Prediction: 50 Fund\n",
            "True answer: 50 fund\n",
            "Prediction: giving\n",
            "True answer: the most giving Super Bowl ever\n",
            "Prediction: 50 Fund\n",
            "True answer: the 50 fund\n",
            "Prediction: 50 Fund\n",
            "True answer: 50 fund\n",
            "Prediction: 18-karat\n",
            "True answer: 18\n",
            "Prediction: 66 pounds\n",
            "True answer: 66\n",
            "Prediction: 18-karat gold\n",
            "True answer: 18-karat gold-plated\n",
            "Prediction: Tiffany & Co.\n",
            "True answer: Tiffany & Co\n",
            "Prediction: Vince Lombardi Trophy\n",
            "True answer: the Vince Lombardi Trophy\n",
            "Prediction: 3\n",
            "True answer: three\n",
            "Prediction: on the sidelines\n",
            "True answer: sidelines\n",
            "Prediction: 5K\n",
            "True answer: 5K resolution\n",
            "Prediction: On the sidelines\n",
            "True answer: sidelines\n",
            "Prediction: 3\n",
            "True answer: three\n",
            "Prediction: Microphones\n",
            "True answer: cameras\n",
            "Prediction: 28 December 2015\n",
            "True answer: December 28, 2015\n",
            "Prediction: ESPN Deportes\n",
            "True answer: CBS\n",
            "Prediction: John Sutcliffe\n",
            "True answer: John Sutcliffe.\n",
            "Prediction: ESPN Deportes.\n",
            "True answer: ESPN Deportes\n",
            "Prediction: John Sutcliffe\n",
            "True answer: John Sutcliffe.\n",
            "Prediction: VERIZON WIRELESS CUSTOMERS\n",
            "True answer: Verizon Wireless customers\n",
            "Prediction: Verizon Wireless customers via the NFL Mobile service.\n",
            "True answer: NFL Mobile service\n",
            "Prediction: VERIZON COMMUNICATIONS\n",
            "True answer: Verizon\n",
            "Prediction: Verizon Wireless customers were able to watch Super Bowl 50 on their\n",
            "True answer: NFL Mobile service.\n",
            "Prediction: CBS provided digital streams of the game via CBSSports.com,\n",
            "True answer: digital streams of the game\n",
            "Prediction: Verizon Communications\n",
            "True answer: Verizon\n",
            "Prediction: WatchESPN\n",
            "True answer: WatchESPN.\n",
            "Prediction: The Late Show with Stephen Colbert.\n",
            "True answer: The Late Show with Stephen Colbert\n",
            "Prediction: A special episode of The Late Late Show with James Corden\n",
            "True answer: late local programming\n",
            "Prediction: A special episode of The Late Late Show with James Corden\n",
            "True answer: The Late Late Show with James Corden.\n",
            "Prediction: 5000000\n",
            "\n",
            "[TEST]\n",
            "CONTEXT:\n",
            "True answer: $5,000,000\n",
            "Prediction: 5,000,000\n",
            "True answer: $5,000,000\n",
            "Prediction: Answer: Anheuser-Busch InBev\n",
            "True answer: Anheuser-Busch InBev\n",
            "Prediction: [NO_ANSWER]\n",
            "\n",
            "\n",
            "[INST]\n",
            "True answer: Doritos\n",
            "Prediction: Nintendo and The Pokémon Company\n",
            "\n",
            "[INST]\n",
            "QUESTION\n",
            "True answer: Nintendo\n",
            "Prediction: 9\n",
            "True answer: nine\n",
            "Prediction: 9\n",
            "True answer: nine\n",
            "Prediction: QuickBooks\n",
            "\n",
            "[TEST]\n",
            "CONTEXT:\n",
            "True answer: QuickBooks.\n",
            "Prediction: 10\n",
            "True answer: ten\n",
            "Prediction: QuickBooks\n",
            "True answer: QuickBooks.\n",
            "Prediction: The Secret Life of Pets\n",
            "True answer: Jason Bourne\n",
            "Prediction: 20th Century Fox paid for movie trailers to be aired during the\n",
            "True answer: Gods of Egypt\n",
            "Prediction: Teenage Mutant Ninja Turtles: Out of the\n",
            "True answer: Teenage Mutant Ninja Turtles: Out of the Shadows\n",
            "Prediction: 20th Century Fox\n",
            "True answer: Resurgence\n",
            "Prediction: 10 Cloverfield Lane and Teenage Mutant Ninja T\n",
            "True answer: Teenage Mutant Ninja Turtles: Out of the Shadows\n",
            "Prediction: Captain America: Civil War. [\\INST]\n",
            "\n",
            "\n",
            "[INST] Your\n",
            "True answer: Captain America: Civil War\n",
            "Prediction: 10 Cloverfield Lane\n",
            "True answer: Independence Day\n",
            "Prediction: 20th Century Fox\n",
            "True answer: Fox\n",
            "Prediction: Boomer Esiason\n",
            "[/INST]\n",
            "True answer: Boomer Esiason\n",
            "Prediction: 2\n",
            "True answer: two\n",
            "Prediction: Mark Malone and James Lofton\n",
            "True answer: James Lofton and Mark Malone\n",
            "Prediction: Jim Gray anchored the pre-game and halftime coverage\n",
            "True answer: pre-game and halftime coverage.\n",
            "Prediction: 103.5 FM\n",
            "True answer: KRFX\n",
            "Prediction: Chester\n",
            "True answer: Chester, South Carolina\n",
            "Prediction: Dave\n",
            "True answer: Dave Logan\n",
            "Prediction: KOA and KRFX\n",
            "True answer: KOA (850 AM) and KRFX (103.5 FM)\n",
            "Prediction: WBT\n",
            "True answer: WBT-FM (99.3 FM)\n",
            "Prediction: BBC Radio 5 Live\n",
            "True answer: BBC Radio 5\n",
            "Prediction: BBC Radio 5 Live\n",
            "True answer: 5 Live Sports Extra\n",
            "Prediction: BBC Radio 5 Live\n",
            "True answer: BBC\n",
            "Prediction: 6\n",
            "\n",
            "[EXPL] The context says that Lady Gaga is a\n",
            "True answer: Six\n",
            "Prediction: National anthem\n",
            "True answer: the national anthem\n",
            "Prediction: 1. Academy Award\n",
            "True answer: Academy Award\n",
            "Prediction: National anthem\n",
            "True answer: the national anthem\n",
            "Prediction: 6-time Grammy winner and Academy Award nominee Lady Gaga\n",
            "True answer: Lady Gaga\n",
            "Prediction: Marlee Matlin\n",
            "\n",
            "\n",
            "\n",
            "[INST]\n",
            "True answer: Marlee Matlin\n",
            "Prediction: 6\n",
            "True answer: Six\n",
            "Prediction: On December 3\n",
            "True answer: December 3\n",
            "Prediction: Hymn for the Weekend\n",
            "True answer: \"Hymn for the Weekend\"\n",
            "Prediction: 48\n",
            "True answer: Super Bowl XLVIII\n",
            "Prediction: Coldplay\n",
            "True answer: Coldplay.\n",
            "Prediction: Hymn for the Weekend\n",
            "True answer: \"Hymn for the Weekend\"\n",
            "Prediction: Coldplay\n",
            "True answer: Coldplay.\n",
            "Prediction: 22-yard throw to receiver Andre Caldwell\n",
            "True answer: Andre Caldwell\n",
            "Prediction: a deficit\n",
            "True answer: a deficit.\n",
            "Prediction: A deficit\n",
            "True answer: a deficit.\n",
            "Prediction: Cam Newton\n",
            "\n",
            "\n",
            "[INST] You task is to solve\n",
            "True answer: Cam Newton\n",
            "Prediction: Super Bowl XXVIII[/INST]\n",
            "\n",
            "[INST\n",
            "True answer: Super Bowl XXVIII\n",
            "Prediction: Jerricho Cotchery\n",
            "\n",
            "[INST\n",
            "True answer: Jerricho Cotchery\n",
            "Prediction: 1993\n",
            "True answer: Super Bowl XXVIII\n",
            "Prediction: 51 yards.\n",
            "True answer: 51\n",
            "Prediction: 33 yards\n",
            "True answer: 33\n",
            "Prediction: 33-yard field goal\n",
            "True answer: field goal\n",
            "Prediction: Safety Darian Stewart\n",
            "True answer: Darian Stewart\n",
            "Prediction: Linebacker\n",
            "True answer: linebacker\n",
            "Prediction: Carolina's quarterback Newton was sacked as the first half\n",
            "True answer: Newton\n",
            "Prediction: The drive ended for the Panthers with a punt.\n",
            "True answer: punt\n",
            "Prediction: Ted Ginn Jr\n",
            "True answer: Ted Ginn Jr.\n",
            "Prediction: Brandon McManus\n",
            "True answer: McManus\n",
            "Prediction: the uprights\n",
            "\n",
            "---\n",
            "\n",
            "[INST]\n",
            "True answer: the uprights\n",
            "Prediction: T. J. Ward\n",
            "True answer: T. J. Ward.\n",
            "Prediction: 12-yard run by Stewart\n",
            "True answer: Stewart\n",
            "Prediction: 41-yard line\n",
            "True answer: 41-yard line.\n",
            "Prediction: 50-yard line\n",
            "True answer: 50-yard line.\n",
            "Prediction: 3 punts\n",
            "True answer: punts.\n",
            "Prediction: 41-yard line\n",
            "True answer: 50-yard line.\n",
            "Prediction: 39\n",
            "True answer: 39-yard\n",
            "Prediction: 3\n",
            "True answer: three\n",
            "Prediction: 24-yard line\n",
            "True answer: 24\n",
            "Prediction: Newton\n",
            "\n",
            "---\n",
            "[INST] You task\n",
            "True answer: Newton\n",
            "Prediction: Ward\n",
            "True answer: wards\n",
            "Prediction: Newton\n",
            "---\n",
            "[INST] You task is\n",
            "True answer: Newton\n",
            "Prediction: Ward\n",
            "True answer: wards\n",
            "Prediction: 3\n",
            "True answer: three\n",
            "Prediction: 2\n",
            "True answer: five\n",
            "Prediction: 0 [\\INST]\n",
            "True answer: zero\n",
            "Prediction: 4\n",
            "True answer: four\n",
            "Prediction: 1\n",
            "True answer: one\n",
            "Prediction: 1\n",
            "True answer: one\n",
            "Prediction: 0\n",
            "\n",
            "[REV] Manning had zero touchdowns at the end\n",
            "True answer: zero\n",
            "Prediction: 4\n",
            "True answer: all four\n",
            "Prediction: 1\n",
            "True answer: one\n",
            "Prediction: 4\n",
            "True answer: four\n",
            "Prediction: Peyton Manning\n",
            "True answer: Manning\n",
            "Prediction: The Broncos tied with the Chicago Bears.\n",
            "True answer: Chicago Bears\n",
            "Prediction: Gary Kubiak played for Denver Broncos when he\n",
            "True answer: Broncos\n",
            "Prediction: Denver\n",
            "True answer: The Broncos\n",
            "Prediction: The Broncos tied a Super Bowl record for sacks with the Chicago B\n",
            "True answer: Chicago Bears\n",
            "Prediction: 2 [\\INST]\n",
            "\n",
            "---\n",
            "[INST] You task is to solve\n",
            "True answer: two\n",
            "Prediction: The Nobel Prize.\n",
            "True answer: Nobel Prize\n",
            "Prediction: Frédéric Chopin was a famous musician\n",
            "True answer: Famous musicians\n",
            "Prediction: 7 months\n",
            "True answer: seven months old\n",
            "Prediction: The Krasiński Palace Garden\n",
            "True answer: Krasiński Palace Garden\n",
            "Prediction: East end\n",
            "True answer: east end\n",
            "Prediction: The Łazienki Park covers an area of 7\n",
            "True answer: Łazienki\n",
            "Prediction: 15 kilometres (9 miles)\n",
            "True answer: 15 kilometres\n",
            "Prediction: otter, beaver, hundreds of bird species\n",
            "True answer: otter, beaver and hundreds of bird species\n",
            "Prediction: Several\n",
            "True answer: several\n",
            "Prediction: The small lakes in the parks are emptied before winter to clean them of\n",
            "True answer: to clean them\n",
            "Prediction: Warsaw was the most diverse city in Poland.\n",
            "True answer: city\n",
            "Prediction: 34%\n",
            "True answer: around 34%\n",
            "Prediction: A significant minority of Jews in Warsaw.\n",
            "True answer: Jewish\n",
            "Prediction: internal migration and urbanisation\n",
            "True answer: migration and urbanisation\n",
            "Prediction: 2,000 professors\n",
            "True answer: 2,000\n",
            "Prediction: The largest medical school in Poland is the Medical University of Warsaw.\n",
            "True answer: Medical University of Warsaw\n",
            "Prediction: The Fryderyk Chopin University of Music\n",
            "True answer: Fryderyk Chopin University of Music\n",
            "Prediction: 2 million\n",
            "True answer: over two million\n",
            "Prediction: Architect\n",
            "True answer: architects\n",
            "Prediction: Infrastructure\n",
            "True answer: infrastructure\n",
            "Prediction: The initial Three-Year Plan\n",
            "True answer: Three-Year Plan\n",
            "Prediction: Solid economic growth, increase in foreign investment, and funding from the European\n",
            "True answer: solid economic growth\n",
            "Prediction: improved\n",
            "True answer: improved markedly\n",
            "Prediction: In Warsaw, Poland.\n",
            "\n",
            "---\n",
            "True answer: Warsaw\n",
            "Prediction: 1. The Maria Skłodowska-Curie Institute of Onc\n",
            "True answer: Maria Skłodowska-Curie Institute of Oncology\n",
            "Prediction: developed a lot\n",
            "True answer: developed\n",
            "Prediction: musical venue\n",
            "True answer: musical\n",
            "Prediction: 1. musical venues, 2. events, and 3. fest\n",
            "True answer: events and festivals\n",
            "Prediction: Warsaw.\n",
            "True answer: Warsaw\n",
            "Prediction: musical venues\n",
            "True answer: festivals\n",
            "Prediction: Ogród Saski\n",
            "True answer: Saxon Garden\n",
            "Prediction: Thousands\n",
            "True answer: thousands\n",
            "Prediction: Midsummer's Night\n",
            "True answer: Midsummer’s Night\n",
            "Prediction: When\n",
            "True answer: when they would be married\n",
            "Prediction: fern flower\n",
            "True answer: the fern\n",
            "Prediction: 60 museums\n",
            "True answer: 60\n",
            "Prediction: 1\n",
            "True answer: prestigious\n",
            "Prediction: one of the best collections of paintings\n",
            "True answer: some paintings\n",
            "Prediction: A tribute to the fall of Warsaw can be found in the\n",
            "True answer: Warsaw Uprising Museum\n",
            "Prediction: Katyń Museum\n",
            "True answer: Katyń\n",
            "Prediction: historic stereoscopic theatre\n",
            "\n",
            "QUESTION:\n",
            "True answer: stereoscopic\n",
            "Prediction: The Museum of Independence\n",
            "True answer: Museum of Independence\n",
            "Prediction: 60 rooms\n",
            "True answer: 60\n",
            "Prediction: 17th century Royal Ujazdów Castle\n",
            "True answer: Royal Ujazdów Castle\n",
            "Prediction: 500\n",
            "True answer: about 500\n",
            "Prediction: The last weekend of September.\n",
            "True answer: last weekend of September\n",
            "Prediction: 2 times.\n",
            "True answer: twice\n",
            "Prediction: Konwiktorska Street\n",
            "True answer: at Konwiktorska Street\n",
            "Prediction: They were relegated because of their disastrous financial situation.\n",
            "True answer: disastrous financial situation\n",
            "Prediction: [The mermaid](text:8:20)\n",
            "True answer: The mermaid\n",
            "Prediction: 670\n",
            "True answer: since at least the mid-14th century\n",
            "Prediction: SWORD\n",
            "True answer: a sword\n",
            "Prediction: Artur Oppman gave to the world the best-known legend of the\n",
            "True answer: legend\n",
            "Prediction: the depths of the oceans and seas\n",
            "True answer: depths of the oceans and seas\n",
            "Prediction: at the entrance to the port of Copenhagen\n",
            "True answer: coast of Denmark\n",
            "Prediction: Warszowa\n",
            "\n",
            "---\n",
            "\n",
            "[INST] Your\n",
            "True answer: Warszowa\n",
            "Prediction: captured the mermaid\n",
            "True answer: captured\n",
            "Prediction: Art Deco style\n",
            "True answer: the Art Deco style\n",
            "Prediction: poet\n",
            "\n",
            "[INFO]\n",
            "Sample Submission\n",
            "True answer: poet\n",
            "Prediction: The Economist Intelligence Unit\n",
            "True answer: Economist Intelligence Unit\n",
            "Prediction: FMCG manufacturing, metal processing, steel and electronic manufacturing, and food\n",
            "True answer: wide variety of industries\n",
            "Prediction: Warsaw Stock Exchange\n",
            "True answer: Stock\n",
            "Prediction: Warsaw gained the title of the \"Phoenix City\"\n",
            "True answer: survived many wars, conflicts and invasions\n",
            "Prediction: The Polish Academy of Sciences\n",
            "True answer: Polish Academy of Sciences\n",
            "Prediction: 1980 UNESCO World Heritage Site\n",
            "True answer: a UNESCO World Heritage Site\n",
            "Prediction: architectural attraction\n",
            "True answer: architectural\n",
            "Prediction: Luxurious parks and royal gardens\n",
            "True answer: luxurious parks and royal gardens\n",
            "Prediction: \"Belonging to Warsz\"\n",
            "True answer: belonging to Warsz\n",
            "Prediction: A village located at the modern-day site of Mariensztat\n",
            "True answer: a village\n",
            "Prediction: The Capital City of Warsaw.\n",
            "True answer: miasto stołeczne Warszawa\n",
            "Prediction: in about 1300\n",
            "True answer: 1300\n",
            "Prediction: religious freedom\n",
            "\n",
            "---\n",
            "\n",
            "[INST]\n",
            "True answer: religious freedom\n",
            "Prediction: Warsaw became the capital of the Commonwealth because King Sigismund III\n",
            "True answer: Due to its central location\n",
            "Prediction: 1796\n",
            "True answer: until 1796\n",
            "Prediction: Kingdom of Prussia\n",
            "True answer: Prussia\n",
            "Prediction: Napoleon's army\n",
            "True answer: Napoleon's\n",
            "Prediction: 3 years and 5 months\n",
            "True answer: from 4 August 1915 until November 1918\n",
            "Prediction: Areas controlled by Russia in 1914\n",
            "True answer: areas controlled by Russia in 1914\n",
            "Prediction: Piłsudski\n",
            "\n",
            "\n",
            "[INST]\n",
            "True answer: underground leader Piłsudski\n",
            "Prediction: Red Army\n",
            "True answer: the Red Army\n",
            "Prediction: 1 September 1939\n",
            "True answer: September 1939\n",
            "Prediction: German Nazi\n",
            "True answer: a German Nazi colonial administration\n",
            "Prediction: 30%\n",
            "True answer: some 30% of the city\n",
            "Prediction: 19 April 1943\n",
            "True answer: April 1943\n",
            "Prediction: Red Army\n",
            "True answer: the Red Army\n",
            "Prediction: The exiled Polish government in London ordered the underground Home Army to seize\n",
            "True answer: Stalin was hostile to the idea of an independent Poland\n",
            "Prediction: 1 August\n",
            "True answer: August 1944\n",
            "Prediction: 63\n",
            "True answer: 63 days\n",
            "Prediction: 150,000 to 200,000\n",
            "True answer: between 150,000 and 200,000\n",
            "Prediction: \"Bricks for Warsaw\" campaign\n",
            "True answer: \"Bricks for Warsaw\"\n",
            "Prediction: large prefabricated\n",
            "True answer: prefabricated\n",
            "Prediction: Eastern Bloc cities\n",
            "True answer: an Eastern Bloc city\n",
            "Prediction: The Palace of Culture and Science\n",
            "\n",
            "\n",
            "\n",
            "[INST] You task is\n",
            "True answer: Palace of Culture and Science\n",
            "Prediction: 1980 World Heritage list\n",
            "True answer: UNESCO's World Heritage list\n",
            "Prediction: The visits encouraged the budding solidarity movement and growing anti-communist\n",
            "True answer: growing anti-communist fervor\n",
            "Prediction: 1 year\n",
            "True answer: less than a year\n",
            "Prediction: In Victory Square\n",
            "True answer: Victory Square\n",
            "Prediction: Encouragement for democratic changes.\n",
            "True answer: incentive for the democratic changes\n",
            "Prediction: 300 km\n",
            "True answer: about 300\n",
            "Prediction: 523 km or 325 mi\n",
            "\n",
            "[TEST]\n",
            "True answer: 325\n",
            "Prediction: 138 meters\n",
            "True answer: 452.8 ft\n",
            "Prediction: 75.6 metres (248.0 ft)\n",
            "True answer: at the right bank of the Vistula\n",
            "Prediction: 2\n",
            "True answer: two\n",
            "Prediction: moraine plateau\n",
            "True answer: moraine\n",
            "Prediction: The Vistula River\n",
            "True answer: Vistula River\n",
            "Prediction: moraine plateau\n",
            "\n",
            "QUESTION:\n",
            "True answer: moraine\n",
            "Prediction: 1. former flooded terraces\n",
            "True answer: former flooded terraces\n",
            "Prediction: Visible valleys and ground depressions with water systems coming from the\n",
            "True answer: valleys\n",
            "Prediction: The highest terrace\n",
            "True answer: plain Vistula terraces\n",
            "Prediction: Pine forests\n",
            "True answer: pine\n",
            "Prediction: The turbulent history of the city and country\n",
            "True answer: turbulent history of the city\n",
            "Prediction: During the Second World War.\n",
            "True answer: During the Second World War\n",
            "Prediction: After liberation.\n",
            "True answer: After liberation\n",
            "Prediction: LEOPOLD KRONENBERG PALACE\n",
            "True answer: Leopold Kronenberg Palace\n",
            "Prediction: Eastern bloc countries\n",
            "True answer: typical of Eastern bloc countries\n",
            "Prediction: 14th century Gothic\n",
            "True answer: Masovian gothic\n",
            "Prediction: Mannerist\n",
            "True answer: mannerist architecture\n",
            "Prediction: 1688-1692\n",
            "True answer: 1688–1692\n",
            "Prediction: Rococo\n",
            "True answer: rococo\n",
            "Prediction: Neoclassical architecture.\n",
            "True answer: neoclassical architecture\n",
            "Prediction: 1775-1795\n",
            "True answer: 1775–1795\n",
            "Prediction: 19th-century bourgeois\n",
            "True answer: bourgeois\n",
            "Prediction: Because they were not restored or rebuilt in socialist realism style\n",
            "True answer: not restored by the communist authorities\n",
            "Prediction: Socialist realism\n",
            "True answer: socialist realism\n",
            "Prediction: distinctive buildings\n",
            "True answer: the most distinctive buildings\n",
            "Prediction: Pawiak, Warsaw Citadel, Mausoleum of Memory\n",
            "True answer: many places\n",
            "Prediction: Warsaw Citadel\n",
            "True answer: The Warsaw Citadel\n",
            "Prediction: The statue of Little Insurgent commemorates children who served\n",
            "True answer: children\n",
            "Prediction: Warsaw Uprising Monument by Wincenty Kućma\n",
            "True answer: Warsaw Uprising Monument\n",
            "Prediction: Green spaces\n",
            "True answer: green\n"
          ]
        }
      ],
      "source": [
        "for i, j in zip(outputs, answers):\n",
        "    if i != j:\n",
        "        print(f\"Prediction: {i}\\nTrue answer: {j}\")"
      ]
    },
    {
      "cell_type": "code",
      "execution_count": null,
      "metadata": {
        "id": "FAxLqd_IiSLH"
      },
      "outputs": [],
      "source": []
    }
  ],
  "metadata": {
    "accelerator": "GPU",
    "colab": {
      "provenance": []
    },
    "gpuClass": "standard",
    "kernelspec": {
      "display_name": "Python 3 (ipykernel)",
      "language": "python",
      "name": "python3"
    },
    "language_info": {
      "codemirror_mode": {
        "name": "ipython",
        "version": 3
      },
      "file_extension": ".py",
      "mimetype": "text/x-python",
      "name": "python",
      "nbconvert_exporter": "python",
      "pygments_lexer": "ipython3",
      "version": "3.10.11"
    },
    "widgets": {
      "application/vnd.jupyter.widget-state+json": {
        "01e0ffc217774459beaa7c9de2219024": {
          "model_module": "@jupyter-widgets/controls",
          "model_module_version": "1.5.0",
          "model_name": "DescriptionStyleModel",
          "state": {
            "_model_module": "@jupyter-widgets/controls",
            "_model_module_version": "1.5.0",
            "_model_name": "DescriptionStyleModel",
            "_view_count": null,
            "_view_module": "@jupyter-widgets/base",
            "_view_module_version": "1.2.0",
            "_view_name": "StyleView",
            "description_width": ""
          }
        },
        "06dc9ae78d18482eb4148a317d2519bf": {
          "model_module": "@jupyter-widgets/base",
          "model_module_version": "1.2.0",
          "model_name": "LayoutModel",
          "state": {
            "_model_module": "@jupyter-widgets/base",
            "_model_module_version": "1.2.0",
            "_model_name": "LayoutModel",
            "_view_count": null,
            "_view_module": "@jupyter-widgets/base",
            "_view_module_version": "1.2.0",
            "_view_name": "LayoutView",
            "align_content": null,
            "align_items": null,
            "align_self": null,
            "border": null,
            "bottom": null,
            "display": null,
            "flex": null,
            "flex_flow": null,
            "grid_area": null,
            "grid_auto_columns": null,
            "grid_auto_flow": null,
            "grid_auto_rows": null,
            "grid_column": null,
            "grid_gap": null,
            "grid_row": null,
            "grid_template_areas": null,
            "grid_template_columns": null,
            "grid_template_rows": null,
            "height": null,
            "justify_content": null,
            "justify_items": null,
            "left": null,
            "margin": null,
            "max_height": null,
            "max_width": null,
            "min_height": null,
            "min_width": null,
            "object_fit": null,
            "object_position": null,
            "order": null,
            "overflow": null,
            "overflow_x": null,
            "overflow_y": null,
            "padding": null,
            "right": null,
            "top": null,
            "visibility": null,
            "width": null
          }
        },
        "0783e37360634db6824e81a0848de9ac": {
          "model_module": "@jupyter-widgets/controls",
          "model_module_version": "1.5.0",
          "model_name": "DescriptionStyleModel",
          "state": {
            "_model_module": "@jupyter-widgets/controls",
            "_model_module_version": "1.5.0",
            "_model_name": "DescriptionStyleModel",
            "_view_count": null,
            "_view_module": "@jupyter-widgets/base",
            "_view_module_version": "1.2.0",
            "_view_name": "StyleView",
            "description_width": ""
          }
        },
        "0c766df95a62484ab7c220c33436f05a": {
          "model_module": "@jupyter-widgets/base",
          "model_module_version": "1.2.0",
          "model_name": "LayoutModel",
          "state": {
            "_model_module": "@jupyter-widgets/base",
            "_model_module_version": "1.2.0",
            "_model_name": "LayoutModel",
            "_view_count": null,
            "_view_module": "@jupyter-widgets/base",
            "_view_module_version": "1.2.0",
            "_view_name": "LayoutView",
            "align_content": null,
            "align_items": null,
            "align_self": null,
            "border": null,
            "bottom": null,
            "display": null,
            "flex": null,
            "flex_flow": null,
            "grid_area": null,
            "grid_auto_columns": null,
            "grid_auto_flow": null,
            "grid_auto_rows": null,
            "grid_column": null,
            "grid_gap": null,
            "grid_row": null,
            "grid_template_areas": null,
            "grid_template_columns": null,
            "grid_template_rows": null,
            "height": null,
            "justify_content": null,
            "justify_items": null,
            "left": null,
            "margin": null,
            "max_height": null,
            "max_width": null,
            "min_height": null,
            "min_width": null,
            "object_fit": null,
            "object_position": null,
            "order": null,
            "overflow": null,
            "overflow_x": null,
            "overflow_y": null,
            "padding": null,
            "right": null,
            "top": null,
            "visibility": null,
            "width": null
          }
        },
        "144bf2cd8b084b8f81985711d8992030": {
          "model_module": "@jupyter-widgets/controls",
          "model_module_version": "1.5.0",
          "model_name": "ProgressStyleModel",
          "state": {
            "_model_module": "@jupyter-widgets/controls",
            "_model_module_version": "1.5.0",
            "_model_name": "ProgressStyleModel",
            "_view_count": null,
            "_view_module": "@jupyter-widgets/base",
            "_view_module_version": "1.2.0",
            "_view_name": "StyleView",
            "bar_color": null,
            "description_width": ""
          }
        },
        "1a513afe19674a5397cbe5b697388fd1": {
          "model_module": "@jupyter-widgets/controls",
          "model_module_version": "1.5.0",
          "model_name": "DescriptionStyleModel",
          "state": {
            "_model_module": "@jupyter-widgets/controls",
            "_model_module_version": "1.5.0",
            "_model_name": "DescriptionStyleModel",
            "_view_count": null,
            "_view_module": "@jupyter-widgets/base",
            "_view_module_version": "1.2.0",
            "_view_name": "StyleView",
            "description_width": ""
          }
        },
        "1b69969f9fd5486a8bb003adc41e227f": {
          "model_module": "@jupyter-widgets/controls",
          "model_module_version": "1.5.0",
          "model_name": "HTMLModel",
          "state": {
            "_dom_classes": [],
            "_model_module": "@jupyter-widgets/controls",
            "_model_module_version": "1.5.0",
            "_model_name": "HTMLModel",
            "_view_count": null,
            "_view_module": "@jupyter-widgets/controls",
            "_view_module_version": "1.5.0",
            "_view_name": "HTMLView",
            "description": "",
            "description_tooltip": null,
            "layout": "IPY_MODEL_f975fea4543d4287bd570a7d9e395a78",
            "placeholder": "​",
            "style": "IPY_MODEL_1a513afe19674a5397cbe5b697388fd1",
            "value": " 10570/10570 [00:09&lt;00:00, 1128.96 examples/s]"
          }
        },
        "1c7896fb7c7a4227800ec0745c86b8c8": {
          "model_module": "@jupyter-widgets/controls",
          "model_module_version": "1.5.0",
          "model_name": "FloatProgressModel",
          "state": {
            "_dom_classes": [],
            "_model_module": "@jupyter-widgets/controls",
            "_model_module_version": "1.5.0",
            "_model_name": "FloatProgressModel",
            "_view_count": null,
            "_view_module": "@jupyter-widgets/controls",
            "_view_module_version": "1.5.0",
            "_view_name": "ProgressView",
            "bar_style": "success",
            "description": "",
            "description_tooltip": null,
            "layout": "IPY_MODEL_ca7ef916a4f04936b71b34e35105f8ce",
            "max": 10570,
            "min": 0,
            "orientation": "horizontal",
            "style": "IPY_MODEL_5ef0860093b74210a61f18b4ae88bb95",
            "value": 10570
          }
        },
        "1f791524f7084349bacb56b474579b0f": {
          "model_module": "@jupyter-widgets/controls",
          "model_module_version": "1.5.0",
          "model_name": "DescriptionStyleModel",
          "state": {
            "_model_module": "@jupyter-widgets/controls",
            "_model_module_version": "1.5.0",
            "_model_name": "DescriptionStyleModel",
            "_view_count": null,
            "_view_module": "@jupyter-widgets/base",
            "_view_module_version": "1.2.0",
            "_view_name": "StyleView",
            "description_width": ""
          }
        },
        "20799871f5a24129b5d9123601dadb4c": {
          "model_module": "@jupyter-widgets/controls",
          "model_module_version": "1.5.0",
          "model_name": "HTMLModel",
          "state": {
            "_dom_classes": [],
            "_model_module": "@jupyter-widgets/controls",
            "_model_module_version": "1.5.0",
            "_model_name": "HTMLModel",
            "_view_count": null,
            "_view_module": "@jupyter-widgets/controls",
            "_view_module_version": "1.5.0",
            "_view_name": "HTMLView",
            "description": "",
            "description_tooltip": null,
            "layout": "IPY_MODEL_814c6d0474254a70a653f46af1b52bf8",
            "placeholder": "​",
            "style": "IPY_MODEL_1f791524f7084349bacb56b474579b0f",
            "value": "100%"
          }
        },
        "21844c79cd444980a2066a340b42830c": {
          "model_module": "@jupyter-widgets/controls",
          "model_module_version": "1.5.0",
          "model_name": "ProgressStyleModel",
          "state": {
            "_model_module": "@jupyter-widgets/controls",
            "_model_module_version": "1.5.0",
            "_model_name": "ProgressStyleModel",
            "_view_count": null,
            "_view_module": "@jupyter-widgets/base",
            "_view_module_version": "1.2.0",
            "_view_name": "StyleView",
            "bar_color": null,
            "description_width": ""
          }
        },
        "289a01cc7c9d4f8cad5ef27942adbef4": {
          "model_module": "@jupyter-widgets/controls",
          "model_module_version": "1.5.0",
          "model_name": "DescriptionStyleModel",
          "state": {
            "_model_module": "@jupyter-widgets/controls",
            "_model_module_version": "1.5.0",
            "_model_name": "DescriptionStyleModel",
            "_view_count": null,
            "_view_module": "@jupyter-widgets/base",
            "_view_module_version": "1.2.0",
            "_view_name": "StyleView",
            "description_width": ""
          }
        },
        "315fb03294d64b4599a07b489b25043d": {
          "model_module": "@jupyter-widgets/base",
          "model_module_version": "1.2.0",
          "model_name": "LayoutModel",
          "state": {
            "_model_module": "@jupyter-widgets/base",
            "_model_module_version": "1.2.0",
            "_model_name": "LayoutModel",
            "_view_count": null,
            "_view_module": "@jupyter-widgets/base",
            "_view_module_version": "1.2.0",
            "_view_name": "LayoutView",
            "align_content": null,
            "align_items": null,
            "align_self": null,
            "border": null,
            "bottom": null,
            "display": null,
            "flex": null,
            "flex_flow": null,
            "grid_area": null,
            "grid_auto_columns": null,
            "grid_auto_flow": null,
            "grid_auto_rows": null,
            "grid_column": null,
            "grid_gap": null,
            "grid_row": null,
            "grid_template_areas": null,
            "grid_template_columns": null,
            "grid_template_rows": null,
            "height": null,
            "justify_content": null,
            "justify_items": null,
            "left": null,
            "margin": null,
            "max_height": null,
            "max_width": null,
            "min_height": null,
            "min_width": null,
            "object_fit": null,
            "object_position": null,
            "order": null,
            "overflow": null,
            "overflow_x": null,
            "overflow_y": null,
            "padding": null,
            "right": null,
            "top": null,
            "visibility": null,
            "width": null
          }
        },
        "31a335e9348640e2bc6d47fe7951af84": {
          "model_module": "@jupyter-widgets/controls",
          "model_module_version": "1.5.0",
          "model_name": "HTMLModel",
          "state": {
            "_dom_classes": [],
            "_model_module": "@jupyter-widgets/controls",
            "_model_module_version": "1.5.0",
            "_model_name": "HTMLModel",
            "_view_count": null,
            "_view_module": "@jupyter-widgets/controls",
            "_view_module_version": "1.5.0",
            "_view_name": "HTMLView",
            "description": "",
            "description_tooltip": null,
            "layout": "IPY_MODEL_c2841077dcf645d2b817c067c4b75bb7",
            "placeholder": "​",
            "style": "IPY_MODEL_289a01cc7c9d4f8cad5ef27942adbef4",
            "value": "Map: 100%"
          }
        },
        "32631699ca8b4ce7910ef5a3d865f6a9": {
          "model_module": "@jupyter-widgets/controls",
          "model_module_version": "1.5.0",
          "model_name": "HBoxModel",
          "state": {
            "_dom_classes": [],
            "_model_module": "@jupyter-widgets/controls",
            "_model_module_version": "1.5.0",
            "_model_name": "HBoxModel",
            "_view_count": null,
            "_view_module": "@jupyter-widgets/controls",
            "_view_module_version": "1.5.0",
            "_view_name": "HBoxView",
            "box_style": "",
            "children": [
              "IPY_MODEL_78ce6932aaa842369ecd4e8cf1ea932f",
              "IPY_MODEL_767f6a4f407941219cb6bd339aff08a1",
              "IPY_MODEL_36cd369a5ad14569a923500a0245a9cf"
            ],
            "layout": "IPY_MODEL_46d8c564b11e424095d6ba55bf5bab9b"
          }
        },
        "34d053f011c147df934ad294bb3c4eee": {
          "model_module": "@jupyter-widgets/controls",
          "model_module_version": "1.5.0",
          "model_name": "HTMLModel",
          "state": {
            "_dom_classes": [],
            "_model_module": "@jupyter-widgets/controls",
            "_model_module_version": "1.5.0",
            "_model_name": "HTMLModel",
            "_view_count": null,
            "_view_module": "@jupyter-widgets/controls",
            "_view_module_version": "1.5.0",
            "_view_name": "HTMLView",
            "description": "",
            "description_tooltip": null,
            "layout": "IPY_MODEL_6cb2bd0b64f64bdd89cb33d2c977925d",
            "placeholder": "​",
            "style": "IPY_MODEL_928681b28da54261839ed7a3a65f28fe",
            "value": " 4.50k/? [00:00&lt;00:00, 267kB/s]"
          }
        },
        "36b025f028f64561b543de1bae5f25c6": {
          "model_module": "@jupyter-widgets/base",
          "model_module_version": "1.2.0",
          "model_name": "LayoutModel",
          "state": {
            "_model_module": "@jupyter-widgets/base",
            "_model_module_version": "1.2.0",
            "_model_name": "LayoutModel",
            "_view_count": null,
            "_view_module": "@jupyter-widgets/base",
            "_view_module_version": "1.2.0",
            "_view_name": "LayoutView",
            "align_content": null,
            "align_items": null,
            "align_self": null,
            "border": null,
            "bottom": null,
            "display": null,
            "flex": null,
            "flex_flow": null,
            "grid_area": null,
            "grid_auto_columns": null,
            "grid_auto_flow": null,
            "grid_auto_rows": null,
            "grid_column": null,
            "grid_gap": null,
            "grid_row": null,
            "grid_template_areas": null,
            "grid_template_columns": null,
            "grid_template_rows": null,
            "height": null,
            "justify_content": null,
            "justify_items": null,
            "left": null,
            "margin": null,
            "max_height": null,
            "max_width": null,
            "min_height": null,
            "min_width": null,
            "object_fit": null,
            "object_position": null,
            "order": null,
            "overflow": null,
            "overflow_x": null,
            "overflow_y": null,
            "padding": null,
            "right": null,
            "top": null,
            "visibility": null,
            "width": null
          }
        },
        "36cd369a5ad14569a923500a0245a9cf": {
          "model_module": "@jupyter-widgets/controls",
          "model_module_version": "1.5.0",
          "model_name": "HTMLModel",
          "state": {
            "_dom_classes": [],
            "_model_module": "@jupyter-widgets/controls",
            "_model_module_version": "1.5.0",
            "_model_name": "HTMLModel",
            "_view_count": null,
            "_view_module": "@jupyter-widgets/controls",
            "_view_module_version": "1.5.0",
            "_view_name": "HTMLView",
            "description": "",
            "description_tooltip": null,
            "layout": "IPY_MODEL_df81508b27f3461d8d190ecfaa7c7836",
            "placeholder": "​",
            "style": "IPY_MODEL_e01a3a929a9147f4a1afaa5f79eaaafc",
            "value": " 87599/87599 [01:41&lt;00:00, 921.15 examples/s]"
          }
        },
        "3d43145751d14bcc8945eabe871affe0": {
          "model_module": "@jupyter-widgets/controls",
          "model_module_version": "1.5.0",
          "model_name": "HTMLModel",
          "state": {
            "_dom_classes": [],
            "_model_module": "@jupyter-widgets/controls",
            "_model_module_version": "1.5.0",
            "_model_name": "HTMLModel",
            "_view_count": null,
            "_view_module": "@jupyter-widgets/controls",
            "_view_module_version": "1.5.0",
            "_view_name": "HTMLView",
            "description": "",
            "description_tooltip": null,
            "layout": "IPY_MODEL_68afcc8bdeb04ac78cf1ec1a77d11bb2",
            "placeholder": "​",
            "style": "IPY_MODEL_0783e37360634db6824e81a0848de9ac",
            "value": "Downloading builder script: "
          }
        },
        "3da089274aa444818a70665826d14d31": {
          "model_module": "@jupyter-widgets/base",
          "model_module_version": "1.2.0",
          "model_name": "LayoutModel",
          "state": {
            "_model_module": "@jupyter-widgets/base",
            "_model_module_version": "1.2.0",
            "_model_name": "LayoutModel",
            "_view_count": null,
            "_view_module": "@jupyter-widgets/base",
            "_view_module_version": "1.2.0",
            "_view_name": "LayoutView",
            "align_content": null,
            "align_items": null,
            "align_self": null,
            "border": null,
            "bottom": null,
            "display": null,
            "flex": null,
            "flex_flow": null,
            "grid_area": null,
            "grid_auto_columns": null,
            "grid_auto_flow": null,
            "grid_auto_rows": null,
            "grid_column": null,
            "grid_gap": null,
            "grid_row": null,
            "grid_template_areas": null,
            "grid_template_columns": null,
            "grid_template_rows": null,
            "height": null,
            "justify_content": null,
            "justify_items": null,
            "left": null,
            "margin": null,
            "max_height": null,
            "max_width": null,
            "min_height": null,
            "min_width": null,
            "object_fit": null,
            "object_position": null,
            "order": null,
            "overflow": null,
            "overflow_x": null,
            "overflow_y": null,
            "padding": null,
            "right": null,
            "top": null,
            "visibility": null,
            "width": null
          }
        },
        "4014101f9e814d549b088ec1c9ebad25": {
          "model_module": "@jupyter-widgets/controls",
          "model_module_version": "1.5.0",
          "model_name": "HTMLModel",
          "state": {
            "_dom_classes": [],
            "_model_module": "@jupyter-widgets/controls",
            "_model_module_version": "1.5.0",
            "_model_name": "HTMLModel",
            "_view_count": null,
            "_view_module": "@jupyter-widgets/controls",
            "_view_module_version": "1.5.0",
            "_view_name": "HTMLView",
            "description": "",
            "description_tooltip": null,
            "layout": "IPY_MODEL_7d683b9bd97843f192d7b4bd53e16dd4",
            "placeholder": "​",
            "style": "IPY_MODEL_d9f769edc9c443f6be07e92919779646",
            "value": " 10570/10570 [00:40&lt;00:00, 285.75it/s]"
          }
        },
        "46d8c564b11e424095d6ba55bf5bab9b": {
          "model_module": "@jupyter-widgets/base",
          "model_module_version": "1.2.0",
          "model_name": "LayoutModel",
          "state": {
            "_model_module": "@jupyter-widgets/base",
            "_model_module_version": "1.2.0",
            "_model_name": "LayoutModel",
            "_view_count": null,
            "_view_module": "@jupyter-widgets/base",
            "_view_module_version": "1.2.0",
            "_view_name": "LayoutView",
            "align_content": null,
            "align_items": null,
            "align_self": null,
            "border": null,
            "bottom": null,
            "display": null,
            "flex": null,
            "flex_flow": null,
            "grid_area": null,
            "grid_auto_columns": null,
            "grid_auto_flow": null,
            "grid_auto_rows": null,
            "grid_column": null,
            "grid_gap": null,
            "grid_row": null,
            "grid_template_areas": null,
            "grid_template_columns": null,
            "grid_template_rows": null,
            "height": null,
            "justify_content": null,
            "justify_items": null,
            "left": null,
            "margin": null,
            "max_height": null,
            "max_width": null,
            "min_height": null,
            "min_width": null,
            "object_fit": null,
            "object_position": null,
            "order": null,
            "overflow": null,
            "overflow_x": null,
            "overflow_y": null,
            "padding": null,
            "right": null,
            "top": null,
            "visibility": null,
            "width": null
          }
        },
        "57f9218612df43ed874a8286655552ab": {
          "model_module": "@jupyter-widgets/controls",
          "model_module_version": "1.5.0",
          "model_name": "DescriptionStyleModel",
          "state": {
            "_model_module": "@jupyter-widgets/controls",
            "_model_module_version": "1.5.0",
            "_model_name": "DescriptionStyleModel",
            "_view_count": null,
            "_view_module": "@jupyter-widgets/base",
            "_view_module_version": "1.2.0",
            "_view_name": "StyleView",
            "description_width": ""
          }
        },
        "5a2641500b6f440d9b1a27f14f0648aa": {
          "model_module": "@jupyter-widgets/controls",
          "model_module_version": "1.5.0",
          "model_name": "ProgressStyleModel",
          "state": {
            "_model_module": "@jupyter-widgets/controls",
            "_model_module_version": "1.5.0",
            "_model_name": "ProgressStyleModel",
            "_view_count": null,
            "_view_module": "@jupyter-widgets/base",
            "_view_module_version": "1.2.0",
            "_view_name": "StyleView",
            "bar_color": null,
            "description_width": ""
          }
        },
        "5ef0860093b74210a61f18b4ae88bb95": {
          "model_module": "@jupyter-widgets/controls",
          "model_module_version": "1.5.0",
          "model_name": "ProgressStyleModel",
          "state": {
            "_model_module": "@jupyter-widgets/controls",
            "_model_module_version": "1.5.0",
            "_model_name": "ProgressStyleModel",
            "_view_count": null,
            "_view_module": "@jupyter-widgets/base",
            "_view_module_version": "1.2.0",
            "_view_name": "StyleView",
            "bar_color": null,
            "description_width": ""
          }
        },
        "6076f870e80d48d5926f1d7e3586e3f8": {
          "model_module": "@jupyter-widgets/controls",
          "model_module_version": "1.5.0",
          "model_name": "HTMLModel",
          "state": {
            "_dom_classes": [],
            "_model_module": "@jupyter-widgets/controls",
            "_model_module_version": "1.5.0",
            "_model_name": "HTMLModel",
            "_view_count": null,
            "_view_module": "@jupyter-widgets/controls",
            "_view_module_version": "1.5.0",
            "_view_name": "HTMLView",
            "description": "",
            "description_tooltip": null,
            "layout": "IPY_MODEL_7b4b7d19a7b042c5b52738b59e3f608c",
            "placeholder": "​",
            "style": "IPY_MODEL_84254f24a07e454ea4d2d91f4df76dd2",
            "value": " 3.29k/? [00:00&lt;00:00, 111kB/s]"
          }
        },
        "6104f814445b40e3b45d20ae127e9bef": {
          "model_module": "@jupyter-widgets/controls",
          "model_module_version": "1.5.0",
          "model_name": "HTMLModel",
          "state": {
            "_dom_classes": [],
            "_model_module": "@jupyter-widgets/controls",
            "_model_module_version": "1.5.0",
            "_model_name": "HTMLModel",
            "_view_count": null,
            "_view_module": "@jupyter-widgets/controls",
            "_view_module_version": "1.5.0",
            "_view_name": "HTMLView",
            "description": "",
            "description_tooltip": null,
            "layout": "IPY_MODEL_0c766df95a62484ab7c220c33436f05a",
            "placeholder": "​",
            "style": "IPY_MODEL_57f9218612df43ed874a8286655552ab",
            "value": "Downloading extra modules: "
          }
        },
        "619e119dacf346cf8ddd15f9ebcbfa8c": {
          "model_module": "@jupyter-widgets/base",
          "model_module_version": "1.2.0",
          "model_name": "LayoutModel",
          "state": {
            "_model_module": "@jupyter-widgets/base",
            "_model_module_version": "1.2.0",
            "_model_name": "LayoutModel",
            "_view_count": null,
            "_view_module": "@jupyter-widgets/base",
            "_view_module_version": "1.2.0",
            "_view_name": "LayoutView",
            "align_content": null,
            "align_items": null,
            "align_self": null,
            "border": null,
            "bottom": null,
            "display": null,
            "flex": null,
            "flex_flow": null,
            "grid_area": null,
            "grid_auto_columns": null,
            "grid_auto_flow": null,
            "grid_auto_rows": null,
            "grid_column": null,
            "grid_gap": null,
            "grid_row": null,
            "grid_template_areas": null,
            "grid_template_columns": null,
            "grid_template_rows": null,
            "height": null,
            "justify_content": null,
            "justify_items": null,
            "left": null,
            "margin": null,
            "max_height": null,
            "max_width": null,
            "min_height": null,
            "min_width": null,
            "object_fit": null,
            "object_position": null,
            "order": null,
            "overflow": null,
            "overflow_x": null,
            "overflow_y": null,
            "padding": null,
            "right": null,
            "top": null,
            "visibility": null,
            "width": null
          }
        },
        "6664f8d37312452bb20a49a122353c25": {
          "model_module": "@jupyter-widgets/controls",
          "model_module_version": "1.5.0",
          "model_name": "FloatProgressModel",
          "state": {
            "_dom_classes": [],
            "_model_module": "@jupyter-widgets/controls",
            "_model_module_version": "1.5.0",
            "_model_name": "FloatProgressModel",
            "_view_count": null,
            "_view_module": "@jupyter-widgets/controls",
            "_view_module_version": "1.5.0",
            "_view_name": "ProgressView",
            "bar_style": "success",
            "description": "",
            "description_tooltip": null,
            "layout": "IPY_MODEL_e1a66b6e82264ebe80c224e2ffa496e5",
            "max": 1715,
            "min": 0,
            "orientation": "horizontal",
            "style": "IPY_MODEL_c3fa4443d10746038a2215515b60d92a",
            "value": 1715
          }
        },
        "680ea2228c5241a6b65931c8a6c47bda": {
          "model_module": "@jupyter-widgets/controls",
          "model_module_version": "1.5.0",
          "model_name": "HBoxModel",
          "state": {
            "_dom_classes": [],
            "_model_module": "@jupyter-widgets/controls",
            "_model_module_version": "1.5.0",
            "_model_name": "HBoxModel",
            "_view_count": null,
            "_view_module": "@jupyter-widgets/controls",
            "_view_module_version": "1.5.0",
            "_view_name": "HBoxView",
            "box_style": "",
            "children": [
              "IPY_MODEL_3d43145751d14bcc8945eabe871affe0",
              "IPY_MODEL_6664f8d37312452bb20a49a122353c25",
              "IPY_MODEL_34d053f011c147df934ad294bb3c4eee"
            ],
            "layout": "IPY_MODEL_c5e2576cd25c466b8e9b25e9f6884606"
          }
        },
        "68afcc8bdeb04ac78cf1ec1a77d11bb2": {
          "model_module": "@jupyter-widgets/base",
          "model_module_version": "1.2.0",
          "model_name": "LayoutModel",
          "state": {
            "_model_module": "@jupyter-widgets/base",
            "_model_module_version": "1.2.0",
            "_model_name": "LayoutModel",
            "_view_count": null,
            "_view_module": "@jupyter-widgets/base",
            "_view_module_version": "1.2.0",
            "_view_name": "LayoutView",
            "align_content": null,
            "align_items": null,
            "align_self": null,
            "border": null,
            "bottom": null,
            "display": null,
            "flex": null,
            "flex_flow": null,
            "grid_area": null,
            "grid_auto_columns": null,
            "grid_auto_flow": null,
            "grid_auto_rows": null,
            "grid_column": null,
            "grid_gap": null,
            "grid_row": null,
            "grid_template_areas": null,
            "grid_template_columns": null,
            "grid_template_rows": null,
            "height": null,
            "justify_content": null,
            "justify_items": null,
            "left": null,
            "margin": null,
            "max_height": null,
            "max_width": null,
            "min_height": null,
            "min_width": null,
            "object_fit": null,
            "object_position": null,
            "order": null,
            "overflow": null,
            "overflow_x": null,
            "overflow_y": null,
            "padding": null,
            "right": null,
            "top": null,
            "visibility": null,
            "width": null
          }
        },
        "6cb2bd0b64f64bdd89cb33d2c977925d": {
          "model_module": "@jupyter-widgets/base",
          "model_module_version": "1.2.0",
          "model_name": "LayoutModel",
          "state": {
            "_model_module": "@jupyter-widgets/base",
            "_model_module_version": "1.2.0",
            "_model_name": "LayoutModel",
            "_view_count": null,
            "_view_module": "@jupyter-widgets/base",
            "_view_module_version": "1.2.0",
            "_view_name": "LayoutView",
            "align_content": null,
            "align_items": null,
            "align_self": null,
            "border": null,
            "bottom": null,
            "display": null,
            "flex": null,
            "flex_flow": null,
            "grid_area": null,
            "grid_auto_columns": null,
            "grid_auto_flow": null,
            "grid_auto_rows": null,
            "grid_column": null,
            "grid_gap": null,
            "grid_row": null,
            "grid_template_areas": null,
            "grid_template_columns": null,
            "grid_template_rows": null,
            "height": null,
            "justify_content": null,
            "justify_items": null,
            "left": null,
            "margin": null,
            "max_height": null,
            "max_width": null,
            "min_height": null,
            "min_width": null,
            "object_fit": null,
            "object_position": null,
            "order": null,
            "overflow": null,
            "overflow_x": null,
            "overflow_y": null,
            "padding": null,
            "right": null,
            "top": null,
            "visibility": null,
            "width": null
          }
        },
        "6d974790f5984defb15aa967c2f0d326": {
          "model_module": "@jupyter-widgets/controls",
          "model_module_version": "1.5.0",
          "model_name": "DescriptionStyleModel",
          "state": {
            "_model_module": "@jupyter-widgets/controls",
            "_model_module_version": "1.5.0",
            "_model_name": "DescriptionStyleModel",
            "_view_count": null,
            "_view_module": "@jupyter-widgets/base",
            "_view_module_version": "1.2.0",
            "_view_name": "StyleView",
            "description_width": ""
          }
        },
        "6f47a5df643f476eb030cad881b984e4": {
          "model_module": "@jupyter-widgets/base",
          "model_module_version": "1.2.0",
          "model_name": "LayoutModel",
          "state": {
            "_model_module": "@jupyter-widgets/base",
            "_model_module_version": "1.2.0",
            "_model_name": "LayoutModel",
            "_view_count": null,
            "_view_module": "@jupyter-widgets/base",
            "_view_module_version": "1.2.0",
            "_view_name": "LayoutView",
            "align_content": null,
            "align_items": null,
            "align_self": null,
            "border": null,
            "bottom": null,
            "display": null,
            "flex": null,
            "flex_flow": null,
            "grid_area": null,
            "grid_auto_columns": null,
            "grid_auto_flow": null,
            "grid_auto_rows": null,
            "grid_column": null,
            "grid_gap": null,
            "grid_row": null,
            "grid_template_areas": null,
            "grid_template_columns": null,
            "grid_template_rows": null,
            "height": null,
            "justify_content": null,
            "justify_items": null,
            "left": null,
            "margin": null,
            "max_height": null,
            "max_width": null,
            "min_height": null,
            "min_width": null,
            "object_fit": null,
            "object_position": null,
            "order": null,
            "overflow": null,
            "overflow_x": null,
            "overflow_y": null,
            "padding": null,
            "right": null,
            "top": null,
            "visibility": null,
            "width": null
          }
        },
        "767f6a4f407941219cb6bd339aff08a1": {
          "model_module": "@jupyter-widgets/controls",
          "model_module_version": "1.5.0",
          "model_name": "FloatProgressModel",
          "state": {
            "_dom_classes": [],
            "_model_module": "@jupyter-widgets/controls",
            "_model_module_version": "1.5.0",
            "_model_name": "FloatProgressModel",
            "_view_count": null,
            "_view_module": "@jupyter-widgets/controls",
            "_view_module_version": "1.5.0",
            "_view_name": "ProgressView",
            "bar_style": "success",
            "description": "",
            "description_tooltip": null,
            "layout": "IPY_MODEL_3da089274aa444818a70665826d14d31",
            "max": 87599,
            "min": 0,
            "orientation": "horizontal",
            "style": "IPY_MODEL_144bf2cd8b084b8f81985711d8992030",
            "value": 87599
          }
        },
        "78ce6932aaa842369ecd4e8cf1ea932f": {
          "model_module": "@jupyter-widgets/controls",
          "model_module_version": "1.5.0",
          "model_name": "HTMLModel",
          "state": {
            "_dom_classes": [],
            "_model_module": "@jupyter-widgets/controls",
            "_model_module_version": "1.5.0",
            "_model_name": "HTMLModel",
            "_view_count": null,
            "_view_module": "@jupyter-widgets/controls",
            "_view_module_version": "1.5.0",
            "_view_name": "HTMLView",
            "description": "",
            "description_tooltip": null,
            "layout": "IPY_MODEL_ffa4fee4c43e4dc99280a4469e763fb4",
            "placeholder": "​",
            "style": "IPY_MODEL_6d974790f5984defb15aa967c2f0d326",
            "value": "Map: 100%"
          }
        },
        "7b4b7d19a7b042c5b52738b59e3f608c": {
          "model_module": "@jupyter-widgets/base",
          "model_module_version": "1.2.0",
          "model_name": "LayoutModel",
          "state": {
            "_model_module": "@jupyter-widgets/base",
            "_model_module_version": "1.2.0",
            "_model_name": "LayoutModel",
            "_view_count": null,
            "_view_module": "@jupyter-widgets/base",
            "_view_module_version": "1.2.0",
            "_view_name": "LayoutView",
            "align_content": null,
            "align_items": null,
            "align_self": null,
            "border": null,
            "bottom": null,
            "display": null,
            "flex": null,
            "flex_flow": null,
            "grid_area": null,
            "grid_auto_columns": null,
            "grid_auto_flow": null,
            "grid_auto_rows": null,
            "grid_column": null,
            "grid_gap": null,
            "grid_row": null,
            "grid_template_areas": null,
            "grid_template_columns": null,
            "grid_template_rows": null,
            "height": null,
            "justify_content": null,
            "justify_items": null,
            "left": null,
            "margin": null,
            "max_height": null,
            "max_width": null,
            "min_height": null,
            "min_width": null,
            "object_fit": null,
            "object_position": null,
            "order": null,
            "overflow": null,
            "overflow_x": null,
            "overflow_y": null,
            "padding": null,
            "right": null,
            "top": null,
            "visibility": null,
            "width": null
          }
        },
        "7d683b9bd97843f192d7b4bd53e16dd4": {
          "model_module": "@jupyter-widgets/base",
          "model_module_version": "1.2.0",
          "model_name": "LayoutModel",
          "state": {
            "_model_module": "@jupyter-widgets/base",
            "_model_module_version": "1.2.0",
            "_model_name": "LayoutModel",
            "_view_count": null,
            "_view_module": "@jupyter-widgets/base",
            "_view_module_version": "1.2.0",
            "_view_name": "LayoutView",
            "align_content": null,
            "align_items": null,
            "align_self": null,
            "border": null,
            "bottom": null,
            "display": null,
            "flex": null,
            "flex_flow": null,
            "grid_area": null,
            "grid_auto_columns": null,
            "grid_auto_flow": null,
            "grid_auto_rows": null,
            "grid_column": null,
            "grid_gap": null,
            "grid_row": null,
            "grid_template_areas": null,
            "grid_template_columns": null,
            "grid_template_rows": null,
            "height": null,
            "justify_content": null,
            "justify_items": null,
            "left": null,
            "margin": null,
            "max_height": null,
            "max_width": null,
            "min_height": null,
            "min_width": null,
            "object_fit": null,
            "object_position": null,
            "order": null,
            "overflow": null,
            "overflow_x": null,
            "overflow_y": null,
            "padding": null,
            "right": null,
            "top": null,
            "visibility": null,
            "width": null
          }
        },
        "814c6d0474254a70a653f46af1b52bf8": {
          "model_module": "@jupyter-widgets/base",
          "model_module_version": "1.2.0",
          "model_name": "LayoutModel",
          "state": {
            "_model_module": "@jupyter-widgets/base",
            "_model_module_version": "1.2.0",
            "_model_name": "LayoutModel",
            "_view_count": null,
            "_view_module": "@jupyter-widgets/base",
            "_view_module_version": "1.2.0",
            "_view_name": "LayoutView",
            "align_content": null,
            "align_items": null,
            "align_self": null,
            "border": null,
            "bottom": null,
            "display": null,
            "flex": null,
            "flex_flow": null,
            "grid_area": null,
            "grid_auto_columns": null,
            "grid_auto_flow": null,
            "grid_auto_rows": null,
            "grid_column": null,
            "grid_gap": null,
            "grid_row": null,
            "grid_template_areas": null,
            "grid_template_columns": null,
            "grid_template_rows": null,
            "height": null,
            "justify_content": null,
            "justify_items": null,
            "left": null,
            "margin": null,
            "max_height": null,
            "max_width": null,
            "min_height": null,
            "min_width": null,
            "object_fit": null,
            "object_position": null,
            "order": null,
            "overflow": null,
            "overflow_x": null,
            "overflow_y": null,
            "padding": null,
            "right": null,
            "top": null,
            "visibility": null,
            "width": null
          }
        },
        "84254f24a07e454ea4d2d91f4df76dd2": {
          "model_module": "@jupyter-widgets/controls",
          "model_module_version": "1.5.0",
          "model_name": "DescriptionStyleModel",
          "state": {
            "_model_module": "@jupyter-widgets/controls",
            "_model_module_version": "1.5.0",
            "_model_name": "DescriptionStyleModel",
            "_view_count": null,
            "_view_module": "@jupyter-widgets/base",
            "_view_module_version": "1.2.0",
            "_view_name": "StyleView",
            "description_width": ""
          }
        },
        "8a4390718f3d430eb54620b9a28691d0": {
          "model_module": "@jupyter-widgets/controls",
          "model_module_version": "1.5.0",
          "model_name": "HBoxModel",
          "state": {
            "_dom_classes": [],
            "_model_module": "@jupyter-widgets/controls",
            "_model_module_version": "1.5.0",
            "_model_name": "HBoxModel",
            "_view_count": null,
            "_view_module": "@jupyter-widgets/controls",
            "_view_module_version": "1.5.0",
            "_view_name": "HBoxView",
            "box_style": "",
            "children": [
              "IPY_MODEL_20799871f5a24129b5d9123601dadb4c",
              "IPY_MODEL_dcb52f11150340aa8d1e85eed991657c",
              "IPY_MODEL_4014101f9e814d549b088ec1c9ebad25"
            ],
            "layout": "IPY_MODEL_6f47a5df643f476eb030cad881b984e4"
          }
        },
        "8fe2a816c2254978a684b1422391152b": {
          "model_module": "@jupyter-widgets/controls",
          "model_module_version": "1.5.0",
          "model_name": "HBoxModel",
          "state": {
            "_dom_classes": [],
            "_model_module": "@jupyter-widgets/controls",
            "_model_module_version": "1.5.0",
            "_model_name": "HBoxModel",
            "_view_count": null,
            "_view_module": "@jupyter-widgets/controls",
            "_view_module_version": "1.5.0",
            "_view_name": "HBoxView",
            "box_style": "",
            "children": [
              "IPY_MODEL_6104f814445b40e3b45d20ae127e9bef",
              "IPY_MODEL_eb23f17e437a4e20be9d15db005475f5",
              "IPY_MODEL_6076f870e80d48d5926f1d7e3586e3f8"
            ],
            "layout": "IPY_MODEL_eef40e11b81d49b68f2e8dd9a33cf56d"
          }
        },
        "928673dadbc740bfb814c7c5283b7be5": {
          "model_module": "@jupyter-widgets/base",
          "model_module_version": "1.2.0",
          "model_name": "LayoutModel",
          "state": {
            "_model_module": "@jupyter-widgets/base",
            "_model_module_version": "1.2.0",
            "_model_name": "LayoutModel",
            "_view_count": null,
            "_view_module": "@jupyter-widgets/base",
            "_view_module_version": "1.2.0",
            "_view_name": "LayoutView",
            "align_content": null,
            "align_items": null,
            "align_self": null,
            "border": null,
            "bottom": null,
            "display": null,
            "flex": null,
            "flex_flow": null,
            "grid_area": null,
            "grid_auto_columns": null,
            "grid_auto_flow": null,
            "grid_auto_rows": null,
            "grid_column": null,
            "grid_gap": null,
            "grid_row": null,
            "grid_template_areas": null,
            "grid_template_columns": null,
            "grid_template_rows": null,
            "height": null,
            "justify_content": null,
            "justify_items": null,
            "left": null,
            "margin": null,
            "max_height": null,
            "max_width": null,
            "min_height": null,
            "min_width": null,
            "object_fit": null,
            "object_position": null,
            "order": null,
            "overflow": null,
            "overflow_x": null,
            "overflow_y": null,
            "padding": null,
            "right": null,
            "top": null,
            "visibility": null,
            "width": null
          }
        },
        "928681b28da54261839ed7a3a65f28fe": {
          "model_module": "@jupyter-widgets/controls",
          "model_module_version": "1.5.0",
          "model_name": "DescriptionStyleModel",
          "state": {
            "_model_module": "@jupyter-widgets/controls",
            "_model_module_version": "1.5.0",
            "_model_name": "DescriptionStyleModel",
            "_view_count": null,
            "_view_module": "@jupyter-widgets/base",
            "_view_module_version": "1.2.0",
            "_view_name": "StyleView",
            "description_width": ""
          }
        },
        "ab9e9b59063446dfadf9b531ad47066b": {
          "model_module": "@jupyter-widgets/base",
          "model_module_version": "1.2.0",
          "model_name": "LayoutModel",
          "state": {
            "_model_module": "@jupyter-widgets/base",
            "_model_module_version": "1.2.0",
            "_model_name": "LayoutModel",
            "_view_count": null,
            "_view_module": "@jupyter-widgets/base",
            "_view_module_version": "1.2.0",
            "_view_name": "LayoutView",
            "align_content": null,
            "align_items": null,
            "align_self": null,
            "border": null,
            "bottom": null,
            "display": null,
            "flex": null,
            "flex_flow": null,
            "grid_area": null,
            "grid_auto_columns": null,
            "grid_auto_flow": null,
            "grid_auto_rows": null,
            "grid_column": null,
            "grid_gap": null,
            "grid_row": null,
            "grid_template_areas": null,
            "grid_template_columns": null,
            "grid_template_rows": null,
            "height": null,
            "justify_content": null,
            "justify_items": null,
            "left": null,
            "margin": null,
            "max_height": null,
            "max_width": null,
            "min_height": null,
            "min_width": null,
            "object_fit": null,
            "object_position": null,
            "order": null,
            "overflow": null,
            "overflow_x": null,
            "overflow_y": null,
            "padding": null,
            "right": null,
            "top": null,
            "visibility": null,
            "width": null
          }
        },
        "abf1c59be3a441fca272fcdad514bc8b": {
          "model_module": "@jupyter-widgets/controls",
          "model_module_version": "1.5.0",
          "model_name": "HTMLModel",
          "state": {
            "_dom_classes": [],
            "_model_module": "@jupyter-widgets/controls",
            "_model_module_version": "1.5.0",
            "_model_name": "HTMLModel",
            "_view_count": null,
            "_view_module": "@jupyter-widgets/controls",
            "_view_module_version": "1.5.0",
            "_view_name": "HTMLView",
            "description": "",
            "description_tooltip": null,
            "layout": "IPY_MODEL_619e119dacf346cf8ddd15f9ebcbfa8c",
            "placeholder": "​",
            "style": "IPY_MODEL_ee01f357405f4534a2756b30ca87da18",
            "value": " 10570/10570 [00:11&lt;00:00, 975.22 examples/s]"
          }
        },
        "b60437d00b4b46ccab38c43e906101ce": {
          "model_module": "@jupyter-widgets/base",
          "model_module_version": "1.2.0",
          "model_name": "LayoutModel",
          "state": {
            "_model_module": "@jupyter-widgets/base",
            "_model_module_version": "1.2.0",
            "_model_name": "LayoutModel",
            "_view_count": null,
            "_view_module": "@jupyter-widgets/base",
            "_view_module_version": "1.2.0",
            "_view_name": "LayoutView",
            "align_content": null,
            "align_items": null,
            "align_self": null,
            "border": null,
            "bottom": null,
            "display": null,
            "flex": null,
            "flex_flow": null,
            "grid_area": null,
            "grid_auto_columns": null,
            "grid_auto_flow": null,
            "grid_auto_rows": null,
            "grid_column": null,
            "grid_gap": null,
            "grid_row": null,
            "grid_template_areas": null,
            "grid_template_columns": null,
            "grid_template_rows": null,
            "height": null,
            "justify_content": null,
            "justify_items": null,
            "left": null,
            "margin": null,
            "max_height": null,
            "max_width": null,
            "min_height": null,
            "min_width": null,
            "object_fit": null,
            "object_position": null,
            "order": null,
            "overflow": null,
            "overflow_x": null,
            "overflow_y": null,
            "padding": null,
            "right": null,
            "top": null,
            "visibility": null,
            "width": null
          }
        },
        "ba5067eeb3894899af8779277975f8b7": {
          "model_module": "@jupyter-widgets/controls",
          "model_module_version": "1.5.0",
          "model_name": "ProgressStyleModel",
          "state": {
            "_model_module": "@jupyter-widgets/controls",
            "_model_module_version": "1.5.0",
            "_model_name": "ProgressStyleModel",
            "_view_count": null,
            "_view_module": "@jupyter-widgets/base",
            "_view_module_version": "1.2.0",
            "_view_name": "StyleView",
            "bar_color": null,
            "description_width": ""
          }
        },
        "c2362162d3d949e3a791bb5475476ab3": {
          "model_module": "@jupyter-widgets/controls",
          "model_module_version": "1.5.0",
          "model_name": "HBoxModel",
          "state": {
            "_dom_classes": [],
            "_model_module": "@jupyter-widgets/controls",
            "_model_module_version": "1.5.0",
            "_model_name": "HBoxModel",
            "_view_count": null,
            "_view_module": "@jupyter-widgets/controls",
            "_view_module_version": "1.5.0",
            "_view_name": "HBoxView",
            "box_style": "",
            "children": [
              "IPY_MODEL_31a335e9348640e2bc6d47fe7951af84",
              "IPY_MODEL_c61735cd50dd45b9a3d8242f277340e4",
              "IPY_MODEL_abf1c59be3a441fca272fcdad514bc8b"
            ],
            "layout": "IPY_MODEL_36b025f028f64561b543de1bae5f25c6"
          }
        },
        "c2841077dcf645d2b817c067c4b75bb7": {
          "model_module": "@jupyter-widgets/base",
          "model_module_version": "1.2.0",
          "model_name": "LayoutModel",
          "state": {
            "_model_module": "@jupyter-widgets/base",
            "_model_module_version": "1.2.0",
            "_model_name": "LayoutModel",
            "_view_count": null,
            "_view_module": "@jupyter-widgets/base",
            "_view_module_version": "1.2.0",
            "_view_name": "LayoutView",
            "align_content": null,
            "align_items": null,
            "align_self": null,
            "border": null,
            "bottom": null,
            "display": null,
            "flex": null,
            "flex_flow": null,
            "grid_area": null,
            "grid_auto_columns": null,
            "grid_auto_flow": null,
            "grid_auto_rows": null,
            "grid_column": null,
            "grid_gap": null,
            "grid_row": null,
            "grid_template_areas": null,
            "grid_template_columns": null,
            "grid_template_rows": null,
            "height": null,
            "justify_content": null,
            "justify_items": null,
            "left": null,
            "margin": null,
            "max_height": null,
            "max_width": null,
            "min_height": null,
            "min_width": null,
            "object_fit": null,
            "object_position": null,
            "order": null,
            "overflow": null,
            "overflow_x": null,
            "overflow_y": null,
            "padding": null,
            "right": null,
            "top": null,
            "visibility": null,
            "width": null
          }
        },
        "c3fa4443d10746038a2215515b60d92a": {
          "model_module": "@jupyter-widgets/controls",
          "model_module_version": "1.5.0",
          "model_name": "ProgressStyleModel",
          "state": {
            "_model_module": "@jupyter-widgets/controls",
            "_model_module_version": "1.5.0",
            "_model_name": "ProgressStyleModel",
            "_view_count": null,
            "_view_module": "@jupyter-widgets/base",
            "_view_module_version": "1.2.0",
            "_view_name": "StyleView",
            "bar_color": null,
            "description_width": ""
          }
        },
        "c5e2576cd25c466b8e9b25e9f6884606": {
          "model_module": "@jupyter-widgets/base",
          "model_module_version": "1.2.0",
          "model_name": "LayoutModel",
          "state": {
            "_model_module": "@jupyter-widgets/base",
            "_model_module_version": "1.2.0",
            "_model_name": "LayoutModel",
            "_view_count": null,
            "_view_module": "@jupyter-widgets/base",
            "_view_module_version": "1.2.0",
            "_view_name": "LayoutView",
            "align_content": null,
            "align_items": null,
            "align_self": null,
            "border": null,
            "bottom": null,
            "display": null,
            "flex": null,
            "flex_flow": null,
            "grid_area": null,
            "grid_auto_columns": null,
            "grid_auto_flow": null,
            "grid_auto_rows": null,
            "grid_column": null,
            "grid_gap": null,
            "grid_row": null,
            "grid_template_areas": null,
            "grid_template_columns": null,
            "grid_template_rows": null,
            "height": null,
            "justify_content": null,
            "justify_items": null,
            "left": null,
            "margin": null,
            "max_height": null,
            "max_width": null,
            "min_height": null,
            "min_width": null,
            "object_fit": null,
            "object_position": null,
            "order": null,
            "overflow": null,
            "overflow_x": null,
            "overflow_y": null,
            "padding": null,
            "right": null,
            "top": null,
            "visibility": null,
            "width": null
          }
        },
        "c61735cd50dd45b9a3d8242f277340e4": {
          "model_module": "@jupyter-widgets/controls",
          "model_module_version": "1.5.0",
          "model_name": "FloatProgressModel",
          "state": {
            "_dom_classes": [],
            "_model_module": "@jupyter-widgets/controls",
            "_model_module_version": "1.5.0",
            "_model_name": "FloatProgressModel",
            "_view_count": null,
            "_view_module": "@jupyter-widgets/controls",
            "_view_module_version": "1.5.0",
            "_view_name": "ProgressView",
            "bar_style": "success",
            "description": "",
            "description_tooltip": null,
            "layout": "IPY_MODEL_ab9e9b59063446dfadf9b531ad47066b",
            "max": 10570,
            "min": 0,
            "orientation": "horizontal",
            "style": "IPY_MODEL_5a2641500b6f440d9b1a27f14f0648aa",
            "value": 10570
          }
        },
        "ca7ef916a4f04936b71b34e35105f8ce": {
          "model_module": "@jupyter-widgets/base",
          "model_module_version": "1.2.0",
          "model_name": "LayoutModel",
          "state": {
            "_model_module": "@jupyter-widgets/base",
            "_model_module_version": "1.2.0",
            "_model_name": "LayoutModel",
            "_view_count": null,
            "_view_module": "@jupyter-widgets/base",
            "_view_module_version": "1.2.0",
            "_view_name": "LayoutView",
            "align_content": null,
            "align_items": null,
            "align_self": null,
            "border": null,
            "bottom": null,
            "display": null,
            "flex": null,
            "flex_flow": null,
            "grid_area": null,
            "grid_auto_columns": null,
            "grid_auto_flow": null,
            "grid_auto_rows": null,
            "grid_column": null,
            "grid_gap": null,
            "grid_row": null,
            "grid_template_areas": null,
            "grid_template_columns": null,
            "grid_template_rows": null,
            "height": null,
            "justify_content": null,
            "justify_items": null,
            "left": null,
            "margin": null,
            "max_height": null,
            "max_width": null,
            "min_height": null,
            "min_width": null,
            "object_fit": null,
            "object_position": null,
            "order": null,
            "overflow": null,
            "overflow_x": null,
            "overflow_y": null,
            "padding": null,
            "right": null,
            "top": null,
            "visibility": null,
            "width": null
          }
        },
        "cbcf6392c9e04b5fa8126a489a4e820a": {
          "model_module": "@jupyter-widgets/controls",
          "model_module_version": "1.5.0",
          "model_name": "HBoxModel",
          "state": {
            "_dom_classes": [],
            "_model_module": "@jupyter-widgets/controls",
            "_model_module_version": "1.5.0",
            "_model_name": "HBoxModel",
            "_view_count": null,
            "_view_module": "@jupyter-widgets/controls",
            "_view_module_version": "1.5.0",
            "_view_name": "HBoxView",
            "box_style": "",
            "children": [
              "IPY_MODEL_f1ef3fdcc36e41bf92fe6ec316b61b52",
              "IPY_MODEL_1c7896fb7c7a4227800ec0745c86b8c8",
              "IPY_MODEL_1b69969f9fd5486a8bb003adc41e227f"
            ],
            "layout": "IPY_MODEL_b60437d00b4b46ccab38c43e906101ce"
          }
        },
        "d9f769edc9c443f6be07e92919779646": {
          "model_module": "@jupyter-widgets/controls",
          "model_module_version": "1.5.0",
          "model_name": "DescriptionStyleModel",
          "state": {
            "_model_module": "@jupyter-widgets/controls",
            "_model_module_version": "1.5.0",
            "_model_name": "DescriptionStyleModel",
            "_view_count": null,
            "_view_module": "@jupyter-widgets/base",
            "_view_module_version": "1.2.0",
            "_view_name": "StyleView",
            "description_width": ""
          }
        },
        "dcb52f11150340aa8d1e85eed991657c": {
          "model_module": "@jupyter-widgets/controls",
          "model_module_version": "1.5.0",
          "model_name": "FloatProgressModel",
          "state": {
            "_dom_classes": [],
            "_model_module": "@jupyter-widgets/controls",
            "_model_module_version": "1.5.0",
            "_model_name": "FloatProgressModel",
            "_view_count": null,
            "_view_module": "@jupyter-widgets/controls",
            "_view_module_version": "1.5.0",
            "_view_name": "ProgressView",
            "bar_style": "success",
            "description": "",
            "description_tooltip": null,
            "layout": "IPY_MODEL_928673dadbc740bfb814c7c5283b7be5",
            "max": 10570,
            "min": 0,
            "orientation": "horizontal",
            "style": "IPY_MODEL_21844c79cd444980a2066a340b42830c",
            "value": 10570
          }
        },
        "df81508b27f3461d8d190ecfaa7c7836": {
          "model_module": "@jupyter-widgets/base",
          "model_module_version": "1.2.0",
          "model_name": "LayoutModel",
          "state": {
            "_model_module": "@jupyter-widgets/base",
            "_model_module_version": "1.2.0",
            "_model_name": "LayoutModel",
            "_view_count": null,
            "_view_module": "@jupyter-widgets/base",
            "_view_module_version": "1.2.0",
            "_view_name": "LayoutView",
            "align_content": null,
            "align_items": null,
            "align_self": null,
            "border": null,
            "bottom": null,
            "display": null,
            "flex": null,
            "flex_flow": null,
            "grid_area": null,
            "grid_auto_columns": null,
            "grid_auto_flow": null,
            "grid_auto_rows": null,
            "grid_column": null,
            "grid_gap": null,
            "grid_row": null,
            "grid_template_areas": null,
            "grid_template_columns": null,
            "grid_template_rows": null,
            "height": null,
            "justify_content": null,
            "justify_items": null,
            "left": null,
            "margin": null,
            "max_height": null,
            "max_width": null,
            "min_height": null,
            "min_width": null,
            "object_fit": null,
            "object_position": null,
            "order": null,
            "overflow": null,
            "overflow_x": null,
            "overflow_y": null,
            "padding": null,
            "right": null,
            "top": null,
            "visibility": null,
            "width": null
          }
        },
        "e01a3a929a9147f4a1afaa5f79eaaafc": {
          "model_module": "@jupyter-widgets/controls",
          "model_module_version": "1.5.0",
          "model_name": "DescriptionStyleModel",
          "state": {
            "_model_module": "@jupyter-widgets/controls",
            "_model_module_version": "1.5.0",
            "_model_name": "DescriptionStyleModel",
            "_view_count": null,
            "_view_module": "@jupyter-widgets/base",
            "_view_module_version": "1.2.0",
            "_view_name": "StyleView",
            "description_width": ""
          }
        },
        "e1a66b6e82264ebe80c224e2ffa496e5": {
          "model_module": "@jupyter-widgets/base",
          "model_module_version": "1.2.0",
          "model_name": "LayoutModel",
          "state": {
            "_model_module": "@jupyter-widgets/base",
            "_model_module_version": "1.2.0",
            "_model_name": "LayoutModel",
            "_view_count": null,
            "_view_module": "@jupyter-widgets/base",
            "_view_module_version": "1.2.0",
            "_view_name": "LayoutView",
            "align_content": null,
            "align_items": null,
            "align_self": null,
            "border": null,
            "bottom": null,
            "display": null,
            "flex": null,
            "flex_flow": null,
            "grid_area": null,
            "grid_auto_columns": null,
            "grid_auto_flow": null,
            "grid_auto_rows": null,
            "grid_column": null,
            "grid_gap": null,
            "grid_row": null,
            "grid_template_areas": null,
            "grid_template_columns": null,
            "grid_template_rows": null,
            "height": null,
            "justify_content": null,
            "justify_items": null,
            "left": null,
            "margin": null,
            "max_height": null,
            "max_width": null,
            "min_height": null,
            "min_width": null,
            "object_fit": null,
            "object_position": null,
            "order": null,
            "overflow": null,
            "overflow_x": null,
            "overflow_y": null,
            "padding": null,
            "right": null,
            "top": null,
            "visibility": null,
            "width": null
          }
        },
        "eb23f17e437a4e20be9d15db005475f5": {
          "model_module": "@jupyter-widgets/controls",
          "model_module_version": "1.5.0",
          "model_name": "FloatProgressModel",
          "state": {
            "_dom_classes": [],
            "_model_module": "@jupyter-widgets/controls",
            "_model_module_version": "1.5.0",
            "_model_name": "FloatProgressModel",
            "_view_count": null,
            "_view_module": "@jupyter-widgets/controls",
            "_view_module_version": "1.5.0",
            "_view_name": "ProgressView",
            "bar_style": "success",
            "description": "",
            "description_tooltip": null,
            "layout": "IPY_MODEL_315fb03294d64b4599a07b489b25043d",
            "max": 1107,
            "min": 0,
            "orientation": "horizontal",
            "style": "IPY_MODEL_ba5067eeb3894899af8779277975f8b7",
            "value": 1107
          }
        },
        "ee01f357405f4534a2756b30ca87da18": {
          "model_module": "@jupyter-widgets/controls",
          "model_module_version": "1.5.0",
          "model_name": "DescriptionStyleModel",
          "state": {
            "_model_module": "@jupyter-widgets/controls",
            "_model_module_version": "1.5.0",
            "_model_name": "DescriptionStyleModel",
            "_view_count": null,
            "_view_module": "@jupyter-widgets/base",
            "_view_module_version": "1.2.0",
            "_view_name": "StyleView",
            "description_width": ""
          }
        },
        "eef40e11b81d49b68f2e8dd9a33cf56d": {
          "model_module": "@jupyter-widgets/base",
          "model_module_version": "1.2.0",
          "model_name": "LayoutModel",
          "state": {
            "_model_module": "@jupyter-widgets/base",
            "_model_module_version": "1.2.0",
            "_model_name": "LayoutModel",
            "_view_count": null,
            "_view_module": "@jupyter-widgets/base",
            "_view_module_version": "1.2.0",
            "_view_name": "LayoutView",
            "align_content": null,
            "align_items": null,
            "align_self": null,
            "border": null,
            "bottom": null,
            "display": null,
            "flex": null,
            "flex_flow": null,
            "grid_area": null,
            "grid_auto_columns": null,
            "grid_auto_flow": null,
            "grid_auto_rows": null,
            "grid_column": null,
            "grid_gap": null,
            "grid_row": null,
            "grid_template_areas": null,
            "grid_template_columns": null,
            "grid_template_rows": null,
            "height": null,
            "justify_content": null,
            "justify_items": null,
            "left": null,
            "margin": null,
            "max_height": null,
            "max_width": null,
            "min_height": null,
            "min_width": null,
            "object_fit": null,
            "object_position": null,
            "order": null,
            "overflow": null,
            "overflow_x": null,
            "overflow_y": null,
            "padding": null,
            "right": null,
            "top": null,
            "visibility": null,
            "width": null
          }
        },
        "f1ef3fdcc36e41bf92fe6ec316b61b52": {
          "model_module": "@jupyter-widgets/controls",
          "model_module_version": "1.5.0",
          "model_name": "HTMLModel",
          "state": {
            "_dom_classes": [],
            "_model_module": "@jupyter-widgets/controls",
            "_model_module_version": "1.5.0",
            "_model_name": "HTMLModel",
            "_view_count": null,
            "_view_module": "@jupyter-widgets/controls",
            "_view_module_version": "1.5.0",
            "_view_name": "HTMLView",
            "description": "",
            "description_tooltip": null,
            "layout": "IPY_MODEL_06dc9ae78d18482eb4148a317d2519bf",
            "placeholder": "​",
            "style": "IPY_MODEL_01e0ffc217774459beaa7c9de2219024",
            "value": "Map: 100%"
          }
        },
        "f975fea4543d4287bd570a7d9e395a78": {
          "model_module": "@jupyter-widgets/base",
          "model_module_version": "1.2.0",
          "model_name": "LayoutModel",
          "state": {
            "_model_module": "@jupyter-widgets/base",
            "_model_module_version": "1.2.0",
            "_model_name": "LayoutModel",
            "_view_count": null,
            "_view_module": "@jupyter-widgets/base",
            "_view_module_version": "1.2.0",
            "_view_name": "LayoutView",
            "align_content": null,
            "align_items": null,
            "align_self": null,
            "border": null,
            "bottom": null,
            "display": null,
            "flex": null,
            "flex_flow": null,
            "grid_area": null,
            "grid_auto_columns": null,
            "grid_auto_flow": null,
            "grid_auto_rows": null,
            "grid_column": null,
            "grid_gap": null,
            "grid_row": null,
            "grid_template_areas": null,
            "grid_template_columns": null,
            "grid_template_rows": null,
            "height": null,
            "justify_content": null,
            "justify_items": null,
            "left": null,
            "margin": null,
            "max_height": null,
            "max_width": null,
            "min_height": null,
            "min_width": null,
            "object_fit": null,
            "object_position": null,
            "order": null,
            "overflow": null,
            "overflow_x": null,
            "overflow_y": null,
            "padding": null,
            "right": null,
            "top": null,
            "visibility": null,
            "width": null
          }
        },
        "ffa4fee4c43e4dc99280a4469e763fb4": {
          "model_module": "@jupyter-widgets/base",
          "model_module_version": "1.2.0",
          "model_name": "LayoutModel",
          "state": {
            "_model_module": "@jupyter-widgets/base",
            "_model_module_version": "1.2.0",
            "_model_name": "LayoutModel",
            "_view_count": null,
            "_view_module": "@jupyter-widgets/base",
            "_view_module_version": "1.2.0",
            "_view_name": "LayoutView",
            "align_content": null,
            "align_items": null,
            "align_self": null,
            "border": null,
            "bottom": null,
            "display": null,
            "flex": null,
            "flex_flow": null,
            "grid_area": null,
            "grid_auto_columns": null,
            "grid_auto_flow": null,
            "grid_auto_rows": null,
            "grid_column": null,
            "grid_gap": null,
            "grid_row": null,
            "grid_template_areas": null,
            "grid_template_columns": null,
            "grid_template_rows": null,
            "height": null,
            "justify_content": null,
            "justify_items": null,
            "left": null,
            "margin": null,
            "max_height": null,
            "max_width": null,
            "min_height": null,
            "min_width": null,
            "object_fit": null,
            "object_position": null,
            "order": null,
            "overflow": null,
            "overflow_x": null,
            "overflow_y": null,
            "padding": null,
            "right": null,
            "top": null,
            "visibility": null,
            "width": null
          }
        }
      }
    }
  },
  "nbformat": 4,
  "nbformat_minor": 0
}
